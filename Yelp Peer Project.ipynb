{
 "cells": [
  {
   "cell_type": "markdown",
   "metadata": {},
   "source": [
    "# Bar in NYC, Richmond VA, Seattle\n",
    "Beer, fresh out of college drinks\n",
    "- microbrew\n",
    "- need fine options on food menu\n",
    "- shitty vodka is best vodka\n",
    "\n",
    "- microwinery <3 \n",
    "\n",
    "_Target customers_<br>\n",
    "- Middle-aged\n",
    "- Mid-20s hipsters\n",
    "\n",
    "Restaurant\n",
    "SPORTS BAR that is always closed"
   ]
  },
  {
   "cell_type": "markdown",
   "metadata": {},
   "source": [
    "# USE BASE DATA"
   ]
  },
  {
   "cell_type": "code",
   "execution_count": null,
   "metadata": {},
   "outputs": [],
   "source": []
  }
 ],
 "metadata": {
  "kernelspec": {
   "display_name": "Python 3",
   "language": "python",
   "name": "python3"
  },
  "language_info": {
   "codemirror_mode": {
    "name": "ipython",
    "version": 3
   },
   "file_extension": ".py",
   "mimetype": "text/x-python",
   "name": "python",
   "nbconvert_exporter": "python",
   "pygments_lexer": "ipython3",
   "version": "3.8.5"
  }
 },
 "nbformat": 4,
 "nbformat_minor": 4
}
