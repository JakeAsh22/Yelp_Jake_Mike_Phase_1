{
 "cells": [
  {
   "cell_type": "markdown",
   "metadata": {},
   "source": [
    "# Bar in NYC (Manhattan, Brooklyn), Richmond VA, Seattle\n",
    "Film production houses, film rental houses\n",
    "\n",
    "Beer, fresh out of college drinks\n",
    "- microbrew\n",
    "- need fine options on food menu\n",
    "- shitty vodka is best vodka\n",
    "\n",
    "- microwinery <3 \n",
    "\n",
    "_Target customers_<br>\n",
    "- Middle-aged\n",
    "- Mid-20s hipsters\n",
    "\n",
    "Restaurant\n",
    "SPORTS BAR that is always closed\n",
    "\n",
    "\n",
    "\n",
    "\n",
    "Add location to a map through the import we learned on learn.co"
   ]
  },
  {
   "cell_type": "markdown",
   "metadata": {},
   "source": [
    "# USE BASE DATA"
   ]
  },
  {
   "cell_type": "markdown",
   "metadata": {},
   "source": [
    "First step is to get requests:"
   ]
  },
  {
   "cell_type": "code",
   "execution_count": 28,
   "metadata": {},
   "outputs": [
    {
     "name": "stdout",
     "output_type": "stream",
     "text": [
      "['/Users/jakeash/Desktop/testing/Yelp_Jake_Mike_Phase_1', '/Users/jakeash/opt/anaconda3/envs/learn-env/lib/python38.zip', '/Users/jakeash/opt/anaconda3/envs/learn-env/lib/python3.8', '/Users/jakeash/opt/anaconda3/envs/learn-env/lib/python3.8/lib-dynload', '', '/Users/jakeash/opt/anaconda3/envs/learn-env/lib/python3.8/site-packages', '/Users/jakeash/opt/anaconda3/envs/learn-env/lib/python3.8/site-packages/IPython/extensions', '/Users/jakeash/.ipython']\n"
     ]
    }
   ],
   "source": [
    "import requests\n",
    "import json\n",
    "import sys\n",
    "import pandas as pd\n",
    "print(sys.path)"
   ]
  },
  {
   "cell_type": "code",
   "execution_count": 29,
   "metadata": {},
   "outputs": [],
   "source": [
    "url =  'https://api.yelp.com/v3/businesses/search' #points to url from my own yelp developer page"
   ]
  },
  {
   "cell_type": "code",
   "execution_count": 30,
   "metadata": {},
   "outputs": [],
   "source": [
    "from  keys  import  client_id, api_key"
   ]
  },
  {
   "cell_type": "code",
   "execution_count": 31,
   "metadata": {},
   "outputs": [
    {
     "name": "stdout",
     "output_type": "stream",
     "text": [
      "iRaRIQA2fkcxjxPGmsFU1pH4DHRuizbjxffWPV2mDgDCgBVPC9Cn0DXzX8jvCK9RRXLbjgXij4E2eN6AlJvx7L6Mhquc2cWaNe2NbvDSwhSesMfI1FrZHmNV55kmYHYx\n"
     ]
    }
   ],
   "source": [
    "print(api_key)"
   ]
  },
  {
   "cell_type": "code",
   "execution_count": 32,
   "metadata": {},
   "outputs": [],
   "source": [
    "headers = {\n",
    "        'Authorization': 'Bearer {}'.format(api_key),\n",
    "    }\n"
   ]
  },
  {
   "cell_type": "code",
   "execution_count": 33,
   "metadata": {},
   "outputs": [],
   "source": [
    "### THIS CAN BE DYNAMIC\n",
    "# what type of business do you want to search\n",
    "#term = 'Film Production' # this would \n",
    "term = 'Bar'\n",
    "#where do you want to perform this search\n",
    "location = 'Brooklyn'\n",
    "\n",
    "# what is your other parameter you want to search against\n",
    "#categories = 'Video/Film'\n",
    "categories = 'Restaurant'"
   ]
  },
  {
   "cell_type": "code",
   "execution_count": 34,
   "metadata": {},
   "outputs": [],
   "source": [
    "\n",
    "url_params = {\n",
    "                \"term\": term.replace(' ', '+'),\n",
    "                \"location\": location.replace(' ', '+'),\n",
    "                \"categories\" : categories,\n",
    "                \"limit\": 50,\n",
    "    \n",
    "            }\n"
   ]
  },
  {
   "cell_type": "code",
   "execution_count": 35,
   "metadata": {},
   "outputs": [
    {
     "data": {
      "text/plain": [
       "{'term': 'Bar',\n",
       " 'location': 'Brooklyn',\n",
       " 'categories': 'Restaurant',\n",
       " 'limit': 50}"
      ]
     },
     "execution_count": 35,
     "metadata": {},
     "output_type": "execute_result"
    }
   ],
   "source": [
    "url_params"
   ]
  },
  {
   "cell_type": "code",
   "execution_count": 36,
   "metadata": {},
   "outputs": [
    {
     "name": "stdout",
     "output_type": "stream",
     "text": [
      "6200 dict_keys(['businesses', 'total', 'region'])\n"
     ]
    }
   ],
   "source": [
    "response = requests.get(url, headers=headers, params=url_params)\n",
    "json.loads(response.text)\n",
    "response.json()\n",
    "data = response.json()\n",
    "print(data['total'], data.keys())\n",
    "# print(response)"
   ]
  },
  {
   "cell_type": "code",
   "execution_count": 37,
   "metadata": {},
   "outputs": [],
   "source": [
    "def yelp_call(counter, headers, url_params): \n",
    "    response = requests.get(url, headers=headers, params=url_params) # our url, header and params should be consistent, atleast with our Yelp data\n",
    "    return response.json()"
   ]
  },
  {
   "cell_type": "code",
   "execution_count": 38,
   "metadata": {},
   "outputs": [
    {
     "data": {
      "text/plain": [
       "50"
      ]
     },
     "execution_count": 38,
     "metadata": {},
     "output_type": "execute_result"
    }
   ],
   "source": [
    "len(yelp_call(0,headers,url_params)['businesses'])"
   ]
  },
  {
   "cell_type": "code",
   "execution_count": 39,
   "metadata": {},
   "outputs": [],
   "source": [
    "# def call_1000():\n",
    "    \n",
    "#     cur = 0\n",
    "#     num = 1000\n",
    "#     #set up a while loop to go through and grab the result \n",
    "#     while cur < num and cur < 1000: #### MIKE NOTE I believe num should be referring to the number of results we have in our dataframe\n",
    "#         #set the offset parameter to be where you currently are in the results \n",
    "#         url_params['offset'] = cur\n",
    "#         #make your API call with the new offset number\n",
    "#         results = yelp_call(num, headers, url_params)\n",
    "\n",
    "#         #after you get your results you can now use your function to parse those results\n",
    "#         parsed_results = parse_results(results)\n",
    "\n",
    "#         # use your function to insert your parsed results into the db\n",
    "#         df_save(parsed_results)\n",
    "#         #increment the counter by 50 to move on to the next results\n",
    "#         cur += 50\n",
    "#     return None"
   ]
  },
  {
   "cell_type": "code",
   "execution_count": 40,
   "metadata": {},
   "outputs": [],
   "source": [
    "# call_1000()"
   ]
  },
  {
   "cell_type": "markdown",
   "metadata": {},
   "source": [
    "#### Parsing the Data"
   ]
  },
  {
   "cell_type": "code",
   "execution_count": 41,
   "metadata": {},
   "outputs": [],
   "source": [
    "business = data['businesses'][44]"
   ]
  },
  {
   "cell_type": "code",
   "execution_count": 42,
   "metadata": {},
   "outputs": [],
   "source": [
    "\n",
    "# name, rating, review_count, price, ##location?"
   ]
  },
  {
   "cell_type": "code",
   "execution_count": 43,
   "metadata": {},
   "outputs": [
    {
     "data": {
      "text/plain": [
       "'$$'"
      ]
     },
     "execution_count": 43,
     "metadata": {},
     "output_type": "execute_result"
    }
   ],
   "source": [
    "business['price']"
   ]
  },
  {
   "cell_type": "code",
   "execution_count": 44,
   "metadata": {},
   "outputs": [
    {
     "data": {
      "text/plain": [
       "'Downtown Brooklyn'"
      ]
     },
     "execution_count": 44,
     "metadata": {},
     "output_type": "execute_result"
    }
   ],
   "source": [
    "business['location']['city']"
   ]
  },
  {
   "cell_type": "code",
   "execution_count": 45,
   "metadata": {},
   "outputs": [
    {
     "data": {
      "text/plain": [
       "('42 Hoyt St', 'Downtown Brooklyn', 'NY', '11201')"
      ]
     },
     "execution_count": 45,
     "metadata": {},
     "output_type": "execute_result"
    }
   ],
   "source": [
    "full_address = business['location']['address1'], business['location']['city'], business['location']['state'], business['location']['zip_code']\n",
    "full_address"
   ]
  },
  {
   "cell_type": "code",
   "execution_count": 46,
   "metadata": {},
   "outputs": [
    {
     "data": {
      "text/plain": [
       "4.0"
      ]
     },
     "execution_count": 46,
     "metadata": {},
     "output_type": "execute_result"
    }
   ],
   "source": [
    "business_rating = business['rating']\n",
    "business_rating"
   ]
  },
  {
   "cell_type": "code",
   "execution_count": 47,
   "metadata": {},
   "outputs": [],
   "source": [
    "biz_tuple = (business['name'], business['location']['display_address'], business['rating'])"
   ]
  },
  {
   "cell_type": "code",
   "execution_count": 48,
   "metadata": {},
   "outputs": [
    {
     "data": {
      "text/plain": [
       "('Livingston Manor', ['42 Hoyt St', 'Downtown Brooklyn, NY 11201'], 4.0)"
      ]
     },
     "execution_count": 48,
     "metadata": {},
     "output_type": "execute_result"
    }
   ],
   "source": [
    "biz_tuple"
   ]
  },
  {
   "cell_type": "code",
   "execution_count": 49,
   "metadata": {},
   "outputs": [],
   "source": [
    "def parse_data(list_of_data):\n",
    "    # create a container to hold our parsed data\n",
    "    businesses = []\n",
    "    # loop through our business and \n",
    "    for business in list_of_data:\n",
    "        biz_price = None\n",
    "        if 'price' not in business.keys():\n",
    "            biz_price = None\n",
    "        else:\n",
    "            biz_price = len(business['price'])\n",
    "    # parse each individual business into a tuple\n",
    "        biz_tuple = (business['name'],\n",
    "                     business['location']['display_address'],\n",
    "                     business['location']['city'],\n",
    "                     business['rating'],\n",
    "                     business['review_count'],\n",
    "                     business['coordinates'],\n",
    "                     biz_price)\n",
    "    # add each individual business tuple to our data container\n",
    "        businesses.append(biz_tuple)\n",
    "    # return the container with all of the parsed results\n",
    "    return businesses\n",
    "\n",
    "## Make a function that adds a price column, and if the dict doesnt have a price column, add a vlaue of Null"
   ]
  },
  {
   "cell_type": "code",
   "execution_count": 50,
   "metadata": {},
   "outputs": [],
   "source": [
    "parsed_results = parse_data(data['businesses'])"
   ]
  },
  {
   "cell_type": "code",
   "execution_count": 51,
   "metadata": {},
   "outputs": [],
   "source": [
    "# cur = 0\n",
    "\n",
    "# #set up a while loop to go through and grab the result \n",
    "# while cur < num and cur < 1000:\n",
    "#     #set the offset parameter to be where you currently are in the results \n",
    "#     url_params['offset'] = cur\n",
    "#     #make your API call with the new offset number\n",
    "#     results = yelp_call(url_params, api_key)\n",
    "    \n",
    "#     #after you get your results you can now use your function to parse those results\n",
    "#     parsed_results = parse_results(results)\n",
    "    \n",
    "#     # use your function to insert your parsed results into the db\n",
    "#     df_save(parsed_results)\n",
    "#     #increment the counter by 50 to move on to the next results\n",
    "#     cur += 50"
   ]
  },
  {
   "cell_type": "code",
   "execution_count": null,
   "metadata": {},
   "outputs": [],
   "source": []
  },
  {
   "cell_type": "code",
   "execution_count": 52,
   "metadata": {},
   "outputs": [
    {
     "data": {
      "text/plain": [
       "[('The Rogers Garden',\n",
       "  ['708 Rogers Ave', 'Brooklyn, NY 11226'],\n",
       "  'Brooklyn',\n",
       "  4.5,\n",
       "  46,\n",
       "  {'latitude': 40.65424833, 'longitude': -73.952965},\n",
       "  None),\n",
       " ('Flatbush Zombie House',\n",
       "  ['734 Flatbush Ave', 'Brooklyn, NY 11226'],\n",
       "  'Brooklyn',\n",
       "  4.0,\n",
       "  102,\n",
       "  {'latitude': 40.6550392260637, 'longitude': -73.9600387215614},\n",
       "  2),\n",
       " ('End Zone Sports Bar & Lounge',\n",
       "  ['28 Dooley St', 'Brooklyn, NY 11235'],\n",
       "  'Brooklyn',\n",
       "  5.0,\n",
       "  6,\n",
       "  {'latitude': 40.58437, 'longitude': -73.9453},\n",
       "  None),\n",
       " ('Boobie Trap',\n",
       "  ['308 Bleecker St', 'Brooklyn, NY 11237'],\n",
       "  'Brooklyn',\n",
       "  4.0,\n",
       "  273,\n",
       "  {'latitude': 40.7003517876193, 'longitude': -73.9161294247438},\n",
       "  1),\n",
       " ('The Crown Inn',\n",
       "  ['724 Franklin Ave', 'Brooklyn, NY 11238'],\n",
       "  'Brooklyn',\n",
       "  4.0,\n",
       "  200,\n",
       "  {'latitude': 40.673874, 'longitude': -73.957101},\n",
       "  2),\n",
       " ('The Wilky',\n",
       "  ['108 Patchen Ave', 'Brooklyn, NY 11221'],\n",
       "  'Brooklyn',\n",
       "  4.5,\n",
       "  147,\n",
       "  {'latitude': 40.68802, 'longitude': -73.92735},\n",
       "  2),\n",
       " ('MOON BAR Rooftop',\n",
       "  ['137-72 Northern Blvd', 'Fl 9', 'Flushing, NY 11354'],\n",
       "  'Flushing',\n",
       "  4.0,\n",
       "  27,\n",
       "  {'latitude': 40.7635, 'longitude': -73.82844},\n",
       "  None),\n",
       " ('Sally’s',\n",
       "  ['151 Tompkins Ave', 'Brooklyn, NY 11206'],\n",
       "  'Brooklyn',\n",
       "  4.5,\n",
       "  16,\n",
       "  {'latitude': 40.69413, 'longitude': -73.94592},\n",
       "  None),\n",
       " (\"L'Wren\",\n",
       "  ['4004 5th Ave', 'Brooklyn, NY 11232'],\n",
       "  'Brooklyn',\n",
       "  5.0,\n",
       "  42,\n",
       "  {'latitude': 40.65065, 'longitude': -74.00476},\n",
       "  None),\n",
       " (\"Dick and Jane's\",\n",
       "  ['266 Adelphi St', 'Brooklyn, NY 11205'],\n",
       "  'Brooklyn',\n",
       "  4.0,\n",
       "  121,\n",
       "  {'latitude': 40.68987, 'longitude': -73.97136},\n",
       "  2),\n",
       " ('Lovers Rock',\n",
       "  ['419 Tompkins Ave', 'Brooklyn, NY 11216'],\n",
       "  'Brooklyn',\n",
       "  4.0,\n",
       "  115,\n",
       "  {'latitude': 40.6831, 'longitude': -73.9436},\n",
       "  2),\n",
       " ('Margarita Island',\n",
       "  ['1105 Bowery St', 'Brooklyn, NY 11224'],\n",
       "  'Brooklyn',\n",
       "  3.5,\n",
       "  38,\n",
       "  {'latitude': 40.57485, 'longitude': -73.97922},\n",
       "  2),\n",
       " ('Bearded Lady',\n",
       "  ['686A Washington Ave', 'Brooklyn, NY 11238'],\n",
       "  'Brooklyn',\n",
       "  4.0,\n",
       "  193,\n",
       "  {'latitude': 40.6774605398157, 'longitude': -73.963885845718},\n",
       "  2),\n",
       " ('Living Room Restaurant & Lounge',\n",
       "  ['178 Ave U', 'Brooklyn, NY 11223'],\n",
       "  'Brooklyn',\n",
       "  3.5,\n",
       "  182,\n",
       "  {'latitude': 40.596309, 'longitude': -73.977697},\n",
       "  2),\n",
       " ('Travel Bar',\n",
       "  ['520 Court St', 'Carroll Gardens, NY 11231'],\n",
       "  'Carroll Gardens',\n",
       "  5.0,\n",
       "  50,\n",
       "  {'latitude': 40.6761449091646, 'longitude': -73.9990452619921},\n",
       "  2),\n",
       " ('King Tai',\n",
       "  ['1095 Bergen St', 'Brooklyn, NY 11216'],\n",
       "  'Brooklyn',\n",
       "  4.0,\n",
       "  70,\n",
       "  {'latitude': 40.6762009, 'longitude': -73.9494781},\n",
       "  1),\n",
       " ('Super Power',\n",
       "  ['722 Nostrand Ave', 'Brooklyn, NY 11216'],\n",
       "  'Brooklyn',\n",
       "  4.5,\n",
       "  148,\n",
       "  {'latitude': 40.6739268745309, 'longitude': -73.9503274715026},\n",
       "  2),\n",
       " ('Gems Bar Lounge',\n",
       "  ['1595 Broadway', 'Brooklyn, NY 11207'],\n",
       "  'Brooklyn',\n",
       "  5.0,\n",
       "  9,\n",
       "  {'latitude': 40.685739, 'longitude': -73.914793},\n",
       "  None),\n",
       " ('Turtles All The Way Down',\n",
       "  ['236 Malcolm X Blvd', 'Brooklyn, NY 11221'],\n",
       "  'Brooklyn',\n",
       "  4.5,\n",
       "  26,\n",
       "  {'latitude': 40.68509, 'longitude': -73.92963},\n",
       "  1),\n",
       " ('St Ends',\n",
       "  ['667 Franklin Ave', 'Brooklyn, NY 11238'],\n",
       "  'Brooklyn',\n",
       "  4.5,\n",
       "  42,\n",
       "  {'latitude': 40.67568, 'longitude': -73.95601},\n",
       "  None),\n",
       " ('Two Saints',\n",
       "  ['753 Nostrand Ave', 'Brooklyn, NY 11216'],\n",
       "  'Brooklyn',\n",
       "  4.0,\n",
       "  84,\n",
       "  {'latitude': 40.67151, 'longitude': -73.9502},\n",
       "  2),\n",
       " ('Sycamore Bar + Flowershop',\n",
       "  ['1118 Cortelyou Rd', 'Brooklyn, NY 11218'],\n",
       "  'Brooklyn',\n",
       "  4.0,\n",
       "  330,\n",
       "  {'latitude': 40.639719, 'longitude': -73.967158},\n",
       "  2),\n",
       " ('Glorietta Baldy',\n",
       "  ['502 Franklin Ave', 'Brooklyn, NY 11238'],\n",
       "  'Brooklyn',\n",
       "  4.0,\n",
       "  64,\n",
       "  {'latitude': 40.6813358395142, 'longitude': -73.9561890468519},\n",
       "  2),\n",
       " ('Dynaco',\n",
       "  ['1112 Bedford Ave', 'Brooklyn, NY 11216'],\n",
       "  'Brooklyn',\n",
       "  4.5,\n",
       "  110,\n",
       "  {'latitude': 40.686615, 'longitude': -73.954811},\n",
       "  2),\n",
       " ('Do or Dive',\n",
       "  ['1108 Bedford Ave', 'Brooklyn, NY 11216'],\n",
       "  'Brooklyn',\n",
       "  4.5,\n",
       "  67,\n",
       "  {'latitude': 40.6867587, 'longitude': -73.9548362},\n",
       "  1),\n",
       " ('Midwood Flats',\n",
       "  ['577 Flatbush Ave', 'Prospect Lefferts Gardens, NY 11225'],\n",
       "  'Prospect Lefferts Gardens',\n",
       "  4.0,\n",
       "  267,\n",
       "  {'latitude': 40.6596512, 'longitude': -73.9603844},\n",
       "  2),\n",
       " (\"Queen Bee's Tavern\",\n",
       "  ['3023 Church Ave', 'Brooklyn, NY 11226'],\n",
       "  'Brooklyn',\n",
       "  4.5,\n",
       "  10,\n",
       "  {'latitude': 40.65098, 'longitude': -73.94874},\n",
       "  1),\n",
       " ('Charm Bar & Restaurant',\n",
       "  ['448 Dean St', 'Brooklyn, NY 11217'],\n",
       "  'Brooklyn',\n",
       "  4.5,\n",
       "  14,\n",
       "  {'latitude': 40.681841, 'longitude': -73.976284},\n",
       "  None),\n",
       " ('The Corners',\n",
       "  ['395 Nostrand Ave', 'Brooklyn, NY 11216'],\n",
       "  'Brooklyn',\n",
       "  4.5,\n",
       "  35,\n",
       "  {'latitude': 40.6842514074696, 'longitude': -73.9501402711639},\n",
       "  2),\n",
       " ('Zig Zag Tiki Bar',\n",
       "  ['382 Marcus Garvey Blvd', 'Brooklyn, NY 11221'],\n",
       "  'Brooklyn',\n",
       "  4.0,\n",
       "  15,\n",
       "  {'latitude': 40.68401333, 'longitude': -73.93821667},\n",
       "  None),\n",
       " ('The Steel Mill',\n",
       "  ['1363 Bushwick Ave', 'Brooklyn, NY 11207'],\n",
       "  'Brooklyn',\n",
       "  5.0,\n",
       "  4,\n",
       "  {'latitude': 40.6854018910904, 'longitude': -73.9108926057816},\n",
       "  None),\n",
       " ('Doris',\n",
       "  ['1088 Fulton St', 'Brooklyn, NY 11238'],\n",
       "  'Brooklyn',\n",
       "  4.0,\n",
       "  96,\n",
       "  {'latitude': 40.68121, 'longitude': -73.957436},\n",
       "  2),\n",
       " ('Rockaway Beach Surf Club',\n",
       "  ['302 Beach 87th St', 'Far Rockaway, NY 11693'],\n",
       "  'Far Rockaway',\n",
       "  4.0,\n",
       "  128,\n",
       "  {'latitude': 40.58884, 'longitude': -73.81211},\n",
       "  1),\n",
       " ('Sweet Brooklyn Bar And Grill',\n",
       "  ['608 Nostrand Ave', 'Brooklyn, NY 11216'],\n",
       "  'Brooklyn',\n",
       "  4.0,\n",
       "  387,\n",
       "  {'latitude': 40.6778662988215, 'longitude': -73.9500002190471},\n",
       "  2),\n",
       " ('Weather Up',\n",
       "  ['589 Vanderbilt Ave', 'Brooklyn, NY 11238'],\n",
       "  'Brooklyn',\n",
       "  4.0,\n",
       "  293,\n",
       "  {'latitude': 40.679866, 'longitude': -73.967758},\n",
       "  2),\n",
       " ('Featherweight',\n",
       "  ['135 Graham Ave', 'Brooklyn, NY 11206'],\n",
       "  'Brooklyn',\n",
       "  4.5,\n",
       "  135,\n",
       "  {'latitude': 40.7063167, 'longitude': -73.9432119},\n",
       "  2),\n",
       " ('Drink',\n",
       "  ['768 Franklin Ave', 'Brooklyn, NY 11238'],\n",
       "  'Brooklyn',\n",
       "  4.5,\n",
       "  105,\n",
       "  {'latitude': 40.67216, 'longitude': -73.95757},\n",
       "  2),\n",
       " ('Luckydog',\n",
       "  ['303 Bedford Ave', 'Brooklyn, NY 11211'],\n",
       "  'Brooklyn',\n",
       "  4.0,\n",
       "  300,\n",
       "  {'latitude': 40.71348, 'longitude': -73.96166},\n",
       "  1),\n",
       " ('Bar Meridian',\n",
       "  ['406 Prospect Pl', 'Brooklyn, NY 11238'],\n",
       "  'Brooklyn',\n",
       "  4.5,\n",
       "  11,\n",
       "  {'latitude': 40.6763427218772, 'longitude': -73.9630645624458},\n",
       "  None),\n",
       " ('Post Bar',\n",
       "  ['307 Clifton Pl', 'Brooklyn, NY 11216'],\n",
       "  'Brooklyn',\n",
       "  4.5,\n",
       "  14,\n",
       "  {'latitude': 40.689547, 'longitude': -73.950757},\n",
       "  None),\n",
       " ('Father Knows Best',\n",
       "  ['611A Wilson Ave', 'Brooklyn, NY 11207'],\n",
       "  'Brooklyn',\n",
       "  4.0,\n",
       "  327,\n",
       "  {'latitude': 40.6901735, 'longitude': -73.9069755},\n",
       "  2),\n",
       " ('The Holler',\n",
       "  ['348 Franklin Ave', 'Brooklyn, NY 11238'],\n",
       "  'Brooklyn',\n",
       "  4.5,\n",
       "  32,\n",
       "  {'latitude': 40.687208, 'longitude': -73.957163},\n",
       "  2),\n",
       " ('Parkside',\n",
       "  ['705 Flatbush Ave', 'Brooklyn, NY 11225'],\n",
       "  'Brooklyn',\n",
       "  4.0,\n",
       "  186,\n",
       "  {'latitude': 40.655949, 'longitude': -73.959599},\n",
       "  2),\n",
       " ('Mama Fox',\n",
       "  ['327 Stuyvesant Ave', 'Brooklyn, NY 11233'],\n",
       "  'Brooklyn',\n",
       "  4.0,\n",
       "  105,\n",
       "  {'latitude': 40.6832286325504, 'longitude': -73.9319809048272},\n",
       "  2),\n",
       " ('Livingston Manor',\n",
       "  ['42 Hoyt St', 'Downtown Brooklyn, NY 11201'],\n",
       "  'Downtown Brooklyn',\n",
       "  4.0,\n",
       "  123,\n",
       "  {'latitude': 40.6893883, 'longitude': -73.9861374},\n",
       "  2),\n",
       " ('Dromedary Urban Tiki Bar',\n",
       "  ['266 Irving Ave', 'Brooklyn, NY 11237'],\n",
       "  'Brooklyn',\n",
       "  4.0,\n",
       "  140,\n",
       "  {'latitude': 40.6995427342094, 'longitude': -73.9158535540931},\n",
       "  2),\n",
       " ('The Moonlight Mile',\n",
       "  ['200 Franklin St', 'Brooklyn, NY 11222'],\n",
       "  'Brooklyn',\n",
       "  5.0,\n",
       "  79,\n",
       "  {'latitude': 40.7321141, 'longitude': -73.9578424},\n",
       "  2),\n",
       " ('duckduck bar',\n",
       "  ['153 Montrose Ave', 'Brooklyn, NY 11206'],\n",
       "  'Brooklyn',\n",
       "  4.0,\n",
       "  230,\n",
       "  {'latitude': 40.7074988047929, 'longitude': -73.9427649602294},\n",
       "  1),\n",
       " ('The Commissioner',\n",
       "  ['247 5th Ave', 'Brooklyn, NY 11215'],\n",
       "  'Brooklyn',\n",
       "  5.0,\n",
       "  138,\n",
       "  {'latitude': 40.67487, 'longitude': -73.98137},\n",
       "  1),\n",
       " ('Greenwood Park',\n",
       "  ['555 7th Ave', 'Brooklyn, NY 11215'],\n",
       "  'Brooklyn',\n",
       "  3.5,\n",
       "  440,\n",
       "  {'latitude': 40.659353, 'longitude': -73.987894},\n",
       "  2)]"
      ]
     },
     "execution_count": 52,
     "metadata": {},
     "output_type": "execute_result"
    }
   ],
   "source": [
    "parsed_results # list of tuples representing name, address, and rating of establishments"
   ]
  },
  {
   "cell_type": "code",
   "execution_count": null,
   "metadata": {},
   "outputs": [],
   "source": []
  },
  {
   "cell_type": "code",
   "execution_count": null,
   "metadata": {},
   "outputs": [],
   "source": []
  },
  {
   "cell_type": "code",
   "execution_count": null,
   "metadata": {},
   "outputs": [],
   "source": []
  },
  {
   "cell_type": "code",
   "execution_count": null,
   "metadata": {},
   "outputs": [],
   "source": [
    "def parse_results(results):\n",
    "    # your code to parse the result to make them easier to insert into the DB\n",
    "    return parsed_results"
   ]
  },
  {
   "cell_type": "code",
   "execution_count": null,
   "metadata": {},
   "outputs": [],
   "source": [
    "def df_safe(csv filepath, parsed results):\n",
    "    df.to_csv(‘NewSavedFileName.csv’, index=False)\n",
    "    # your code to open the csv file, concat the current data, and save the data. "
   ]
  },
  {
   "cell_type": "code",
   "execution_count": null,
   "metadata": {},
   "outputs": [],
   "source": []
  },
  {
   "cell_type": "code",
   "execution_count": 60,
   "metadata": {
    "scrolled": true
   },
   "outputs": [],
   "source": [
    "def call_1000():\n",
    "    \n",
    "    cur = 0\n",
    "    num = 1000\n",
    "    #set up a while loop to go through and grab the result \n",
    "    while cur < num and cur < 1000: #### MIKE NOTE I believe num should be referring to the number of results we have in our dataframe\n",
    "        #set the offset parameter to be where you currently are in the results \n",
    "        url_params['offset'] = cur\n",
    "        #make your API call with the new offset number\n",
    "        results = yelp_call(num, headers, url_params)\n",
    "\n",
    "        #after you get your results you can now use your function to parse those results\n",
    "        parsed_results = parse_results(results)\n",
    "\n",
    "        # use your function to insert your parsed results into the db\n",
    "        df_save(parsed_results)\n",
    "        #increment the counter by 50 to move on to the next results\n",
    "        cur += 50\n",
    "    return None"
   ]
  },
  {
   "cell_type": "code",
   "execution_count": 62,
   "metadata": {},
   "outputs": [],
   "source": [
    "df = call_1000()"
   ]
  },
  {
   "cell_type": "code",
   "execution_count": null,
   "metadata": {},
   "outputs": [],
   "source": [
    "#pd.DataFrame(parsed_results)"
   ]
  },
  {
   "cell_type": "code",
   "execution_count": null,
   "metadata": {},
   "outputs": [],
   "source": [
    "#df = pd.DataFrame(parsed_results, columns=['Name', 'Address','City', 'Rating','Review Count','Coordinates','Price'])"
   ]
  },
  {
   "cell_type": "code",
   "execution_count": 67,
   "metadata": {
    "scrolled": true
   },
   "outputs": [
    {
     "data": {
      "text/html": [
       "<div>\n",
       "<style scoped>\n",
       "    .dataframe tbody tr th:only-of-type {\n",
       "        vertical-align: middle;\n",
       "    }\n",
       "\n",
       "    .dataframe tbody tr th {\n",
       "        vertical-align: top;\n",
       "    }\n",
       "\n",
       "    .dataframe thead th {\n",
       "        text-align: right;\n",
       "    }\n",
       "</style>\n",
       "<table border=\"1\" class=\"dataframe\">\n",
       "  <thead>\n",
       "    <tr style=\"text-align: right;\">\n",
       "      <th></th>\n",
       "      <th>Name</th>\n",
       "      <th>Address</th>\n",
       "      <th>City</th>\n",
       "      <th>Rating</th>\n",
       "      <th>Review Count</th>\n",
       "      <th>Coordinates</th>\n",
       "      <th>Price</th>\n",
       "    </tr>\n",
       "  </thead>\n",
       "  <tbody>\n",
       "    <tr>\n",
       "      <th>45</th>\n",
       "      <td>Dromedary Urban Tiki Bar</td>\n",
       "      <td>[266 Irving Ave, Brooklyn, NY 11237]</td>\n",
       "      <td>Brooklyn</td>\n",
       "      <td>4.0</td>\n",
       "      <td>140</td>\n",
       "      <td>{'latitude': 40.6995427342094, 'longitude': -7...</td>\n",
       "      <td>2.0</td>\n",
       "    </tr>\n",
       "    <tr>\n",
       "      <th>46</th>\n",
       "      <td>The Moonlight Mile</td>\n",
       "      <td>[200 Franklin St, Brooklyn, NY 11222]</td>\n",
       "      <td>Brooklyn</td>\n",
       "      <td>5.0</td>\n",
       "      <td>79</td>\n",
       "      <td>{'latitude': 40.7321141, 'longitude': -73.9578...</td>\n",
       "      <td>2.0</td>\n",
       "    </tr>\n",
       "    <tr>\n",
       "      <th>47</th>\n",
       "      <td>duckduck bar</td>\n",
       "      <td>[153 Montrose Ave, Brooklyn, NY 11206]</td>\n",
       "      <td>Brooklyn</td>\n",
       "      <td>4.0</td>\n",
       "      <td>230</td>\n",
       "      <td>{'latitude': 40.7074988047929, 'longitude': -7...</td>\n",
       "      <td>1.0</td>\n",
       "    </tr>\n",
       "    <tr>\n",
       "      <th>48</th>\n",
       "      <td>The Commissioner</td>\n",
       "      <td>[247 5th Ave, Brooklyn, NY 11215]</td>\n",
       "      <td>Brooklyn</td>\n",
       "      <td>5.0</td>\n",
       "      <td>138</td>\n",
       "      <td>{'latitude': 40.67487, 'longitude': -73.98137}</td>\n",
       "      <td>1.0</td>\n",
       "    </tr>\n",
       "    <tr>\n",
       "      <th>49</th>\n",
       "      <td>Greenwood Park</td>\n",
       "      <td>[555 7th Ave, Brooklyn, NY 11215]</td>\n",
       "      <td>Brooklyn</td>\n",
       "      <td>3.5</td>\n",
       "      <td>440</td>\n",
       "      <td>{'latitude': 40.659353, 'longitude': -73.987894}</td>\n",
       "      <td>2.0</td>\n",
       "    </tr>\n",
       "  </tbody>\n",
       "</table>\n",
       "</div>"
      ],
      "text/plain": [
       "                        Name                                 Address  \\\n",
       "45  Dromedary Urban Tiki Bar    [266 Irving Ave, Brooklyn, NY 11237]   \n",
       "46        The Moonlight Mile   [200 Franklin St, Brooklyn, NY 11222]   \n",
       "47              duckduck bar  [153 Montrose Ave, Brooklyn, NY 11206]   \n",
       "48          The Commissioner       [247 5th Ave, Brooklyn, NY 11215]   \n",
       "49            Greenwood Park       [555 7th Ave, Brooklyn, NY 11215]   \n",
       "\n",
       "        City  Rating  Review Count  \\\n",
       "45  Brooklyn     4.0           140   \n",
       "46  Brooklyn     5.0            79   \n",
       "47  Brooklyn     4.0           230   \n",
       "48  Brooklyn     5.0           138   \n",
       "49  Brooklyn     3.5           440   \n",
       "\n",
       "                                          Coordinates  Price  \n",
       "45  {'latitude': 40.6995427342094, 'longitude': -7...    2.0  \n",
       "46  {'latitude': 40.7321141, 'longitude': -73.9578...    2.0  \n",
       "47  {'latitude': 40.7074988047929, 'longitude': -7...    1.0  \n",
       "48     {'latitude': 40.67487, 'longitude': -73.98137}    1.0  \n",
       "49   {'latitude': 40.659353, 'longitude': -73.987894}    2.0  "
      ]
     },
     "execution_count": 67,
     "metadata": {},
     "output_type": "execute_result"
    }
   ],
   "source": [
    "df.tail()"
   ]
  },
  {
   "cell_type": "code",
   "execution_count": null,
   "metadata": {},
   "outputs": [],
   "source": []
  },
  {
   "cell_type": "code",
   "execution_count": 64,
   "metadata": {},
   "outputs": [
    {
     "data": {
      "text/plain": [
       "City\n",
       "Brooklyn                     45\n",
       "Carroll Gardens               1\n",
       "Downtown Brooklyn             1\n",
       "Far Rockaway                  1\n",
       "Flushing                      1\n",
       "Prospect Lefferts Gardens     1\n",
       "Name: Name, dtype: int64"
      ]
     },
     "execution_count": 64,
     "metadata": {},
     "output_type": "execute_result"
    }
   ],
   "source": [
    "df.groupby('City')['Name'].count()"
   ]
  },
  {
   "cell_type": "code",
   "execution_count": null,
   "metadata": {},
   "outputs": [],
   "source": [
    "'''\n",
    "Arverne              1\n",
    "Astoria              2\n",
    "Bronx                1\n",
    "Brooklyn            14\n",
    "Hoboken              1\n",
    "Jersey City          1\n",
    "Long Island City     4\n",
    "Middle Village       1\n",
    "New York            20\n",
    "Queens               5\n",
    "'''"
   ]
  },
  {
   "cell_type": "code",
   "execution_count": null,
   "metadata": {},
   "outputs": [],
   "source": []
  },
  {
   "cell_type": "code",
   "execution_count": null,
   "metadata": {},
   "outputs": [],
   "source": []
  },
  {
   "cell_type": "code",
   "execution_count": null,
   "metadata": {},
   "outputs": [],
   "source": []
  },
  {
   "cell_type": "code",
   "execution_count": null,
   "metadata": {},
   "outputs": [],
   "source": []
  },
  {
   "cell_type": "code",
   "execution_count": null,
   "metadata": {},
   "outputs": [],
   "source": []
  },
  {
   "cell_type": "code",
   "execution_count": null,
   "metadata": {},
   "outputs": [],
   "source": []
  }
 ],
 "metadata": {
  "kernelspec": {
   "display_name": "Python 3",
   "language": "python",
   "name": "python3"
  },
  "language_info": {
   "codemirror_mode": {
    "name": "ipython",
    "version": 3
   },
   "file_extension": ".py",
   "mimetype": "text/x-python",
   "name": "python",
   "nbconvert_exporter": "python",
   "pygments_lexer": "ipython3",
   "version": "3.8.5"
  }
 },
 "nbformat": 4,
 "nbformat_minor": 4
}
