{
 "cells": [
  {
   "cell_type": "code",
   "execution_count": 74,
   "metadata": {},
   "outputs": [],
   "source": [
    "import requests\n",
    "import json\n",
    "import sys\n",
    "import numpy as np\n",
    "import pandas as pd\n",
    "import csv\n",
    "from  keys  import  client_id, api_key\n",
    "import seaborn as sns\n",
    "import matplotlib.pyplot as plt\n",
    "\n",
    "# !{sys.executable} -m pip install latex\n",
    "# !{sys.executable} -m pip install latex\n",
    "# !{sys.executable} -m pip install PyDvi\n",
    "# !{sys.executable} -m pip install ghostscript\n",
    "\n",
    "plt.rcParams.update({\"text.usetex\": False, \"font.family\": \"serif\", \"font.serif\": [\"Palatino\"]})\n",
    "\n",
    "%matplotlib inline"
   ]
  },
  {
   "cell_type": "code",
   "execution_count": null,
   "metadata": {},
   "outputs": [],
   "source": [
    "    New:\n",
    "'pgf.texsystem': 'xelatex',\n",
    "'text.latex.preamble': '',\n",
    "'text.latex.preview': False,\n",
    "'text.usetex': True,\n",
    "    \n",
    "    Old:\n",
    "plt.rcParams['text.usetex']=True\n",
    "plt.rcParams['text.latex.unicode']=True\n"
   ]
  },
  {
   "cell_type": "code",
   "execution_count": 68,
   "metadata": {},
   "outputs": [
    {
     "data": {
      "text/plain": [
       "KeysView(RcParams({'_internal.classic_mode': False,\n",
       "          'agg.path.chunksize': 0,\n",
       "          'animation.avconv_args': [],\n",
       "          'animation.avconv_path': 'avconv',\n",
       "          'animation.bitrate': -1,\n",
       "          'animation.codec': 'h264',\n",
       "          'animation.convert_args': [],\n",
       "          'animation.convert_path': 'convert',\n",
       "          'animation.embed_limit': 20.0,\n",
       "          'animation.ffmpeg_args': [],\n",
       "          'animation.ffmpeg_path': 'ffmpeg',\n",
       "          'animation.frame_format': 'png',\n",
       "          'animation.html': 'none',\n",
       "          'animation.html_args': [],\n",
       "          'animation.writer': 'ffmpeg',\n",
       "          'axes.autolimit_mode': 'data',\n",
       "          'axes.axisbelow': 'line',\n",
       "          'axes.edgecolor': 'black',\n",
       "          'axes.facecolor': 'white',\n",
       "          'axes.formatter.limits': [-5, 6],\n",
       "          'axes.formatter.min_exponent': 0,\n",
       "          'axes.formatter.offset_threshold': 4,\n",
       "          'axes.formatter.use_locale': False,\n",
       "          'axes.formatter.use_mathtext': False,\n",
       "          'axes.formatter.useoffset': True,\n",
       "          'axes.grid': False,\n",
       "          'axes.grid.axis': 'both',\n",
       "          'axes.grid.which': 'major',\n",
       "          'axes.labelcolor': 'black',\n",
       "          'axes.labelpad': 4.0,\n",
       "          'axes.labelsize': 'medium',\n",
       "          'axes.labelweight': 'normal',\n",
       "          'axes.linewidth': 0.8,\n",
       "          'axes.prop_cycle': cycler('color', ['#1f77b4', '#ff7f0e', '#2ca02c', '#d62728', '#9467bd', '#8c564b', '#e377c2', '#7f7f7f', '#bcbd22', '#17becf']),\n",
       "          'axes.spines.bottom': True,\n",
       "          'axes.spines.left': True,\n",
       "          'axes.spines.right': True,\n",
       "          'axes.spines.top': True,\n",
       "          'axes.titlecolor': 'auto',\n",
       "          'axes.titlelocation': 'center',\n",
       "          'axes.titlepad': 6.0,\n",
       "          'axes.titlesize': 'large',\n",
       "          'axes.titleweight': 'normal',\n",
       "          'axes.titley': None,\n",
       "          'axes.unicode_minus': True,\n",
       "          'axes.xmargin': 0.05,\n",
       "          'axes.ymargin': 0.05,\n",
       "          'axes3d.grid': True,\n",
       "          'backend': 'module://ipykernel.pylab.backend_inline',\n",
       "          'backend_fallback': True,\n",
       "          'boxplot.bootstrap': None,\n",
       "          'boxplot.boxprops.color': 'black',\n",
       "          'boxplot.boxprops.linestyle': '-',\n",
       "          'boxplot.boxprops.linewidth': 1.0,\n",
       "          'boxplot.capprops.color': 'black',\n",
       "          'boxplot.capprops.linestyle': '-',\n",
       "          'boxplot.capprops.linewidth': 1.0,\n",
       "          'boxplot.flierprops.color': 'black',\n",
       "          'boxplot.flierprops.linestyle': 'none',\n",
       "          'boxplot.flierprops.linewidth': 1.0,\n",
       "          'boxplot.flierprops.marker': 'o',\n",
       "          'boxplot.flierprops.markeredgecolor': 'black',\n",
       "          'boxplot.flierprops.markeredgewidth': 1.0,\n",
       "          'boxplot.flierprops.markerfacecolor': 'none',\n",
       "          'boxplot.flierprops.markersize': 6.0,\n",
       "          'boxplot.meanline': False,\n",
       "          'boxplot.meanprops.color': 'C2',\n",
       "          'boxplot.meanprops.linestyle': '--',\n",
       "          'boxplot.meanprops.linewidth': 1.0,\n",
       "          'boxplot.meanprops.marker': '^',\n",
       "          'boxplot.meanprops.markeredgecolor': 'C2',\n",
       "          'boxplot.meanprops.markerfacecolor': 'C2',\n",
       "          'boxplot.meanprops.markersize': 6.0,\n",
       "          'boxplot.medianprops.color': 'C1',\n",
       "          'boxplot.medianprops.linestyle': '-',\n",
       "          'boxplot.medianprops.linewidth': 1.0,\n",
       "          'boxplot.notch': False,\n",
       "          'boxplot.patchartist': False,\n",
       "          'boxplot.showbox': True,\n",
       "          'boxplot.showcaps': True,\n",
       "          'boxplot.showfliers': True,\n",
       "          'boxplot.showmeans': False,\n",
       "          'boxplot.vertical': True,\n",
       "          'boxplot.whiskerprops.color': 'black',\n",
       "          'boxplot.whiskerprops.linestyle': '-',\n",
       "          'boxplot.whiskerprops.linewidth': 1.0,\n",
       "          'boxplot.whiskers': 1.5,\n",
       "          'contour.corner_mask': True,\n",
       "          'contour.linewidth': None,\n",
       "          'contour.negative_linestyle': 'dashed',\n",
       "          'date.autoformatter.day': '%Y-%m-%d',\n",
       "          'date.autoformatter.hour': '%m-%d %H',\n",
       "          'date.autoformatter.microsecond': '%M:%S.%f',\n",
       "          'date.autoformatter.minute': '%d %H:%M',\n",
       "          'date.autoformatter.month': '%Y-%m',\n",
       "          'date.autoformatter.second': '%H:%M:%S',\n",
       "          'date.autoformatter.year': '%Y',\n",
       "          'date.epoch': '1970-01-01T00:00:00',\n",
       "          'docstring.hardcopy': False,\n",
       "          'errorbar.capsize': 0.0,\n",
       "          'figure.autolayout': False,\n",
       "          'figure.constrained_layout.h_pad': 0.04167,\n",
       "          'figure.constrained_layout.hspace': 0.02,\n",
       "          'figure.constrained_layout.use': False,\n",
       "          'figure.constrained_layout.w_pad': 0.04167,\n",
       "          'figure.constrained_layout.wspace': 0.02,\n",
       "          'figure.dpi': 72.0,\n",
       "          'figure.edgecolor': (1, 1, 1, 0),\n",
       "          'figure.facecolor': (1, 1, 1, 0),\n",
       "          'figure.figsize': [6.0, 4.0],\n",
       "          'figure.frameon': True,\n",
       "          'figure.max_open_warning': 20,\n",
       "          'figure.raise_window': True,\n",
       "          'figure.subplot.bottom': 0.125,\n",
       "          'figure.subplot.hspace': 0.2,\n",
       "          'figure.subplot.left': 0.125,\n",
       "          'figure.subplot.right': 0.9,\n",
       "          'figure.subplot.top': 0.88,\n",
       "          'figure.subplot.wspace': 0.2,\n",
       "          'figure.titlesize': 'large',\n",
       "          'figure.titleweight': 'normal',\n",
       "          'font.cursive': ['Apple Chancery',\n",
       "                           'Textile',\n",
       "                           'Zapf Chancery',\n",
       "                           'Sand',\n",
       "                           'Script MT',\n",
       "                           'Felipa',\n",
       "                           'cursive'],\n",
       "          'font.family': ['serif'],\n",
       "          'font.fantasy': ['Comic Neue',\n",
       "                           'Comic Sans MS',\n",
       "                           'Chicago',\n",
       "                           'Charcoal',\n",
       "                           'ImpactWestern',\n",
       "                           'Humor Sans',\n",
       "                           'xkcd',\n",
       "                           'fantasy'],\n",
       "          'font.monospace': ['DejaVu Sans Mono',\n",
       "                             'Bitstream Vera Sans Mono',\n",
       "                             'Computer Modern Typewriter',\n",
       "                             'Andale Mono',\n",
       "                             'Nimbus Mono L',\n",
       "                             'Courier New',\n",
       "                             'Courier',\n",
       "                             'Fixed',\n",
       "                             'Terminal',\n",
       "                             'monospace'],\n",
       "          'font.sans-serif': ['DejaVu Sans',\n",
       "                              'Bitstream Vera Sans',\n",
       "                              'Computer Modern Sans Serif',\n",
       "                              'Lucida Grande',\n",
       "                              'Verdana',\n",
       "                              'Geneva',\n",
       "                              'Lucid',\n",
       "                              'Arial',\n",
       "                              'Helvetica',\n",
       "                              'Avant Garde',\n",
       "                              'sans-serif'],\n",
       "          'font.serif': ['Palatino'],\n",
       "          'font.size': 10.0,\n",
       "          'font.stretch': 'normal',\n",
       "          'font.style': 'normal',\n",
       "          'font.variant': 'normal',\n",
       "          'font.weight': 'normal',\n",
       "          'grid.alpha': 1.0,\n",
       "          'grid.color': '#b0b0b0',\n",
       "          'grid.linestyle': '-',\n",
       "          'grid.linewidth': 0.8,\n",
       "          'hatch.color': 'black',\n",
       "          'hatch.linewidth': 1.0,\n",
       "          'hist.bins': 10,\n",
       "          'image.aspect': 'equal',\n",
       "          'image.cmap': 'viridis',\n",
       "          'image.composite_image': True,\n",
       "          'image.interpolation': 'antialiased',\n",
       "          'image.lut': 256,\n",
       "          'image.origin': 'upper',\n",
       "          'image.resample': True,\n",
       "          'interactive': True,\n",
       "          'keymap.all_axes': ['a'],\n",
       "          'keymap.back': ['left', 'c', 'backspace', 'MouseButton.BACK'],\n",
       "          'keymap.copy': ['ctrl+c', 'cmd+c'],\n",
       "          'keymap.forward': ['right', 'v', 'MouseButton.FORWARD'],\n",
       "          'keymap.fullscreen': ['f', 'ctrl+f'],\n",
       "          'keymap.grid': ['g'],\n",
       "          'keymap.grid_minor': ['G'],\n",
       "          'keymap.help': ['f1'],\n",
       "          'keymap.home': ['h', 'r', 'home'],\n",
       "          'keymap.pan': ['p'],\n",
       "          'keymap.quit': ['ctrl+w', 'cmd+w', 'q'],\n",
       "          'keymap.quit_all': [],\n",
       "          'keymap.save': ['s', 'ctrl+s'],\n",
       "          'keymap.xscale': ['k', 'L'],\n",
       "          'keymap.yscale': ['l'],\n",
       "          'keymap.zoom': ['o'],\n",
       "          'legend.borderaxespad': 0.5,\n",
       "          'legend.borderpad': 0.4,\n",
       "          'legend.columnspacing': 2.0,\n",
       "          'legend.edgecolor': '0.8',\n",
       "          'legend.facecolor': 'inherit',\n",
       "          'legend.fancybox': True,\n",
       "          'legend.fontsize': 'medium',\n",
       "          'legend.framealpha': 0.8,\n",
       "          'legend.frameon': True,\n",
       "          'legend.handleheight': 0.7,\n",
       "          'legend.handlelength': 2.0,\n",
       "          'legend.handletextpad': 0.8,\n",
       "          'legend.labelspacing': 0.5,\n",
       "          'legend.loc': 'best',\n",
       "          'legend.markerscale': 1.0,\n",
       "          'legend.numpoints': 1,\n",
       "          'legend.scatterpoints': 1,\n",
       "          'legend.shadow': False,\n",
       "          'legend.title_fontsize': None,\n",
       "          'lines.antialiased': True,\n",
       "          'lines.color': 'C0',\n",
       "          'lines.dash_capstyle': 'butt',\n",
       "          'lines.dash_joinstyle': 'round',\n",
       "          'lines.dashdot_pattern': [6.4, 1.6, 1.0, 1.6],\n",
       "          'lines.dashed_pattern': [3.7, 1.6],\n",
       "          'lines.dotted_pattern': [1.0, 1.65],\n",
       "          'lines.linestyle': '-',\n",
       "          'lines.linewidth': 1.5,\n",
       "          'lines.marker': 'None',\n",
       "          'lines.markeredgecolor': 'auto',\n",
       "          'lines.markeredgewidth': 1.0,\n",
       "          'lines.markerfacecolor': 'auto',\n",
       "          'lines.markersize': 6.0,\n",
       "          'lines.scale_dashes': True,\n",
       "          'lines.solid_capstyle': 'projecting',\n",
       "          'lines.solid_joinstyle': 'round',\n",
       "          'markers.fillstyle': 'full',\n",
       "          'mathtext.bf': 'sans:bold',\n",
       "          'mathtext.cal': 'cursive',\n",
       "          'mathtext.default': 'it',\n",
       "          'mathtext.fallback': 'cm',\n",
       "          'mathtext.fallback_to_cm': None,\n",
       "          'mathtext.fontset': 'dejavusans',\n",
       "          'mathtext.it': 'sans:italic',\n",
       "          'mathtext.rm': 'sans',\n",
       "          'mathtext.sf': 'sans',\n",
       "          'mathtext.tt': 'monospace',\n",
       "          'mpl_toolkits.legacy_colorbar': True,\n",
       "          'patch.antialiased': True,\n",
       "          'patch.edgecolor': 'black',\n",
       "          'patch.facecolor': 'C0',\n",
       "          'patch.force_edgecolor': False,\n",
       "          'patch.linewidth': 1.0,\n",
       "          'path.effects': [],\n",
       "          'path.simplify': True,\n",
       "          'path.simplify_threshold': 0.111111111111,\n",
       "          'path.sketch': None,\n",
       "          'path.snap': True,\n",
       "          'pcolor.shading': 'flat',\n",
       "          'pdf.compression': 6,\n",
       "          'pdf.fonttype': 3,\n",
       "          'pdf.inheritcolor': False,\n",
       "          'pdf.use14corefonts': False,\n",
       "          'pgf.preamble': '',\n",
       "          'pgf.rcfonts': True,\n",
       "          'pgf.texsystem': 'xelatex',\n",
       "          'polaraxes.grid': True,\n",
       "          'ps.distiller.res': 6000,\n",
       "          'ps.fonttype': 3,\n",
       "          'ps.papersize': 'letter',\n",
       "          'ps.useafm': False,\n",
       "          'ps.usedistiller': None,\n",
       "          'savefig.bbox': None,\n",
       "          'savefig.directory': '~',\n",
       "          'savefig.dpi': 'figure',\n",
       "          'savefig.edgecolor': 'auto',\n",
       "          'savefig.facecolor': 'auto',\n",
       "          'savefig.format': 'png',\n",
       "          'savefig.jpeg_quality': 95,\n",
       "          'savefig.orientation': 'portrait',\n",
       "          'savefig.pad_inches': 0.1,\n",
       "          'savefig.transparent': False,\n",
       "          'scatter.edgecolors': 'face',\n",
       "          'scatter.marker': 'o',\n",
       "          'svg.fonttype': 'path',\n",
       "          'svg.hashsalt': None,\n",
       "          'svg.image_inline': True,\n",
       "          'text.antialiased': True,\n",
       "          'text.color': 'black',\n",
       "          'text.hinting': 'force_autohint',\n",
       "          'text.hinting_factor': 8,\n",
       "          'text.kerning_factor': 0,\n",
       "          'text.latex.preamble': '',\n",
       "          'text.latex.preview': False,\n",
       "          'text.usetex': True,\n",
       "          'timezone': 'UTC',\n",
       "          'tk.window_focus': False,\n",
       "          'toolbar': 'toolbar2',\n",
       "          'webagg.address': '127.0.0.1',\n",
       "          'webagg.open_in_browser': True,\n",
       "          'webagg.port': 8988,\n",
       "          'webagg.port_retries': 50,\n",
       "          'xaxis.labellocation': 'center',\n",
       "          'xtick.alignment': 'center',\n",
       "          'xtick.bottom': True,\n",
       "          'xtick.color': 'black',\n",
       "          'xtick.direction': 'out',\n",
       "          'xtick.labelbottom': True,\n",
       "          'xtick.labelsize': 'medium',\n",
       "          'xtick.labeltop': False,\n",
       "          'xtick.major.bottom': True,\n",
       "          'xtick.major.pad': 3.5,\n",
       "          'xtick.major.size': 3.5,\n",
       "          'xtick.major.top': True,\n",
       "          'xtick.major.width': 0.8,\n",
       "          'xtick.minor.bottom': True,\n",
       "          'xtick.minor.pad': 3.4,\n",
       "          'xtick.minor.size': 2.0,\n",
       "          'xtick.minor.top': True,\n",
       "          'xtick.minor.visible': False,\n",
       "          'xtick.minor.width': 0.6,\n",
       "          'xtick.top': False,\n",
       "          'yaxis.labellocation': 'center',\n",
       "          'ytick.alignment': 'center_baseline',\n",
       "          'ytick.color': 'black',\n",
       "          'ytick.direction': 'out',\n",
       "          'ytick.labelleft': True,\n",
       "          'ytick.labelright': False,\n",
       "          'ytick.labelsize': 'medium',\n",
       "          'ytick.left': True,\n",
       "          'ytick.major.left': True,\n",
       "          'ytick.major.pad': 3.5,\n",
       "          'ytick.major.right': True,\n",
       "          'ytick.major.size': 3.5,\n",
       "          'ytick.major.width': 0.8,\n",
       "          'ytick.minor.left': True,\n",
       "          'ytick.minor.pad': 3.4,\n",
       "          'ytick.minor.right': True,\n",
       "          'ytick.minor.size': 2.0,\n",
       "          'ytick.minor.visible': False,\n",
       "          'ytick.minor.width': 0.6,\n",
       "          'ytick.right': False}))"
      ]
     },
     "execution_count": 68,
     "metadata": {},
     "output_type": "execute_result"
    }
   ],
   "source": [
    "plt.rcParams.keys()"
   ]
  },
  {
   "cell_type": "code",
   "execution_count": 72,
   "metadata": {},
   "outputs": [],
   "source": [
    "df_prod_ny = pd.read_csv('database/Production House_New York_database.csv')\n",
    "df_prod_la = pd.read_csv('database/Production House_Los Angeles_database.csv')\n",
    "df_prod_ga = pd.read_csv('database/Production House_Atlanta_database.csv')"
   ]
  },
  {
   "cell_type": "code",
   "execution_count": 10,
   "metadata": {},
   "outputs": [],
   "source": [
    "df_fer_ny =  pd.read_csv('database/Film Equipment Rental_New York_database.csv')\n",
    "df_fer_la =  pd.read_csv('database/Film Equipment Rental_Los Angeles_database.csv')"
   ]
  },
  {
   "cell_type": "code",
   "execution_count": 21,
   "metadata": {},
   "outputs": [],
   "source": [
    "df_prod_ny_reviews = pd.read_csv('database/Production House_New York_reviews.csv')\n",
    "df_prod_la_reviews = pd.read_csv('database/Production House_Los Angeles_reviews.csv')\n",
    "df_prod_ga_reviews = pd.read_csv('database/Production House_Atlanta_reviews.csv')\n",
    "\n",
    "df_fer_ny_reviews = pd.read_csv('database/Film Equipment Rental_New York_reviews.csv')\n",
    "df_fer_la_reviews = pd.read_csv('database/Film Equipment Rental_Los Angeles_reviews.csv')"
   ]
  },
  {
   "cell_type": "code",
   "execution_count": 23,
   "metadata": {
    "collapsed": true
   },
   "outputs": [
    {
     "data": {
      "text/html": [
       "<div>\n",
       "<style scoped>\n",
       "    .dataframe tbody tr th:only-of-type {\n",
       "        vertical-align: middle;\n",
       "    }\n",
       "\n",
       "    .dataframe tbody tr th {\n",
       "        vertical-align: top;\n",
       "    }\n",
       "\n",
       "    .dataframe thead th {\n",
       "        text-align: right;\n",
       "    }\n",
       "</style>\n",
       "<table border=\"1\" class=\"dataframe\">\n",
       "  <thead>\n",
       "    <tr style=\"text-align: right;\">\n",
       "      <th></th>\n",
       "      <th>Review_0</th>\n",
       "      <th>Review_1</th>\n",
       "      <th>Review_2</th>\n",
       "      <th>Id</th>\n",
       "    </tr>\n",
       "  </thead>\n",
       "  <tbody>\n",
       "    <tr>\n",
       "      <th>0</th>\n",
       "      <td>I am a commercial/MV line producer in LA, and ...</td>\n",
       "      <td>I'm a film student and I was very nervous abou...</td>\n",
       "      <td>Quick, friendly, helpful. Flagged me into thei...</td>\n",
       "      <td>9ThlqCyvOAPrgedis6Bw0A</td>\n",
       "    </tr>\n",
       "    <tr>\n",
       "      <th>1</th>\n",
       "      <td>Ryan and the team at Lightstone always make th...</td>\n",
       "      <td>My company and I have only had positive experi...</td>\n",
       "      <td>Highly Highly recommend this place! Lightstone...</td>\n",
       "      <td>9hDT3fdWJoRFkGa62Z0Z6Q</td>\n",
       "    </tr>\n",
       "    <tr>\n",
       "      <th>2</th>\n",
       "      <td>Jake at Pro HD Rentals did an amazing job at e...</td>\n",
       "      <td>I was recommended to this place by a very resp...</td>\n",
       "      <td>I would highly recommend Pro HD Rentals for al...</td>\n",
       "      <td>-vpcJktTviMd-K9xX-ZPww</td>\n",
       "    </tr>\n",
       "    <tr>\n",
       "      <th>3</th>\n",
       "      <td>Customer here for years, my go-to shop for any...</td>\n",
       "      <td>Amazing service from Yani this morning.  He wa...</td>\n",
       "      <td>The bespectacled 'Barney' behind the counter a...</td>\n",
       "      <td>J8GxUvGNN1VKj2C7Rfmwcw</td>\n",
       "    </tr>\n",
       "    <tr>\n",
       "      <th>4</th>\n",
       "      <td>Quick, easy rental. Stray Angel is willing to ...</td>\n",
       "      <td>I emailed from their website. After 2 days of ...</td>\n",
       "      <td>Always use Stray Angel for my production renta...</td>\n",
       "      <td>QfFgXQiaEg2P7PtcuMie8g</td>\n",
       "    </tr>\n",
       "    <tr>\n",
       "      <th>...</th>\n",
       "      <td>...</td>\n",
       "      <td>...</td>\n",
       "      <td>...</td>\n",
       "      <td>...</td>\n",
       "    </tr>\n",
       "    <tr>\n",
       "      <th>115</th>\n",
       "      <td>I never paid to be a member here, I been on mo...</td>\n",
       "      <td>This is the second time this has happened to m...</td>\n",
       "      <td>I liked the Yelp reviews for Hollywood Casting...</td>\n",
       "      <td>TqlE1El6dBM8ST58obk4vw</td>\n",
       "    </tr>\n",
       "    <tr>\n",
       "      <th>116</th>\n",
       "      <td>My husband and I found Shmily after months of ...</td>\n",
       "      <td>There is a reason that Shmily Wedding Photogra...</td>\n",
       "      <td>Frank is awesome! The most enthusiastic, suppo...</td>\n",
       "      <td>Czn5fNHVmjFgVTh0p3jY8w</td>\n",
       "    </tr>\n",
       "    <tr>\n",
       "      <th>117</th>\n",
       "      <td>After careful consideration for a birthday par...</td>\n",
       "      <td>We rented a small projector and screen for an ...</td>\n",
       "      <td>My daughter and her friends were asked to sing...</td>\n",
       "      <td>tnZf7M7upDqrCqCbxkYM7w</td>\n",
       "    </tr>\n",
       "    <tr>\n",
       "      <th>118</th>\n",
       "      <td>Experience:  We wanted to do Christmas family ...</td>\n",
       "      <td>My partner and I recently used Something New a...</td>\n",
       "      <td>Anne and David were our photographer/videograp...</td>\n",
       "      <td>t60QOLLg2Ad-SLwgJiNkXQ</td>\n",
       "    </tr>\n",
       "    <tr>\n",
       "      <th>119</th>\n",
       "      <td>In all this craziness of COVID, they were very...</td>\n",
       "      <td>I have been going to Photo Darkroom for over 3...</td>\n",
       "      <td>I love Photo dark room! Getting your film proc...</td>\n",
       "      <td>w0Zh2iN9mqpzA10D_VMexQ</td>\n",
       "    </tr>\n",
       "  </tbody>\n",
       "</table>\n",
       "<p>120 rows × 4 columns</p>\n",
       "</div>"
      ],
      "text/plain": [
       "                                              Review_0  \\\n",
       "0    I am a commercial/MV line producer in LA, and ...   \n",
       "1    Ryan and the team at Lightstone always make th...   \n",
       "2    Jake at Pro HD Rentals did an amazing job at e...   \n",
       "3    Customer here for years, my go-to shop for any...   \n",
       "4    Quick, easy rental. Stray Angel is willing to ...   \n",
       "..                                                 ...   \n",
       "115  I never paid to be a member here, I been on mo...   \n",
       "116  My husband and I found Shmily after months of ...   \n",
       "117  After careful consideration for a birthday par...   \n",
       "118  Experience:  We wanted to do Christmas family ...   \n",
       "119  In all this craziness of COVID, they were very...   \n",
       "\n",
       "                                              Review_1  \\\n",
       "0    I'm a film student and I was very nervous abou...   \n",
       "1    My company and I have only had positive experi...   \n",
       "2    I was recommended to this place by a very resp...   \n",
       "3    Amazing service from Yani this morning.  He wa...   \n",
       "4    I emailed from their website. After 2 days of ...   \n",
       "..                                                 ...   \n",
       "115  This is the second time this has happened to m...   \n",
       "116  There is a reason that Shmily Wedding Photogra...   \n",
       "117  We rented a small projector and screen for an ...   \n",
       "118  My partner and I recently used Something New a...   \n",
       "119  I have been going to Photo Darkroom for over 3...   \n",
       "\n",
       "                                              Review_2                      Id  \n",
       "0    Quick, friendly, helpful. Flagged me into thei...  9ThlqCyvOAPrgedis6Bw0A  \n",
       "1    Highly Highly recommend this place! Lightstone...  9hDT3fdWJoRFkGa62Z0Z6Q  \n",
       "2    I would highly recommend Pro HD Rentals for al...  -vpcJktTviMd-K9xX-ZPww  \n",
       "3    The bespectacled 'Barney' behind the counter a...  J8GxUvGNN1VKj2C7Rfmwcw  \n",
       "4    Always use Stray Angel for my production renta...  QfFgXQiaEg2P7PtcuMie8g  \n",
       "..                                                 ...                     ...  \n",
       "115  I liked the Yelp reviews for Hollywood Casting...  TqlE1El6dBM8ST58obk4vw  \n",
       "116  Frank is awesome! The most enthusiastic, suppo...  Czn5fNHVmjFgVTh0p3jY8w  \n",
       "117  My daughter and her friends were asked to sing...  tnZf7M7upDqrCqCbxkYM7w  \n",
       "118  Anne and David were our photographer/videograp...  t60QOLLg2Ad-SLwgJiNkXQ  \n",
       "119  I love Photo dark room! Getting your film proc...  w0Zh2iN9mqpzA10D_VMexQ  \n",
       "\n",
       "[120 rows x 4 columns]"
      ]
     },
     "execution_count": 23,
     "metadata": {},
     "output_type": "execute_result"
    }
   ],
   "source": [
    "# df_prod_ny\n",
    "# df_prod_ny_reviews\n",
    "\n",
    "# df_prod_la\n",
    "# df_prod_la_reviews\n",
    "\n",
    "# df_prod_ga\n",
    "# df_prod_ga_reviews \"\"\"# these are still 2/3 reviews per business. \n",
    "#                         easy fix, just run our reviews function again with parameters:\n",
    "#                                                  Production House, Atlanta, Video/Film\n",
    "# \"\"\"\n",
    "\n",
    "# df_fer_ny\n",
    "# df_fer_ny_reviews\n",
    "\n",
    "# df_fer_la\n",
    "# df_fer_la_reviews"
   ]
  },
  {
   "cell_type": "code",
   "execution_count": 5,
   "metadata": {
    "scrolled": false
   },
   "outputs": [
    {
     "data": {
      "text/html": [
       "<div>\n",
       "<style scoped>\n",
       "    .dataframe tbody tr th:only-of-type {\n",
       "        vertical-align: middle;\n",
       "    }\n",
       "\n",
       "    .dataframe tbody tr th {\n",
       "        vertical-align: top;\n",
       "    }\n",
       "\n",
       "    .dataframe thead th {\n",
       "        text-align: right;\n",
       "    }\n",
       "</style>\n",
       "<table border=\"1\" class=\"dataframe\">\n",
       "  <thead>\n",
       "    <tr style=\"text-align: right;\">\n",
       "      <th></th>\n",
       "      <th>Rating</th>\n",
       "      <th>Review Count</th>\n",
       "      <th>Price</th>\n",
       "    </tr>\n",
       "  </thead>\n",
       "  <tbody>\n",
       "    <tr>\n",
       "      <th>count</th>\n",
       "      <td>1000.000000</td>\n",
       "      <td>1000.000000</td>\n",
       "      <td>615.000000</td>\n",
       "    </tr>\n",
       "    <tr>\n",
       "      <th>mean</th>\n",
       "      <td>4.181500</td>\n",
       "      <td>451.836000</td>\n",
       "      <td>2.403252</td>\n",
       "    </tr>\n",
       "    <tr>\n",
       "      <th>std</th>\n",
       "      <td>0.508494</td>\n",
       "      <td>738.749932</td>\n",
       "      <td>0.675289</td>\n",
       "    </tr>\n",
       "    <tr>\n",
       "      <th>min</th>\n",
       "      <td>2.000000</td>\n",
       "      <td>1.000000</td>\n",
       "      <td>1.000000</td>\n",
       "    </tr>\n",
       "    <tr>\n",
       "      <th>25%</th>\n",
       "      <td>4.000000</td>\n",
       "      <td>30.750000</td>\n",
       "      <td>2.000000</td>\n",
       "    </tr>\n",
       "    <tr>\n",
       "      <th>50%</th>\n",
       "      <td>4.000000</td>\n",
       "      <td>194.000000</td>\n",
       "      <td>2.000000</td>\n",
       "    </tr>\n",
       "    <tr>\n",
       "      <th>75%</th>\n",
       "      <td>4.500000</td>\n",
       "      <td>547.500000</td>\n",
       "      <td>3.000000</td>\n",
       "    </tr>\n",
       "    <tr>\n",
       "      <th>max</th>\n",
       "      <td>5.000000</td>\n",
       "      <td>10016.000000</td>\n",
       "      <td>4.000000</td>\n",
       "    </tr>\n",
       "  </tbody>\n",
       "</table>\n",
       "</div>"
      ],
      "text/plain": [
       "            Rating  Review Count       Price\n",
       "count  1000.000000   1000.000000  615.000000\n",
       "mean      4.181500    451.836000    2.403252\n",
       "std       0.508494    738.749932    0.675289\n",
       "min       2.000000      1.000000    1.000000\n",
       "25%       4.000000     30.750000    2.000000\n",
       "50%       4.000000    194.000000    2.000000\n",
       "75%       4.500000    547.500000    3.000000\n",
       "max       5.000000  10016.000000    4.000000"
      ]
     },
     "execution_count": 5,
     "metadata": {},
     "output_type": "execute_result"
    }
   ],
   "source": [
    "df_prod_ny.describe()\n",
    "# '''\n",
    "# More money in NYC than LA, not by much\n",
    "# Could be impacted by amount of places that have price listed\n",
    "# Competition and Property value are things to keep in mind \n",
    "# Slightly larger range in NYC than LA, but mostly modest-high cost range (std)\n",
    "\n",
    "# '''"
   ]
  },
  {
   "cell_type": "code",
   "execution_count": 6,
   "metadata": {
    "scrolled": true
   },
   "outputs": [
    {
     "data": {
      "text/html": [
       "<div>\n",
       "<style scoped>\n",
       "    .dataframe tbody tr th:only-of-type {\n",
       "        vertical-align: middle;\n",
       "    }\n",
       "\n",
       "    .dataframe tbody tr th {\n",
       "        vertical-align: top;\n",
       "    }\n",
       "\n",
       "    .dataframe thead th {\n",
       "        text-align: right;\n",
       "    }\n",
       "</style>\n",
       "<table border=\"1\" class=\"dataframe\">\n",
       "  <thead>\n",
       "    <tr style=\"text-align: right;\">\n",
       "      <th></th>\n",
       "      <th>Rating</th>\n",
       "      <th>Review Count</th>\n",
       "      <th>Price</th>\n",
       "    </tr>\n",
       "  </thead>\n",
       "  <tbody>\n",
       "    <tr>\n",
       "      <th>count</th>\n",
       "      <td>1000.000000</td>\n",
       "      <td>1000.000000</td>\n",
       "      <td>358.00000</td>\n",
       "    </tr>\n",
       "    <tr>\n",
       "      <th>mean</th>\n",
       "      <td>4.486500</td>\n",
       "      <td>480.234000</td>\n",
       "      <td>2.24581</td>\n",
       "    </tr>\n",
       "    <tr>\n",
       "      <th>std</th>\n",
       "      <td>0.552153</td>\n",
       "      <td>928.618166</td>\n",
       "      <td>0.60430</td>\n",
       "    </tr>\n",
       "    <tr>\n",
       "      <th>min</th>\n",
       "      <td>1.500000</td>\n",
       "      <td>1.000000</td>\n",
       "      <td>1.00000</td>\n",
       "    </tr>\n",
       "    <tr>\n",
       "      <th>25%</th>\n",
       "      <td>4.000000</td>\n",
       "      <td>9.000000</td>\n",
       "      <td>2.00000</td>\n",
       "    </tr>\n",
       "    <tr>\n",
       "      <th>50%</th>\n",
       "      <td>4.500000</td>\n",
       "      <td>57.000000</td>\n",
       "      <td>2.00000</td>\n",
       "    </tr>\n",
       "    <tr>\n",
       "      <th>75%</th>\n",
       "      <td>5.000000</td>\n",
       "      <td>587.500000</td>\n",
       "      <td>3.00000</td>\n",
       "    </tr>\n",
       "    <tr>\n",
       "      <th>max</th>\n",
       "      <td>5.000000</td>\n",
       "      <td>8638.000000</td>\n",
       "      <td>4.00000</td>\n",
       "    </tr>\n",
       "  </tbody>\n",
       "</table>\n",
       "</div>"
      ],
      "text/plain": [
       "            Rating  Review Count      Price\n",
       "count  1000.000000   1000.000000  358.00000\n",
       "mean      4.486500    480.234000    2.24581\n",
       "std       0.552153    928.618166    0.60430\n",
       "min       1.500000      1.000000    1.00000\n",
       "25%       4.000000      9.000000    2.00000\n",
       "50%       4.500000     57.000000    2.00000\n",
       "75%       5.000000    587.500000    3.00000\n",
       "max       5.000000   8638.000000    4.00000"
      ]
     },
     "execution_count": 6,
     "metadata": {},
     "output_type": "execute_result"
    }
   ],
   "source": [
    "df_prod_la.describe()\n",
    "# '''\n",
    "# LA Reviews the most out of the 3 cities\n",
    "# Mean rating is much higher than the other cities\n",
    "# LA has highest std, could have outliers bringing the review count mean up \n",
    "# Find neighboorhoods that dont have high ratings to get around customer loyalty\n",
    "\n",
    "\n",
    "# '''"
   ]
  },
  {
   "cell_type": "code",
   "execution_count": 7,
   "metadata": {
    "scrolled": true
   },
   "outputs": [
    {
     "data": {
      "text/html": [
       "<div>\n",
       "<style scoped>\n",
       "    .dataframe tbody tr th:only-of-type {\n",
       "        vertical-align: middle;\n",
       "    }\n",
       "\n",
       "    .dataframe tbody tr th {\n",
       "        vertical-align: top;\n",
       "    }\n",
       "\n",
       "    .dataframe thead th {\n",
       "        text-align: right;\n",
       "    }\n",
       "</style>\n",
       "<table border=\"1\" class=\"dataframe\">\n",
       "  <thead>\n",
       "    <tr style=\"text-align: right;\">\n",
       "      <th></th>\n",
       "      <th>Rating</th>\n",
       "      <th>Review Count</th>\n",
       "      <th>Price</th>\n",
       "    </tr>\n",
       "  </thead>\n",
       "  <tbody>\n",
       "    <tr>\n",
       "      <th>count</th>\n",
       "      <td>1000.000000</td>\n",
       "      <td>1000.000000</td>\n",
       "      <td>774.000000</td>\n",
       "    </tr>\n",
       "    <tr>\n",
       "      <th>mean</th>\n",
       "      <td>3.804000</td>\n",
       "      <td>284.178000</td>\n",
       "      <td>2.018088</td>\n",
       "    </tr>\n",
       "    <tr>\n",
       "      <th>std</th>\n",
       "      <td>0.654609</td>\n",
       "      <td>388.846409</td>\n",
       "      <td>0.508335</td>\n",
       "    </tr>\n",
       "    <tr>\n",
       "      <th>min</th>\n",
       "      <td>1.000000</td>\n",
       "      <td>1.000000</td>\n",
       "      <td>1.000000</td>\n",
       "    </tr>\n",
       "    <tr>\n",
       "      <th>25%</th>\n",
       "      <td>3.500000</td>\n",
       "      <td>55.000000</td>\n",
       "      <td>2.000000</td>\n",
       "    </tr>\n",
       "    <tr>\n",
       "      <th>50%</th>\n",
       "      <td>4.000000</td>\n",
       "      <td>173.500000</td>\n",
       "      <td>2.000000</td>\n",
       "    </tr>\n",
       "    <tr>\n",
       "      <th>75%</th>\n",
       "      <td>4.000000</td>\n",
       "      <td>363.250000</td>\n",
       "      <td>2.000000</td>\n",
       "    </tr>\n",
       "    <tr>\n",
       "      <th>max</th>\n",
       "      <td>5.000000</td>\n",
       "      <td>3949.000000</td>\n",
       "      <td>4.000000</td>\n",
       "    </tr>\n",
       "  </tbody>\n",
       "</table>\n",
       "</div>"
      ],
      "text/plain": [
       "            Rating  Review Count       Price\n",
       "count  1000.000000   1000.000000  774.000000\n",
       "mean      3.804000    284.178000    2.018088\n",
       "std       0.654609    388.846409    0.508335\n",
       "min       1.000000      1.000000    1.000000\n",
       "25%       3.500000     55.000000    2.000000\n",
       "50%       4.000000    173.500000    2.000000\n",
       "75%       4.000000    363.250000    2.000000\n",
       "max       5.000000   3949.000000    4.000000"
      ]
     },
     "execution_count": 7,
     "metadata": {},
     "output_type": "execute_result"
    }
   ],
   "source": [
    "df_prod_ga.describe()\n",
    "# Cheper, making less money as Business owners compared to NY and LA\n",
    "# Less reviews per store in GA than LA or NY, would get less customers\n"
   ]
  },
  {
   "cell_type": "code",
   "execution_count": 6,
   "metadata": {},
   "outputs": [
    {
     "data": {
      "text/plain": [
       "Rating            3.805500\n",
       "Review Count    283.810000\n",
       "Price             2.018135\n",
       "Name: mean, dtype: float64"
      ]
     },
     "execution_count": 6,
     "metadata": {},
     "output_type": "execute_result"
    }
   ],
   "source": [
    "df_prod_ga.describe().loc['mean']\n",
    "\n"
   ]
  },
  {
   "cell_type": "code",
   "execution_count": null,
   "metadata": {},
   "outputs": [],
   "source": []
  },
  {
   "cell_type": "markdown",
   "metadata": {},
   "source": [
    "### Total Businesses per each Price Category\n",
    "Atlanta has far more popular lower-cost service houses than New York and Los Angeles. This would make competing in such an environment as a start-up far more difficult, until we scale to the point to where we can secure talent and the ability to provide high-level services that are worthy of 4-dollar-sign prices. <br>\n",
    "\n",
    "On the other hand, it would be worth getting the `len(parsed['total'])` of the call results per location. <br>\n",
    "If the total number of production houses in Atlanta are much lower than the total in NYC and LA, then the market might be too saturated in the larger cities, making it difficult for new competition. \n",
    "\n",
    "Beyond the scope of this project, there are some other considerations that could be taken, such as: \n",
    "- commercial real estate prices per location (possibly through other API such as Zilliow)\n",
    "- other costs of doing business per location"
   ]
  },
  {
   "cell_type": "code",
   "execution_count": 34,
   "metadata": {
    "scrolled": false
   },
   "outputs": [
    {
     "name": "stdout",
     "output_type": "stream",
     "text": [
      "🥳\n"
     ]
    },
    {
     "data": {
      "image/png": "[encoded data removed]",
      "text/plain": [
       "<Figure size 432x432 with 1 Axes>"
      ]
     },
     "metadata": {
      "needs_background": "light"
     },
     "output_type": "display_data"
    }
   ],
   "source": [
    "price_review_cnt_title = 'Production Houses \\n Number of Businesses per Price'\n",
    "x_label = 'Price'\n",
    "y_label = 'Total Businesses'\n",
    "width = .25\n",
    "\n",
    "\n",
    "x1 = df_prod_ny['Price'].value_counts().sort_index().index[:4]\n",
    "y1 = df_prod_ny['Price'].value_counts().sort_index()\n",
    "\n",
    "x2 = df_prod_la['Price'].value_counts().sort_index().index[:4]\n",
    "y2 = df_prod_la['Price'].value_counts().sort_index()\n",
    "\n",
    "x3 = df_prod_ga['Price'].value_counts().sort_index().index[:4]\n",
    "y3 = df_prod_ga['Price'].value_counts().sort_index()\n",
    "\n",
    "# xtik = [1, 2, 3, 4]\n",
    "\n",
    "fig, ax = plt.subplots(figsize=(6,6))\n",
    "\n",
    "ax.set_xlabel(x_label)\n",
    "ax.set_ylabel(y_label);\n",
    "ax.set_xticks([1, 2, 3, 4])\n",
    "# ax.set_xticks(['$'*i for i in xtik])\n",
    "\n",
    "ax.bar(x1-(width), y1, width, color=\"cyan\", align='center')\n",
    "ax.bar(x2, y2, width, color=\"yellow\", align= 'center')\n",
    "ax.bar(x3+(width), y3, width, color=\"magenta\", align= 'center')\n",
    "ax.set_title(price_review_cnt_title)\n",
    "ax.set_facecolor(\"lightyellow\")\n",
    "\n",
    "ax.legend(['NYC', 'LA', 'ATL'])\n",
    "print('🥳')"
   ]
  },
  {
   "cell_type": "markdown",
   "metadata": {},
   "source": [
    "### Insights:\n",
    "- Atlanta has way more reviews for cheaper production houses\n",
    "  - this means that there would be more competition in Atlanta if we are trying to undercut the competition\n",
    "- Likewise, **all** locations have the most reviews in the *second lowest price range*\n",
    "  - this indicates that in all locations, we would attract the most customers by targeting that price range"
   ]
  },
  {
   "cell_type": "code",
   "execution_count": null,
   "metadata": {},
   "outputs": [],
   "source": [
    "sns.scatterplot(df_prod_ny['Price'], df_prod_la['Price', )"
   ]
  },
  {
   "cell_type": "code",
   "execution_count": 35,
   "metadata": {},
   "outputs": [
    {
     "name": "stdout",
     "output_type": "stream",
     "text": [
      "🥳\n"
     ]
    },
    {
     "data": {
      "image/png": "[encoded data removed]",
      "text/plain": [
       "<Figure size 432x432 with 1 Axes>"
      ]
     },
     "metadata": {
      "needs_background": "light"
     },
     "output_type": "display_data"
    }
   ],
   "source": [
    "price_review_cnt_title = 'Production Houses \\n Number of Businesses per Price'\n",
    "x_label = 'Price'\n",
    "y_label = 'Total Businesses'\n",
    "width = .25\n",
    "\n",
    "\n",
    "x1 = df_prod_ny['Price'].median()\n",
    "y1 = df_prod_ny['Price'].value_counts().sort_index()\n",
    "\n",
    "x2 = df_prod_la['Price'].value_counts().sort_index().index[:4]\n",
    "y2 = df_prod_la['Price'].value_counts().sort_index()\n",
    "\n",
    "x3 = df_prod_ga['Price'].value_counts().sort_index().index[:4]\n",
    "y3 = df_prod_ga['Price'].value_counts().sort_index()\n",
    "\n",
    "# xtik = [1, 2, 3, 4]\n",
    "\n",
    "fig, ax = plt.subplots(figsize=(6,6))\n",
    "\n",
    "ax.set_xlabel(x_label)\n",
    "ax.set_ylabel(y_label);\n",
    "ax.set_xticks([1, 2, 3, 4])\n",
    "# ax.set_xticks(['$'*i for i in xtik])\n",
    "\n",
    "ax.bar(x1-(width), y1, width, color=\"cyan\", align='center')\n",
    "ax.bar(x2, y2, width, color=\"yellow\", align= 'center')\n",
    "ax.bar(x3+(width), y3, width, color=\"magenta\", align= 'center')\n",
    "ax.set_title(price_review_cnt_title)\n",
    "ax.set_facecolor(\"lightyellow\")\n",
    "\n",
    "ax.legend(['NYC', 'LA', 'ATL'])\n",
    "print('🥳')"
   ]
  },
  {
   "cell_type": "markdown",
   "metadata": {},
   "source": [
    "#### Insights:"
   ]
  },
  {
   "cell_type": "markdown",
   "metadata": {},
   "source": [
    "### Rating / Review Count"
   ]
  },
  {
   "cell_type": "code",
   "execution_count": 26,
   "metadata": {
    "scrolled": true
   },
   "outputs": [
    {
     "data": {
      "text/plain": [
       "0      5.0\n",
       "1      5.0\n",
       "2      5.0\n",
       "3      4.5\n",
       "4      5.0\n",
       "      ... \n",
       "995    3.5\n",
       "996    2.5\n",
       "997    2.5\n",
       "998    3.0\n",
       "999    4.0\n",
       "Name: Rating, Length: 1000, dtype: float64"
      ]
     },
     "execution_count": 26,
     "metadata": {},
     "output_type": "execute_result"
    }
   ],
   "source": [
    "df_prod_ga['Rating']"
   ]
  },
  {
   "cell_type": "code",
   "execution_count": 27,
   "metadata": {},
   "outputs": [
    {
     "data": {
      "text/plain": [
       "Float64Index([2.0, 2.5, 3.0, 3.5, 4.0], dtype='float64')"
      ]
     },
     "execution_count": 27,
     "metadata": {},
     "output_type": "execute_result"
    }
   ],
   "source": [
    "x1 = df_prod_nyc['Rating'].value_counts().sort_index().index[:5]\n",
    "x1"
   ]
  },
  {
   "cell_type": "code",
   "execution_count": 28,
   "metadata": {},
   "outputs": [
    {
     "data": {
      "text/plain": [
       "Float64Index([1.5, 2.5, 3.0, 3.5, 4.0], dtype='float64')"
      ]
     },
     "execution_count": 28,
     "metadata": {},
     "output_type": "execute_result"
    }
   ],
   "source": [
    "x2 = df_prod_la['Rating'].value_counts().sort_index().index[:5]\n",
    "x2"
   ]
  },
  {
   "cell_type": "code",
   "execution_count": 29,
   "metadata": {},
   "outputs": [
    {
     "data": {
      "text/plain": [
       "Float64Index([1.0, 1.5, 2.0, 2.5, 3.0], dtype='float64')"
      ]
     },
     "execution_count": 29,
     "metadata": {},
     "output_type": "execute_result"
    }
   ],
   "source": [
    "x3 = df_prod_ga['Rating'].value_counts().sort_index().index[:5]\n",
    "x3"
   ]
  },
  {
   "cell_type": "code",
   "execution_count": 30,
   "metadata": {},
   "outputs": [
    {
     "data": {
      "text/plain": [
       "Float64Index([2.0, 2.5, 3.0, 3.5, 4.0, 4.5, 5.0], dtype='float64')"
      ]
     },
     "execution_count": 30,
     "metadata": {},
     "output_type": "execute_result"
    }
   ],
   "source": [
    "df_prod_nyc['Rating'].value_counts().sort_index().index"
   ]
  },
  {
   "cell_type": "code",
   "execution_count": null,
   "metadata": {},
   "outputs": [],
   "source": [
    "color = 'steelblue', color = 'indianred', color = 'palegreen'\n"
   ]
  },
  {
   "cell_type": "code",
   "execution_count": 140,
   "metadata": {
    "scrolled": false
   },
   "outputs": [
    {
     "name": "stdout",
     "output_type": "stream",
     "text": [
      "🥳\n"
     ]
    },
    {
     "data": {
      "image/png": "[encoded data removed]",
      "text/plain": [
       "<Figure size 432x432 with 1 Axes>"
      ]
     },
     "metadata": {
      "needs_background": "light"
     },
     "output_type": "display_data"
    }
   ],
   "source": [
    "rating_review_cnt_title = 'Production Houses \\n Relationship Between Rating and Review Count'\n",
    "x_label = 'Rating'\n",
    "y_label = 'Review Count'\n",
    "width = .1\n",
    "\n",
    "x1 = df_prod_ny['Rating']\n",
    "y1 = df_prod_ny['Review Count']\n",
    "\n",
    "x2 = df_prod_la['Rating']\n",
    "y2 = df_prod_la['Review Count']\n",
    "\n",
    "x3 = df_prod_ga['Rating']\n",
    "y3 = df_prod_ga['Review Count']\n",
    "\n",
    "fig, ax = plt.subplots(figsize=(6,6))\n",
    "\n",
    "ax.set_xlabel(x_label)\n",
    "ax.set_ylabel(y_label);\n",
    "ax.set_xticks([1.0, 1.5, 2.0, 2.5, 3.0, 3.5, 4.0, 4.5, 5.0])\n",
    "\n",
    "ax.bar(x1-(width), y1, width, color=\"steelblue\", align='center')\n",
    "ax.bar(x2, y2, width, color='indianred', align= 'center')\n",
    "ax.bar(x3+(width), y3, width, color='palegreen', align= 'center')\n",
    "ax.set_title(rating_review_cnt_title)\n",
    "ax.set_facecolor(\"lightblue\")\n",
    "\n",
    "ax.legend(['NYC', 'LA', 'ATL'])\n",
    "print('🥳')"
   ]
  },
  {
   "cell_type": "markdown",
   "metadata": {},
   "source": [
    "#### Insights: "
   ]
  },
  {
   "cell_type": "markdown",
   "metadata": {},
   "source": []
  },
  {
   "cell_type": "markdown",
   "metadata": {},
   "source": [
    "### Rating / Price"
   ]
  },
  {
   "cell_type": "code",
   "execution_count": 45,
   "metadata": {
    "collapsed": true
   },
   "outputs": [
    {
     "data": {
      "text/html": [
       "<div>\n",
       "<style scoped>\n",
       "    .dataframe tbody tr th:only-of-type {\n",
       "        vertical-align: middle;\n",
       "    }\n",
       "\n",
       "    .dataframe tbody tr th {\n",
       "        vertical-align: top;\n",
       "    }\n",
       "\n",
       "    .dataframe thead th {\n",
       "        text-align: right;\n",
       "    }\n",
       "</style>\n",
       "<table border=\"1\" class=\"dataframe\">\n",
       "  <thead>\n",
       "    <tr style=\"text-align: right;\">\n",
       "      <th></th>\n",
       "      <th>Name</th>\n",
       "      <th>Address</th>\n",
       "      <th>City</th>\n",
       "      <th>Rating</th>\n",
       "      <th>Review Count</th>\n",
       "      <th>Coordinates</th>\n",
       "      <th>Price</th>\n",
       "      <th>Id</th>\n",
       "      <th>Categories</th>\n",
       "    </tr>\n",
       "  </thead>\n",
       "  <tbody>\n",
       "    <tr>\n",
       "      <th>0</th>\n",
       "      <td>Urban Myth Studio</td>\n",
       "      <td>['505 Johnson Ave', 'Brooklyn, NY 11237']</td>\n",
       "      <td>Brooklyn</td>\n",
       "      <td>5.0</td>\n",
       "      <td>4</td>\n",
       "      <td>{'latitude': 40.708663918903, 'longitude': -73...</td>\n",
       "      <td>NaN</td>\n",
       "      <td>FOVaV6u49Hb3VEncHJ5eVg</td>\n",
       "      <td>[{'alias': 'videofilmproductions', 'title': 'V...</td>\n",
       "    </tr>\n",
       "    <tr>\n",
       "      <th>1</th>\n",
       "      <td>Hit and Run Productions</td>\n",
       "      <td>['65 Roebling St', 'Ste 202', 'Brooklyn, NY 11...</td>\n",
       "      <td>Brooklyn</td>\n",
       "      <td>5.0</td>\n",
       "      <td>4</td>\n",
       "      <td>{'latitude': 40.7165128, 'longitude': -73.9546...</td>\n",
       "      <td>NaN</td>\n",
       "      <td>ntnuLH-tk9Qh8n895hDV9g</td>\n",
       "      <td>[{'alias': 'videofilmproductions', 'title': 'V...</td>\n",
       "    </tr>\n",
       "    <tr>\n",
       "      <th>2</th>\n",
       "      <td>Be Electric Studios</td>\n",
       "      <td>['1298 Willoughby Ave', 'Brooklyn, NY 11237']</td>\n",
       "      <td>Brooklyn</td>\n",
       "      <td>4.5</td>\n",
       "      <td>4</td>\n",
       "      <td>{'latitude': 40.7052438, 'longitude': -73.9218...</td>\n",
       "      <td>NaN</td>\n",
       "      <td>lmiG3-1CZFcoQBESPa7KMw</td>\n",
       "      <td>[{'alias': 'videofilmproductions', 'title': 'V...</td>\n",
       "    </tr>\n",
       "    <tr>\n",
       "      <th>3</th>\n",
       "      <td>Starr Street Studios</td>\n",
       "      <td>['207-A Starr St', 'Ste 3-1', 'Brooklyn, NY 11...</td>\n",
       "      <td>Brooklyn</td>\n",
       "      <td>5.0</td>\n",
       "      <td>8</td>\n",
       "      <td>{'latitude': 40.705122, 'longitude': -73.923457}</td>\n",
       "      <td>NaN</td>\n",
       "      <td>rXjhzma0XIrxJEFt7q0tIg</td>\n",
       "      <td>[{'alias': 'videofilmproductions', 'title': 'V...</td>\n",
       "    </tr>\n",
       "    <tr>\n",
       "      <th>4</th>\n",
       "      <td>Morris-Jumel Mansion</td>\n",
       "      <td>['65 Jumel Ter', 'New York, NY 10032']</td>\n",
       "      <td>New York</td>\n",
       "      <td>4.5</td>\n",
       "      <td>38</td>\n",
       "      <td>{'latitude': 40.83449, 'longitude': -73.93851}</td>\n",
       "      <td>NaN</td>\n",
       "      <td>Sn9jYOKrk0CgeZVGzKAJPw</td>\n",
       "      <td>[{'alias': 'museums', 'title': 'Museums'}, {'a...</td>\n",
       "    </tr>\n",
       "    <tr>\n",
       "      <th>...</th>\n",
       "      <td>...</td>\n",
       "      <td>...</td>\n",
       "      <td>...</td>\n",
       "      <td>...</td>\n",
       "      <td>...</td>\n",
       "      <td>...</td>\n",
       "      <td>...</td>\n",
       "      <td>...</td>\n",
       "      <td>...</td>\n",
       "    </tr>\n",
       "    <tr>\n",
       "      <th>994</th>\n",
       "      <td>Laura Pels Theatre</td>\n",
       "      <td>['111 W 46th St', 'New York, NY 10036']</td>\n",
       "      <td>New York</td>\n",
       "      <td>4.0</td>\n",
       "      <td>15</td>\n",
       "      <td>{'latitude': 40.7576962, 'longitude': -73.9826...</td>\n",
       "      <td>NaN</td>\n",
       "      <td>rLKX5SnocYxGTsJ3v9E_EA</td>\n",
       "      <td>[{'alias': 'theater', 'title': 'Performing Art...</td>\n",
       "    </tr>\n",
       "    <tr>\n",
       "      <th>996</th>\n",
       "      <td>The Play That Goes Wrong</td>\n",
       "      <td>['340 W 50th St', 'New York, NY 10019']</td>\n",
       "      <td>New York</td>\n",
       "      <td>4.0</td>\n",
       "      <td>71</td>\n",
       "      <td>{'latitude': 40.7628267, 'longitude': -73.987646}</td>\n",
       "      <td>NaN</td>\n",
       "      <td>C8Ua3n56zNBJRkk0O4lYlQ</td>\n",
       "      <td>[{'alias': 'theater', 'title': 'Performing Art...</td>\n",
       "    </tr>\n",
       "    <tr>\n",
       "      <th>997</th>\n",
       "      <td>Say Something Bunny</td>\n",
       "      <td>['511 W 20th St', 'New York, NY 10011']</td>\n",
       "      <td>New York</td>\n",
       "      <td>4.0</td>\n",
       "      <td>4</td>\n",
       "      <td>{'latitude': 40.74618, 'longitude': -74.00614}</td>\n",
       "      <td>NaN</td>\n",
       "      <td>N1wUr9ASCdWGy4yIoiNMqg</td>\n",
       "      <td>[{'alias': 'theater', 'title': 'Performing Art...</td>\n",
       "    </tr>\n",
       "    <tr>\n",
       "      <th>998</th>\n",
       "      <td>Sergimmo Salumeria</td>\n",
       "      <td>['456 9th Ave', 'New York, NY 10018']</td>\n",
       "      <td>New York</td>\n",
       "      <td>4.0</td>\n",
       "      <td>683</td>\n",
       "      <td>{'latitude': 40.754296, 'longitude': -73.995498}</td>\n",
       "      <td>2.0</td>\n",
       "      <td>9iC39Z1YjZKbrrCANgzBXg</td>\n",
       "      <td>[{'alias': 'italian', 'title': 'Italian'}, {'a...</td>\n",
       "    </tr>\n",
       "    <tr>\n",
       "      <th>999</th>\n",
       "      <td>Boqueria Flatiron</td>\n",
       "      <td>['53 W 19th St', 'New York, NY 10011']</td>\n",
       "      <td>New York</td>\n",
       "      <td>4.0</td>\n",
       "      <td>1265</td>\n",
       "      <td>{'latitude': 40.7402927726298, 'longitude': -7...</td>\n",
       "      <td>3.0</td>\n",
       "      <td>qIOAlXCCYrwN0VxEEH-Tmw</td>\n",
       "      <td>[{'alias': 'spanish', 'title': 'Spanish'}, {'a...</td>\n",
       "    </tr>\n",
       "  </tbody>\n",
       "</table>\n",
       "<p>833 rows × 9 columns</p>\n",
       "</div>"
      ],
      "text/plain": [
       "                         Name  \\\n",
       "0           Urban Myth Studio   \n",
       "1     Hit and Run Productions   \n",
       "2         Be Electric Studios   \n",
       "3        Starr Street Studios   \n",
       "4        Morris-Jumel Mansion   \n",
       "..                        ...   \n",
       "994        Laura Pels Theatre   \n",
       "996  The Play That Goes Wrong   \n",
       "997       Say Something Bunny   \n",
       "998        Sergimmo Salumeria   \n",
       "999         Boqueria Flatiron   \n",
       "\n",
       "                                               Address      City  Rating  \\\n",
       "0            ['505 Johnson Ave', 'Brooklyn, NY 11237']  Brooklyn     5.0   \n",
       "1    ['65 Roebling St', 'Ste 202', 'Brooklyn, NY 11...  Brooklyn     5.0   \n",
       "2        ['1298 Willoughby Ave', 'Brooklyn, NY 11237']  Brooklyn     4.5   \n",
       "3    ['207-A Starr St', 'Ste 3-1', 'Brooklyn, NY 11...  Brooklyn     5.0   \n",
       "4               ['65 Jumel Ter', 'New York, NY 10032']  New York     4.5   \n",
       "..                                                 ...       ...     ...   \n",
       "994            ['111 W 46th St', 'New York, NY 10036']  New York     4.0   \n",
       "996            ['340 W 50th St', 'New York, NY 10019']  New York     4.0   \n",
       "997            ['511 W 20th St', 'New York, NY 10011']  New York     4.0   \n",
       "998              ['456 9th Ave', 'New York, NY 10018']  New York     4.0   \n",
       "999             ['53 W 19th St', 'New York, NY 10011']  New York     4.0   \n",
       "\n",
       "     Review Count                                        Coordinates  Price  \\\n",
       "0               4  {'latitude': 40.708663918903, 'longitude': -73...    NaN   \n",
       "1               4  {'latitude': 40.7165128, 'longitude': -73.9546...    NaN   \n",
       "2               4  {'latitude': 40.7052438, 'longitude': -73.9218...    NaN   \n",
       "3               8   {'latitude': 40.705122, 'longitude': -73.923457}    NaN   \n",
       "4              38     {'latitude': 40.83449, 'longitude': -73.93851}    NaN   \n",
       "..            ...                                                ...    ...   \n",
       "994            15  {'latitude': 40.7576962, 'longitude': -73.9826...    NaN   \n",
       "996            71  {'latitude': 40.7628267, 'longitude': -73.987646}    NaN   \n",
       "997             4     {'latitude': 40.74618, 'longitude': -74.00614}    NaN   \n",
       "998           683   {'latitude': 40.754296, 'longitude': -73.995498}    2.0   \n",
       "999          1265  {'latitude': 40.7402927726298, 'longitude': -7...    3.0   \n",
       "\n",
       "                         Id                                         Categories  \n",
       "0    FOVaV6u49Hb3VEncHJ5eVg  [{'alias': 'videofilmproductions', 'title': 'V...  \n",
       "1    ntnuLH-tk9Qh8n895hDV9g  [{'alias': 'videofilmproductions', 'title': 'V...  \n",
       "2    lmiG3-1CZFcoQBESPa7KMw  [{'alias': 'videofilmproductions', 'title': 'V...  \n",
       "3    rXjhzma0XIrxJEFt7q0tIg  [{'alias': 'videofilmproductions', 'title': 'V...  \n",
       "4    Sn9jYOKrk0CgeZVGzKAJPw  [{'alias': 'museums', 'title': 'Museums'}, {'a...  \n",
       "..                      ...                                                ...  \n",
       "994  rLKX5SnocYxGTsJ3v9E_EA  [{'alias': 'theater', 'title': 'Performing Art...  \n",
       "996  C8Ua3n56zNBJRkk0O4lYlQ  [{'alias': 'theater', 'title': 'Performing Art...  \n",
       "997  N1wUr9ASCdWGy4yIoiNMqg  [{'alias': 'theater', 'title': 'Performing Art...  \n",
       "998  9iC39Z1YjZKbrrCANgzBXg  [{'alias': 'italian', 'title': 'Italian'}, {'a...  \n",
       "999  qIOAlXCCYrwN0VxEEH-Tmw  [{'alias': 'spanish', 'title': 'Spanish'}, {'a...  \n",
       "\n",
       "[833 rows x 9 columns]"
      ]
     },
     "execution_count": 45,
     "metadata": {},
     "output_type": "execute_result"
    }
   ],
   "source": [
    "df_prod_ny.loc[(df_prod_ny['Rating'] >= 4)]"
   ]
  },
  {
   "cell_type": "code",
   "execution_count": 51,
   "metadata": {
    "collapsed": true
   },
   "outputs": [
    {
     "data": {
      "text/plain": [
       "array([  165,   124,  5652,   424,  1124,    33,     7,    18,  1691,\n",
       "         661,   946,   376,    65,   607,     6,  1796,   882,  1744,\n",
       "         240,   412,   219,   813,   538,   270,   823,   822,   413,\n",
       "        2323,    38,   826,   234,   826,    13,   751,    18,   212,\n",
       "         272,   364,   876,   205,   386,  2692,  1499,   102, 10016,\n",
       "         333,   685,  2066,   233,  1174,  1106,   254,  1026,   626,\n",
       "         784,   506,  1027,     7,  1617,  1215,  1108,   612,  1253,\n",
       "        1042,   356,   179,    77,   410,  5129,    57,   433,  4313,\n",
       "         895,  1893,   179,   453,  1262,  3149,   289,   254,    72,\n",
       "          12,    86,  2384,    31,   436,  1048,     2,    35,   974,\n",
       "         126,   283,     4,   147,  2031,  3273,   531,   662,   604,\n",
       "        1038,   544,   214,  1936,   507,    56,   511,    62,   126,\n",
       "        2089,    85,   170,   230,   633,   112,   283,   533,   977,\n",
       "         973,   118,   194,   343,   330,  1169,   643,  1100,   130,\n",
       "         931,   222,   331,  2125,   403,   101,   284,   859,   278,\n",
       "         603,   329,   315,    31,   385,   278,   147,   322,   778,\n",
       "         667,   649,     6,   730,   493,    78,   766,   185,   310,\n",
       "         215,   139,   146,  1255,   441,   547,   789,  1243,   214,\n",
       "         624,   263,  1191,  2953,    55,   138,   296,     8,   365,\n",
       "        1402,   308,  3101,   109,   848,  5462,  1668,   376,   145,\n",
       "         886,   164,   982,   714,   118,    76,    77,   440,   318,\n",
       "         201,   266,   911,   486,  1363,    26,   198,  1315,   193,\n",
       "        1639,    96,   157,   458,   492,   173,   266,   185,    75,\n",
       "         815,   628,   100,   244,  1905,   150,   732,   169,    44,\n",
       "         596,  1083,   113,   238,    79,   641,     8,  1154,   503,\n",
       "         338,   284,   589,   214,   114,   270,    86,   765,   132,\n",
       "          62,   370,  1250,   449,   152,   214,    70,   655,   973,\n",
       "         293,   553,   388,  2354,   886,   292,  1472,  1182,   449,\n",
       "         525,   363,   456,   326,  1141,   668,   144,   132,    87,\n",
       "         532,   281,  1260,   255,    63,  1414,    58,    66,  2118,\n",
       "         545,   145,  1799,   563,   638,   505,   217,   251,  1066,\n",
       "         538,   139,   120,   597,    99,   683,    90,   227,   135,\n",
       "         163,  1437,    23,   425,   311,  2705,   362,   275,   425,\n",
       "         150,   678,   893,   254,   683])"
      ]
     },
     "execution_count": 51,
     "metadata": {},
     "output_type": "execute_result"
    }
   ],
   "source": [
    "ny_prod_high_rating_price2['Review Count'].values"
   ]
  },
  {
   "cell_type": "code",
   "execution_count": 52,
   "metadata": {},
   "outputs": [
    {
     "data": {
      "text/plain": [
       "Int64Index([ 21,  27,  31,  44,  59,  60,  64,  81,  82,  83,\n",
       "            ...\n",
       "            971, 973, 977, 983, 984, 986, 987, 988, 990, 998],\n",
       "           dtype='int64', length=302)"
      ]
     },
     "execution_count": 52,
     "metadata": {},
     "output_type": "execute_result"
    }
   ],
   "source": [
    "ny_prod_high_rating_price2.index"
   ]
  },
  {
   "cell_type": "code",
   "execution_count": 53,
   "metadata": {},
   "outputs": [
    {
     "data": {
      "text/html": [
       "<div>\n",
       "<style scoped>\n",
       "    .dataframe tbody tr th:only-of-type {\n",
       "        vertical-align: middle;\n",
       "    }\n",
       "\n",
       "    .dataframe tbody tr th {\n",
       "        vertical-align: top;\n",
       "    }\n",
       "\n",
       "    .dataframe thead th {\n",
       "        text-align: right;\n",
       "    }\n",
       "</style>\n",
       "<table border=\"1\" class=\"dataframe\">\n",
       "  <thead>\n",
       "    <tr style=\"text-align: right;\">\n",
       "      <th></th>\n",
       "      <th>Name</th>\n",
       "      <th>Address</th>\n",
       "      <th>City</th>\n",
       "      <th>Rating</th>\n",
       "      <th>Review Count</th>\n",
       "      <th>Coordinates</th>\n",
       "      <th>Price</th>\n",
       "      <th>Id</th>\n",
       "      <th>Categories</th>\n",
       "    </tr>\n",
       "  </thead>\n",
       "  <tbody>\n",
       "    <tr>\n",
       "      <th>21</th>\n",
       "      <td>DiJiFi</td>\n",
       "      <td>['1166 Manhattan Ave', 'Ste 201', 'Brooklyn, N...</td>\n",
       "      <td>Brooklyn</td>\n",
       "      <td>4.5</td>\n",
       "      <td>165</td>\n",
       "      <td>{'latitude': 40.7382584, 'longitude': -73.9549...</td>\n",
       "      <td>2.0</td>\n",
       "      <td>CwBYC8nVLbG7KjVU6nwR4A</td>\n",
       "      <td>[{'alias': 'photographystores', 'title': 'Phot...</td>\n",
       "    </tr>\n",
       "    <tr>\n",
       "      <th>27</th>\n",
       "      <td>Kings County Distillery</td>\n",
       "      <td>['299 Sands St', 'Bldg 121', 'Brooklyn, NY 112...</td>\n",
       "      <td>Brooklyn</td>\n",
       "      <td>4.5</td>\n",
       "      <td>124</td>\n",
       "      <td>{'latitude': 40.6997470891061, 'longitude': -7...</td>\n",
       "      <td>2.0</td>\n",
       "      <td>J3ZLnLE-DZzrJu2ryEmrEw</td>\n",
       "      <td>[{'alias': 'distilleries', 'title': 'Distiller...</td>\n",
       "    </tr>\n",
       "    <tr>\n",
       "      <th>31</th>\n",
       "      <td>Eataly Flatiron</td>\n",
       "      <td>['200 5th Ave', 'New York, NY 10010']</td>\n",
       "      <td>New York</td>\n",
       "      <td>4.0</td>\n",
       "      <td>5652</td>\n",
       "      <td>{'latitude': 40.74195877796, 'longitude': -73....</td>\n",
       "      <td>2.0</td>\n",
       "      <td>a0IET3_yCFcO36OqGSsisg</td>\n",
       "      <td>[{'alias': 'italian', 'title': 'Italian'}, {'a...</td>\n",
       "    </tr>\n",
       "    <tr>\n",
       "      <th>44</th>\n",
       "      <td>The Malt House</td>\n",
       "      <td>['206 Thompson St', 'New York, NY 10012']</td>\n",
       "      <td>New York</td>\n",
       "      <td>4.0</td>\n",
       "      <td>424</td>\n",
       "      <td>{'latitude': 40.728647, 'longitude': -73.999383}</td>\n",
       "      <td>2.0</td>\n",
       "      <td>NT2mKx3_kxO9tpjeP2Sv6Q</td>\n",
       "      <td>[{'alias': 'gastropubs', 'title': 'Gastropubs'...</td>\n",
       "    </tr>\n",
       "    <tr>\n",
       "      <th>59</th>\n",
       "      <td>Forest Hills Station House</td>\n",
       "      <td>['106-11 71st Ave', 'Forest Hills, NY 11375']</td>\n",
       "      <td>Forest Hills</td>\n",
       "      <td>4.0</td>\n",
       "      <td>1124</td>\n",
       "      <td>{'latitude': 40.7199422, 'longitude': -73.8451...</td>\n",
       "      <td>2.0</td>\n",
       "      <td>NVp1S29NLR573Lc4ZvICKw</td>\n",
       "      <td>[{'alias': 'gastropubs', 'title': 'Gastropubs'...</td>\n",
       "    </tr>\n",
       "    <tr>\n",
       "      <th>...</th>\n",
       "      <td>...</td>\n",
       "      <td>...</td>\n",
       "      <td>...</td>\n",
       "      <td>...</td>\n",
       "      <td>...</td>\n",
       "      <td>...</td>\n",
       "      <td>...</td>\n",
       "      <td>...</td>\n",
       "      <td>...</td>\n",
       "    </tr>\n",
       "    <tr>\n",
       "      <th>986</th>\n",
       "      <td>Parc Oasis Oyster Bar</td>\n",
       "      <td>['6403 11th Ave', 'Brooklyn, NY 11219']</td>\n",
       "      <td>Brooklyn</td>\n",
       "      <td>4.0</td>\n",
       "      <td>150</td>\n",
       "      <td>{'latitude': 40.6290427824765, 'longitude': -7...</td>\n",
       "      <td>2.0</td>\n",
       "      <td>v4cXt2qe9pq_XWJflL5ISg</td>\n",
       "      <td>[{'alias': 'seafood', 'title': 'Seafood'}, {'a...</td>\n",
       "    </tr>\n",
       "    <tr>\n",
       "      <th>987</th>\n",
       "      <td>Boulton &amp; Watt</td>\n",
       "      <td>['5 Ave A', 'New York, NY 10009']</td>\n",
       "      <td>New York</td>\n",
       "      <td>4.0</td>\n",
       "      <td>678</td>\n",
       "      <td>{'latitude': 40.722520164329694, 'longitude': ...</td>\n",
       "      <td>2.0</td>\n",
       "      <td>Cz6It2NB_QBXCjnlsWGZSA</td>\n",
       "      <td>[{'alias': 'newamerican', 'title': 'American (...</td>\n",
       "    </tr>\n",
       "    <tr>\n",
       "      <th>988</th>\n",
       "      <td>HinoMaru Ramen</td>\n",
       "      <td>['33-18 Ditmars Blvd', 'Astoria, NY 11105']</td>\n",
       "      <td>Astoria</td>\n",
       "      <td>4.0</td>\n",
       "      <td>893</td>\n",
       "      <td>{'latitude': 40.774889916651, 'longitude': -73...</td>\n",
       "      <td>2.0</td>\n",
       "      <td>D65eObUbArHu6UiQsUasgw</td>\n",
       "      <td>[{'alias': 'ramen', 'title': 'Ramen'}, {'alias...</td>\n",
       "    </tr>\n",
       "    <tr>\n",
       "      <th>990</th>\n",
       "      <td>Jajaja Plantas Mexicana</td>\n",
       "      <td>['63 Carmine St', 'New York, NY 10014']</td>\n",
       "      <td>New York</td>\n",
       "      <td>4.5</td>\n",
       "      <td>254</td>\n",
       "      <td>{'latitude': 40.72979, 'longitude': -74.00455}</td>\n",
       "      <td>2.0</td>\n",
       "      <td>PHMkwS5nmo4IUXbcg0OcAg</td>\n",
       "      <td>[{'alias': 'mexican', 'title': 'Mexican'}, {'a...</td>\n",
       "    </tr>\n",
       "    <tr>\n",
       "      <th>998</th>\n",
       "      <td>Sergimmo Salumeria</td>\n",
       "      <td>['456 9th Ave', 'New York, NY 10018']</td>\n",
       "      <td>New York</td>\n",
       "      <td>4.0</td>\n",
       "      <td>683</td>\n",
       "      <td>{'latitude': 40.754296, 'longitude': -73.995498}</td>\n",
       "      <td>2.0</td>\n",
       "      <td>9iC39Z1YjZKbrrCANgzBXg</td>\n",
       "      <td>[{'alias': 'italian', 'title': 'Italian'}, {'a...</td>\n",
       "    </tr>\n",
       "  </tbody>\n",
       "</table>\n",
       "<p>302 rows × 9 columns</p>\n",
       "</div>"
      ],
      "text/plain": [
       "                           Name  \\\n",
       "21                       DiJiFi   \n",
       "27      Kings County Distillery   \n",
       "31              Eataly Flatiron   \n",
       "44               The Malt House   \n",
       "59   Forest Hills Station House   \n",
       "..                          ...   \n",
       "986       Parc Oasis Oyster Bar   \n",
       "987              Boulton & Watt   \n",
       "988              HinoMaru Ramen   \n",
       "990     Jajaja Plantas Mexicana   \n",
       "998          Sergimmo Salumeria   \n",
       "\n",
       "                                               Address          City  Rating  \\\n",
       "21   ['1166 Manhattan Ave', 'Ste 201', 'Brooklyn, N...      Brooklyn     4.5   \n",
       "27   ['299 Sands St', 'Bldg 121', 'Brooklyn, NY 112...      Brooklyn     4.5   \n",
       "31               ['200 5th Ave', 'New York, NY 10010']      New York     4.0   \n",
       "44           ['206 Thompson St', 'New York, NY 10012']      New York     4.0   \n",
       "59       ['106-11 71st Ave', 'Forest Hills, NY 11375']  Forest Hills     4.0   \n",
       "..                                                 ...           ...     ...   \n",
       "986            ['6403 11th Ave', 'Brooklyn, NY 11219']      Brooklyn     4.0   \n",
       "987                  ['5 Ave A', 'New York, NY 10009']      New York     4.0   \n",
       "988        ['33-18 Ditmars Blvd', 'Astoria, NY 11105']       Astoria     4.0   \n",
       "990            ['63 Carmine St', 'New York, NY 10014']      New York     4.5   \n",
       "998              ['456 9th Ave', 'New York, NY 10018']      New York     4.0   \n",
       "\n",
       "     Review Count                                        Coordinates  Price  \\\n",
       "21            165  {'latitude': 40.7382584, 'longitude': -73.9549...    2.0   \n",
       "27            124  {'latitude': 40.6997470891061, 'longitude': -7...    2.0   \n",
       "31           5652  {'latitude': 40.74195877796, 'longitude': -73....    2.0   \n",
       "44            424   {'latitude': 40.728647, 'longitude': -73.999383}    2.0   \n",
       "59           1124  {'latitude': 40.7199422, 'longitude': -73.8451...    2.0   \n",
       "..            ...                                                ...    ...   \n",
       "986           150  {'latitude': 40.6290427824765, 'longitude': -7...    2.0   \n",
       "987           678  {'latitude': 40.722520164329694, 'longitude': ...    2.0   \n",
       "988           893  {'latitude': 40.774889916651, 'longitude': -73...    2.0   \n",
       "990           254     {'latitude': 40.72979, 'longitude': -74.00455}    2.0   \n",
       "998           683   {'latitude': 40.754296, 'longitude': -73.995498}    2.0   \n",
       "\n",
       "                         Id                                         Categories  \n",
       "21   CwBYC8nVLbG7KjVU6nwR4A  [{'alias': 'photographystores', 'title': 'Phot...  \n",
       "27   J3ZLnLE-DZzrJu2ryEmrEw  [{'alias': 'distilleries', 'title': 'Distiller...  \n",
       "31   a0IET3_yCFcO36OqGSsisg  [{'alias': 'italian', 'title': 'Italian'}, {'a...  \n",
       "44   NT2mKx3_kxO9tpjeP2Sv6Q  [{'alias': 'gastropubs', 'title': 'Gastropubs'...  \n",
       "59   NVp1S29NLR573Lc4ZvICKw  [{'alias': 'gastropubs', 'title': 'Gastropubs'...  \n",
       "..                      ...                                                ...  \n",
       "986  v4cXt2qe9pq_XWJflL5ISg  [{'alias': 'seafood', 'title': 'Seafood'}, {'a...  \n",
       "987  Cz6It2NB_QBXCjnlsWGZSA  [{'alias': 'newamerican', 'title': 'American (...  \n",
       "988  D65eObUbArHu6UiQsUasgw  [{'alias': 'ramen', 'title': 'Ramen'}, {'alias...  \n",
       "990  PHMkwS5nmo4IUXbcg0OcAg  [{'alias': 'mexican', 'title': 'Mexican'}, {'a...  \n",
       "998  9iC39Z1YjZKbrrCANgzBXg  [{'alias': 'italian', 'title': 'Italian'}, {'a...  \n",
       "\n",
       "[302 rows x 9 columns]"
      ]
     },
     "execution_count": 53,
     "metadata": {},
     "output_type": "execute_result"
    }
   ],
   "source": [
    "ny_prod_high_rating_price2"
   ]
  },
  {
   "cell_type": "code",
   "execution_count": 138,
   "metadata": {},
   "outputs": [
    {
     "data": {
      "image/png": "[encoded data removed]",
      "text/plain": [
       "<Figure size 1080x360 with 3 Axes>"
      ]
     },
     "metadata": {
      "needs_background": "light"
     },
     "output_type": "display_data"
    }
   ],
   "source": [
    "ny_prod_high_rating_price2 = df_prod_ny.loc[(df_prod_ny['Rating'] >= 4) & (df_prod_ny['Price'] == 2)]\n",
    "la_prod_high_rating_price2 = df_prod_la.loc[(df_prod_la['Rating'] >= 4) & (df_prod_la['Price'] == 2)]\n",
    "ga_prod_high_rating_price2 = df_prod_ga.loc[(df_prod_ga['Rating'] >= 4) & (df_prod_ga['Price'] == 2)]\n",
    "\n",
    "\n",
    "fig, ax = plt.subplots(1, 3, figsize=(15, 5), sharey=True)\n",
    "fig.suptitle('High-Rated Production Houses in the $2 Price Group')\n",
    "\n",
    "# NY\n",
    "g1 = sns.scatterplot(ax=ax[0], x= ny_prod_high_rating_price2['Name'], y= ny_prod_high_rating_price2['Review Count'].values, color = 'steelblue')\n",
    "ax[0].set_title('New York')\n",
    "\n",
    "# LA\n",
    "g2 = sns.scatterplot(ax=ax[1], x= la_prod_high_rating_price2['Name'], y= la_prod_high_rating_price2['Review Count'].values, color = 'indianred')\n",
    "ax[1].set_title('Los Angeles')\n",
    "\n",
    "# ATL\n",
    "g3 = sns.scatterplot(ax=ax[2], x= ga_prod_high_rating_price2['Name'], y= ga_prod_high_rating_price2['Review Count'].values, color = 'palegreen')\n",
    "ax[2].set_title('Atlanta')\n",
    "\n",
    "g1.set(xticklabels=[])\n",
    "g2.set(xticklabels=[])\n",
    "g3.set(xticklabels=[])\n",
    "g1.set_xlabel('NY Production House - Business Name')\n",
    "g2.set_xlabel('LA Production Houses - Business Name')\n",
    "g3.set_xlabel('ATL Production Houses - Business Name')\n",
    "g1.tick_params(bottom=False) \n",
    "g2.tick_params(bottom=False) \n",
    "g3.tick_params(bottom=False);"
   ]
  },
  {
   "cell_type": "code",
   "execution_count": 137,
   "metadata": {
    "scrolled": false
   },
   "outputs": [
    {
     "data": {
      "image/png": "[encoded data removed]",
      "text/plain": [
       "<Figure size 1080x360 with 3 Axes>"
      ]
     },
     "metadata": {
      "needs_background": "light"
     },
     "output_type": "display_data"
    }
   ],
   "source": [
    "ny_prod_high_rating_price2 = df_prod_ny.loc[(df_prod_ny['Rating'] >= 4) & (df_prod_ny['Price'] == 2)]\n",
    "la_prod_high_rating_price2 = df_prod_la.loc[(df_prod_la['Rating'] >= 4) & (df_prod_la['Price'] == 2)]\n",
    "ga_prod_high_rating_price2 = df_prod_ga.loc[(df_prod_ga['Rating'] >= 4) & (df_prod_ga['Price'] == 2)]\n",
    "\n",
    "\n",
    "fig, ax = plt.subplots(1, 3, figsize=(15, 5), sharey=True)\n",
    "fig.suptitle('High-Rated Production Houses in the $2 Price Group')\n",
    "\n",
    "# NY\n",
    "g1 = sns.barplot(ax=ax[0], x= ny_prod_high_rating_price2['Name'], y= ny_prod_high_rating_price2['Review Count'].values)\n",
    "ax[0].set_title('New York')\n",
    "\n",
    "# LA\n",
    "g2 = sns.barplot(ax=ax[1], x= la_prod_high_rating_price2['Name'], y= la_prod_high_rating_price2['Review Count'].values)\n",
    "ax[1].set_title('Los Angeles')\n",
    "\n",
    "# ATL\n",
    "g3 = sns.barplot(ax=ax[2], x= ga_prod_high_rating_price2['Name'], y= ga_prod_high_rating_price2['Review Count'].values)\n",
    "ax[2].set_title('Atlanta')\n",
    "\n",
    "g1.set(xticklabels=[])\n",
    "g2.set(xticklabels=[])\n",
    "g3.set(xticklabels=[])\n",
    "g1.set_xlabel('NY Production House Business Name')\n",
    "g2.set_xlabel('LA Production House Business Name')\n",
    "g3.set_xlabel('ATL Production House Business Name')\n",
    "g1.tick_params(bottom=False) \n",
    "g2.tick_params(bottom=False) \n",
    "g3.tick_params(bottom=False);"
   ]
  },
  {
   "cell_type": "code",
   "execution_count": 127,
   "metadata": {},
   "outputs": [
    {
     "data": {
      "image/png": "[encoded data removed]",
      "text/plain": [
       "<Figure size 1080x360 with 3 Axes>"
      ]
     },
     "metadata": {
      "needs_background": "light"
     },
     "output_type": "display_data"
    }
   ],
   "source": [
    "ny_prod_high_rating_price2 = df_prod_ny.loc[(df_prod_ny['Rating'] >= 4) & (df_prod_ny['Price'] == 2) & (df_prod_ga['Review Count'] >= 1800)]\n",
    "la_prod_high_rating_price2 = df_prod_la.loc[(df_prod_la['Rating'] >= 4) & (df_prod_la['Price'] == 2) & (df_prod_ga['Review Count'] >= 1800)]\n",
    "ga_prod_high_rating_price2 = df_prod_ga.loc[(df_prod_ga['Rating'] >= 4) & (df_prod_ga['Price'] == 2) & (df_prod_ga['Review Count'] >= 1800)]\n",
    "\n",
    "\n",
    "fig, ax = plt.subplots(1, 3, figsize=(15, 5), sharey=True)\n",
    "fig.suptitle('High-Rated Production Houses in the $2 Price Group with More than 2000 Reviews', fontweight = 'bold')\n",
    "\n",
    "# for i, j in zip(range(numvars), itertools.cycle((-1, 0))):\n",
    "#     axes[j,i].xaxis.set_visible(True)\n",
    "#     axes[i,j].yaxis.set_visible(True)\n",
    "\n",
    "#     for tick in axes[i,j].get_xticklabels():\n",
    "#         tick.set_rotation(45)\n",
    "#     for tick in axes[j,i].get_xticklabels():\n",
    "#         tick.set_rotation(45)\n",
    "\n",
    "# NY\n",
    "g1 = sns.barplot(ax=ax[0], x= ny_prod_high_rating_price2['Name'], y= ny_prod_high_rating_price2['Review Count'].values)\n",
    "ax[0].set_title('New York')\n",
    "# LA\n",
    "g2 = sns.barplot(ax=ax[1], x= la_prod_high_rating_price2['Name'], y= la_prod_high_rating_price2['Review Count'].values)\n",
    "ax[1].set_title('Los Angeles')\n",
    "# ATL\n",
    "g3 = sns.barplot(ax=ax[2], x= ga_prod_high_rating_price2['Name'], y= ga_prod_high_rating_price2['Review Count'].values)\n",
    "ax[2].set_title('Atlanta')\n",
    "\n",
    "for tick in g1.get_xticklabels():\n",
    "    tick.set_rotation(45)\n",
    "\n",
    "for tick in g2.get_xticklabels():\n",
    "    tick.set_rotation(45)\n",
    "\n",
    "for tick in g3.get_xticklabels():\n",
    "    tick.set_rotation(45)\n",
    "\n",
    "g1.set_xlabel('NY Production House Business Name')\n",
    "g2.set_xlabel('LA Production House Business Name')\n",
    "g3.set_xlabel('ATL Production House Business Name');"
   ]
  },
  {
   "cell_type": "markdown",
   "metadata": {},
   "source": [
    "### Finding Errors with our Data\n",
    "- As we can see above, New York and Atlanta include several restaurants and food artisans.\n",
    "   - This is likely because 'production' can mean many things, and is not unique to film\n",
    "   - Other likely cause: Search is inclusive of all results that include 'house' e.g: 'house of ribs', disregarding 'production' all together\n",
    "   - Beyond that, the *most popular* places on Yelp would be restaurants due to the fact that:\n",
    "       - Yelp as a web directory for local businesses is primarily associated with restaurants\n",
    "       - Restaurants are an industry patronized by a majority of the population (pro-consumer)...\n",
    "       - ... while film production houses are industry-specific\n",
    "       \n"
   ]
  },
  {
   "cell_type": "code",
   "execution_count": 131,
   "metadata": {
    "scrolled": false
   },
   "outputs": [
    {
     "name": "stdout",
     "output_type": "stream",
     "text": [
      "🥳\n"
     ]
    },
    {
     "data": {
      "image/png": "[encoded data removed]",
      "text/plain": [
       "<Figure size 432x432 with 1 Axes>"
      ]
     },
     "metadata": {
      "needs_background": "light"
     },
     "output_type": "display_data"
    }
   ],
   "source": [
    "rating_price_title = 'Production Houses \\n Relationship Between Rating and Price'\n",
    "x_label = 'Rating'\n",
    "y_label = 'Price'\n",
    "width = .125\n",
    "\n",
    "x1 = df_prod_nyc['Rating']\n",
    "y1 = df_prod_nyc['Price']\n",
    "\n",
    "x2 = df_prod_la['Rating']\n",
    "y2 = df_prod_la['Price']\n",
    "\n",
    "x3 = df_prod_ga['Rating']\n",
    "y3 = df_prod_ga['Price']\n",
    "\n",
    "fig, ax = plt.subplots(figsize=(6,6))\n",
    "\n",
    "ax.set_xlabel(x_label)\n",
    "ax.set_ylabel(y_label);\n",
    "ax.set_xticks([1.0, 1.5, 2.0, 2.5, 3.0, 3.5, 4.0, 4.5, 5.0])\n",
    "\n",
    "ax.bar(x1-(width), y1, width, color=\"steelblue\", align='center')\n",
    "ax.bar(x2, y2, width, color=\"indianred\", align= 'center')\n",
    "ax.bar(x3+(width), y3, width, color=\"palegreen\", align= 'center')\n",
    "ax.set_title(rating_price_title)\n",
    "ax.set_facecolor(\"lavender\")\n",
    "\n",
    "ax.legend(['NYC', 'LA', 'ATL'])\n",
    "print('🥳')"
   ]
  },
  {
   "cell_type": "markdown",
   "metadata": {},
   "source": [
    "### Insights: "
   ]
  },
  {
   "cell_type": "markdown",
   "metadata": {},
   "source": [
    "Though not a great visualization, note what the above tells us about New York: <br> \n",
    "- that there are no low-rated production houses\n",
    "- in fact, the highest rated production houses seem to have the lowest price\n",
    "- this insight suggests that "
   ]
  },
  {
   "cell_type": "markdown",
   "metadata": {},
   "source": [
    "## Same Price / Rating compared to Review Count for each location"
   ]
  },
  {
   "cell_type": "code",
   "execution_count": null,
   "metadata": {},
   "outputs": [],
   "source": [
    "Price 2 / 4 - 5 rating"
   ]
  },
  {
   "cell_type": "code",
   "execution_count": null,
   "metadata": {},
   "outputs": [],
   "source": [
    "rating_price_title = 'Production Houses \\n Rating and Price'\n",
    "x_label = 'Rating'\n",
    "y_label = 'Price'\n",
    "width = .125\n",
    "\n",
    "x1 = df_prod_nyc['Rating']\n",
    "y1 = df_prod_nyc['Price']\n",
    "\n",
    "x2 = df_prod_la['Rating']\n",
    "y2 = df_prod_la['Price']\n",
    "\n",
    "x3 = df_prod_ga['Rating']\n",
    "y3 = df_prod_ga['Price']\n",
    "\n",
    "fig, ax = plt.subplots(figsize=(6,6))\n",
    "\n",
    "ax.set_xlabel(x_label)\n",
    "ax.set_ylabel(y_label);\n",
    "ax.set_xticks([1.0, 1.5, 2.0, 2.5, 3.0, 3.5, 4.0, 4.5, 5.0])\n",
    "\n",
    "ax.bar(x1-(width), y1, width, color=\"cyan\", align='center')\n",
    "ax.bar(x2, y2, width, color=\"yellow\", align= 'center')\n",
    "ax.bar(x3+(width), y3, width, color=\"magenta\", align= 'center')\n",
    "ax.set_title(rating_price_title)\n",
    "ax.set_facecolor(\"lavender\")\n",
    "\n",
    "ax.legend(['NYC', 'LA', 'ATL'])\n",
    "print('🥳')"
   ]
  },
  {
   "cell_type": "code",
   "execution_count": null,
   "metadata": {},
   "outputs": [],
   "source": []
  },
  {
   "cell_type": "code",
   "execution_count": null,
   "metadata": {},
   "outputs": [],
   "source": []
  },
  {
   "cell_type": "code",
   "execution_count": null,
   "metadata": {},
   "outputs": [],
   "source": []
  },
  {
   "cell_type": "code",
   "execution_count": null,
   "metadata": {},
   "outputs": [],
   "source": []
  },
  {
   "cell_type": "code",
   "execution_count": 141,
   "metadata": {},
   "outputs": [
    {
     "data": {
      "text/html": [
       "<div>\n",
       "<style scoped>\n",
       "    .dataframe tbody tr th:only-of-type {\n",
       "        vertical-align: middle;\n",
       "    }\n",
       "\n",
       "    .dataframe tbody tr th {\n",
       "        vertical-align: top;\n",
       "    }\n",
       "\n",
       "    .dataframe thead th {\n",
       "        text-align: right;\n",
       "    }\n",
       "</style>\n",
       "<table border=\"1\" class=\"dataframe\">\n",
       "  <thead>\n",
       "    <tr style=\"text-align: right;\">\n",
       "      <th></th>\n",
       "      <th>Price</th>\n",
       "      <th>Rating</th>\n",
       "    </tr>\n",
       "  </thead>\n",
       "  <tbody>\n",
       "    <tr>\n",
       "      <th>0</th>\n",
       "      <td>NaN</td>\n",
       "      <td>5.0</td>\n",
       "    </tr>\n",
       "    <tr>\n",
       "      <th>1</th>\n",
       "      <td>NaN</td>\n",
       "      <td>5.0</td>\n",
       "    </tr>\n",
       "    <tr>\n",
       "      <th>2</th>\n",
       "      <td>NaN</td>\n",
       "      <td>4.5</td>\n",
       "    </tr>\n",
       "    <tr>\n",
       "      <th>3</th>\n",
       "      <td>NaN</td>\n",
       "      <td>5.0</td>\n",
       "    </tr>\n",
       "    <tr>\n",
       "      <th>4</th>\n",
       "      <td>NaN</td>\n",
       "      <td>5.0</td>\n",
       "    </tr>\n",
       "    <tr>\n",
       "      <th>...</th>\n",
       "      <td>...</td>\n",
       "      <td>...</td>\n",
       "    </tr>\n",
       "    <tr>\n",
       "      <th>995</th>\n",
       "      <td>NaN</td>\n",
       "      <td>4.0</td>\n",
       "    </tr>\n",
       "    <tr>\n",
       "      <th>996</th>\n",
       "      <td>2.0</td>\n",
       "      <td>4.0</td>\n",
       "    </tr>\n",
       "    <tr>\n",
       "      <th>997</th>\n",
       "      <td>2.0</td>\n",
       "      <td>4.0</td>\n",
       "    </tr>\n",
       "    <tr>\n",
       "      <th>998</th>\n",
       "      <td>2.0</td>\n",
       "      <td>4.0</td>\n",
       "    </tr>\n",
       "    <tr>\n",
       "      <th>999</th>\n",
       "      <td>2.0</td>\n",
       "      <td>4.0</td>\n",
       "    </tr>\n",
       "  </tbody>\n",
       "</table>\n",
       "<p>1000 rows × 2 columns</p>\n",
       "</div>"
      ],
      "text/plain": [
       "     Price  Rating\n",
       "0      NaN     5.0\n",
       "1      NaN     5.0\n",
       "2      NaN     4.5\n",
       "3      NaN     5.0\n",
       "4      NaN     5.0\n",
       "..     ...     ...\n",
       "995    NaN     4.0\n",
       "996    2.0     4.0\n",
       "997    2.0     4.0\n",
       "998    2.0     4.0\n",
       "999    2.0     4.0\n",
       "\n",
       "[1000 rows x 2 columns]"
      ]
     },
     "execution_count": 141,
     "metadata": {},
     "output_type": "execute_result"
    }
   ],
   "source": [
    "df_prod_nyc[['Price', 'Rating']]"
   ]
  },
  {
   "cell_type": "code",
   "execution_count": null,
   "metadata": {},
   "outputs": [],
   "source": []
  },
  {
   "cell_type": "code",
   "execution_count": null,
   "metadata": {},
   "outputs": [],
   "source": []
  },
  {
   "cell_type": "code",
   "execution_count": null,
   "metadata": {},
   "outputs": [],
   "source": []
  },
  {
   "cell_type": "code",
   "execution_count": null,
   "metadata": {},
   "outputs": [],
   "source": []
  },
  {
   "cell_type": "code",
   "execution_count": 144,
   "metadata": {},
   "outputs": [
    {
     "data": {
      "text/html": [
       "<div>\n",
       "<style scoped>\n",
       "    .dataframe tbody tr th:only-of-type {\n",
       "        vertical-align: middle;\n",
       "    }\n",
       "\n",
       "    .dataframe tbody tr th {\n",
       "        vertical-align: top;\n",
       "    }\n",
       "\n",
       "    .dataframe thead th {\n",
       "        text-align: right;\n",
       "    }\n",
       "</style>\n",
       "<table border=\"1\" class=\"dataframe\">\n",
       "  <thead>\n",
       "    <tr style=\"text-align: right;\">\n",
       "      <th></th>\n",
       "      <th>Name</th>\n",
       "      <th>Address</th>\n",
       "      <th>City</th>\n",
       "      <th>Rating</th>\n",
       "      <th>Review Count</th>\n",
       "      <th>Coordinates</th>\n",
       "      <th>Price</th>\n",
       "    </tr>\n",
       "  </thead>\n",
       "  <tbody>\n",
       "    <tr>\n",
       "      <th>5</th>\n",
       "      <td>Chart House</td>\n",
       "      <td>['1700 Harbor Blvd', 'Weehawken, NJ 07086']</td>\n",
       "      <td>Weehawken</td>\n",
       "      <td>4.0</td>\n",
       "      <td>1526</td>\n",
       "      <td>{'latitude': 40.7607, 'longitude': -74.018038}</td>\n",
       "      <td>3.0</td>\n",
       "    </tr>\n",
       "    <tr>\n",
       "      <th>10</th>\n",
       "      <td>Del Frisco's Double Eagle Steakhouse</td>\n",
       "      <td>['1221 Ave Of The Americas', 'New York, NY 100...</td>\n",
       "      <td>New York</td>\n",
       "      <td>4.5</td>\n",
       "      <td>3028</td>\n",
       "      <td>{'latitude': 40.759412, 'longitude': -73.982221}</td>\n",
       "      <td>4.0</td>\n",
       "    </tr>\n",
       "    <tr>\n",
       "      <th>11</th>\n",
       "      <td>MAMA'S TOO!</td>\n",
       "      <td>['2750 Broadway', 'New York, NY 10025']</td>\n",
       "      <td>New York</td>\n",
       "      <td>3.5</td>\n",
       "      <td>404</td>\n",
       "      <td>{'latitude': 40.80084, 'longitude': -73.96766}</td>\n",
       "      <td>2.0</td>\n",
       "    </tr>\n",
       "    <tr>\n",
       "      <th>12</th>\n",
       "      <td>House of Yes</td>\n",
       "      <td>['2 Wyckoff Ave', 'Brooklyn, NY 11237']</td>\n",
       "      <td>Brooklyn</td>\n",
       "      <td>4.0</td>\n",
       "      <td>296</td>\n",
       "      <td>{'latitude': 40.70686, 'longitude': -73.92353}</td>\n",
       "      <td>1.0</td>\n",
       "    </tr>\n",
       "    <tr>\n",
       "      <th>17</th>\n",
       "      <td>The Stone House at Clove Lakes</td>\n",
       "      <td>['1150 Clove Rd', 'Staten Island, NY 10301']</td>\n",
       "      <td>Staten Island</td>\n",
       "      <td>3.5</td>\n",
       "      <td>222</td>\n",
       "      <td>{'latitude': 40.6179128, 'longitude': -74.1082...</td>\n",
       "      <td>3.0</td>\n",
       "    </tr>\n",
       "    <tr>\n",
       "      <th>...</th>\n",
       "      <td>...</td>\n",
       "      <td>...</td>\n",
       "      <td>...</td>\n",
       "      <td>...</td>\n",
       "      <td>...</td>\n",
       "      <td>...</td>\n",
       "      <td>...</td>\n",
       "    </tr>\n",
       "    <tr>\n",
       "      <th>992</th>\n",
       "      <td>Sinigual</td>\n",
       "      <td>['640 Third Ave', 'New York, NY 10017']</td>\n",
       "      <td>New York</td>\n",
       "      <td>3.5</td>\n",
       "      <td>873</td>\n",
       "      <td>{'latitude': 40.7503161990978, 'longitude': -7...</td>\n",
       "      <td>2.0</td>\n",
       "    </tr>\n",
       "    <tr>\n",
       "      <th>996</th>\n",
       "      <td>Bonafini</td>\n",
       "      <td>['663 Flatbush Ave', 'Brooklyn, NY 11225']</td>\n",
       "      <td>Brooklyn</td>\n",
       "      <td>4.0</td>\n",
       "      <td>363</td>\n",
       "      <td>{'latitude': 40.65699, 'longitude': -73.959912}</td>\n",
       "      <td>2.0</td>\n",
       "    </tr>\n",
       "    <tr>\n",
       "      <th>997</th>\n",
       "      <td>Izakaya MEW</td>\n",
       "      <td>['53 W 35th St', 'New York, NY 10001']</td>\n",
       "      <td>New York</td>\n",
       "      <td>4.0</td>\n",
       "      <td>2342</td>\n",
       "      <td>{'latitude': 40.750148, 'longitude': -73.98632...</td>\n",
       "      <td>2.0</td>\n",
       "    </tr>\n",
       "    <tr>\n",
       "      <th>998</th>\n",
       "      <td>Tavola</td>\n",
       "      <td>['488 9th Ave', 'New York, NY 10018']</td>\n",
       "      <td>New York</td>\n",
       "      <td>4.0</td>\n",
       "      <td>972</td>\n",
       "      <td>{'latitude': 40.755403, 'longitude': -73.994516}</td>\n",
       "      <td>2.0</td>\n",
       "    </tr>\n",
       "    <tr>\n",
       "      <th>999</th>\n",
       "      <td>Libertador Steakhouse - Brooklyn</td>\n",
       "      <td>['404 Henry St', 'Brooklyn, NY 11201']</td>\n",
       "      <td>Brooklyn</td>\n",
       "      <td>4.0</td>\n",
       "      <td>235</td>\n",
       "      <td>{'latitude': 40.6872890722053, 'longitude': -7...</td>\n",
       "      <td>2.0</td>\n",
       "    </tr>\n",
       "  </tbody>\n",
       "</table>\n",
       "<p>611 rows × 7 columns</p>\n",
       "</div>"
      ],
      "text/plain": [
       "                                     Name  \\\n",
       "5                             Chart House   \n",
       "10   Del Frisco's Double Eagle Steakhouse   \n",
       "11                            MAMA'S TOO!   \n",
       "12                           House of Yes   \n",
       "17         The Stone House at Clove Lakes   \n",
       "..                                    ...   \n",
       "992                              Sinigual   \n",
       "996                              Bonafini   \n",
       "997                           Izakaya MEW   \n",
       "998                                Tavola   \n",
       "999      Libertador Steakhouse - Brooklyn   \n",
       "\n",
       "                                               Address           City  Rating  \\\n",
       "5          ['1700 Harbor Blvd', 'Weehawken, NJ 07086']      Weehawken     4.0   \n",
       "10   ['1221 Ave Of The Americas', 'New York, NY 100...       New York     4.5   \n",
       "11             ['2750 Broadway', 'New York, NY 10025']       New York     3.5   \n",
       "12             ['2 Wyckoff Ave', 'Brooklyn, NY 11237']       Brooklyn     4.0   \n",
       "17        ['1150 Clove Rd', 'Staten Island, NY 10301']  Staten Island     3.5   \n",
       "..                                                 ...            ...     ...   \n",
       "992            ['640 Third Ave', 'New York, NY 10017']       New York     3.5   \n",
       "996         ['663 Flatbush Ave', 'Brooklyn, NY 11225']       Brooklyn     4.0   \n",
       "997             ['53 W 35th St', 'New York, NY 10001']       New York     4.0   \n",
       "998              ['488 9th Ave', 'New York, NY 10018']       New York     4.0   \n",
       "999             ['404 Henry St', 'Brooklyn, NY 11201']       Brooklyn     4.0   \n",
       "\n",
       "     Review Count                                        Coordinates  Price  \n",
       "5            1526     {'latitude': 40.7607, 'longitude': -74.018038}    3.0  \n",
       "10           3028   {'latitude': 40.759412, 'longitude': -73.982221}    4.0  \n",
       "11            404     {'latitude': 40.80084, 'longitude': -73.96766}    2.0  \n",
       "12            296     {'latitude': 40.70686, 'longitude': -73.92353}    1.0  \n",
       "17            222  {'latitude': 40.6179128, 'longitude': -74.1082...    3.0  \n",
       "..            ...                                                ...    ...  \n",
       "992           873  {'latitude': 40.7503161990978, 'longitude': -7...    2.0  \n",
       "996           363    {'latitude': 40.65699, 'longitude': -73.959912}    2.0  \n",
       "997          2342  {'latitude': 40.750148, 'longitude': -73.98632...    2.0  \n",
       "998           972   {'latitude': 40.755403, 'longitude': -73.994516}    2.0  \n",
       "999           235  {'latitude': 40.6872890722053, 'longitude': -7...    2.0  \n",
       "\n",
       "[611 rows x 7 columns]"
      ]
     },
     "execution_count": 144,
     "metadata": {},
     "output_type": "execute_result"
    }
   ],
   "source": [
    "df_prod_nyc.dropna()"
   ]
  },
  {
   "cell_type": "code",
   "execution_count": null,
   "metadata": {},
   "outputs": [],
   "source": []
  },
  {
   "cell_type": "code",
   "execution_count": 145,
   "metadata": {
    "scrolled": true
   },
   "outputs": [
    {
     "data": {
      "text/plain": [
       "<AxesSubplot:xlabel='Rating', ylabel='Price'>"
      ]
     },
     "execution_count": 145,
     "metadata": {},
     "output_type": "execute_result"
    },
    {
     "data": {
      "image/png": "[encoded data removed]",
      "text/plain": [
       "<Figure size 432x288 with 1 Axes>"
      ]
     },
     "metadata": {},
     "output_type": "display_data"
    }
   ],
   "source": [
    "sns.boxplot(x=\"Rating\", y=\"Price\", data=df_prod_nyc.dropna())\n",
    "# boxplot = sns.boxplot(data=df_prod_nyc[\"Price\"])\n",
    "\n",
    "\n",
    "# Sactter plot gitter(?) moves dots to be able to view (mpl)\n",
    "# make bubbles bigger for more total reviews"
   ]
  },
  {
   "cell_type": "code",
   "execution_count": 132,
   "metadata": {},
   "outputs": [
    {
     "ename": "ValueError",
     "evalue": "The truth value of a DataFrame is ambiguous. Use a.empty, a.bool(), a.item(), a.any() or a.all().",
     "output_type": "error",
     "traceback": [
      "\u001b[0;31m---------------------------------------------------------------------------\u001b[0m",
      "\u001b[0;31mValueError\u001b[0m                                Traceback (most recent call last)",
      "\u001b[0;32m<ipython-input-132-e3613bad2349>\u001b[0m in \u001b[0;36m<module>\u001b[0;34m\u001b[0m\n\u001b[1;32m      6\u001b[0m \u001b[0;34m\u001b[0m\u001b[0m\n\u001b[1;32m      7\u001b[0m \u001b[0;31m# Load the example planets dataset\u001b[0m\u001b[0;34m\u001b[0m\u001b[0;34m\u001b[0m\u001b[0;34m\u001b[0m\u001b[0m\n\u001b[0;32m----> 8\u001b[0;31m \u001b[0mplanets\u001b[0m \u001b[0;34m=\u001b[0m \u001b[0msns\u001b[0m\u001b[0;34m.\u001b[0m\u001b[0mload_dataset\u001b[0m\u001b[0;34m(\u001b[0m\u001b[0mdf_prod_nyc\u001b[0m\u001b[0;34m)\u001b[0m\u001b[0;34m\u001b[0m\u001b[0;34m\u001b[0m\u001b[0m\n\u001b[0m\u001b[1;32m      9\u001b[0m \u001b[0;34m\u001b[0m\u001b[0m\n\u001b[1;32m     10\u001b[0m \u001b[0;31m# Plot the orbital period with horizontal boxes\u001b[0m\u001b[0;34m\u001b[0m\u001b[0;34m\u001b[0m\u001b[0;34m\u001b[0m\u001b[0m\n",
      "\u001b[0;32m/opt/anaconda3/lib/python3.8/site-packages/seaborn/utils.py\u001b[0m in \u001b[0;36mload_dataset\u001b[0;34m(name, cache, data_home, **kws)\u001b[0m\n\u001b[1;32m    483\u001b[0m                                   os.path.basename(full_path))\n\u001b[1;32m    484\u001b[0m         \u001b[0;32mif\u001b[0m \u001b[0;32mnot\u001b[0m \u001b[0mos\u001b[0m\u001b[0;34m.\u001b[0m\u001b[0mpath\u001b[0m\u001b[0;34m.\u001b[0m\u001b[0mexists\u001b[0m\u001b[0;34m(\u001b[0m\u001b[0mcache_path\u001b[0m\u001b[0;34m)\u001b[0m\u001b[0;34m:\u001b[0m\u001b[0;34m\u001b[0m\u001b[0;34m\u001b[0m\u001b[0m\n\u001b[0;32m--> 485\u001b[0;31m             \u001b[0;32mif\u001b[0m \u001b[0mname\u001b[0m \u001b[0;32mnot\u001b[0m \u001b[0;32min\u001b[0m \u001b[0mget_dataset_names\u001b[0m\u001b[0;34m(\u001b[0m\u001b[0;34m)\u001b[0m\u001b[0;34m:\u001b[0m\u001b[0;34m\u001b[0m\u001b[0;34m\u001b[0m\u001b[0m\n\u001b[0m\u001b[1;32m    486\u001b[0m                 \u001b[0;32mraise\u001b[0m \u001b[0mValueError\u001b[0m\u001b[0;34m(\u001b[0m\u001b[0;34mf\"'{name}' is not one of the example datasets.\"\u001b[0m\u001b[0;34m)\u001b[0m\u001b[0;34m\u001b[0m\u001b[0;34m\u001b[0m\u001b[0m\n\u001b[1;32m    487\u001b[0m             \u001b[0murlretrieve\u001b[0m\u001b[0;34m(\u001b[0m\u001b[0mfull_path\u001b[0m\u001b[0;34m,\u001b[0m \u001b[0mcache_path\u001b[0m\u001b[0;34m)\u001b[0m\u001b[0;34m\u001b[0m\u001b[0;34m\u001b[0m\u001b[0m\n",
      "\u001b[0;32m/opt/anaconda3/lib/python3.8/site-packages/pandas/core/generic.py\u001b[0m in \u001b[0;36m__nonzero__\u001b[0;34m(self)\u001b[0m\n\u001b[1;32m   1327\u001b[0m \u001b[0;34m\u001b[0m\u001b[0m\n\u001b[1;32m   1328\u001b[0m     \u001b[0;32mdef\u001b[0m \u001b[0m__nonzero__\u001b[0m\u001b[0;34m(\u001b[0m\u001b[0mself\u001b[0m\u001b[0;34m)\u001b[0m\u001b[0;34m:\u001b[0m\u001b[0;34m\u001b[0m\u001b[0;34m\u001b[0m\u001b[0m\n\u001b[0;32m-> 1329\u001b[0;31m         raise ValueError(\n\u001b[0m\u001b[1;32m   1330\u001b[0m             \u001b[0;34mf\"The truth value of a {type(self).__name__} is ambiguous. \"\u001b[0m\u001b[0;34m\u001b[0m\u001b[0;34m\u001b[0m\u001b[0m\n\u001b[1;32m   1331\u001b[0m             \u001b[0;34m\"Use a.empty, a.bool(), a.item(), a.any() or a.all().\"\u001b[0m\u001b[0;34m\u001b[0m\u001b[0;34m\u001b[0m\u001b[0m\n",
      "\u001b[0;31mValueError\u001b[0m: The truth value of a DataFrame is ambiguous. Use a.empty, a.bool(), a.item(), a.any() or a.all()."
     ]
    },
    {
     "data": {
      "image/png": "[encoded data removed]",
      "text/plain": [
       "<Figure size 504x432 with 1 Axes>"
      ]
     },
     "metadata": {},
     "output_type": "display_data"
    }
   ],
   "source": [
    "sns.set_theme(style=\"ticks\")\n",
    "\n",
    "# Initialize the figure with a logarithmic x axis\n",
    "f, ax = plt.subplots(figsize=(7, 6))\n",
    "ax.set_xscale(\"log\")\n",
    "\n",
    "# Load the example planets dataset\n",
    "planets = sns.load_dataset(df_prod_nyc)\n",
    "\n",
    "# Plot the orbital period with horizontal boxes\n",
    "sns.boxplot(x=\"distance\", y=\"method\", data=planets,\n",
    "            whis=[0, 100], width=.6, palette=\"vlag\")\n",
    "\n",
    "# Add in points to show each observation\n",
    "sns.stripplot(x=\"distance\", y=\"method\", data=planets,\n",
    "              size=4, color=\".3\", linewidth=0)\n",
    "\n",
    "# Tweak the visual presentation\n",
    "ax.xaxis.grid(True)\n",
    "ax.set(ylabel=\"\")\n",
    "sns.despine(trim=True, left=True)"
   ]
  },
  {
   "cell_type": "code",
   "execution_count": 118,
   "metadata": {},
   "outputs": [
    {
     "data": {
      "text/plain": [
       "4.186"
      ]
     },
     "execution_count": 118,
     "metadata": {},
     "output_type": "execute_result"
    }
   ],
   "source": [
    "df_prod_nyc['Rating'].mean()"
   ]
  },
  {
   "cell_type": "code",
   "execution_count": 120,
   "metadata": {},
   "outputs": [
    {
     "data": {
      "text/plain": [
       "4.0"
      ]
     },
     "execution_count": 120,
     "metadata": {},
     "output_type": "execute_result"
    }
   ],
   "source": [
    "df_prod_nyc['Rating'].median()"
   ]
  },
  {
   "cell_type": "code",
   "execution_count": 119,
   "metadata": {},
   "outputs": [
    {
     "data": {
      "text/plain": [
       "2.4009819967266774"
      ]
     },
     "execution_count": 119,
     "metadata": {},
     "output_type": "execute_result"
    }
   ],
   "source": [
    "df_prod_nyc['Price'].mean()"
   ]
  },
  {
   "cell_type": "code",
   "execution_count": 121,
   "metadata": {},
   "outputs": [
    {
     "data": {
      "text/plain": [
       "2.0"
      ]
     },
     "execution_count": 121,
     "metadata": {},
     "output_type": "execute_result"
    }
   ],
   "source": [
    "df_prod_nyc['Price'].median()"
   ]
  },
  {
   "cell_type": "code",
   "execution_count": null,
   "metadata": {},
   "outputs": [],
   "source": []
  },
  {
   "cell_type": "code",
   "execution_count": null,
   "metadata": {},
   "outputs": [],
   "source": []
  },
  {
   "cell_type": "code",
   "execution_count": null,
   "metadata": {},
   "outputs": [],
   "source": []
  },
  {
   "cell_type": "code",
   "execution_count": null,
   "metadata": {},
   "outputs": [],
   "source": []
  },
  {
   "cell_type": "code",
   "execution_count": null,
   "metadata": {},
   "outputs": [],
   "source": []
  },
  {
   "cell_type": "code",
   "execution_count": null,
   "metadata": {},
   "outputs": [],
   "source": []
  },
  {
   "cell_type": "code",
   "execution_count": 31,
   "metadata": {},
   "outputs": [
    {
     "data": {
      "image/png": "[encoded data removed]",
      "text/plain": [
       "<Figure size 576x288 with 1 Axes>"
      ]
     },
     "metadata": {
      "needs_background": "light"
     },
     "output_type": "display_data"
    }
   ],
   "source": [
    "scatter_plot_title = 'Relationship Between Price and Review Count'\n",
    "x_label = 'Review Count'\n",
    "y_label = 'Price'\n",
    "# your code here\n",
    "tackle_figure, ax = plt.subplots(figsize=(8, 4))\n",
    "\n",
    "\n",
    "\n",
    "# y1 = df_prod_nyc['Price'].value_counts().sort_index()\n",
    "# y2 = df_prod_la['Price'].value_counts()\n",
    "# x1 = df_prod_nyc['Price'].value_counts().sort_index()\n",
    "# x2 = df_prod_la['Review Count']\n",
    "ax.set_title(scatter_plot_title) #difficulty setting title is because ncols sets an array of 2, but we only have 1 title\n",
    "\n",
    "ax.bar(x1, y1, color='cyan')\n",
    "ax.bar(x2, y2, color='red');"
   ]
  },
  {
   "cell_type": "code",
   "execution_count": 120,
   "metadata": {
    "collapsed": true
   },
   "outputs": [
    {
     "ename": "ValueError",
     "evalue": "shape mismatch: objects cannot be broadcast to a single shape",
     "output_type": "error",
     "traceback": [
      "\u001b[0;31m---------------------------------------------------------------------------\u001b[0m",
      "\u001b[0;31mValueError\u001b[0m                                Traceback (most recent call last)",
      "\u001b[0;32m<ipython-input-120-0d985360d041>\u001b[0m in \u001b[0;36m<module>\u001b[0;34m\u001b[0m\n\u001b[1;32m      6\u001b[0m \u001b[0mfig\u001b[0m \u001b[0;34m=\u001b[0m \u001b[0mplt\u001b[0m\u001b[0;34m.\u001b[0m\u001b[0mfigure\u001b[0m\u001b[0;34m(\u001b[0m\u001b[0;34m)\u001b[0m\u001b[0;34m\u001b[0m\u001b[0;34m\u001b[0m\u001b[0m\n\u001b[1;32m      7\u001b[0m \u001b[0max\u001b[0m \u001b[0;34m=\u001b[0m \u001b[0mfig\u001b[0m\u001b[0;34m.\u001b[0m\u001b[0madd_subplot\u001b[0m\u001b[0;34m(\u001b[0m\u001b[0;36m111\u001b[0m\u001b[0;34m)\u001b[0m\u001b[0;34m\u001b[0m\u001b[0;34m\u001b[0m\u001b[0m\n\u001b[0;32m----> 8\u001b[0;31m \u001b[0mrects1\u001b[0m \u001b[0;34m=\u001b[0m \u001b[0max\u001b[0m\u001b[0;34m.\u001b[0m\u001b[0mbar\u001b[0m\u001b[0;34m(\u001b[0m\u001b[0mind\u001b[0m\u001b[0;34m,\u001b[0m \u001b[0mx1\u001b[0m\u001b[0;34m,\u001b[0m \u001b[0mwidth\u001b[0m\u001b[0;34m,\u001b[0m \u001b[0mcolor\u001b[0m\u001b[0;34m=\u001b[0m\u001b[0;34m'royalblue'\u001b[0m\u001b[0;34m)\u001b[0m \u001b[0;31m# yerr=menStd)\u001b[0m\u001b[0;34m\u001b[0m\u001b[0;34m\u001b[0m\u001b[0m\n\u001b[0m\u001b[1;32m      9\u001b[0m \u001b[0mwomenMeans\u001b[0m \u001b[0;34m=\u001b[0m \u001b[0;34m(\u001b[0m\u001b[0;36m25\u001b[0m\u001b[0;34m,\u001b[0m \u001b[0;36m32\u001b[0m\u001b[0;34m,\u001b[0m \u001b[0;36m34\u001b[0m\u001b[0;34m,\u001b[0m \u001b[0;36m20\u001b[0m\u001b[0;34m,\u001b[0m \u001b[0;36m25\u001b[0m\u001b[0;34m)\u001b[0m\u001b[0;34m\u001b[0m\u001b[0;34m\u001b[0m\u001b[0m\n\u001b[1;32m     10\u001b[0m \u001b[0mwomenStd\u001b[0m \u001b[0;34m=\u001b[0m   \u001b[0;34m(\u001b[0m\u001b[0;36m3\u001b[0m\u001b[0;34m,\u001b[0m \u001b[0;36m5\u001b[0m\u001b[0;34m,\u001b[0m \u001b[0;36m2\u001b[0m\u001b[0;34m,\u001b[0m \u001b[0;36m3\u001b[0m\u001b[0;34m,\u001b[0m \u001b[0;36m3\u001b[0m\u001b[0;34m)\u001b[0m\u001b[0;34m\u001b[0m\u001b[0;34m\u001b[0m\u001b[0m\n",
      "\u001b[0;32m~/opt/anaconda3/envs/learn-env/lib/python3.8/site-packages/matplotlib/__init__.py\u001b[0m in \u001b[0;36minner\u001b[0;34m(ax, data, *args, **kwargs)\u001b[0m\n\u001b[1;32m   1436\u001b[0m     \u001b[0;32mdef\u001b[0m \u001b[0minner\u001b[0m\u001b[0;34m(\u001b[0m\u001b[0max\u001b[0m\u001b[0;34m,\u001b[0m \u001b[0;34m*\u001b[0m\u001b[0margs\u001b[0m\u001b[0;34m,\u001b[0m \u001b[0mdata\u001b[0m\u001b[0;34m=\u001b[0m\u001b[0;32mNone\u001b[0m\u001b[0;34m,\u001b[0m \u001b[0;34m**\u001b[0m\u001b[0mkwargs\u001b[0m\u001b[0;34m)\u001b[0m\u001b[0;34m:\u001b[0m\u001b[0;34m\u001b[0m\u001b[0;34m\u001b[0m\u001b[0m\n\u001b[1;32m   1437\u001b[0m         \u001b[0;32mif\u001b[0m \u001b[0mdata\u001b[0m \u001b[0;32mis\u001b[0m \u001b[0;32mNone\u001b[0m\u001b[0;34m:\u001b[0m\u001b[0;34m\u001b[0m\u001b[0;34m\u001b[0m\u001b[0m\n\u001b[0;32m-> 1438\u001b[0;31m             \u001b[0;32mreturn\u001b[0m \u001b[0mfunc\u001b[0m\u001b[0;34m(\u001b[0m\u001b[0max\u001b[0m\u001b[0;34m,\u001b[0m \u001b[0;34m*\u001b[0m\u001b[0mmap\u001b[0m\u001b[0;34m(\u001b[0m\u001b[0msanitize_sequence\u001b[0m\u001b[0;34m,\u001b[0m \u001b[0margs\u001b[0m\u001b[0;34m)\u001b[0m\u001b[0;34m,\u001b[0m \u001b[0;34m**\u001b[0m\u001b[0mkwargs\u001b[0m\u001b[0;34m)\u001b[0m\u001b[0;34m\u001b[0m\u001b[0;34m\u001b[0m\u001b[0m\n\u001b[0m\u001b[1;32m   1439\u001b[0m \u001b[0;34m\u001b[0m\u001b[0m\n\u001b[1;32m   1440\u001b[0m         \u001b[0mbound\u001b[0m \u001b[0;34m=\u001b[0m \u001b[0mnew_sig\u001b[0m\u001b[0;34m.\u001b[0m\u001b[0mbind\u001b[0m\u001b[0;34m(\u001b[0m\u001b[0max\u001b[0m\u001b[0;34m,\u001b[0m \u001b[0;34m*\u001b[0m\u001b[0margs\u001b[0m\u001b[0;34m,\u001b[0m \u001b[0;34m**\u001b[0m\u001b[0mkwargs\u001b[0m\u001b[0;34m)\u001b[0m\u001b[0;34m\u001b[0m\u001b[0;34m\u001b[0m\u001b[0m\n",
      "\u001b[0;32m~/opt/anaconda3/envs/learn-env/lib/python3.8/site-packages/matplotlib/axes/_axes.py\u001b[0m in \u001b[0;36mbar\u001b[0;34m(self, x, height, width, bottom, align, **kwargs)\u001b[0m\n\u001b[1;32m   2428\u001b[0m                 \u001b[0myerr\u001b[0m \u001b[0;34m=\u001b[0m \u001b[0mself\u001b[0m\u001b[0;34m.\u001b[0m\u001b[0m_convert_dx\u001b[0m\u001b[0;34m(\u001b[0m\u001b[0myerr\u001b[0m\u001b[0;34m,\u001b[0m \u001b[0my0\u001b[0m\u001b[0;34m,\u001b[0m \u001b[0my\u001b[0m\u001b[0;34m,\u001b[0m \u001b[0mself\u001b[0m\u001b[0;34m.\u001b[0m\u001b[0mconvert_yunits\u001b[0m\u001b[0;34m)\u001b[0m\u001b[0;34m\u001b[0m\u001b[0;34m\u001b[0m\u001b[0m\n\u001b[1;32m   2429\u001b[0m \u001b[0;34m\u001b[0m\u001b[0m\n\u001b[0;32m-> 2430\u001b[0;31m         x, height, width, y, linewidth = np.broadcast_arrays(\n\u001b[0m\u001b[1;32m   2431\u001b[0m             \u001b[0;31m# Make args iterable too.\u001b[0m\u001b[0;34m\u001b[0m\u001b[0;34m\u001b[0m\u001b[0;34m\u001b[0m\u001b[0m\n\u001b[1;32m   2432\u001b[0m             np.atleast_1d(x), height, width, y, linewidth)\n",
      "\u001b[0;32m<__array_function__ internals>\u001b[0m in \u001b[0;36mbroadcast_arrays\u001b[0;34m(*args, **kwargs)\u001b[0m\n",
      "\u001b[0;32m~/opt/anaconda3/envs/learn-env/lib/python3.8/site-packages/numpy/lib/stride_tricks.py\u001b[0m in \u001b[0;36mbroadcast_arrays\u001b[0;34m(*args, **kwargs)\u001b[0m\n\u001b[1;32m    262\u001b[0m     \u001b[0margs\u001b[0m \u001b[0;34m=\u001b[0m \u001b[0;34m[\u001b[0m\u001b[0mnp\u001b[0m\u001b[0;34m.\u001b[0m\u001b[0marray\u001b[0m\u001b[0;34m(\u001b[0m\u001b[0m_m\u001b[0m\u001b[0;34m,\u001b[0m \u001b[0mcopy\u001b[0m\u001b[0;34m=\u001b[0m\u001b[0;32mFalse\u001b[0m\u001b[0;34m,\u001b[0m \u001b[0msubok\u001b[0m\u001b[0;34m=\u001b[0m\u001b[0msubok\u001b[0m\u001b[0;34m)\u001b[0m \u001b[0;32mfor\u001b[0m \u001b[0m_m\u001b[0m \u001b[0;32min\u001b[0m \u001b[0margs\u001b[0m\u001b[0;34m]\u001b[0m\u001b[0;34m\u001b[0m\u001b[0;34m\u001b[0m\u001b[0m\n\u001b[1;32m    263\u001b[0m \u001b[0;34m\u001b[0m\u001b[0m\n\u001b[0;32m--> 264\u001b[0;31m     \u001b[0mshape\u001b[0m \u001b[0;34m=\u001b[0m \u001b[0m_broadcast_shape\u001b[0m\u001b[0;34m(\u001b[0m\u001b[0;34m*\u001b[0m\u001b[0margs\u001b[0m\u001b[0;34m)\u001b[0m\u001b[0;34m\u001b[0m\u001b[0;34m\u001b[0m\u001b[0m\n\u001b[0m\u001b[1;32m    265\u001b[0m \u001b[0;34m\u001b[0m\u001b[0m\n\u001b[1;32m    266\u001b[0m     \u001b[0;32mif\u001b[0m \u001b[0mall\u001b[0m\u001b[0;34m(\u001b[0m\u001b[0marray\u001b[0m\u001b[0;34m.\u001b[0m\u001b[0mshape\u001b[0m \u001b[0;34m==\u001b[0m \u001b[0mshape\u001b[0m \u001b[0;32mfor\u001b[0m \u001b[0marray\u001b[0m \u001b[0;32min\u001b[0m \u001b[0margs\u001b[0m\u001b[0;34m)\u001b[0m\u001b[0;34m:\u001b[0m\u001b[0;34m\u001b[0m\u001b[0;34m\u001b[0m\u001b[0m\n",
      "\u001b[0;32m~/opt/anaconda3/envs/learn-env/lib/python3.8/site-packages/numpy/lib/stride_tricks.py\u001b[0m in \u001b[0;36m_broadcast_shape\u001b[0;34m(*args)\u001b[0m\n\u001b[1;32m    189\u001b[0m     \u001b[0;31m# use the old-iterator because np.nditer does not handle size 0 arrays\u001b[0m\u001b[0;34m\u001b[0m\u001b[0;34m\u001b[0m\u001b[0;34m\u001b[0m\u001b[0m\n\u001b[1;32m    190\u001b[0m     \u001b[0;31m# consistently\u001b[0m\u001b[0;34m\u001b[0m\u001b[0;34m\u001b[0m\u001b[0;34m\u001b[0m\u001b[0m\n\u001b[0;32m--> 191\u001b[0;31m     \u001b[0mb\u001b[0m \u001b[0;34m=\u001b[0m \u001b[0mnp\u001b[0m\u001b[0;34m.\u001b[0m\u001b[0mbroadcast\u001b[0m\u001b[0;34m(\u001b[0m\u001b[0;34m*\u001b[0m\u001b[0margs\u001b[0m\u001b[0;34m[\u001b[0m\u001b[0;34m:\u001b[0m\u001b[0;36m32\u001b[0m\u001b[0;34m]\u001b[0m\u001b[0;34m)\u001b[0m\u001b[0;34m\u001b[0m\u001b[0;34m\u001b[0m\u001b[0m\n\u001b[0m\u001b[1;32m    192\u001b[0m     \u001b[0;31m# unfortunately, it cannot handle 32 or more arguments directly\u001b[0m\u001b[0;34m\u001b[0m\u001b[0;34m\u001b[0m\u001b[0;34m\u001b[0m\u001b[0m\n\u001b[1;32m    193\u001b[0m     \u001b[0;32mfor\u001b[0m \u001b[0mpos\u001b[0m \u001b[0;32min\u001b[0m \u001b[0mrange\u001b[0m\u001b[0;34m(\u001b[0m\u001b[0;36m32\u001b[0m\u001b[0;34m,\u001b[0m \u001b[0mlen\u001b[0m\u001b[0;34m(\u001b[0m\u001b[0margs\u001b[0m\u001b[0;34m)\u001b[0m\u001b[0;34m,\u001b[0m \u001b[0;36m31\u001b[0m\u001b[0;34m)\u001b[0m\u001b[0;34m:\u001b[0m\u001b[0;34m\u001b[0m\u001b[0;34m\u001b[0m\u001b[0m\n",
      "\u001b[0;31mValueError\u001b[0m: shape mismatch: objects cannot be broadcast to a single shape"
     ]
    },
    {
     "data": {
      "image/png": "[encoded data removed]",
      "text/plain": [
       "<Figure size 432x288 with 1 Axes>"
      ]
     },
     "metadata": {
      "needs_background": "light"
     },
     "output_type": "display_data"
    }
   ],
   "source": [
    "N = 2\n",
    "menMeans = (20, 35, 30, 35, 27)\n",
    "menStd =   (2, 3, 4, 1, 2)\n",
    "ind = np.arange(N)  # the x locations for the groups\n",
    "width = 0.35       # the width of the bars\n",
    "fig = plt.figure()\n",
    "ax = fig.add_subplot(111)\n",
    "rects1 = ax.bar(ind, x1, width, color='royalblue') # yerr=menStd)\n",
    "womenMeans = (25, 32, 34, 20, 25)\n",
    "womenStd =   (3, 5, 2, 3, 3)\n",
    "rects2 = ax.bar(ind+width, x2, width, color='seagreen') # yerr=womenStd\n",
    "# add some\n",
    "# ax.set_xticks(ind + width / 2)\n",
    "# ax.set_xticklabels( ('G1', 'G2', 'G3', 'G4', 'G5') )\n",
    "ax.legend( (rects1[0], rects2[0]), ('NYC', 'NYC') )\n",
    "plt.show()"
   ]
  },
  {
   "cell_type": "code",
   "execution_count": 123,
   "metadata": {},
   "outputs": [
    {
     "name": "stderr",
     "output_type": "stream",
     "text": [
      "/Users/jakeash/opt/anaconda3/envs/learn-env/lib/python3.8/site-packages/seaborn/_decorators.py:36: FutureWarning: Pass the following variables as keyword args: x, y. From version 0.12, the only valid positional argument will be `data`, and passing other arguments without an explicit keyword will result in an error or misinterpretation.\n",
      "  warnings.warn(\n"
     ]
    },
    {
     "data": {
      "text/plain": [
       "<AxesSubplot:ylabel='Price'>"
      ]
     },
     "execution_count": 123,
     "metadata": {},
     "output_type": "execute_result"
    },
    {
     "data": {
      "image/png": "[encoded data removed]",
      "text/plain": [
       "<Figure size 432x288 with 1 Axes>"
      ]
     },
     "metadata": {
      "needs_background": "light"
     },
     "output_type": "display_data"
    }
   ],
   "source": [
    "sns.barplot(x1,y1)"
   ]
  },
  {
   "cell_type": "code",
   "execution_count": null,
   "metadata": {},
   "outputs": [],
   "source": []
  }
 ],
 "metadata": {
  "kernelspec": {
   "display_name": "Python 3",
   "language": "python",
   "name": "python3"
  },
  "language_info": {
   "codemirror_mode": {
    "name": "ipython",
    "version": 3
   },
   "file_extension": ".py",
   "mimetype": "text/x-python",
   "name": "python",
   "nbconvert_exporter": "python",
   "pygments_lexer": "ipython3",
   "version": "3.8.5"
  }
 },
 "nbformat": 4,
 "nbformat_minor": 4
}
