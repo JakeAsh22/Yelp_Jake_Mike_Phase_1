{
 "cells": [
  {
   "cell_type": "markdown",
   "metadata": {},
   "source": [
    "<head><h1 align=\"center\">\n",
    "Film Production Industry\n",
    "</h1></head>"
   ]
  },
  {
   "cell_type": "markdown",
   "metadata": {},
   "source": [
    "<head><h3 align=\"center\">Analysis with Insights Provided by the Yelp API</h3></head>"
   ]
  },
  {
   "cell_type": "markdown",
   "metadata": {},
   "source": [
    "For over a centery, film, television & media production was ubiquitous in, and almost exclusive to, two major US metropolises: Los Angeles and New York. Over the past several decades, there have been many developments that have cracked this exclusivity: The advent of the internet has increased access to entertainment, while simultaneously inspiring a new generation of creators. Other advances in technology have allowed film-industry-standard production quality to be capable with devices that are commonplace with today's consumer. Further, state governments have begun competing to attract business with tax credits designed to lure productions to within their borders, where no production industry existed before. <br><br>\n",
    "\n",
    "With the help of business insights provided by the Yelp API, we will take a glimpse at this industry, comparing companies that offer production services in a few locations. Out goal is to find what business opportunities appear to be present within this industry, and ultimately, develop a business with what we find.<br><br>\n",
    "\n",
    "If we could create the perfect business, it would be popular and loved to the point of being a house-hold brand, which everyone finds welcome in their lives. The only way to do this is to ensure that the service that we provide is so excellent, that our customers love us with no reservation for the cost, because we would be providing something that is incredibly valuable."
   ]
  },
  {
   "cell_type": "code",
   "execution_count": 1,
   "metadata": {},
   "outputs": [],
   "source": [
    "import json # Jake, can we get rid of import json and sys for this notebook?\n",
    "import sys\n",
    "import numpy as np\n",
    "import pandas as pd\n",
    "import csv\n",
    "import seaborn as sns\n",
    "import matplotlib.pyplot as plt\n",
    "\n",
    "%matplotlib inline"
   ]
  },
  {
   "cell_type": "markdown",
   "metadata": {},
   "source": [
    "#### For visitors:"
   ]
  },
  {
   "cell_type": "markdown",
   "metadata": {},
   "source": [
    "- Please import the packages above to run the code throughout the page below.\n",
    "- All of the functions we developed to pull lots of data from the Yelp API are housed in the ```/code``` folder in the main repository. \n",
    "- If you would like to use our functions, you will need your own Yelp API developer client ID and API key, which you may attain [here!](https://www.yelp.com/developers/documentation/v3/get_started)"
   ]
  },
  {
   "cell_type": "markdown",
   "metadata": {},
   "source": [
    "## Our Method"
   ]
  },
  {
   "cell_type": "markdown",
   "metadata": {},
   "source": [
    "We have used our ```yelp_call(_)```, ```parse_data(_)```, and ```call_1000(_)``` functions to fetch all of our business data — \n",
    "- They *call* the Yelp API using user input for ```term```, ```location```, and ```categories```. \n",
    "- From there, they *parse the data* in to a ```python``` list of tuples, with each tuple containing individual business name, address, rating, review count, price, and some other information that can be received by changing the parameters in ```url_params```. \n",
    "- Finally, we use the third function to circumvent the necessity to manually offset our call each time, as the Yelp API only allows a maximum limit of 50 businesses returned with each call.\n",
    "  - After gathering the data from the call, the last function also writes the collected data to a csv in the ```/database``` folder. The file is automatically named using the ```term``` and ```location``` variables which were input by the user at the beginning.\n",
    "\n",
    "We have other functions that we used to call the Yelp API to gather example reviews for each business collected by the above method, which we will come back to later, but for now..."
   ]
  },
  {
   "cell_type": "markdown",
   "metadata": {},
   "source": [
    "## *On to our Analysis!*"
   ]
  },
  {
   "cell_type": "markdown",
   "metadata": {},
   "source": [
    "Lets read our film production data in to this document."
   ]
  },
  {
   "cell_type": "code",
   "execution_count": 2,
   "metadata": {},
   "outputs": [],
   "source": [
    "df_fp_ny = pd.read_csv('database/Film Production_NYC_database.csv') \n",
    "df_fp_la = pd.read_csv('database/Film Production_Los Angeles_database.csv')\n",
    "df_fp_ga = pd.read_csv('database/Film Production_Atlanta_database.csv')"
   ]
  },
  {
   "cell_type": "code",
   "execution_count": 3,
   "metadata": {},
   "outputs": [
    {
     "data": {
      "text/html": [
       "<div>\n",
       "<style scoped>\n",
       "    .dataframe tbody tr th:only-of-type {\n",
       "        vertical-align: middle;\n",
       "    }\n",
       "\n",
       "    .dataframe tbody tr th {\n",
       "        vertical-align: top;\n",
       "    }\n",
       "\n",
       "    .dataframe thead th {\n",
       "        text-align: right;\n",
       "    }\n",
       "</style>\n",
       "<table border=\"1\" class=\"dataframe\">\n",
       "  <thead>\n",
       "    <tr style=\"text-align: right;\">\n",
       "      <th></th>\n",
       "      <th>Name</th>\n",
       "      <th>Address</th>\n",
       "      <th>City</th>\n",
       "      <th>Rating</th>\n",
       "      <th>Review Count</th>\n",
       "      <th>Coordinates</th>\n",
       "      <th>Price</th>\n",
       "      <th>Id</th>\n",
       "      <th>Categories</th>\n",
       "    </tr>\n",
       "  </thead>\n",
       "  <tbody>\n",
       "    <tr>\n",
       "      <th>997</th>\n",
       "      <td>FunLovinCamera</td>\n",
       "      <td>['Glendale, CA 91206']</td>\n",
       "      <td>Glendale</td>\n",
       "      <td>5.0</td>\n",
       "      <td>119</td>\n",
       "      <td>{'latitude': 34.1660842895508, 'longitude': -1...</td>\n",
       "      <td>NaN</td>\n",
       "      <td>HT837BNGI49eAhc1gcGiVg</td>\n",
       "      <td>[{'alias': 'eventphotography', 'title': 'Event...</td>\n",
       "    </tr>\n",
       "    <tr>\n",
       "      <th>998</th>\n",
       "      <td>Printefex</td>\n",
       "      <td>['456 Foothill Blvd', 'Ste B', 'La Canada Flin...</td>\n",
       "      <td>La Canada Flintridge</td>\n",
       "      <td>4.5</td>\n",
       "      <td>100</td>\n",
       "      <td>{'latitude': 34.19874, 'longitude': -118.18839}</td>\n",
       "      <td>NaN</td>\n",
       "      <td>t_eid75T-RVOz2GBTqXKiw</td>\n",
       "      <td>[{'alias': 'copyshops', 'title': 'Printing Ser...</td>\n",
       "    </tr>\n",
       "    <tr>\n",
       "      <th>999</th>\n",
       "      <td>Rebecca Blue Media</td>\n",
       "      <td>['Rancho Cucamonga, CA 91730']</td>\n",
       "      <td>Rancho Cucamonga</td>\n",
       "      <td>4.5</td>\n",
       "      <td>16</td>\n",
       "      <td>{'latitude': 34.10246, 'longitude': -117.58408}</td>\n",
       "      <td>NaN</td>\n",
       "      <td>OxuwVhB0RM9wxVkMVgHZLg</td>\n",
       "      <td>[{'alias': 'sessionphotography', 'title': 'Ses...</td>\n",
       "    </tr>\n",
       "  </tbody>\n",
       "</table>\n",
       "</div>"
      ],
      "text/plain": [
       "                   Name                                            Address  \\\n",
       "997      FunLovinCamera                             ['Glendale, CA 91206']   \n",
       "998           Printefex  ['456 Foothill Blvd', 'Ste B', 'La Canada Flin...   \n",
       "999  Rebecca Blue Media                     ['Rancho Cucamonga, CA 91730']   \n",
       "\n",
       "                     City  Rating  Review Count  \\\n",
       "997              Glendale     5.0           119   \n",
       "998  La Canada Flintridge     4.5           100   \n",
       "999      Rancho Cucamonga     4.5            16   \n",
       "\n",
       "                                           Coordinates  Price  \\\n",
       "997  {'latitude': 34.1660842895508, 'longitude': -1...    NaN   \n",
       "998    {'latitude': 34.19874, 'longitude': -118.18839}    NaN   \n",
       "999    {'latitude': 34.10246, 'longitude': -117.58408}    NaN   \n",
       "\n",
       "                         Id                                         Categories  \n",
       "997  HT837BNGI49eAhc1gcGiVg  [{'alias': 'eventphotography', 'title': 'Event...  \n",
       "998  t_eid75T-RVOz2GBTqXKiw  [{'alias': 'copyshops', 'title': 'Printing Ser...  \n",
       "999  OxuwVhB0RM9wxVkMVgHZLg  [{'alias': 'sessionphotography', 'title': 'Ses...  "
      ]
     },
     "execution_count": 3,
     "metadata": {},
     "output_type": "execute_result"
    }
   ],
   "source": [
    "df_fp_la.tail(3)"
   ]
  },
  {
   "cell_type": "markdown",
   "metadata": {},
   "source": [
    "Here is a sample of one of our dataframes. As you can see we have information about the business name, address, city, coordinates just in case we want them. We also have Yelp-specific data, such as their rating, review count, and price bracket listed on the site, as well as the business ID to identify each company on yelp, and categories. \n",
    "\n",
    "We can also notice that not *all* results are exactly what we are looking for. The second-to-last result, Printefex, appears to be a printing company that is more in the industry of office services, rather than production services. Knowing this, we will clean our data to return only appropriate results."
   ]
  },
  {
   "cell_type": "markdown",
   "metadata": {},
   "source": [
    "### Initial Takeaway"
   ]
  },
  {
   "cell_type": "markdown",
   "metadata": {},
   "source": [
    "Several fields are less useful for quantitative analysis, but help with identifying the business and seeing how Yelp manages their profiles.\n",
    "\n",
    "**Location information** may be useful at some points after looking at the statistical data. Between regions, we can group our insights by region and compare how one compares to the others. Locally, we can compare businesses and see how proximity to other businesses, proximity to the population of consumers, and geographical qualities make an impact. \n",
    "\n",
    "For **quantitative analysis**, we have three primary areas to compare among businesses:\n",
    "- **Price** — a measure of how expensive the business's products or services are, in the eyes of the Yelp reviewer/customer.\n",
    "- **Review Count** — a measure of how *popular* the business is.\n",
    "- **Rating** — a measure of how *beloved* the business is."
   ]
  },
  {
   "cell_type": "markdown",
   "metadata": {},
   "source": [
    "#### Introductory Analysis of Descriptive Stats:"
   ]
  },
  {
   "cell_type": "code",
   "execution_count": 7,
   "metadata": {
    "scrolled": false
   },
   "outputs": [
    {
     "data": {
      "text/html": [
       "<div>\n",
       "<style scoped>\n",
       "    .dataframe tbody tr th:only-of-type {\n",
       "        vertical-align: middle;\n",
       "    }\n",
       "\n",
       "    .dataframe tbody tr th {\n",
       "        vertical-align: top;\n",
       "    }\n",
       "\n",
       "    .dataframe thead th {\n",
       "        text-align: right;\n",
       "    }\n",
       "</style>\n",
       "<table border=\"1\" class=\"dataframe\">\n",
       "  <thead>\n",
       "    <tr style=\"text-align: right;\">\n",
       "      <th></th>\n",
       "      <th>Rating</th>\n",
       "      <th>Review Count</th>\n",
       "      <th>Price</th>\n",
       "    </tr>\n",
       "  </thead>\n",
       "  <tbody>\n",
       "    <tr>\n",
       "      <th>count</th>\n",
       "      <td>297.000000</td>\n",
       "      <td>297.000000</td>\n",
       "      <td>11.000000</td>\n",
       "    </tr>\n",
       "    <tr>\n",
       "      <th>mean</th>\n",
       "      <td>4.301347</td>\n",
       "      <td>20.026936</td>\n",
       "      <td>2.363636</td>\n",
       "    </tr>\n",
       "    <tr>\n",
       "      <th>std</th>\n",
       "      <td>1.146793</td>\n",
       "      <td>72.959582</td>\n",
       "      <td>0.924416</td>\n",
       "    </tr>\n",
       "    <tr>\n",
       "      <th>min</th>\n",
       "      <td>1.000000</td>\n",
       "      <td>1.000000</td>\n",
       "      <td>1.000000</td>\n",
       "    </tr>\n",
       "    <tr>\n",
       "      <th>25%</th>\n",
       "      <td>4.000000</td>\n",
       "      <td>1.000000</td>\n",
       "      <td>2.000000</td>\n",
       "    </tr>\n",
       "    <tr>\n",
       "      <th>50%</th>\n",
       "      <td>5.000000</td>\n",
       "      <td>4.000000</td>\n",
       "      <td>2.000000</td>\n",
       "    </tr>\n",
       "    <tr>\n",
       "      <th>75%</th>\n",
       "      <td>5.000000</td>\n",
       "      <td>13.000000</td>\n",
       "      <td>2.500000</td>\n",
       "    </tr>\n",
       "    <tr>\n",
       "      <th>max</th>\n",
       "      <td>5.000000</td>\n",
       "      <td>890.000000</td>\n",
       "      <td>4.000000</td>\n",
       "    </tr>\n",
       "  </tbody>\n",
       "</table>\n",
       "</div>"
      ],
      "text/plain": [
       "           Rating  Review Count      Price\n",
       "count  297.000000    297.000000  11.000000\n",
       "mean     4.301347     20.026936   2.363636\n",
       "std      1.146793     72.959582   0.924416\n",
       "min      1.000000      1.000000   1.000000\n",
       "25%      4.000000      1.000000   2.000000\n",
       "50%      5.000000      4.000000   2.000000\n",
       "75%      5.000000     13.000000   2.500000\n",
       "max      5.000000    890.000000   4.000000"
      ]
     },
     "execution_count": 7,
     "metadata": {},
     "output_type": "execute_result"
    }
   ],
   "source": [
    "df_fp_ny.describe()"
   ]
  },
  {
   "cell_type": "code",
   "execution_count": 8,
   "metadata": {},
   "outputs": [
    {
     "data": {
      "text/html": [
       "<div>\n",
       "<style scoped>\n",
       "    .dataframe tbody tr th:only-of-type {\n",
       "        vertical-align: middle;\n",
       "    }\n",
       "\n",
       "    .dataframe tbody tr th {\n",
       "        vertical-align: top;\n",
       "    }\n",
       "\n",
       "    .dataframe thead th {\n",
       "        text-align: right;\n",
       "    }\n",
       "</style>\n",
       "<table border=\"1\" class=\"dataframe\">\n",
       "  <thead>\n",
       "    <tr style=\"text-align: right;\">\n",
       "      <th></th>\n",
       "      <th>Rating</th>\n",
       "      <th>Review Count</th>\n",
       "      <th>Price</th>\n",
       "    </tr>\n",
       "  </thead>\n",
       "  <tbody>\n",
       "    <tr>\n",
       "      <th>count</th>\n",
       "      <td>1000.000000</td>\n",
       "      <td>1000.000000</td>\n",
       "      <td>39.000000</td>\n",
       "    </tr>\n",
       "    <tr>\n",
       "      <th>mean</th>\n",
       "      <td>4.713000</td>\n",
       "      <td>19.560000</td>\n",
       "      <td>1.948718</td>\n",
       "    </tr>\n",
       "    <tr>\n",
       "      <th>std</th>\n",
       "      <td>0.682713</td>\n",
       "      <td>48.070565</td>\n",
       "      <td>0.793019</td>\n",
       "    </tr>\n",
       "    <tr>\n",
       "      <th>min</th>\n",
       "      <td>0.000000</td>\n",
       "      <td>0.000000</td>\n",
       "      <td>1.000000</td>\n",
       "    </tr>\n",
       "    <tr>\n",
       "      <th>25%</th>\n",
       "      <td>5.000000</td>\n",
       "      <td>2.000000</td>\n",
       "      <td>1.500000</td>\n",
       "    </tr>\n",
       "    <tr>\n",
       "      <th>50%</th>\n",
       "      <td>5.000000</td>\n",
       "      <td>5.000000</td>\n",
       "      <td>2.000000</td>\n",
       "    </tr>\n",
       "    <tr>\n",
       "      <th>75%</th>\n",
       "      <td>5.000000</td>\n",
       "      <td>17.250000</td>\n",
       "      <td>2.000000</td>\n",
       "    </tr>\n",
       "    <tr>\n",
       "      <th>max</th>\n",
       "      <td>5.000000</td>\n",
       "      <td>817.000000</td>\n",
       "      <td>4.000000</td>\n",
       "    </tr>\n",
       "  </tbody>\n",
       "</table>\n",
       "</div>"
      ],
      "text/plain": [
       "            Rating  Review Count      Price\n",
       "count  1000.000000   1000.000000  39.000000\n",
       "mean      4.713000     19.560000   1.948718\n",
       "std       0.682713     48.070565   0.793019\n",
       "min       0.000000      0.000000   1.000000\n",
       "25%       5.000000      2.000000   1.500000\n",
       "50%       5.000000      5.000000   2.000000\n",
       "75%       5.000000     17.250000   2.000000\n",
       "max       5.000000    817.000000   4.000000"
      ]
     },
     "execution_count": 8,
     "metadata": {},
     "output_type": "execute_result"
    }
   ],
   "source": [
    "df_fp_la.describe()"
   ]
  },
  {
   "cell_type": "code",
   "execution_count": 6,
   "metadata": {},
   "outputs": [
    {
     "data": {
      "text/html": [
       "<div>\n",
       "<style scoped>\n",
       "    .dataframe tbody tr th:only-of-type {\n",
       "        vertical-align: middle;\n",
       "    }\n",
       "\n",
       "    .dataframe tbody tr th {\n",
       "        vertical-align: top;\n",
       "    }\n",
       "\n",
       "    .dataframe thead th {\n",
       "        text-align: right;\n",
       "    }\n",
       "</style>\n",
       "<table border=\"1\" class=\"dataframe\">\n",
       "  <thead>\n",
       "    <tr style=\"text-align: right;\">\n",
       "      <th></th>\n",
       "      <th>Rating</th>\n",
       "      <th>Review Count</th>\n",
       "      <th>Price</th>\n",
       "    </tr>\n",
       "  </thead>\n",
       "  <tbody>\n",
       "    <tr>\n",
       "      <th>count</th>\n",
       "      <td>54.000000</td>\n",
       "      <td>54.000000</td>\n",
       "      <td>3.000000</td>\n",
       "    </tr>\n",
       "    <tr>\n",
       "      <th>mean</th>\n",
       "      <td>4.287037</td>\n",
       "      <td>8.166667</td>\n",
       "      <td>2.333333</td>\n",
       "    </tr>\n",
       "    <tr>\n",
       "      <th>std</th>\n",
       "      <td>1.230899</td>\n",
       "      <td>28.899141</td>\n",
       "      <td>0.577350</td>\n",
       "    </tr>\n",
       "    <tr>\n",
       "      <th>min</th>\n",
       "      <td>1.000000</td>\n",
       "      <td>1.000000</td>\n",
       "      <td>2.000000</td>\n",
       "    </tr>\n",
       "    <tr>\n",
       "      <th>25%</th>\n",
       "      <td>4.000000</td>\n",
       "      <td>1.000000</td>\n",
       "      <td>2.000000</td>\n",
       "    </tr>\n",
       "    <tr>\n",
       "      <th>50%</th>\n",
       "      <td>5.000000</td>\n",
       "      <td>1.500000</td>\n",
       "      <td>2.000000</td>\n",
       "    </tr>\n",
       "    <tr>\n",
       "      <th>75%</th>\n",
       "      <td>5.000000</td>\n",
       "      <td>3.000000</td>\n",
       "      <td>2.500000</td>\n",
       "    </tr>\n",
       "    <tr>\n",
       "      <th>max</th>\n",
       "      <td>5.000000</td>\n",
       "      <td>198.000000</td>\n",
       "      <td>3.000000</td>\n",
       "    </tr>\n",
       "  </tbody>\n",
       "</table>\n",
       "</div>"
      ],
      "text/plain": [
       "          Rating  Review Count     Price\n",
       "count  54.000000     54.000000  3.000000\n",
       "mean    4.287037      8.166667  2.333333\n",
       "std     1.230899     28.899141  0.577350\n",
       "min     1.000000      1.000000  2.000000\n",
       "25%     4.000000      1.000000  2.000000\n",
       "50%     5.000000      1.500000  2.000000\n",
       "75%     5.000000      3.000000  2.500000\n",
       "max     5.000000    198.000000  3.000000"
      ]
     },
     "execution_count": 6,
     "metadata": {},
     "output_type": "execute_result"
    }
   ],
   "source": [
    "df_fp_ga.describe()"
   ]
  },
  {
   "cell_type": "markdown",
   "metadata": {},
   "source": [
    "Above, we can see a few interesting things to note:\n",
    "- **There are ~300 businesses in New York, just over 50 in Atlanta, and *at least* 1000 in Los Angeles**.\n",
    "\n",
    "  Without jumping to conclusions, both a saturated market and a barren one may have advantages and disadvantages for a startup business.\n",
    "   - A saturated market is very difficult to compete in, but we may be able to benefit by offering services that are *parallel* to businesses that are thriving there. E.g., we offer equipment rentals near a company that offers production services, or vice-versa. \n",
    "   - Additionally, were we to survive in the market to the point where we could scale, there are a multitude of other businesses close by that offer a variety of products or services that we may absorb to become a conglomerate. With there being such quantity and variety, we are more likely to find a company to buy that will fill in our needs precisely.\n",
    "   - A market with sparse industry is only easy to compete in if there is a demand for our services. If there is demand, we could quickly grow to become the pinnacle of industry in that locale. If there is none, we starve.\n",
    "\n",
    "- **The mean rating for film production businesses are highest in Los Angeles**.\n",
    "  - Popularity aside, the key takeaway here is that, on average, the film production businesses are more beloved in LA than in either NYC or Atlanta.\n",
    "    - It will be more difficult to get customers in this market, as customers here are already happy with what they have.\n",
    "- By contrast, the average rating for film production businesses in New York are only marginally higher than in Atlanta.\n",
    "  - NYC offers a larger market for film than Atlanta, while simultaneously having businesses that are negligibly more beloved.\n",
    "\n",
    "- **The Review Count for businesses in New York have by far the highest standard deviation from the mean.**\n",
    "  - Were we to plot businesses in NYC on a map and look at their review counts, we would see that there is a large disparity between how frequented the most popular production businesses are from the least frequented, all over the city.\n",
    "  - Were we to open up shop in NYC, we *must* consider where we are opening business carefully! We could easily position ourselves next to a large production business that offers *different* services to ~~leech~~ develop a symbiotic relationship where their clients become our customers.\n",
    "  - Conversely, businesses that are less frequented could be in a comercial dead-zone (and we should stay away from that precise area), *or* could simply not be good at attracting customers (and we could easily outcompete).\n",
    "  \n",
    "- There are not very many businesses that have a price listed with our dataset. This is unfortunate, as that data could be used to see how customer perception of how expensive a business is relates to the business's location, its popularity, and how loved it is by its customers."
   ]
  },
  {
   "cell_type": "markdown",
   "metadata": {},
   "source": [
    "### Price"
   ]
  },
  {
   "cell_type": "markdown",
   "metadata": {},
   "source": [
    "When evaluating our dataframes, it appears we have a lot of ```NaN``` values in the price column. Yelp actually lists their price with $ (which, of course, is not a number), but this has been corrected for in our ```parse_data(_)``` function, so every NaN is in fact an empty cell. Let's see how much data we have to work with if we drop the NaN values."
   ]
  },
  {
   "cell_type": "code",
   "execution_count": 31,
   "metadata": {},
   "outputs": [
    {
     "name": "stdout",
     "output_type": "stream",
     "text": [
      "With NaNs:  (297, 1000, 54) Without NaNs:  (11, 39, 3)\n"
     ]
    }
   ],
   "source": [
    "print('With NaNs: ',(len(df_fp_ny), len(df_fp_la), len(df_fp_ga)), 'Without NaNs: ',(len(df_fp_ny.dropna()), len(df_fp_la.dropna()), len(df_fp_ga.dropna())))"
   ]
  },
  {
   "cell_type": "markdown",
   "metadata": {},
   "source": [
    "Yikes. That really limits our insight in to how these places compare as far as costs go! But lets see what we can take away with what we have."
   ]
  },
  {
   "cell_type": "markdown",
   "metadata": {},
   "source": [
    "#### Total Businesses per each Price Category\n",
    "While price data is limited to a small sample of the population of our datasets, were we able to extrapolate this data to the population, we would have some insights. Los Angeles, for example, seems to be very competitive at lower price brackets.\n",
    "\n",
    "\n",
    "This would make competing in such an environment as a start-up far more difficult, until we scale to the point to where we can secure talent and the ability to provide high-level services that are worthy of 4-dollar-sign prices. <br>\n",
    "\n",
    "Looking at the total results per location's Yelp call is also informative. <br>\n",
    "If the total number of production houses in Atlanta are much lower than the total in NYC and LA, then the market might be too saturated in the larger cities, making it difficult for new competition. \n",
    "\n",
    "Beyond the scope of this project, there are some other considerations that could be taken, such as: \n",
    "- commercial real estate prices per location (possibly through other API such as Zilliow)\n",
    "- other costs of doing business per location\n",
    "- resources available per location that will help in starting a business, i.e:\n",
    "  - other businesses that may be resources to ours\n",
    "  - tax incentives for film industry\n",
    "  - a business-friendly regulator relationship"
   ]
  },
  {
   "cell_type": "code",
   "execution_count": 31,
   "metadata": {},
   "outputs": [
    {
     "name": "stdout",
     "output_type": "stream",
     "text": [
      "🥳\n"
     ]
    },
    {
     "data": {
      "image/png": "[encoded data removed]",
      "text/plain": [
       "<Figure size 432x432 with 1 Axes>"
      ]
     },
     "metadata": {
      "needs_background": "light"
     },
     "output_type": "display_data"
    }
   ],
   "source": [
    "price_review_cnt_title = 'Film Production \\n Number of Businesses per Price'\n",
    "x_label = 'Price'\n",
    "y_label = 'Total Businesses'\n",
    "width = .25\n",
    "\n",
    "\n",
    "x1 = df_fp_ny['Price'].dropna().value_counts().sort_index().index[:4]\n",
    "y1 = df_fp_ny['Price'].dropna().value_counts().sort_index()\n",
    "\n",
    "x2 = df_fp_la['Price'].dropna().value_counts().sort_index().index[:4]\n",
    "y2 = df_fp_la['Price'].dropna().value_counts().sort_index()\n",
    "\n",
    "x3 = df_fp_ga['Price'].dropna().value_counts().sort_index().index[:4]\n",
    "y3 = df_fp_ga['Price'].dropna().value_counts().sort_index()\n",
    "\n",
    "# xtik = [1, 2, 3, 4]\n",
    "\n",
    "fig, ax = plt.subplots(figsize=(6,6))\n",
    "\n",
    "ax.set_xlabel(x_label)\n",
    "ax.set_ylabel(y_label);\n",
    "ax.set_xticks([1, 2, 3, 4])\n",
    "# ax.set_xticks(['$'*i for i in xtik])\n",
    "\n",
    "ax.bar(x1-(width), y1, width, color=\"royalblue\", align='center')\n",
    "ax.bar(x2, y2, width, color=\"magenta\", align= 'center')\n",
    "ax.bar(x3+(width), y3, width, color=\"springgreen\", align= 'center')\n",
    "ax.set_title(price_review_cnt_title)\n",
    "ax.set_facecolor(\"lightyellow\")\n",
    "\n",
    "ax.legend(['NYC', 'LA', 'ATL'])\n",
    "print('🥳')"
   ]
  },
  {
   "cell_type": "markdown",
   "metadata": {},
   "source": [
    "### Insights:\n",
    "- Small sample of population suggests that insights here are not statistically significant.\n",
    "  - with that in mind, were we to extrapolate this sample data to population of our larger datasets, we would take away that **all** locations have the most reviews in the *second lowest* (2-\\$) *price range*. \n",
    "    - this indicates that in all locations, we would attract the most customers by targeting that price range    \n",
    "    - in LA, it is also incredibly competitive in the 1-\\$ price range.\n",
    "    - this would mean that no matter how much we cut our prices in the LA market, there will likely be many other businesses who have priced their services just as low. \n",
    "\n"
   ]
  },
  {
   "cell_type": "code",
   "execution_count": null,
   "metadata": {},
   "outputs": [],
   "source": []
  }
 ],
 "metadata": {
  "kernelspec": {
   "display_name": "Python 3",
   "language": "python",
   "name": "python3"
  },
  "language_info": {
   "codemirror_mode": {
    "name": "ipython",
    "version": 3
   },
   "file_extension": ".py",
   "mimetype": "text/x-python",
   "name": "python",
   "nbconvert_exporter": "python",
   "pygments_lexer": "ipython3",
   "version": "3.8.5"
  }
 },
 "nbformat": 4,
 "nbformat_minor": 4
}
