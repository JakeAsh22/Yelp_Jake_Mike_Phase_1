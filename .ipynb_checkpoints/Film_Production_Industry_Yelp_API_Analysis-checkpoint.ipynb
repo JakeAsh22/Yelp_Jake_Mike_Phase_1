{
 "cells": [
  {
   "cell_type": "markdown",
   "metadata": {},
   "source": [
    "<head><h1 align=\"center\">\n",
    "Film Production Industry\n",
    "</h1></head>"
   ]
  },
  {
   "cell_type": "markdown",
   "metadata": {},
   "source": [
    "<head><h3 align=\"center\">Analysis with Insights Provided by the Yelp API</h3></head>"
   ]
  },
  {
   "cell_type": "markdown",
   "metadata": {},
   "source": [
    "For over a centery, film, television & media production was ubiquitous in, and almost exclusive to, two major US metropolises: Los Angeles and New York. Over the past several decades, there have been many developments that have cracked this exclusivity: The advent of the internet has increased access to entertainment, while simultaneously inspiring a new generation of creators. Other advances in technology have allowed film-industry-standard production quality to be capable with devices that are commonplace with today's consumer. Further, state governments have begun competing to attract business with tax credits designed to lure productions to within their borders, where no production industry existed before. <br><br>\n",
    "\n",
    "With the help of business insights provided by the Yelp API, we will take a glimpse at this industry, comparing companies that offer production services in a few locations. Out goal is to find what business opportunities appear to be present within this industry, and ultimately, develop a business with what we find.<br><br>\n",
    "\n",
    "If we could create the perfect business, it would be popular and loved to the point of being a house-hold brand, which everyone finds welcome in their lives. The only way to do this is to ensure that the service that we provide is so excellent, that our customers love us with no reservation for the cost, because we would be providing something that is incredibly valuable."
   ]
  },
  {
   "cell_type": "code",
   "execution_count": 304,
   "metadata": {},
   "outputs": [],
   "source": [
    "import json # Jake, can we get rid of import json and sys for this notebook?\n",
    "import sys\n",
    "import numpy as np\n",
    "import pandas as pd\n",
    "import csv\n",
    "import seaborn as sns\n",
    "import matplotlib.pyplot as plt \n",
    "# !{sys.executable} -m pip install folium\n",
    "\n",
    "import folium\n",
    "%matplotlib inline"
   ]
  },
  {
   "cell_type": "markdown",
   "metadata": {},
   "source": [
    "#### For visitors:"
   ]
  },
  {
   "cell_type": "markdown",
   "metadata": {},
   "source": [
    "- Please import the packages above to run the code throughout the page below.\n",
    "- All of the functions we developed to pull lots of data from the Yelp API are housed in the ```/code``` folder in the main repository. \n",
    "- If you would like to use our functions, you will need your own Yelp API developer client ID and API key, which you may attain [here!](https://www.yelp.com/developers/documentation/v3/get_started)"
   ]
  },
  {
   "cell_type": "markdown",
   "metadata": {},
   "source": [
    "# Our Data Collecting Method"
   ]
  },
  {
   "cell_type": "markdown",
   "metadata": {},
   "source": [
    "We have used our ```yelp_call(_)```, ```parse_data(_)```, and ```call_1000(_)``` functions to fetch all of our business data — \n",
    "- They *call* the Yelp API using user input for ```term```, ```location```, and ```categories```. \n",
    "- From there, they *parse the data* in to a ```python``` list of tuples, with each tuple containing individual business name, address, rating, review count, price, and some other information that can be received by changing the parameters in ```url_params```. \n",
    "- Finally, we use the third function to circumvent the necessity to manually offset our call each time, as the Yelp API only allows a maximum limit of 50 businesses returned with each call.\n",
    "  - After gathering the data from the call, the last function also writes the collected data to a csv in the ```/database``` folder. The file is automatically named using the ```term``` and ```location``` variables which were input by the user at the beginning.\n",
    "\n",
    "We have other functions that we used to call the Yelp API to gather example reviews for each business collected by the above method, which we will come back to later, but for now..."
   ]
  },
  {
   "cell_type": "markdown",
   "metadata": {},
   "source": [
    "Lets read our film production data in to this document."
   ]
  },
  {
   "cell_type": "code",
   "execution_count": 305,
   "metadata": {},
   "outputs": [],
   "source": [
    "df_fp_ny = pd.read_csv('database/Film Production_NYC_database.csv') \n",
    "df_fp_la = pd.read_csv('database/Film Production_Los Angeles_database.csv')\n",
    "df_fp_ga = pd.read_csv('database/Film Production_Atlanta_database.csv')"
   ]
  },
  {
   "cell_type": "code",
   "execution_count": 306,
   "metadata": {},
   "outputs": [
    {
     "data": {
      "text/html": [
       "<div>\n",
       "<style scoped>\n",
       "    .dataframe tbody tr th:only-of-type {\n",
       "        vertical-align: middle;\n",
       "    }\n",
       "\n",
       "    .dataframe tbody tr th {\n",
       "        vertical-align: top;\n",
       "    }\n",
       "\n",
       "    .dataframe thead th {\n",
       "        text-align: right;\n",
       "    }\n",
       "</style>\n",
       "<table border=\"1\" class=\"dataframe\">\n",
       "  <thead>\n",
       "    <tr style=\"text-align: right;\">\n",
       "      <th></th>\n",
       "      <th>Name</th>\n",
       "      <th>Address</th>\n",
       "      <th>City</th>\n",
       "      <th>Rating</th>\n",
       "      <th>Review Count</th>\n",
       "      <th>Coordinates</th>\n",
       "      <th>Price</th>\n",
       "      <th>Id</th>\n",
       "      <th>Categories</th>\n",
       "    </tr>\n",
       "  </thead>\n",
       "  <tbody>\n",
       "    <tr>\n",
       "      <th>997</th>\n",
       "      <td>FunLovinCamera</td>\n",
       "      <td>['Glendale, CA 91206']</td>\n",
       "      <td>Glendale</td>\n",
       "      <td>5.0</td>\n",
       "      <td>119</td>\n",
       "      <td>{'latitude': 34.1660842895508, 'longitude': -1...</td>\n",
       "      <td>NaN</td>\n",
       "      <td>HT837BNGI49eAhc1gcGiVg</td>\n",
       "      <td>[{'alias': 'eventphotography', 'title': 'Event...</td>\n",
       "    </tr>\n",
       "    <tr>\n",
       "      <th>998</th>\n",
       "      <td>Printefex</td>\n",
       "      <td>['456 Foothill Blvd', 'Ste B', 'La Canada Flin...</td>\n",
       "      <td>La Canada Flintridge</td>\n",
       "      <td>4.5</td>\n",
       "      <td>100</td>\n",
       "      <td>{'latitude': 34.19874, 'longitude': -118.18839}</td>\n",
       "      <td>NaN</td>\n",
       "      <td>t_eid75T-RVOz2GBTqXKiw</td>\n",
       "      <td>[{'alias': 'copyshops', 'title': 'Printing Ser...</td>\n",
       "    </tr>\n",
       "    <tr>\n",
       "      <th>999</th>\n",
       "      <td>Rebecca Blue Media</td>\n",
       "      <td>['Rancho Cucamonga, CA 91730']</td>\n",
       "      <td>Rancho Cucamonga</td>\n",
       "      <td>4.5</td>\n",
       "      <td>16</td>\n",
       "      <td>{'latitude': 34.10246, 'longitude': -117.58408}</td>\n",
       "      <td>NaN</td>\n",
       "      <td>OxuwVhB0RM9wxVkMVgHZLg</td>\n",
       "      <td>[{'alias': 'sessionphotography', 'title': 'Ses...</td>\n",
       "    </tr>\n",
       "  </tbody>\n",
       "</table>\n",
       "</div>"
      ],
      "text/plain": [
       "                   Name                                            Address  \\\n",
       "997      FunLovinCamera                             ['Glendale, CA 91206']   \n",
       "998           Printefex  ['456 Foothill Blvd', 'Ste B', 'La Canada Flin...   \n",
       "999  Rebecca Blue Media                     ['Rancho Cucamonga, CA 91730']   \n",
       "\n",
       "                     City  Rating  Review Count  \\\n",
       "997              Glendale     5.0           119   \n",
       "998  La Canada Flintridge     4.5           100   \n",
       "999      Rancho Cucamonga     4.5            16   \n",
       "\n",
       "                                           Coordinates  Price  \\\n",
       "997  {'latitude': 34.1660842895508, 'longitude': -1...    NaN   \n",
       "998    {'latitude': 34.19874, 'longitude': -118.18839}    NaN   \n",
       "999    {'latitude': 34.10246, 'longitude': -117.58408}    NaN   \n",
       "\n",
       "                         Id                                         Categories  \n",
       "997  HT837BNGI49eAhc1gcGiVg  [{'alias': 'eventphotography', 'title': 'Event...  \n",
       "998  t_eid75T-RVOz2GBTqXKiw  [{'alias': 'copyshops', 'title': 'Printing Ser...  \n",
       "999  OxuwVhB0RM9wxVkMVgHZLg  [{'alias': 'sessionphotography', 'title': 'Ses...  "
      ]
     },
     "execution_count": 306,
     "metadata": {},
     "output_type": "execute_result"
    }
   ],
   "source": [
    "df_fp_la.tail(3)"
   ]
  },
  {
   "cell_type": "markdown",
   "metadata": {},
   "source": [
    "Here is a sample of one of our dataframes. As you can see we have information about the **business name, address, city,** as well as **coordinates** just in case we want them (more on that later). \n",
    "\n",
    "We also have Yelp-specific data, such as their **rating, review count, and price bracket** listed on the site, as well as the business ID to identify each company on yelp, and categories. \n",
    "\n",
    "#### We can also notice that not *all* results are exactly what we are looking for. \n",
    "The second-to-last result, Printefex, appears to be a printing company that is more in the industry of office services, rather than production services. Knowing this, we will clean our data to return only appropriate results."
   ]
  },
  {
   "cell_type": "markdown",
   "metadata": {},
   "source": [
    "# Data Cleaning"
   ]
  },
  {
   "cell_type": "code",
   "execution_count": 307,
   "metadata": {
    "scrolled": false
   },
   "outputs": [
    {
     "data": {
      "text/html": [
       "<div>\n",
       "<style scoped>\n",
       "    .dataframe tbody tr th:only-of-type {\n",
       "        vertical-align: middle;\n",
       "    }\n",
       "\n",
       "    .dataframe tbody tr th {\n",
       "        vertical-align: top;\n",
       "    }\n",
       "\n",
       "    .dataframe thead th {\n",
       "        text-align: right;\n",
       "    }\n",
       "</style>\n",
       "<table border=\"1\" class=\"dataframe\">\n",
       "  <thead>\n",
       "    <tr style=\"text-align: right;\">\n",
       "      <th></th>\n",
       "      <th>Name</th>\n",
       "      <th>Address</th>\n",
       "      <th>City</th>\n",
       "      <th>Rating</th>\n",
       "      <th>Review Count</th>\n",
       "      <th>Coordinates</th>\n",
       "      <th>Price</th>\n",
       "      <th>Id</th>\n",
       "      <th>Categories</th>\n",
       "    </tr>\n",
       "  </thead>\n",
       "  <tbody>\n",
       "    <tr>\n",
       "      <th>281</th>\n",
       "      <td>Spectrum</td>\n",
       "      <td>['43 W 23rd St', 'New York, NY 10010']</td>\n",
       "      <td>New York</td>\n",
       "      <td>1.5</td>\n",
       "      <td>890</td>\n",
       "      <td>{'latitude': 40.7425261, 'longitude': -73.9911...</td>\n",
       "      <td>NaN</td>\n",
       "      <td>8AdJC2-2VboPN_Wp8oTddw</td>\n",
       "      <td>[{'alias': 'televisionserviceproviders', 'titl...</td>\n",
       "    </tr>\n",
       "    <tr>\n",
       "      <th>282</th>\n",
       "      <td>Pure Productive Services</td>\n",
       "      <td>['Weehawken, NJ 07086']</td>\n",
       "      <td>Weehawken</td>\n",
       "      <td>1.5</td>\n",
       "      <td>67</td>\n",
       "      <td>{'latitude': 40.774097442627, 'longitude': -74...</td>\n",
       "      <td>NaN</td>\n",
       "      <td>g-0ipgPROCVf56c3n0mkEg</td>\n",
       "      <td>[{'alias': 'homecleaning', 'title': 'Home Clea...</td>\n",
       "    </tr>\n",
       "    <tr>\n",
       "      <th>284</th>\n",
       "      <td>Elen's Kids</td>\n",
       "      <td>['1119 Raritan Rd', 'Clark, NJ 07066']</td>\n",
       "      <td>Clark</td>\n",
       "      <td>1.5</td>\n",
       "      <td>21</td>\n",
       "      <td>{'latitude': 40.628659, 'longitude': -74.312986}</td>\n",
       "      <td>NaN</td>\n",
       "      <td>BaCGJ5iiVulv_Ap48DYvdw</td>\n",
       "      <td>[{'alias': 'talentagencies', 'title': 'Talent ...</td>\n",
       "    </tr>\n",
       "    <tr>\n",
       "      <th>289</th>\n",
       "      <td>Spectrum</td>\n",
       "      <td>['2554 Broadway', 'New York, NY 10025']</td>\n",
       "      <td>New York</td>\n",
       "      <td>1.5</td>\n",
       "      <td>162</td>\n",
       "      <td>{'latitude': 40.79442064420939, 'longitude': -...</td>\n",
       "      <td>NaN</td>\n",
       "      <td>HUTQ51a22NsFOI7JcFNm-Q</td>\n",
       "      <td>[{'alias': 'televisionserviceproviders', 'titl...</td>\n",
       "    </tr>\n",
       "  </tbody>\n",
       "</table>\n",
       "</div>"
      ],
      "text/plain": [
       "                         Name                                  Address  \\\n",
       "281                  Spectrum   ['43 W 23rd St', 'New York, NY 10010']   \n",
       "282  Pure Productive Services                  ['Weehawken, NJ 07086']   \n",
       "284               Elen's Kids   ['1119 Raritan Rd', 'Clark, NJ 07066']   \n",
       "289                  Spectrum  ['2554 Broadway', 'New York, NY 10025']   \n",
       "\n",
       "          City  Rating  Review Count  \\\n",
       "281   New York     1.5           890   \n",
       "282  Weehawken     1.5            67   \n",
       "284      Clark     1.5            21   \n",
       "289   New York     1.5           162   \n",
       "\n",
       "                                           Coordinates  Price  \\\n",
       "281  {'latitude': 40.7425261, 'longitude': -73.9911...    NaN   \n",
       "282  {'latitude': 40.774097442627, 'longitude': -74...    NaN   \n",
       "284   {'latitude': 40.628659, 'longitude': -74.312986}    NaN   \n",
       "289  {'latitude': 40.79442064420939, 'longitude': -...    NaN   \n",
       "\n",
       "                         Id                                         Categories  \n",
       "281  8AdJC2-2VboPN_Wp8oTddw  [{'alias': 'televisionserviceproviders', 'titl...  \n",
       "282  g-0ipgPROCVf56c3n0mkEg  [{'alias': 'homecleaning', 'title': 'Home Clea...  \n",
       "284  BaCGJ5iiVulv_Ap48DYvdw  [{'alias': 'talentagencies', 'title': 'Talent ...  \n",
       "289  HUTQ51a22NsFOI7JcFNm-Q  [{'alias': 'televisionserviceproviders', 'titl...  "
      ]
     },
     "execution_count": 307,
     "metadata": {},
     "output_type": "execute_result"
    }
   ],
   "source": [
    "df_fp_ny.loc[(df_fp_ny['Rating'] == 1.5)]"
   ]
  },
  {
   "cell_type": "markdown",
   "metadata": {},
   "source": [
    "Above is a good example of why it is necessary to clean our data. As you can see, NY has a shocking disproportion of review counts for low-rated companies. This was worthy of closer inspection, and as we can see the companies with a 1.5 rating that weighing our data so heavily in this category are not only **NOT** film production companies, it's two locations for the same company!\n",
    "\n",
    "The *reason* that this company has such a high review count compared to the companies that we are actually interested in, is that it is a company that provides a consumer service to a wide customer base (a public utility that is essentially used by everyone in this location). The companies that we are interested in provide a niche service *to other companies and professionals in the industry*, which will of course be a smaller sample of the wider populace of New York!"
   ]
  },
  {
   "cell_type": "code",
   "execution_count": 308,
   "metadata": {},
   "outputs": [
    {
     "data": {
      "text/html": [
       "<div>\n",
       "<style scoped>\n",
       "    .dataframe tbody tr th:only-of-type {\n",
       "        vertical-align: middle;\n",
       "    }\n",
       "\n",
       "    .dataframe tbody tr th {\n",
       "        vertical-align: top;\n",
       "    }\n",
       "\n",
       "    .dataframe thead th {\n",
       "        text-align: right;\n",
       "    }\n",
       "</style>\n",
       "<table border=\"1\" class=\"dataframe\">\n",
       "  <thead>\n",
       "    <tr style=\"text-align: right;\">\n",
       "      <th></th>\n",
       "      <th>Name</th>\n",
       "      <th>Address</th>\n",
       "      <th>City</th>\n",
       "      <th>Rating</th>\n",
       "      <th>Review Count</th>\n",
       "      <th>Coordinates</th>\n",
       "      <th>Price</th>\n",
       "      <th>Id</th>\n",
       "      <th>Categories</th>\n",
       "    </tr>\n",
       "  </thead>\n",
       "  <tbody>\n",
       "    <tr>\n",
       "      <th>113</th>\n",
       "      <td>Professional Sound Services</td>\n",
       "      <td>['311 W 43rd St', 'Ste 1100', 'Manhattan, NY 1...</td>\n",
       "      <td>Manhattan</td>\n",
       "      <td>1.0</td>\n",
       "      <td>1</td>\n",
       "      <td>{'latitude': 40.7584496, 'longitude': -73.9899...</td>\n",
       "      <td>NaN</td>\n",
       "      <td>kNolL6khB1nhB6iGw6gXTg</td>\n",
       "      <td>[{'alias': 'electronics', 'title': 'Electronic...</td>\n",
       "    </tr>\n",
       "    <tr>\n",
       "      <th>121</th>\n",
       "      <td>Adiuvo Productions</td>\n",
       "      <td>['95 Horatio St', 'New York, NY 10014']</td>\n",
       "      <td>New York</td>\n",
       "      <td>1.0</td>\n",
       "      <td>2</td>\n",
       "      <td>{'latitude': 40.7984185256138, 'longitude': -7...</td>\n",
       "      <td>NaN</td>\n",
       "      <td>tX-kGQ_NzaUtRRpAKUOwtg</td>\n",
       "      <td>[{'alias': 'videofilmproductions', 'title': 'V...</td>\n",
       "    </tr>\n",
       "    <tr>\n",
       "      <th>135</th>\n",
       "      <td>360 Sound &amp; Vision</td>\n",
       "      <td>['330 7th Ave', 'New York, NY 10001']</td>\n",
       "      <td>New York</td>\n",
       "      <td>1.0</td>\n",
       "      <td>1</td>\n",
       "      <td>{'latitude': 40.7477397, 'longitude': -73.9933...</td>\n",
       "      <td>NaN</td>\n",
       "      <td>phBGfDXgCvmZAtSYvo6A4Q</td>\n",
       "      <td>[{'alias': 'videofilmproductions', 'title': 'V...</td>\n",
       "    </tr>\n",
       "    <tr>\n",
       "      <th>180</th>\n",
       "      <td>Art Contra Studio</td>\n",
       "      <td>['Cranford, NJ 07107']</td>\n",
       "      <td>Cranford</td>\n",
       "      <td>1.0</td>\n",
       "      <td>1</td>\n",
       "      <td>{'latitude': 40.760441, 'longitude': -74.188745}</td>\n",
       "      <td>NaN</td>\n",
       "      <td>9-Jo6kltXxyd4XJuyJElGQ</td>\n",
       "      <td>[{'alias': 'videofilmproductions', 'title': 'V...</td>\n",
       "    </tr>\n",
       "    <tr>\n",
       "      <th>184</th>\n",
       "      <td>Picture Perfect Media Productions</td>\n",
       "      <td>['95 Parker St', 'Newark, NJ 07104']</td>\n",
       "      <td>Newark</td>\n",
       "      <td>1.0</td>\n",
       "      <td>1</td>\n",
       "      <td>{'latitude': 40.755977, 'longitude': -74.179046}</td>\n",
       "      <td>NaN</td>\n",
       "      <td>XIYaAtD9Hmm86edDPgdLXw</td>\n",
       "      <td>[{'alias': 'videographers', 'title': 'Videogra...</td>\n",
       "    </tr>\n",
       "    <tr>\n",
       "      <th>196</th>\n",
       "      <td>Lights Camera Action Studios</td>\n",
       "      <td>['1674 Broadway', 'Ste 802', 'Manhattan, NY 10...</td>\n",
       "      <td>Manhattan</td>\n",
       "      <td>1.0</td>\n",
       "      <td>9</td>\n",
       "      <td>{'latitude': 40.76279, 'longitude': -73.98294}</td>\n",
       "      <td>NaN</td>\n",
       "      <td>CY5xxJJC9I4AyKZbuMQL2g</td>\n",
       "      <td>[{'alias': 'videofilmproductions', 'title': 'V...</td>\n",
       "    </tr>\n",
       "    <tr>\n",
       "      <th>209</th>\n",
       "      <td>Shaved Head Media</td>\n",
       "      <td>['Brooklyn, NY 11221']</td>\n",
       "      <td>Brooklyn</td>\n",
       "      <td>1.0</td>\n",
       "      <td>1</td>\n",
       "      <td>{'latitude': 40.6924, 'longitude': -73.92621}</td>\n",
       "      <td>NaN</td>\n",
       "      <td>ZIrbAbsHyd9SaL2cSrX9Qw</td>\n",
       "      <td>[{'alias': 'advertising', 'title': 'Advertisin...</td>\n",
       "    </tr>\n",
       "    <tr>\n",
       "      <th>215</th>\n",
       "      <td>WhiteWater Music</td>\n",
       "      <td>['5 E19th St', 'Fl 3', 'New York, NY 10003']</td>\n",
       "      <td>New York</td>\n",
       "      <td>1.0</td>\n",
       "      <td>3</td>\n",
       "      <td>{'latitude': 40.7327412957708, 'longitude': -7...</td>\n",
       "      <td>NaN</td>\n",
       "      <td>NgIHKwjOe0nJeCIGcNIPwQ</td>\n",
       "      <td>[{'alias': 'musicproduction', 'title': 'Music ...</td>\n",
       "    </tr>\n",
       "    <tr>\n",
       "      <th>224</th>\n",
       "      <td>NYC Printing 123</td>\n",
       "      <td>['436 4th Ave', 'Brooklyn, NY 11215']</td>\n",
       "      <td>Brooklyn</td>\n",
       "      <td>1.0</td>\n",
       "      <td>17</td>\n",
       "      <td>{'latitude': 40.6708653, 'longitude': -73.9886...</td>\n",
       "      <td>NaN</td>\n",
       "      <td>G-aDtjxQSPTgt9pRQXKY_Q</td>\n",
       "      <td>[{'alias': 'web_design', 'title': 'Web Design'...</td>\n",
       "    </tr>\n",
       "    <tr>\n",
       "      <th>233</th>\n",
       "      <td>Big City Manufacturing</td>\n",
       "      <td>['2321 Jfk Boulevard', 'Sb 27-A', 'North Berge...</td>\n",
       "      <td>North Bergen</td>\n",
       "      <td>1.0</td>\n",
       "      <td>2</td>\n",
       "      <td>{'latitude': 40.770339, 'longitude': -74.038849}</td>\n",
       "      <td>NaN</td>\n",
       "      <td>8gOeYfV1G1raGQi-EtKhTA</td>\n",
       "      <td>[{'alias': 'graphicdesign', 'title': 'Graphic ...</td>\n",
       "    </tr>\n",
       "    <tr>\n",
       "      <th>239</th>\n",
       "      <td>Fiorella Image</td>\n",
       "      <td>['Edgewater, NJ 07020']</td>\n",
       "      <td>Edgewater</td>\n",
       "      <td>1.0</td>\n",
       "      <td>1</td>\n",
       "      <td>{'latitude': 40.8236770629883, 'longitude': -7...</td>\n",
       "      <td>NaN</td>\n",
       "      <td>hEkCCGLEQFdDlcWhsErxMQ</td>\n",
       "      <td>[{'alias': 'eventphotography', 'title': 'Event...</td>\n",
       "    </tr>\n",
       "    <tr>\n",
       "      <th>251</th>\n",
       "      <td>Visual Image Video and Photography</td>\n",
       "      <td>['18 Hervey St', 'Staten Island, NY 10309']</td>\n",
       "      <td>Staten Island</td>\n",
       "      <td>1.0</td>\n",
       "      <td>2</td>\n",
       "      <td>{'latitude': 40.5533063, 'longitude': -74.2169...</td>\n",
       "      <td>NaN</td>\n",
       "      <td>nECtyzKpkRYl33uz-HdMEg</td>\n",
       "      <td>[{'alias': 'videographers', 'title': 'Videogra...</td>\n",
       "    </tr>\n",
       "    <tr>\n",
       "      <th>266</th>\n",
       "      <td>The New York Talent Club Talent &amp; Model Agency</td>\n",
       "      <td>['New York, NY 10001']</td>\n",
       "      <td>New York</td>\n",
       "      <td>1.0</td>\n",
       "      <td>1</td>\n",
       "      <td>{'latitude': 40.750244140625, 'longitude': -73...</td>\n",
       "      <td>NaN</td>\n",
       "      <td>5gvvuJ3_cBsdmb_GQ8yjFg</td>\n",
       "      <td>[{'alias': 'talentagencies', 'title': 'Talent ...</td>\n",
       "    </tr>\n",
       "    <tr>\n",
       "      <th>268</th>\n",
       "      <td>Marc Trautrimas</td>\n",
       "      <td>['1198 Metropolitan Ave', 'Brooklyn, NY 11237']</td>\n",
       "      <td>Brooklyn</td>\n",
       "      <td>1.0</td>\n",
       "      <td>6</td>\n",
       "      <td>{'latitude': 40.713945, 'longitude': -73.929049}</td>\n",
       "      <td>NaN</td>\n",
       "      <td>6Z91hfdQR_OK0S8dZHvoTg</td>\n",
       "      <td>[{'alias': 'architects', 'title': 'Architects'}]</td>\n",
       "    </tr>\n",
       "    <tr>\n",
       "      <th>277</th>\n",
       "      <td>Videoccasions Video Productions</td>\n",
       "      <td>['808 High Mountain Rd', 'Ste 207', 'Franklin ...</td>\n",
       "      <td>Franklin Lakes</td>\n",
       "      <td>1.0</td>\n",
       "      <td>8</td>\n",
       "      <td>{'latitude': 40.994272, 'longitude': -74.213135}</td>\n",
       "      <td>NaN</td>\n",
       "      <td>3qp8Yi2YkdEQoeno_aKKGg</td>\n",
       "      <td>[{'alias': 'videographers', 'title': 'Videogra...</td>\n",
       "    </tr>\n",
       "    <tr>\n",
       "      <th>285</th>\n",
       "      <td>Moviepass</td>\n",
       "      <td>['175 Varick St', 'Ste 604', 'New York, NY 100...</td>\n",
       "      <td>New York</td>\n",
       "      <td>1.0</td>\n",
       "      <td>100</td>\n",
       "      <td>{'latitude': 40.7274061338494, 'longitude': -7...</td>\n",
       "      <td>NaN</td>\n",
       "      <td>l-tLojHCnrhR3zGC9ER47g</td>\n",
       "      <td>[{'alias': 'isps', 'title': 'Internet Service ...</td>\n",
       "    </tr>\n",
       "    <tr>\n",
       "      <th>287</th>\n",
       "      <td>Verizon Corporate</td>\n",
       "      <td>['140 West St', 'New York, NY 10007']</td>\n",
       "      <td>New York</td>\n",
       "      <td>1.0</td>\n",
       "      <td>253</td>\n",
       "      <td>{'latitude': 40.7138062516244, 'longitude': -7...</td>\n",
       "      <td>4.0</td>\n",
       "      <td>PRy3uF0eWQReOnByXWpJuQ</td>\n",
       "      <td>[{'alias': 'mobilephones', 'title': 'Mobile Ph...</td>\n",
       "    </tr>\n",
       "    <tr>\n",
       "      <th>294</th>\n",
       "      <td>Jordan Green Productions</td>\n",
       "      <td>['3502 Leavenworth St', 'Omaha, NE 68105']</td>\n",
       "      <td>Omaha</td>\n",
       "      <td>1.0</td>\n",
       "      <td>1</td>\n",
       "      <td>{'latitude': 41.252651, 'longitude': -95.964111}</td>\n",
       "      <td>NaN</td>\n",
       "      <td>gseNJEdRFVKwgt_FqK5SCw</td>\n",
       "      <td>[{'alias': 'videofilmproductions', 'title': 'V...</td>\n",
       "    </tr>\n",
       "  </tbody>\n",
       "</table>\n",
       "</div>"
      ],
      "text/plain": [
       "                                               Name  \\\n",
       "113                     Professional Sound Services   \n",
       "121                              Adiuvo Productions   \n",
       "135                              360 Sound & Vision   \n",
       "180                               Art Contra Studio   \n",
       "184               Picture Perfect Media Productions   \n",
       "196                    Lights Camera Action Studios   \n",
       "209                               Shaved Head Media   \n",
       "215                                WhiteWater Music   \n",
       "224                                NYC Printing 123   \n",
       "233                          Big City Manufacturing   \n",
       "239                                  Fiorella Image   \n",
       "251              Visual Image Video and Photography   \n",
       "266  The New York Talent Club Talent & Model Agency   \n",
       "268                                 Marc Trautrimas   \n",
       "277                 Videoccasions Video Productions   \n",
       "285                                       Moviepass   \n",
       "287                               Verizon Corporate   \n",
       "294                        Jordan Green Productions   \n",
       "\n",
       "                                               Address            City  \\\n",
       "113  ['311 W 43rd St', 'Ste 1100', 'Manhattan, NY 1...       Manhattan   \n",
       "121            ['95 Horatio St', 'New York, NY 10014']        New York   \n",
       "135              ['330 7th Ave', 'New York, NY 10001']        New York   \n",
       "180                             ['Cranford, NJ 07107']        Cranford   \n",
       "184               ['95 Parker St', 'Newark, NJ 07104']          Newark   \n",
       "196  ['1674 Broadway', 'Ste 802', 'Manhattan, NY 10...       Manhattan   \n",
       "209                             ['Brooklyn, NY 11221']        Brooklyn   \n",
       "215       ['5 E19th St', 'Fl 3', 'New York, NY 10003']        New York   \n",
       "224              ['436 4th Ave', 'Brooklyn, NY 11215']        Brooklyn   \n",
       "233  ['2321 Jfk Boulevard', 'Sb 27-A', 'North Berge...    North Bergen   \n",
       "239                            ['Edgewater, NJ 07020']       Edgewater   \n",
       "251        ['18 Hervey St', 'Staten Island, NY 10309']   Staten Island   \n",
       "266                             ['New York, NY 10001']        New York   \n",
       "268    ['1198 Metropolitan Ave', 'Brooklyn, NY 11237']        Brooklyn   \n",
       "277  ['808 High Mountain Rd', 'Ste 207', 'Franklin ...  Franklin Lakes   \n",
       "285  ['175 Varick St', 'Ste 604', 'New York, NY 100...        New York   \n",
       "287              ['140 West St', 'New York, NY 10007']        New York   \n",
       "294         ['3502 Leavenworth St', 'Omaha, NE 68105']           Omaha   \n",
       "\n",
       "     Rating  Review Count                                        Coordinates  \\\n",
       "113     1.0             1  {'latitude': 40.7584496, 'longitude': -73.9899...   \n",
       "121     1.0             2  {'latitude': 40.7984185256138, 'longitude': -7...   \n",
       "135     1.0             1  {'latitude': 40.7477397, 'longitude': -73.9933...   \n",
       "180     1.0             1   {'latitude': 40.760441, 'longitude': -74.188745}   \n",
       "184     1.0             1   {'latitude': 40.755977, 'longitude': -74.179046}   \n",
       "196     1.0             9     {'latitude': 40.76279, 'longitude': -73.98294}   \n",
       "209     1.0             1      {'latitude': 40.6924, 'longitude': -73.92621}   \n",
       "215     1.0             3  {'latitude': 40.7327412957708, 'longitude': -7...   \n",
       "224     1.0            17  {'latitude': 40.6708653, 'longitude': -73.9886...   \n",
       "233     1.0             2   {'latitude': 40.770339, 'longitude': -74.038849}   \n",
       "239     1.0             1  {'latitude': 40.8236770629883, 'longitude': -7...   \n",
       "251     1.0             2  {'latitude': 40.5533063, 'longitude': -74.2169...   \n",
       "266     1.0             1  {'latitude': 40.750244140625, 'longitude': -73...   \n",
       "268     1.0             6   {'latitude': 40.713945, 'longitude': -73.929049}   \n",
       "277     1.0             8   {'latitude': 40.994272, 'longitude': -74.213135}   \n",
       "285     1.0           100  {'latitude': 40.7274061338494, 'longitude': -7...   \n",
       "287     1.0           253  {'latitude': 40.7138062516244, 'longitude': -7...   \n",
       "294     1.0             1   {'latitude': 41.252651, 'longitude': -95.964111}   \n",
       "\n",
       "     Price                      Id  \\\n",
       "113    NaN  kNolL6khB1nhB6iGw6gXTg   \n",
       "121    NaN  tX-kGQ_NzaUtRRpAKUOwtg   \n",
       "135    NaN  phBGfDXgCvmZAtSYvo6A4Q   \n",
       "180    NaN  9-Jo6kltXxyd4XJuyJElGQ   \n",
       "184    NaN  XIYaAtD9Hmm86edDPgdLXw   \n",
       "196    NaN  CY5xxJJC9I4AyKZbuMQL2g   \n",
       "209    NaN  ZIrbAbsHyd9SaL2cSrX9Qw   \n",
       "215    NaN  NgIHKwjOe0nJeCIGcNIPwQ   \n",
       "224    NaN  G-aDtjxQSPTgt9pRQXKY_Q   \n",
       "233    NaN  8gOeYfV1G1raGQi-EtKhTA   \n",
       "239    NaN  hEkCCGLEQFdDlcWhsErxMQ   \n",
       "251    NaN  nECtyzKpkRYl33uz-HdMEg   \n",
       "266    NaN  5gvvuJ3_cBsdmb_GQ8yjFg   \n",
       "268    NaN  6Z91hfdQR_OK0S8dZHvoTg   \n",
       "277    NaN  3qp8Yi2YkdEQoeno_aKKGg   \n",
       "285    NaN  l-tLojHCnrhR3zGC9ER47g   \n",
       "287    4.0  PRy3uF0eWQReOnByXWpJuQ   \n",
       "294    NaN  gseNJEdRFVKwgt_FqK5SCw   \n",
       "\n",
       "                                            Categories  \n",
       "113  [{'alias': 'electronics', 'title': 'Electronic...  \n",
       "121  [{'alias': 'videofilmproductions', 'title': 'V...  \n",
       "135  [{'alias': 'videofilmproductions', 'title': 'V...  \n",
       "180  [{'alias': 'videofilmproductions', 'title': 'V...  \n",
       "184  [{'alias': 'videographers', 'title': 'Videogra...  \n",
       "196  [{'alias': 'videofilmproductions', 'title': 'V...  \n",
       "209  [{'alias': 'advertising', 'title': 'Advertisin...  \n",
       "215  [{'alias': 'musicproduction', 'title': 'Music ...  \n",
       "224  [{'alias': 'web_design', 'title': 'Web Design'...  \n",
       "233  [{'alias': 'graphicdesign', 'title': 'Graphic ...  \n",
       "239  [{'alias': 'eventphotography', 'title': 'Event...  \n",
       "251  [{'alias': 'videographers', 'title': 'Videogra...  \n",
       "266  [{'alias': 'talentagencies', 'title': 'Talent ...  \n",
       "268   [{'alias': 'architects', 'title': 'Architects'}]  \n",
       "277  [{'alias': 'videographers', 'title': 'Videogra...  \n",
       "285  [{'alias': 'isps', 'title': 'Internet Service ...  \n",
       "287  [{'alias': 'mobilephones', 'title': 'Mobile Ph...  \n",
       "294  [{'alias': 'videofilmproductions', 'title': 'V...  "
      ]
     },
     "execution_count": 308,
     "metadata": {},
     "output_type": "execute_result"
    }
   ],
   "source": [
    "df_fp_ny.loc[(df_fp_ny['Rating'] == 1)]"
   ]
  },
  {
   "cell_type": "markdown",
   "metadata": {},
   "source": [
    "The 1.0 rated companies on Yelp offer a better representation of companies that match our desired results, though here too we can see some listings that we may want to remove (*Marc Trautrimas: architects, Moviepass: isps, Verizon Corporate: mobilephones).\n",
    "\n",
    "Other examples here are not entirely dedicated to the film or television production industry, but certainly may offer parallel services (see under categories: *event photography, talentagencies, music production, advertising, graphicdesign, electronics* (i.e.- camera and sound equipment) *etc*.\n",
    "\n",
    "Knowing that such companies may offer products or services that would compete with services that we offer, they would be useful to keep. The others, we will get rid of so that we may work with a more representative dataset."
   ]
  },
  {
   "cell_type": "markdown",
   "metadata": {},
   "source": [
    "#### Let's set the dataframe to only include rows where the company name is not 'Spectrum'"
   ]
  },
  {
   "cell_type": "code",
   "execution_count": 309,
   "metadata": {},
   "outputs": [],
   "source": [
    "df_fp_ny = df_fp_ny.loc[(df_fp_ny['Name'] != 'Spectrum')] "
   ]
  },
  {
   "cell_type": "code",
   "execution_count": 310,
   "metadata": {
    "scrolled": true
   },
   "outputs": [
    {
     "data": {
      "text/html": [
       "<div>\n",
       "<style scoped>\n",
       "    .dataframe tbody tr th:only-of-type {\n",
       "        vertical-align: middle;\n",
       "    }\n",
       "\n",
       "    .dataframe tbody tr th {\n",
       "        vertical-align: top;\n",
       "    }\n",
       "\n",
       "    .dataframe thead th {\n",
       "        text-align: right;\n",
       "    }\n",
       "</style>\n",
       "<table border=\"1\" class=\"dataframe\">\n",
       "  <thead>\n",
       "    <tr style=\"text-align: right;\">\n",
       "      <th></th>\n",
       "      <th>Name</th>\n",
       "      <th>Address</th>\n",
       "      <th>City</th>\n",
       "      <th>Rating</th>\n",
       "      <th>Review Count</th>\n",
       "      <th>Coordinates</th>\n",
       "      <th>Price</th>\n",
       "      <th>Id</th>\n",
       "      <th>Categories</th>\n",
       "    </tr>\n",
       "  </thead>\n",
       "  <tbody>\n",
       "    <tr>\n",
       "      <th>282</th>\n",
       "      <td>Pure Productive Services</td>\n",
       "      <td>['Weehawken, NJ 07086']</td>\n",
       "      <td>Weehawken</td>\n",
       "      <td>1.5</td>\n",
       "      <td>67</td>\n",
       "      <td>{'latitude': 40.774097442627, 'longitude': -74...</td>\n",
       "      <td>NaN</td>\n",
       "      <td>g-0ipgPROCVf56c3n0mkEg</td>\n",
       "      <td>[{'alias': 'homecleaning', 'title': 'Home Clea...</td>\n",
       "    </tr>\n",
       "    <tr>\n",
       "      <th>284</th>\n",
       "      <td>Elen's Kids</td>\n",
       "      <td>['1119 Raritan Rd', 'Clark, NJ 07066']</td>\n",
       "      <td>Clark</td>\n",
       "      <td>1.5</td>\n",
       "      <td>21</td>\n",
       "      <td>{'latitude': 40.628659, 'longitude': -74.312986}</td>\n",
       "      <td>NaN</td>\n",
       "      <td>BaCGJ5iiVulv_Ap48DYvdw</td>\n",
       "      <td>[{'alias': 'talentagencies', 'title': 'Talent ...</td>\n",
       "    </tr>\n",
       "  </tbody>\n",
       "</table>\n",
       "</div>"
      ],
      "text/plain": [
       "                         Name                                 Address  \\\n",
       "282  Pure Productive Services                 ['Weehawken, NJ 07086']   \n",
       "284               Elen's Kids  ['1119 Raritan Rd', 'Clark, NJ 07066']   \n",
       "\n",
       "          City  Rating  Review Count  \\\n",
       "282  Weehawken     1.5            67   \n",
       "284      Clark     1.5            21   \n",
       "\n",
       "                                           Coordinates  Price  \\\n",
       "282  {'latitude': 40.774097442627, 'longitude': -74...    NaN   \n",
       "284   {'latitude': 40.628659, 'longitude': -74.312986}    NaN   \n",
       "\n",
       "                         Id                                         Categories  \n",
       "282  g-0ipgPROCVf56c3n0mkEg  [{'alias': 'homecleaning', 'title': 'Home Clea...  \n",
       "284  BaCGJ5iiVulv_Ap48DYvdw  [{'alias': 'talentagencies', 'title': 'Talent ...  "
      ]
     },
     "execution_count": 310,
     "metadata": {},
     "output_type": "execute_result"
    }
   ],
   "source": [
    "df_fp_ny.loc[(df_fp_ny['Rating'] == 1.5)] # Checking and confirming that it is gone"
   ]
  },
  {
   "cell_type": "markdown",
   "metadata": {},
   "source": [
    "Next, let's get rid of homecleaning, and the other irrelevent categories mentioned above, while we're at it setting dataframe to only be data that does not contain 'homecleaning' in its categories"
   ]
  },
  {
   "cell_type": "code",
   "execution_count": 311,
   "metadata": {},
   "outputs": [
    {
     "data": {
      "text/html": [
       "<div>\n",
       "<style scoped>\n",
       "    .dataframe tbody tr th:only-of-type {\n",
       "        vertical-align: middle;\n",
       "    }\n",
       "\n",
       "    .dataframe tbody tr th {\n",
       "        vertical-align: top;\n",
       "    }\n",
       "\n",
       "    .dataframe thead th {\n",
       "        text-align: right;\n",
       "    }\n",
       "</style>\n",
       "<table border=\"1\" class=\"dataframe\">\n",
       "  <thead>\n",
       "    <tr style=\"text-align: right;\">\n",
       "      <th></th>\n",
       "      <th>Name</th>\n",
       "      <th>Address</th>\n",
       "      <th>City</th>\n",
       "      <th>Rating</th>\n",
       "      <th>Review Count</th>\n",
       "      <th>Coordinates</th>\n",
       "      <th>Price</th>\n",
       "      <th>Id</th>\n",
       "      <th>Categories</th>\n",
       "    </tr>\n",
       "  </thead>\n",
       "  <tbody>\n",
       "  </tbody>\n",
       "</table>\n",
       "</div>"
      ],
      "text/plain": [
       "Empty DataFrame\n",
       "Columns: [Name, Address, City, Rating, Review Count, Coordinates, Price, Id, Categories]\n",
       "Index: []"
      ]
     },
     "execution_count": 311,
     "metadata": {},
     "output_type": "execute_result"
    }
   ],
   "source": [
    "df_fp_ny = df_fp_ny.loc[(df_fp_ny['Categories'].str.contains('homecleaning') == False)]\n",
    "df_fp_ny.loc[(df_fp_ny['Categories'].str.contains('homecleaning') == True)] # no homecleaning returned"
   ]
  },
  {
   "cell_type": "code",
   "execution_count": 312,
   "metadata": {},
   "outputs": [
    {
     "data": {
      "text/html": [
       "<div>\n",
       "<style scoped>\n",
       "    .dataframe tbody tr th:only-of-type {\n",
       "        vertical-align: middle;\n",
       "    }\n",
       "\n",
       "    .dataframe tbody tr th {\n",
       "        vertical-align: top;\n",
       "    }\n",
       "\n",
       "    .dataframe thead th {\n",
       "        text-align: right;\n",
       "    }\n",
       "</style>\n",
       "<table border=\"1\" class=\"dataframe\">\n",
       "  <thead>\n",
       "    <tr style=\"text-align: right;\">\n",
       "      <th></th>\n",
       "      <th>Name</th>\n",
       "      <th>Address</th>\n",
       "      <th>City</th>\n",
       "      <th>Rating</th>\n",
       "      <th>Review Count</th>\n",
       "      <th>Coordinates</th>\n",
       "      <th>Price</th>\n",
       "      <th>Id</th>\n",
       "      <th>Categories</th>\n",
       "    </tr>\n",
       "  </thead>\n",
       "  <tbody>\n",
       "  </tbody>\n",
       "</table>\n",
       "</div>"
      ],
      "text/plain": [
       "Empty DataFrame\n",
       "Columns: [Name, Address, City, Rating, Review Count, Coordinates, Price, Id, Categories]\n",
       "Index: []"
      ]
     },
     "execution_count": 312,
     "metadata": {},
     "output_type": "execute_result"
    }
   ],
   "source": [
    "# setting dataframe to only be data that does not contain 'mobilephones' or 'architects' in its categories\n",
    "df_fp_ny = df_fp_ny.loc[(df_fp_ny['Categories'].str.contains('mobilephones') == False) & (df_fp_ny['Categories'].str.contains('architects') == False)]\n",
    "df_fp_ny.loc[(df_fp_ny['Categories'].str.contains('mobilephones') == True)] # using .loc, we can isolate multiple contents in 'Categories'"
   ]
  },
  {
   "cell_type": "markdown",
   "metadata": {},
   "source": [
    "Another note on cleaning... when searching for when a cell contains a string, be careful not to accidentally cut off another word. A good example below: 'isps' seems like it could be in many other words, such as 'crisps' were we dealing with data on food items, or 'lispro' when dealing with data related to medicine.<br>\n",
    "Fortunately, in this instance, 'isps' does not hit any other data."
   ]
  },
  {
   "cell_type": "code",
   "execution_count": 313,
   "metadata": {},
   "outputs": [],
   "source": [
    "df_fp_ny.loc[(df_fp_ny['Categories'].str.contains('isps') == True)] # checks out ok\n",
    "df_fp_ny = df_fp_ny.loc[(df_fp_ny['Categories'].str.contains('isps') == False)]"
   ]
  },
  {
   "cell_type": "code",
   "execution_count": 314,
   "metadata": {
    "scrolled": true
   },
   "outputs": [
    {
     "data": {
      "text/plain": [
       "array([\"[{'alias': 'photographystores', 'title': 'Photography Stores & Services'}, {'alias': 'videofilmproductions', 'title': 'Video/Film Production'}, {'alias': 'digitizingservices', 'title': 'Digitizing Services'}]\",\n",
       "       \"[{'alias': 'videographers', 'title': 'Videographers'}, {'alias': 'videofilmproductions', 'title': 'Video/Film Production'}]\",\n",
       "       \"[{'alias': 'videofilmproductions', 'title': 'Video/Film Production'}]\",\n",
       "       \"[{'alias': 'sessionphotography', 'title': 'Session Photography'}, {'alias': 'eventphotography', 'title': 'Event Photography'}, {'alias': 'videofilmproductions', 'title': 'Video/Film Production'}]\",\n",
       "       \"[{'alias': 'theater', 'title': 'Performing Arts'}, {'alias': 'videofilmproductions', 'title': 'Video/Film Production'}]\",\n",
       "       \"[{'alias': 'videofilmproductions', 'title': 'Video/Film Production'}, {'alias': 'costumes', 'title': 'Costumes'}, {'alias': 'props', 'title': 'Props'}]\",\n",
       "       \"[{'alias': 'videofilmproductions', 'title': 'Video/Film Production'}, {'alias': 'videographers', 'title': 'Videographers'}, {'alias': 'eventphotography', 'title': 'Event Photography'}]\",\n",
       "       \"[{'alias': 'videofilmproductions', 'title': 'Video/Film Production'}, {'alias': 'videographers', 'title': 'Videographers'}]\",\n",
       "       \"[{'alias': 'videofilmproductions', 'title': 'Video/Film Production'}, {'alias': 'specialtyschools', 'title': 'Specialty Schools'}, {'alias': 'studiotaping', 'title': 'Studio Taping'}]\",\n",
       "       \"[{'alias': 'videofilmproductions', 'title': 'Video/Film Production'}, {'alias': 'marketing', 'title': 'Marketing'}, {'alias': 'advertising', 'title': 'Advertising'}]\",\n",
       "       \"[{'alias': 'videofilmproductions', 'title': 'Video/Film Production'}, {'alias': 'digitizingservices', 'title': 'Digitizing Services'}]\",\n",
       "       \"[{'alias': 'videofilmproductions', 'title': 'Video/Film Production'}, {'alias': 'sessionphotography', 'title': 'Session Photography'}, {'alias': 'marketing', 'title': 'Marketing'}]\",\n",
       "       \"[{'alias': 'audiovisualequipmentrental', 'title': 'Audio/Visual Equipment Rental'}, {'alias': 'machinerental', 'title': 'Machine & Tool Rental'}, {'alias': 'videofilmproductions', 'title': 'Video/Film Production'}]\",\n",
       "       \"[{'alias': 'videographers', 'title': 'Videographers'}, {'alias': 'eventphotography', 'title': 'Event Photography'}, {'alias': 'videofilmproductions', 'title': 'Video/Film Production'}]\",\n",
       "       \"[{'alias': 'videofilmproductions', 'title': 'Video/Film Production'}, {'alias': 'sessionphotography', 'title': 'Session Photography'}, {'alias': 'artspacerentals', 'title': 'Art Space Rentals'}]\",\n",
       "       \"[{'alias': 'specialtyschools', 'title': 'Specialty Schools'}, {'alias': 'videofilmproductions', 'title': 'Video/Film Production'}]\",\n",
       "       \"[{'alias': 'videofilmproductions', 'title': 'Video/Film Production'}, {'alias': 'studiotaping', 'title': 'Studio Taping'}]\",\n",
       "       \"[{'alias': 'videofilmproductions', 'title': 'Video/Film Production'}, {'alias': 'web_design', 'title': 'Web Design'}, {'alias': 'photographystores', 'title': 'Photography Stores & Services'}]\",\n",
       "       \"[{'alias': 'videofilmproductions', 'title': 'Video/Film Production'}, {'alias': 'sessionphotography', 'title': 'Session Photography'}, {'alias': 'eventphotography', 'title': 'Event Photography'}]\",\n",
       "       \"[{'alias': 'videofilmproductions', 'title': 'Video/Film Production'}, {'alias': 'videographers', 'title': 'Videographers'}, {'alias': 'photographers', 'title': 'Photographers'}]\",\n",
       "       \"[{'alias': 'videographers', 'title': 'Videographers'}]\",\n",
       "       \"[{'alias': 'videofilmproductions', 'title': 'Video/Film Production'}, {'alias': 'venues', 'title': 'Venues & Event Spaces'}]\",\n",
       "       \"[{'alias': 'eventphotography', 'title': 'Event Photography'}, {'alias': 'sessionphotography', 'title': 'Session Photography'}, {'alias': 'estatephotography', 'title': 'Real Estate Photography'}]\",\n",
       "       \"[{'alias': 'videographers', 'title': 'Videographers'}, {'alias': 'sessionphotography', 'title': 'Session Photography'}, {'alias': 'videofilmproductions', 'title': 'Video/Film Production'}]\",\n",
       "       \"[{'alias': 'advertising', 'title': 'Advertising'}, {'alias': 'videographers', 'title': 'Videographers'}, {'alias': 'videofilmproductions', 'title': 'Video/Film Production'}]\",\n",
       "       \"[{'alias': 'videofilmproductions', 'title': 'Video/Film Production'}, {'alias': 'artschools', 'title': 'Art Schools'}, {'alias': 'theater', 'title': 'Performing Arts'}]\",\n",
       "       \"[{'alias': 'videofilmproductions', 'title': 'Video/Film Production'}, {'alias': 'photographers', 'title': 'Photographers'}, {'alias': 'videographers', 'title': 'Videographers'}]\",\n",
       "       \"[{'alias': 'videofilmproductions', 'title': 'Video/Film Production'}, {'alias': 'marketing', 'title': 'Marketing'}, {'alias': 'photographystores', 'title': 'Photography Stores & Services'}]\",\n",
       "       \"[{'alias': 'videofilmproductions', 'title': 'Video/Film Production'}, {'alias': 'web_design', 'title': 'Web Design'}, {'alias': 'graphicdesign', 'title': 'Graphic Design'}]\",\n",
       "       \"[{'alias': 'movietheaters', 'title': 'Cinema'}, {'alias': 'videofilmproductions', 'title': 'Video/Film Production'}]\",\n",
       "       \"[{'alias': 'copyshops', 'title': 'Printing Services'}, {'alias': 'graphicdesign', 'title': 'Graphic Design'}, {'alias': 'signmaking', 'title': 'Signmaking'}]\",\n",
       "       \"[{'alias': 'videofilmproductions', 'title': 'Video/Film Production'}, {'alias': 'photographystores', 'title': 'Photography Stores & Services'}]\",\n",
       "       \"[{'alias': 'videofilmproductions', 'title': 'Video/Film Production'}, {'alias': 'lighting', 'title': 'Lighting Fixtures & Equipment'}]\",\n",
       "       \"[{'alias': 'adultedu', 'title': 'Adult Education'}, {'alias': 'videofilmproductions', 'title': 'Video/Film Production'}, {'alias': 'venues', 'title': 'Venues & Event Spaces'}]\",\n",
       "       \"[{'alias': 'videofilmproductions', 'title': 'Video/Film Production'}, {'alias': 'musicproduction', 'title': 'Music Production Services'}, {'alias': 'sessionphotography', 'title': 'Session Photography'}]\",\n",
       "       \"[{'alias': 'recording_studios', 'title': 'Recording & Rehearsal Studios'}, {'alias': 'videofilmproductions', 'title': 'Video/Film Production'}, {'alias': 'musicproduction', 'title': 'Music Production Services'}]\",\n",
       "       \"[{'alias': 'videofilmproductions', 'title': 'Video/Film Production'}, {'alias': 'marketing', 'title': 'Marketing'}, {'alias': 'sessionphotography', 'title': 'Session Photography'}]\",\n",
       "       \"[{'alias': 'videofilmproductions', 'title': 'Video/Film Production'}, {'alias': 'theater', 'title': 'Performing Arts'}]\",\n",
       "       \"[{'alias': 'videofilmproductions', 'title': 'Video/Film Production'}, {'alias': 'advertising', 'title': 'Advertising'}]\",\n",
       "       \"[{'alias': 'nonprofit', 'title': 'Community Service/Non-Profit'}, {'alias': 'videofilmproductions', 'title': 'Video/Film Production'}]\",\n",
       "       \"[{'alias': 'recording_studios', 'title': 'Recording & Rehearsal Studios'}, {'alias': 'sessionphotography', 'title': 'Session Photography'}, {'alias': 'videofilmproductions', 'title': 'Video/Film Production'}]\",\n",
       "       \"[{'alias': 'videofilmproductions', 'title': 'Video/Film Production'}, {'alias': 'photographystores', 'title': 'Photography Stores & Services'}, {'alias': 'hifi', 'title': 'High Fidelity Audio Equipment'}]\",\n",
       "       \"[{'alias': 'specialtyschools', 'title': 'Specialty Schools'}, {'alias': 'adultedu', 'title': 'Adult Education'}, {'alias': 'videofilmproductions', 'title': 'Video/Film Production'}]\",\n",
       "       \"[{'alias': 'advertising', 'title': 'Advertising'}, {'alias': 'web_design', 'title': 'Web Design'}, {'alias': 'marketing', 'title': 'Marketing'}]\",\n",
       "       \"[{'alias': 'videofilmproductions', 'title': 'Video/Film Production'}, {'alias': 'eventphotography', 'title': 'Event Photography'}, {'alias': 'sessionphotography', 'title': 'Session Photography'}]\",\n",
       "       \"[{'alias': 'venues', 'title': 'Venues & Event Spaces'}, {'alias': 'videofilmproductions', 'title': 'Video/Film Production'}, {'alias': 'artspacerentals', 'title': 'Art Space Rentals'}]\",\n",
       "       \"[{'alias': 'videographers', 'title': 'Videographers'}, {'alias': 'photographers', 'title': 'Photographers'}]\",\n",
       "       \"[{'alias': 'photographystores', 'title': 'Photography Stores & Services'}, {'alias': 'videofilmproductions', 'title': 'Video/Film Production'}, {'alias': 'datarecovery', 'title': 'Data Recovery'}]\",\n",
       "       \"[{'alias': 'videofilmproductions', 'title': 'Video/Film Production'}, {'alias': 'sessionphotography', 'title': 'Session Photography'}, {'alias': 'venues', 'title': 'Venues & Event Spaces'}]\",\n",
       "       \"[{'alias': 'theater', 'title': 'Performing Arts'}, {'alias': 'videofilmproductions', 'title': 'Video/Film Production'}, {'alias': 'galleries', 'title': 'Art Galleries'}]\",\n",
       "       \"[{'alias': 'electronics', 'title': 'Electronics'}, {'alias': 'videofilmproductions', 'title': 'Video/Film Production'}]\",\n",
       "       \"[{'alias': 'artspacerentals', 'title': 'Art Space Rentals'}, {'alias': 'videofilmproductions', 'title': 'Video/Film Production'}]\",\n",
       "       \"[{'alias': 'videofilmproductions', 'title': 'Video/Film Production'}, {'alias': 'photoboothrentals', 'title': 'Photo Booth Rentals'}]\",\n",
       "       \"[{'alias': 'videographers', 'title': 'Videographers'}, {'alias': 'videofilmproductions', 'title': 'Video/Film Production'}, {'alias': 'eventphotography', 'title': 'Event Photography'}]\",\n",
       "       \"[{'alias': 'theater', 'title': 'Performing Arts'}, {'alias': 'educationservices', 'title': 'Educational Services'}, {'alias': 'videofilmproductions', 'title': 'Video/Film Production'}]\",\n",
       "       \"[{'alias': 'videofilmproductions', 'title': 'Video/Film Production'}, {'alias': 'photoboothrentals', 'title': 'Photo Booth Rentals'}, {'alias': 'sessionphotography', 'title': 'Session Photography'}]\",\n",
       "       \"[{'alias': 'videofilmproductions', 'title': 'Video/Film Production'}, {'alias': 'editorialservices', 'title': 'Editorial Services'}, {'alias': 'digitizingservices', 'title': 'Digitizing Services'}]\",\n",
       "       \"[{'alias': 'musicproduction', 'title': 'Music Production Services'}]\",\n",
       "       \"[{'alias': 'marketing', 'title': 'Marketing'}, {'alias': 'advertising', 'title': 'Advertising'}, {'alias': 'publicrelations', 'title': 'Public Relations'}]\",\n",
       "       \"[{'alias': 'videofilmproductions', 'title': 'Video/Film Production'}, {'alias': 'videographers', 'title': 'Videographers'}, {'alias': 'sessionphotography', 'title': 'Session Photography'}]\",\n",
       "       \"[{'alias': 'videographers', 'title': 'Videographers'}, {'alias': 'eventphotography', 'title': 'Event Photography'}]\",\n",
       "       \"[{'alias': 'videofilmproductions', 'title': 'Video/Film Production'}, {'alias': 'advertising', 'title': 'Advertising'}, {'alias': 'videographers', 'title': 'Videographers'}]\",\n",
       "       \"[{'alias': 'web_design', 'title': 'Web Design'}, {'alias': 'graphicdesign', 'title': 'Graphic Design'}, {'alias': 'marketing', 'title': 'Marketing'}]\",\n",
       "       \"[{'alias': 'screen_printing_tshirt_printing', 'title': 'Screen Printing/T-Shirt Printing'}, {'alias': 'web_design', 'title': 'Web Design'}, {'alias': 'advertising', 'title': 'Advertising'}]\",\n",
       "       \"[{'alias': 'videofilmproductions', 'title': 'Video/Film Production'}, {'alias': 'photographers', 'title': 'Photographers'}, {'alias': 'artspacerentals', 'title': 'Art Space Rentals'}]\",\n",
       "       \"[{'alias': 'musicproduction', 'title': 'Music Production Services'}, {'alias': 'videofilmproductions', 'title': 'Video/Film Production'}]\",\n",
       "       \"[{'alias': 'videofilmproductions', 'title': 'Video/Film Production'}, {'alias': 'marketing', 'title': 'Marketing'}, {'alias': 'videographers', 'title': 'Videographers'}]\",\n",
       "       \"[{'alias': 'eventphotography', 'title': 'Event Photography'}, {'alias': 'sessionphotography', 'title': 'Session Photography'}, {'alias': 'videographers', 'title': 'Videographers'}]\",\n",
       "       \"[{'alias': 'talentagencies', 'title': 'Talent Agencies'}, {'alias': 'advertising', 'title': 'Advertising'}, {'alias': 'videofilmproductions', 'title': 'Video/Film Production'}]\",\n",
       "       \"[{'alias': 'sessionphotography', 'title': 'Session Photography'}, {'alias': 'eventphotography', 'title': 'Event Photography'}, {'alias': 'videographers', 'title': 'Videographers'}]\",\n",
       "       \"[{'alias': 'marketing', 'title': 'Marketing'}]\",\n",
       "       \"[{'alias': 'videographers', 'title': 'Videographers'}, {'alias': 'sessionphotography', 'title': 'Session Photography'}, {'alias': 'eventphotography', 'title': 'Event Photography'}]\",\n",
       "       \"[{'alias': 'sessionphotography', 'title': 'Session Photography'}, {'alias': 'videofilmproductions', 'title': 'Video/Film Production'}, {'alias': 'graphicdesign', 'title': 'Graphic Design'}]\",\n",
       "       \"[{'alias': 'web_design', 'title': 'Web Design'}, {'alias': 'copyshops', 'title': 'Printing Services'}, {'alias': 'graphicdesign', 'title': 'Graphic Design'}]\",\n",
       "       \"[{'alias': 'videographers', 'title': 'Videographers'}, {'alias': 'wedding_planning', 'title': 'Wedding Planning'}]\",\n",
       "       \"[{'alias': 'marketing', 'title': 'Marketing'}, {'alias': 'videographers', 'title': 'Videographers'}]\",\n",
       "       \"[{'alias': 'digitizingservices', 'title': 'Digitizing Services'}]\",\n",
       "       \"[{'alias': 'copyshops', 'title': 'Printing Services'}, {'alias': 'graphicdesign', 'title': 'Graphic Design'}, {'alias': 'bookbinding', 'title': 'Bookbinding'}]\",\n",
       "       \"[{'alias': 'photoboothrentals', 'title': 'Photo Booth Rentals'}, {'alias': 'sessionphotography', 'title': 'Session Photography'}, {'alias': 'videofilmproductions', 'title': 'Video/Film Production'}]\",\n",
       "       \"[{'alias': 'photographers', 'title': 'Photographers'}, {'alias': 'videographers', 'title': 'Videographers'}]\",\n",
       "       \"[{'alias': 'copyshops', 'title': 'Printing Services'}, {'alias': 'marketing', 'title': 'Marketing'}, {'alias': 'printmedia', 'title': 'Print Media'}]\",\n",
       "       \"[{'alias': 'businessconsulting', 'title': 'Business Consulting'}, {'alias': 'marketing', 'title': 'Marketing'}, {'alias': 'publicrelations', 'title': 'Public Relations'}]\",\n",
       "       \"[{'alias': 'marketing', 'title': 'Marketing'}, {'alias': 'videographers', 'title': 'Videographers'}, {'alias': 'videofilmproductions', 'title': 'Video/Film Production'}]\",\n",
       "       \"[{'alias': 'recording_studios', 'title': 'Recording & Rehearsal Studios'}, {'alias': 'musicians', 'title': 'Musicians'}, {'alias': 'musicproduction', 'title': 'Music Production Services'}]\",\n",
       "       \"[{'alias': 'copyshops', 'title': 'Printing Services'}, {'alias': 'screen_printing_tshirt_printing', 'title': 'Screen Printing/T-Shirt Printing'}, {'alias': 'graphicdesign', 'title': 'Graphic Design'}]\",\n",
       "       \"[{'alias': 'translationservices', 'title': 'Translation Services'}, {'alias': 'marketing', 'title': 'Marketing'}, {'alias': 'graphicdesign', 'title': 'Graphic Design'}]\",\n",
       "       \"[{'alias': 'wholesale_stores', 'title': 'Wholesale Stores'}, {'alias': 'kitchenandbath', 'title': 'Kitchen & Bath'}, {'alias': 'suppliesrestaurant', 'title': 'Restaurant Supplies'}]\",\n",
       "       \"[{'alias': 'desserts', 'title': 'Desserts'}, {'alias': 'foodtrucks', 'title': 'Food Trucks'}, {'alias': 'marketing', 'title': 'Marketing'}]\",\n",
       "       \"[{'alias': 'videofilmproductions', 'title': 'Video/Film Production'}, {'alias': 'eventphotography', 'title': 'Event Photography'}, {'alias': 'videographers', 'title': 'Videographers'}]\",\n",
       "       \"[{'alias': 'musicproduction', 'title': 'Music Production Services'}, {'alias': 'recording_studios', 'title': 'Recording & Rehearsal Studios'}]\",\n",
       "       \"[{'alias': 'copyshops', 'title': 'Printing Services'}, {'alias': 'graphicdesign', 'title': 'Graphic Design'}, {'alias': 'sessionphotography', 'title': 'Session Photography'}]\",\n",
       "       \"[{'alias': 'graphicdesign', 'title': 'Graphic Design'}, {'alias': 'copyshops', 'title': 'Printing Services'}, {'alias': 'signmaking', 'title': 'Signmaking'}]\",\n",
       "       \"[{'alias': 'recording_studios', 'title': 'Recording & Rehearsal Studios'}, {'alias': 'musicproduction', 'title': 'Music Production Services'}]\",\n",
       "       \"[{'alias': 'copyshops', 'title': 'Printing Services'}, {'alias': 'artrestoration', 'title': 'Art Restoration'}, {'alias': 'digitizingservices', 'title': 'Digitizing Services'}]\",\n",
       "       \"[{'alias': 'photoboothrentals', 'title': 'Photo Booth Rentals'}, {'alias': 'videographers', 'title': 'Videographers'}]\",\n",
       "       \"[{'alias': 'graphicdesign', 'title': 'Graphic Design'}, {'alias': 'eventphotography', 'title': 'Event Photography'}]\",\n",
       "       \"[{'alias': 'partyequipmentrentals', 'title': 'Party Equipment Rentals'}, {'alias': 'videographers', 'title': 'Videographers'}, {'alias': 'eventphotography', 'title': 'Event Photography'}]\",\n",
       "       \"[{'alias': 'videofilmproductions', 'title': 'Video/Film Production'}, {'alias': 'photographers', 'title': 'Photographers'}]\",\n",
       "       \"[{'alias': 'copyshops', 'title': 'Printing Services'}, {'alias': 'photographystores', 'title': 'Photography Stores & Services'}, {'alias': 'signmaking', 'title': 'Signmaking'}]\",\n",
       "       \"[{'alias': 'videographers', 'title': 'Videographers'}, {'alias': 'djs', 'title': 'DJs'}, {'alias': 'photographers', 'title': 'Photographers'}]\",\n",
       "       \"[{'alias': 'screen_printing_tshirt_printing', 'title': 'Screen Printing/T-Shirt Printing'}, {'alias': 'copyshops', 'title': 'Printing Services'}, {'alias': 'graphicdesign', 'title': 'Graphic Design'}]\",\n",
       "       \"[{'alias': 'officecleaning', 'title': 'Office Cleaning'}, {'alias': 'damagerestoration', 'title': 'Damage Restoration'}, {'alias': 'pressurewashers', 'title': 'Pressure Washers'}]\",\n",
       "       \"[{'alias': 'copyshops', 'title': 'Printing Services'}, {'alias': 'graphicdesign', 'title': 'Graphic Design'}]\",\n",
       "       \"[{'alias': 'advertising', 'title': 'Advertising'}, {'alias': 'marketing', 'title': 'Marketing'}, {'alias': 'publicrelations', 'title': 'Public Relations'}]\",\n",
       "       \"[{'alias': 'copyshops', 'title': 'Printing Services'}, {'alias': 'signmaking', 'title': 'Signmaking'}, {'alias': 'bookbinding', 'title': 'Bookbinding'}]\",\n",
       "       \"[{'alias': 'commissionedartists', 'title': 'Commissioned Artists'}]\",\n",
       "       \"[{'alias': 'copyshops', 'title': 'Printing Services'}, {'alias': 'eventphotography', 'title': 'Event Photography'}, {'alias': 'graphicdesign', 'title': 'Graphic Design'}]\",\n",
       "       \"[{'alias': 'photographystores', 'title': 'Photography Stores & Services'}, {'alias': 'framing', 'title': 'Framing'}, {'alias': 'digitizingservices', 'title': 'Digitizing Services'}]\",\n",
       "       \"[{'alias': 'entertainmentlaw', 'title': 'Entertainment Law'}]\",\n",
       "       \"[{'alias': 'djs', 'title': 'DJs'}, {'alias': 'videographers', 'title': 'Videographers'}, {'alias': 'eventplanning', 'title': 'Party & Event Planning'}]\",\n",
       "       \"[{'alias': 'legalservices', 'title': 'Legal Services'}, {'alias': 'businesslawyers', 'title': 'Business Law'}]\",\n",
       "       \"[{'alias': 'photoboothrentals', 'title': 'Photo Booth Rentals'}, {'alias': 'eventphotography', 'title': 'Event Photography'}, {'alias': 'videographers', 'title': 'Videographers'}]\",\n",
       "       \"[{'alias': 'eventphotography', 'title': 'Event Photography'}, {'alias': 'videographers', 'title': 'Videographers'}]\",\n",
       "       \"[{'alias': 'employmentlawyers', 'title': 'Employment Law'}, {'alias': 'businesslawyers', 'title': 'Business Law'}, {'alias': 'entertainmentlaw', 'title': 'Entertainment Law'}]\",\n",
       "       \"[{'alias': 'signmaking', 'title': 'Signmaking'}, {'alias': 'tvmounting', 'title': 'TV Mounting'}, {'alias': 'metalfabricators', 'title': 'Metal Fabricators'}]\",\n",
       "       \"[{'alias': 'graphicdesign', 'title': 'Graphic Design'}, {'alias': 'web_design', 'title': 'Web Design'}, {'alias': 'copyshops', 'title': 'Printing Services'}]\",\n",
       "       \"[{'alias': 'lifecoach', 'title': 'Life Coach'}, {'alias': 'reiki', 'title': 'Reiki'}]\",\n",
       "       \"[{'alias': 'recording_studios', 'title': 'Recording & Rehearsal Studios'}, {'alias': 'venues', 'title': 'Venues & Event Spaces'}, {'alias': 'musicproduction', 'title': 'Music Production Services'}]\",\n",
       "       '[]',\n",
       "       \"[{'alias': 'eventphotography', 'title': 'Event Photography'}, {'alias': 'videographers', 'title': 'Videographers'}, {'alias': 'photoboothrentals', 'title': 'Photo Booth Rentals'}]\",\n",
       "       \"[{'alias': 'lifecoach', 'title': 'Life Coach'}]\",\n",
       "       \"[{'alias': 'photographystores', 'title': 'Photography Stores & Services'}, {'alias': 'eventphotography', 'title': 'Event Photography'}, {'alias': 'videographers', 'title': 'Videographers'}]\",\n",
       "       \"[{'alias': 'signmaking', 'title': 'Signmaking'}, {'alias': 'vehiclewraps', 'title': 'Vehicle Wraps'}, {'alias': 'graphicdesign', 'title': 'Graphic Design'}]\",\n",
       "       \"[{'alias': 'personal_shopping', 'title': 'Personal Shopping'}, {'alias': 'businessconsulting', 'title': 'Business Consulting'}]\",\n",
       "       \"[{'alias': 'careercounseling', 'title': 'Career Counseling'}]\",\n",
       "       \"[{'alias': 'signmaking', 'title': 'Signmaking'}]\",\n",
       "       \"[{'alias': 'bartenders', 'title': 'Bartenders'}, {'alias': 'employmentagencies', 'title': 'Employment Agencies'}, {'alias': 'talentagencies', 'title': 'Talent Agencies'}]\",\n",
       "       \"[{'alias': 'talentagencies', 'title': 'Talent Agencies'}]\",\n",
       "       \"[{'alias': 'eventphotography', 'title': 'Event Photography'}, {'alias': 'videographers', 'title': 'Videographers'}, {'alias': 'sessionphotography', 'title': 'Session Photography'}]\",\n",
       "       \"[{'alias': 'copyshops', 'title': 'Printing Services'}, {'alias': 'signmaking', 'title': 'Signmaking'}]\",\n",
       "       \"[{'alias': 'photographystores', 'title': 'Photography Stores & Services'}, {'alias': 'sessionphotography', 'title': 'Session Photography'}, {'alias': 'digitizingservices', 'title': 'Digitizing Services'}]\",\n",
       "       \"[{'alias': 'copyshops', 'title': 'Printing Services'}, {'alias': 'shipping_centers', 'title': 'Shipping Centers'}, {'alias': 'signmaking', 'title': 'Signmaking'}]\",\n",
       "       \"[{'alias': 'employmentagencies', 'title': 'Employment Agencies'}]\",\n",
       "       \"[{'alias': 'shipping_centers', 'title': 'Shipping Centers'}, {'alias': 'copyshops', 'title': 'Printing Services'}, {'alias': 'signmaking', 'title': 'Signmaking'}]\",\n",
       "       \"[{'alias': 'privateinvestigation', 'title': 'Private Investigation'}, {'alias': 'security', 'title': 'Security Services'}]\",\n",
       "       \"[{'alias': 'autoglass', 'title': 'Auto Glass Services'}, {'alias': 'signmaking', 'title': 'Signmaking'}, {'alias': 'homewindowtinting', 'title': 'Home Window Tinting'}]\",\n",
       "       \"[{'alias': 'videofilmproductions', 'title': 'Video/Film Production'}, {'alias': 'eventphotography', 'title': 'Event Photography'}]\",\n",
       "       \"[{'alias': 'videofilmproductions', 'title': 'Video/Film Production'}, {'alias': 'web_design', 'title': 'Web Design'}, {'alias': 'sessionphotography', 'title': 'Session Photography'}]\"],\n",
       "      dtype=object)"
      ]
     },
     "execution_count": 314,
     "metadata": {},
     "output_type": "execute_result"
    }
   ],
   "source": [
    "df_fp_ny['Categories'].unique() # checking unique items in categories to see if we can find some more undesirable results."
   ]
  },
  {
   "cell_type": "code",
   "execution_count": 315,
   "metadata": {},
   "outputs": [],
   "source": [
    "# Now, let's remove a whole bunch more...\n",
    "df_fp_ny = df_fp_ny.loc[(df_fp_ny['Categories'].str.contains('copyshops') == False) \n",
    "                        & (df_fp_ny['Categories'].str.contains('nonprofit') == False) \n",
    "                        & (df_fp_ny['Categories'].str.contains('movietheaters') == False) \n",
    "                        & (df_fp_ny['Categories'].str.contains('venues') == False) \n",
    "                        & (df_fp_ny['Categories'].str.contains('galleries') == False) \n",
    "                        & (df_fp_ny['Categories'].str.contains('artspacerentals') == False) \n",
    "                        & (df_fp_ny['Categories'].str.contains('publicrelations') == False) \n",
    "                        & (df_fp_ny['Categories'].str.contains('wholesale_stores') == False) \n",
    "                        & (df_fp_ny['Categories'].str.contains('suppliesrestaurant') == False) \n",
    "                        & (df_fp_ny['Categories'].str.contains('legalservices') == False) \n",
    "                        & (df_fp_ny['Categories'].str.contains('lifecoach') == False) \n",
    "                        & (df_fp_ny['Categories'].str.contains('signmaking') == False)  \n",
    "                        & (df_fp_ny['Categories'].str.contains('entertainmentlaw') == False) \n",
    "                        & (df_fp_ny['Categories'].str.contains('personal_shopping') == False) \n",
    "                        & (df_fp_ny['Categories'].str.contains('careercounseling') == False) \n",
    "                        & (df_fp_ny['Categories'].str.contains('bartenders') == False) \n",
    "                        & (df_fp_ny['Categories'].str.contains('privateinvestigation') == False) \n",
    "                        & (df_fp_ny['Categories'].str.contains('autoglass') == False)\n",
    "                       ]"
   ]
  },
  {
   "cell_type": "code",
   "execution_count": 316,
   "metadata": {
    "scrolled": true
   },
   "outputs": [],
   "source": [
    "df_fp_la = df_fp_la.loc[(df_fp_la['Categories'].str.contains('copyshops') == False) \n",
    "                        & (df_fp_la['Categories'].str.contains('nonprofit') == False) \n",
    "                        & (df_fp_la['Categories'].str.contains('movietheaters') == False) \n",
    "                        & (df_fp_la['Categories'].str.contains('venues') == False) \n",
    "                        & (df_fp_la['Categories'].str.contains('galleries') == False) \n",
    "                        & (df_fp_la['Categories'].str.contains('artspacerentals') == False) \n",
    "                        & (df_fp_la['Categories'].str.contains('publicrelations') == False) \n",
    "                        & (df_fp_la['Categories'].str.contains('wholesale_stores') == False) \n",
    "                        & (df_fp_la['Categories'].str.contains('suppliesrestaurant') == False) \n",
    "                        & (df_fp_la['Categories'].str.contains('legalservices') == False) \n",
    "                        & (df_fp_la['Categories'].str.contains('lifecoach') == False) \n",
    "                        & (df_fp_la['Categories'].str.contains('signmaking') == False)  \n",
    "                        & (df_fp_la['Categories'].str.contains('entertainmentlaw') == False) \n",
    "                        & (df_fp_la['Categories'].str.contains('personal_shopping') == False) \n",
    "                        & (df_fp_la['Categories'].str.contains('careercounseling') == False) \n",
    "                        & (df_fp_la['Categories'].str.contains('bartenders') == False) \n",
    "                        & (df_fp_la['Categories'].str.contains('privateinvestigation') == False) \n",
    "                        & (df_fp_la['Categories'].str.contains('autoglass') == False)\n",
    "                        & (df_fp_la['Categories'].str.contains('mobilephones') == False) \n",
    "                        & (df_fp_la['Categories'].str.contains('isps') == False) \n",
    "                        & (df_fp_la['Categories'].str.contains('homecleaning') == False) \n",
    "                        & (df_fp_la['Categories'].str.contains('architects') == False)\n",
    "                        & (df_fp_la['Categories'].str.contains('computers') == False) \n",
    "                        & (df_fp_la['Categories'].str.contains('couriers') == False) \n",
    "                        & (df_fp_la['Categories'].str.contains('dramaschools') == False) \n",
    "                        & (df_fp_la['Categories'].str.contains('wedding_planning') == False)\n",
    "                        & (df_fp_la['Categories'].str.contains('gourmet') == False) \n",
    "                        & (df_fp_la['Categories'].str.contains('hobbyshops') == False) \n",
    "                        & (df_fp_la['Categories'].str.contains('security') == False)\n",
    "                        & (df_fp_la['Categories'].str.contains('itservices') == False) \n",
    "                        & (df_fp_la['Categories'].str.contains('businessconsulting') == False) \n",
    "                        & (df_fp_la['Categories'].str.contains('businesslawyers') == False) \n",
    "                        & (df_fp_la['Categories'].str.contains('framing') == False)\n",
    "                       ]"
   ]
  },
  {
   "cell_type": "code",
   "execution_count": 328,
   "metadata": {},
   "outputs": [],
   "source": [
    "df_fp_la = df_fp_la.loc[(df_fp_la['Name'] != 'DVD Your Memories')] \n",
    "df_fp_la = df_fp_la.loc[(df_fp_la['Name'] != 'Nick Metropolis Collectible Furniture')] \n",
    "df_fp_la = df_fp_la.loc[(df_fp_la['Name'] != 'Take Sessions')] \n",
    "df_fp_la = df_fp_la.loc[(df_fp_la['Name'] != 'Nick Metropolis Collectible Furniture')]"
   ]
  },
  {
   "cell_type": "code",
   "execution_count": 329,
   "metadata": {},
   "outputs": [],
   "source": [
    "df_fp_ga = df_fp_ga.loc[(df_fp_ga['Categories'].str.contains('copyshops') == False) \n",
    "                        & (df_fp_ga['Categories'].str.contains('nonprofit') == False) \n",
    "                        & (df_fp_ga['Categories'].str.contains('movietheaters') == False) \n",
    "                        & (df_fp_ga['Categories'].str.contains('venues') == False) \n",
    "                        & (df_fp_ga['Categories'].str.contains('galleries') == False) \n",
    "                        & (df_fp_ga['Categories'].str.contains('artspacerentals') == False) \n",
    "                        & (df_fp_ga['Categories'].str.contains('publicrelations') == False) \n",
    "                        & (df_fp_ga['Categories'].str.contains('wholesale_stores') == False) \n",
    "                        & (df_fp_ga['Categories'].str.contains('suppliesrestaurant') == False) \n",
    "                        & (df_fp_ga['Categories'].str.contains('legalservices') == False) \n",
    "                        & (df_fp_ga['Categories'].str.contains('lifecoach') == False) \n",
    "                        & (df_fp_ga['Categories'].str.contains('signmaking') == False)  \n",
    "                        & (df_fp_ga['Categories'].str.contains('entertainmentlaw') == False) \n",
    "                        & (df_fp_ga['Categories'].str.contains('personal_shopping') == False) \n",
    "                        & (df_fp_ga['Categories'].str.contains('careercounseling') == False) \n",
    "                        & (df_fp_ga['Categories'].str.contains('bartenders') == False) \n",
    "                        & (df_fp_ga['Categories'].str.contains('privateinvestigation') == False) \n",
    "                        & (df_fp_ga['Categories'].str.contains('autoglass') == False)\n",
    "                        & (df_fp_ga['Categories'].str.contains('mobilephones') == False) \n",
    "                        & (df_fp_ga['Categories'].str.contains('isps') == False) \n",
    "                        & (df_fp_ga['Categories'].str.contains('homecleaning') == False) \n",
    "                        & (df_fp_ga['Categories'].str.contains('architects') == False) \n",
    "                        & (df_fp_ga['Categories'].str.contains('computers') == False) \n",
    "                        & (df_fp_ga['Categories'].str.contains('couriers') == False) \n",
    "                        & (df_fp_ga['Categories'].str.contains('dramaschools') == False) \n",
    "                        & (df_fp_ga['Categories'].str.contains('wedding_planning') == False)\n",
    "                        & (df_fp_ga['Categories'].str.contains('gourmet') == False) \n",
    "                        & (df_fp_ga['Categories'].str.contains('hobbyshops') == False) \n",
    "                        & (df_fp_ga['Categories'].str.contains('security') == False)\n",
    "                        & (df_fp_ga['Categories'].str.contains('itservices') == False) \n",
    "                        & (df_fp_ga['Categories'].str.contains('businessconsulting') == False) \n",
    "                        & (df_fp_ga['Categories'].str.contains('businesslawyers') == False) \n",
    "                        & (df_fp_ga['Categories'].str.contains('framing') == False)\n",
    "                        & (df_fp_ga['Categories'].str.contains('musicians') == False)\n",
    "                       ] # if somebody knows how to make code cells collapsible in Jupyter Notebooks, please let Mike know"
   ]
  },
  {
   "cell_type": "markdown",
   "metadata": {},
   "source": [
    "We use the .unique() method to give these a glance and ensure that remaining categories look relevant to film, television, and/or media production"
   ]
  },
  {
   "cell_type": "code",
   "execution_count": 330,
   "metadata": {},
   "outputs": [],
   "source": [
    "# df_fp_la['Categories'].unique()\n",
    "# df_fp_ga['Categories'].unique() "
   ]
  },
  {
   "cell_type": "markdown",
   "metadata": {},
   "source": [
    "# *On to our Analysis!*"
   ]
  },
  {
   "cell_type": "markdown",
   "metadata": {},
   "source": [
    "#### Introductory Analysis of Descriptive Stats:"
   ]
  },
  {
   "cell_type": "code",
   "execution_count": 331,
   "metadata": {
    "scrolled": false
   },
   "outputs": [
    {
     "data": {
      "text/html": [
       "<div>\n",
       "<style scoped>\n",
       "    .dataframe tbody tr th:only-of-type {\n",
       "        vertical-align: middle;\n",
       "    }\n",
       "\n",
       "    .dataframe tbody tr th {\n",
       "        vertical-align: top;\n",
       "    }\n",
       "\n",
       "    .dataframe thead th {\n",
       "        text-align: right;\n",
       "    }\n",
       "</style>\n",
       "<table border=\"1\" class=\"dataframe\">\n",
       "  <thead>\n",
       "    <tr style=\"text-align: right;\">\n",
       "      <th></th>\n",
       "      <th>Rating</th>\n",
       "      <th>Review Count</th>\n",
       "      <th>Price</th>\n",
       "    </tr>\n",
       "  </thead>\n",
       "  <tbody>\n",
       "    <tr>\n",
       "      <th>count</th>\n",
       "      <td>232.000000</td>\n",
       "      <td>232.000000</td>\n",
       "      <td>6.000000</td>\n",
       "    </tr>\n",
       "    <tr>\n",
       "      <th>mean</th>\n",
       "      <td>4.448276</td>\n",
       "      <td>9.387931</td>\n",
       "      <td>2.166667</td>\n",
       "    </tr>\n",
       "    <tr>\n",
       "      <th>std</th>\n",
       "      <td>1.033800</td>\n",
       "      <td>19.407131</td>\n",
       "      <td>0.983192</td>\n",
       "    </tr>\n",
       "    <tr>\n",
       "      <th>min</th>\n",
       "      <td>1.000000</td>\n",
       "      <td>1.000000</td>\n",
       "      <td>1.000000</td>\n",
       "    </tr>\n",
       "    <tr>\n",
       "      <th>25%</th>\n",
       "      <td>4.500000</td>\n",
       "      <td>1.000000</td>\n",
       "      <td>2.000000</td>\n",
       "    </tr>\n",
       "    <tr>\n",
       "      <th>50%</th>\n",
       "      <td>5.000000</td>\n",
       "      <td>4.000000</td>\n",
       "      <td>2.000000</td>\n",
       "    </tr>\n",
       "    <tr>\n",
       "      <th>75%</th>\n",
       "      <td>5.000000</td>\n",
       "      <td>9.250000</td>\n",
       "      <td>2.000000</td>\n",
       "    </tr>\n",
       "    <tr>\n",
       "      <th>max</th>\n",
       "      <td>5.000000</td>\n",
       "      <td>165.000000</td>\n",
       "      <td>4.000000</td>\n",
       "    </tr>\n",
       "  </tbody>\n",
       "</table>\n",
       "</div>"
      ],
      "text/plain": [
       "           Rating  Review Count     Price\n",
       "count  232.000000    232.000000  6.000000\n",
       "mean     4.448276      9.387931  2.166667\n",
       "std      1.033800     19.407131  0.983192\n",
       "min      1.000000      1.000000  1.000000\n",
       "25%      4.500000      1.000000  2.000000\n",
       "50%      5.000000      4.000000  2.000000\n",
       "75%      5.000000      9.250000  2.000000\n",
       "max      5.000000    165.000000  4.000000"
      ]
     },
     "execution_count": 331,
     "metadata": {},
     "output_type": "execute_result"
    }
   ],
   "source": [
    "df_fp_ny.describe() # Descriptive Stats for NYC"
   ]
  },
  {
   "cell_type": "code",
   "execution_count": 332,
   "metadata": {
    "scrolled": false
   },
   "outputs": [
    {
     "data": {
      "text/html": [
       "<div>\n",
       "<style scoped>\n",
       "    .dataframe tbody tr th:only-of-type {\n",
       "        vertical-align: middle;\n",
       "    }\n",
       "\n",
       "    .dataframe tbody tr th {\n",
       "        vertical-align: top;\n",
       "    }\n",
       "\n",
       "    .dataframe thead th {\n",
       "        text-align: right;\n",
       "    }\n",
       "</style>\n",
       "<table border=\"1\" class=\"dataframe\">\n",
       "  <thead>\n",
       "    <tr style=\"text-align: right;\">\n",
       "      <th></th>\n",
       "      <th>Rating</th>\n",
       "      <th>Review Count</th>\n",
       "      <th>Price</th>\n",
       "    </tr>\n",
       "  </thead>\n",
       "  <tbody>\n",
       "    <tr>\n",
       "      <th>count</th>\n",
       "      <td>41.000000</td>\n",
       "      <td>41.000000</td>\n",
       "      <td>1.0</td>\n",
       "    </tr>\n",
       "    <tr>\n",
       "      <th>mean</th>\n",
       "      <td>4.317073</td>\n",
       "      <td>2.317073</td>\n",
       "      <td>2.0</td>\n",
       "    </tr>\n",
       "    <tr>\n",
       "      <th>std</th>\n",
       "      <td>1.273558</td>\n",
       "      <td>2.524272</td>\n",
       "      <td>NaN</td>\n",
       "    </tr>\n",
       "    <tr>\n",
       "      <th>min</th>\n",
       "      <td>1.000000</td>\n",
       "      <td>1.000000</td>\n",
       "      <td>2.0</td>\n",
       "    </tr>\n",
       "    <tr>\n",
       "      <th>25%</th>\n",
       "      <td>4.000000</td>\n",
       "      <td>1.000000</td>\n",
       "      <td>2.0</td>\n",
       "    </tr>\n",
       "    <tr>\n",
       "      <th>50%</th>\n",
       "      <td>5.000000</td>\n",
       "      <td>1.000000</td>\n",
       "      <td>2.0</td>\n",
       "    </tr>\n",
       "    <tr>\n",
       "      <th>75%</th>\n",
       "      <td>5.000000</td>\n",
       "      <td>2.000000</td>\n",
       "      <td>2.0</td>\n",
       "    </tr>\n",
       "    <tr>\n",
       "      <th>max</th>\n",
       "      <td>5.000000</td>\n",
       "      <td>14.000000</td>\n",
       "      <td>2.0</td>\n",
       "    </tr>\n",
       "  </tbody>\n",
       "</table>\n",
       "</div>"
      ],
      "text/plain": [
       "          Rating  Review Count  Price\n",
       "count  41.000000     41.000000    1.0\n",
       "mean    4.317073      2.317073    2.0\n",
       "std     1.273558      2.524272    NaN\n",
       "min     1.000000      1.000000    2.0\n",
       "25%     4.000000      1.000000    2.0\n",
       "50%     5.000000      1.000000    2.0\n",
       "75%     5.000000      2.000000    2.0\n",
       "max     5.000000     14.000000    2.0"
      ]
     },
     "execution_count": 332,
     "metadata": {},
     "output_type": "execute_result"
    }
   ],
   "source": [
    "df_fp_ga.describe() # Descriptive Stats for Atlanta"
   ]
  },
  {
   "cell_type": "code",
   "execution_count": 442,
   "metadata": {},
   "outputs": [
    {
     "ename": "KeyError",
     "evalue": "'Rating'",
     "output_type": "error",
     "traceback": [
      "\u001b[0;31m---------------------------------------------------------------------------\u001b[0m",
      "\u001b[0;31mKeyError\u001b[0m                                  Traceback (most recent call last)",
      "\u001b[0;32m/opt/anaconda3/lib/python3.8/site-packages/pandas/core/indexes/base.py\u001b[0m in \u001b[0;36mget_loc\u001b[0;34m(self, key, method, tolerance)\u001b[0m\n\u001b[1;32m   2894\u001b[0m             \u001b[0;32mtry\u001b[0m\u001b[0;34m:\u001b[0m\u001b[0;34m\u001b[0m\u001b[0;34m\u001b[0m\u001b[0m\n\u001b[0;32m-> 2895\u001b[0;31m                 \u001b[0;32mreturn\u001b[0m \u001b[0mself\u001b[0m\u001b[0;34m.\u001b[0m\u001b[0m_engine\u001b[0m\u001b[0;34m.\u001b[0m\u001b[0mget_loc\u001b[0m\u001b[0;34m(\u001b[0m\u001b[0mcasted_key\u001b[0m\u001b[0;34m)\u001b[0m\u001b[0;34m\u001b[0m\u001b[0;34m\u001b[0m\u001b[0m\n\u001b[0m\u001b[1;32m   2896\u001b[0m             \u001b[0;32mexcept\u001b[0m \u001b[0mKeyError\u001b[0m \u001b[0;32mas\u001b[0m \u001b[0merr\u001b[0m\u001b[0;34m:\u001b[0m\u001b[0;34m\u001b[0m\u001b[0;34m\u001b[0m\u001b[0m\n",
      "\u001b[0;32mpandas/_libs/index.pyx\u001b[0m in \u001b[0;36mpandas._libs.index.IndexEngine.get_loc\u001b[0;34m()\u001b[0m\n",
      "\u001b[0;32mpandas/_libs/index.pyx\u001b[0m in \u001b[0;36mpandas._libs.index.IndexEngine.get_loc\u001b[0;34m()\u001b[0m\n",
      "\u001b[0;32mpandas/_libs/index_class_helper.pxi\u001b[0m in \u001b[0;36mpandas._libs.index.Int64Engine._check_type\u001b[0;34m()\u001b[0m\n",
      "\u001b[0;31mKeyError\u001b[0m: 'Rating'",
      "\nThe above exception was the direct cause of the following exception:\n",
      "\u001b[0;31mKeyError\u001b[0m                                  Traceback (most recent call last)",
      "\u001b[0;32m<ipython-input-442-4fc8c67d9c3b>\u001b[0m in \u001b[0;36m<module>\u001b[0;34m\u001b[0m\n\u001b[1;32m      7\u001b[0m \u001b[0;34m\u001b[0m\u001b[0m\n\u001b[1;32m      8\u001b[0m \u001b[0;31m# # NY\u001b[0m\u001b[0;34m\u001b[0m\u001b[0;34m\u001b[0m\u001b[0;34m\u001b[0m\u001b[0m\n\u001b[0;32m----> 9\u001b[0;31m \u001b[0mg1\u001b[0m \u001b[0;34m=\u001b[0m \u001b[0msns\u001b[0m\u001b[0;34m.\u001b[0m\u001b[0mscatterplot\u001b[0m\u001b[0;34m(\u001b[0m\u001b[0mx\u001b[0m\u001b[0;34m=\u001b[0m \u001b[0mny_hr_p2\u001b[0m\u001b[0;34m[\u001b[0m\u001b[0;34m'Rating'\u001b[0m\u001b[0;34m]\u001b[0m\u001b[0;34m,\u001b[0m \u001b[0my\u001b[0m\u001b[0;34m=\u001b[0m \u001b[0mny_hr_p2\u001b[0m\u001b[0;34m[\u001b[0m\u001b[0;34m'Review Count'\u001b[0m\u001b[0;34m]\u001b[0m\u001b[0;34m.\u001b[0m\u001b[0mvalues\u001b[0m\u001b[0;34m,\u001b[0m \u001b[0mcolor\u001b[0m \u001b[0;34m=\u001b[0m \u001b[0;34m'#1F77B4'\u001b[0m\u001b[0;34m)\u001b[0m\u001b[0;34m\u001b[0m\u001b[0;34m\u001b[0m\u001b[0m\n\u001b[0m\u001b[1;32m     10\u001b[0m \u001b[0;34m\u001b[0m\u001b[0m\n\u001b[1;32m     11\u001b[0m \u001b[0;34m\u001b[0m\u001b[0m\n",
      "\u001b[0;32m/opt/anaconda3/lib/python3.8/site-packages/pandas/core/series.py\u001b[0m in \u001b[0;36m__getitem__\u001b[0;34m(self, key)\u001b[0m\n\u001b[1;32m    880\u001b[0m \u001b[0;34m\u001b[0m\u001b[0m\n\u001b[1;32m    881\u001b[0m         \u001b[0;32melif\u001b[0m \u001b[0mkey_is_scalar\u001b[0m\u001b[0;34m:\u001b[0m\u001b[0;34m\u001b[0m\u001b[0;34m\u001b[0m\u001b[0m\n\u001b[0;32m--> 882\u001b[0;31m             \u001b[0;32mreturn\u001b[0m \u001b[0mself\u001b[0m\u001b[0;34m.\u001b[0m\u001b[0m_get_value\u001b[0m\u001b[0;34m(\u001b[0m\u001b[0mkey\u001b[0m\u001b[0;34m)\u001b[0m\u001b[0;34m\u001b[0m\u001b[0;34m\u001b[0m\u001b[0m\n\u001b[0m\u001b[1;32m    883\u001b[0m \u001b[0;34m\u001b[0m\u001b[0m\n\u001b[1;32m    884\u001b[0m         \u001b[0;32mif\u001b[0m \u001b[0mis_hashable\u001b[0m\u001b[0;34m(\u001b[0m\u001b[0mkey\u001b[0m\u001b[0;34m)\u001b[0m\u001b[0;34m:\u001b[0m\u001b[0;34m\u001b[0m\u001b[0;34m\u001b[0m\u001b[0m\n",
      "\u001b[0;32m/opt/anaconda3/lib/python3.8/site-packages/pandas/core/series.py\u001b[0m in \u001b[0;36m_get_value\u001b[0;34m(self, label, takeable)\u001b[0m\n\u001b[1;32m    987\u001b[0m \u001b[0;34m\u001b[0m\u001b[0m\n\u001b[1;32m    988\u001b[0m         \u001b[0;31m# Similar to Index.get_value, but we do not fall back to positional\u001b[0m\u001b[0;34m\u001b[0m\u001b[0;34m\u001b[0m\u001b[0;34m\u001b[0m\u001b[0m\n\u001b[0;32m--> 989\u001b[0;31m         \u001b[0mloc\u001b[0m \u001b[0;34m=\u001b[0m \u001b[0mself\u001b[0m\u001b[0;34m.\u001b[0m\u001b[0mindex\u001b[0m\u001b[0;34m.\u001b[0m\u001b[0mget_loc\u001b[0m\u001b[0;34m(\u001b[0m\u001b[0mlabel\u001b[0m\u001b[0;34m)\u001b[0m\u001b[0;34m\u001b[0m\u001b[0;34m\u001b[0m\u001b[0m\n\u001b[0m\u001b[1;32m    990\u001b[0m         \u001b[0;32mreturn\u001b[0m \u001b[0mself\u001b[0m\u001b[0;34m.\u001b[0m\u001b[0mindex\u001b[0m\u001b[0;34m.\u001b[0m\u001b[0m_get_values_for_loc\u001b[0m\u001b[0;34m(\u001b[0m\u001b[0mself\u001b[0m\u001b[0;34m,\u001b[0m \u001b[0mloc\u001b[0m\u001b[0;34m,\u001b[0m \u001b[0mlabel\u001b[0m\u001b[0;34m)\u001b[0m\u001b[0;34m\u001b[0m\u001b[0;34m\u001b[0m\u001b[0m\n\u001b[1;32m    991\u001b[0m \u001b[0;34m\u001b[0m\u001b[0m\n",
      "\u001b[0;32m/opt/anaconda3/lib/python3.8/site-packages/pandas/core/indexes/base.py\u001b[0m in \u001b[0;36mget_loc\u001b[0;34m(self, key, method, tolerance)\u001b[0m\n\u001b[1;32m   2895\u001b[0m                 \u001b[0;32mreturn\u001b[0m \u001b[0mself\u001b[0m\u001b[0;34m.\u001b[0m\u001b[0m_engine\u001b[0m\u001b[0;34m.\u001b[0m\u001b[0mget_loc\u001b[0m\u001b[0;34m(\u001b[0m\u001b[0mcasted_key\u001b[0m\u001b[0;34m)\u001b[0m\u001b[0;34m\u001b[0m\u001b[0;34m\u001b[0m\u001b[0m\n\u001b[1;32m   2896\u001b[0m             \u001b[0;32mexcept\u001b[0m \u001b[0mKeyError\u001b[0m \u001b[0;32mas\u001b[0m \u001b[0merr\u001b[0m\u001b[0;34m:\u001b[0m\u001b[0;34m\u001b[0m\u001b[0;34m\u001b[0m\u001b[0m\n\u001b[0;32m-> 2897\u001b[0;31m                 \u001b[0;32mraise\u001b[0m \u001b[0mKeyError\u001b[0m\u001b[0;34m(\u001b[0m\u001b[0mkey\u001b[0m\u001b[0;34m)\u001b[0m \u001b[0;32mfrom\u001b[0m \u001b[0merr\u001b[0m\u001b[0;34m\u001b[0m\u001b[0;34m\u001b[0m\u001b[0m\n\u001b[0m\u001b[1;32m   2898\u001b[0m \u001b[0;34m\u001b[0m\u001b[0m\n\u001b[1;32m   2899\u001b[0m         \u001b[0;32mif\u001b[0m \u001b[0mtolerance\u001b[0m \u001b[0;32mis\u001b[0m \u001b[0;32mnot\u001b[0m \u001b[0;32mNone\u001b[0m\u001b[0;34m:\u001b[0m\u001b[0;34m\u001b[0m\u001b[0;34m\u001b[0m\u001b[0m\n",
      "\u001b[0;31mKeyError\u001b[0m: 'Rating'"
     ]
    },
    {
     "data": {
      "image/png": "[encoded data removed]",
      "text/plain": [
       "<Figure size 1080x360 with 1 Axes>"
      ]
     },
     "metadata": {
      "needs_background": "light"
     },
     "output_type": "display_data"
    }
   ],
   "source": []
  },
  {
   "cell_type": "markdown",
   "metadata": {},
   "source": [
    "### Initial Takeaway"
   ]
  },
  {
   "cell_type": "markdown",
   "metadata": {},
   "source": [
    "After cleaning, we can see a few interesting things to note:\n",
    "- **There are 232 businesses in New York City, 41 in Atlanta, and *at least* 862 in Los Angeles**.\n",
    "\n",
    "  Without jumping to conclusions, both a saturated market and a barren one may have advantages and disadvantages for a startup business.\n",
    "   - A saturated market is very difficult to compete in, but we may be able to benefit by offering services that are *parallel* to businesses that are thriving there. E.g., we offer equipment rentals near a company that offers production services, or vice-versa. \n",
    "   - Additionally, were we to survive in the market to the point where we could scale, there are a multitude of other businesses close by that offer a variety of products or services that we may absorb to become a conglomerate. With there being such quantity and variety, we are more likely to find a company to buy that will fill in our needs precisely.\n",
    "   - A market with sparse industry is only easy to compete in if there is a demand for our services. If there is demand, we could quickly grow to become the pinnacle of industry in that locale. If there is none, we starve.\n",
    "\n",
    "- **The mean rating for film production businesses are highest in Los Angeles**.\n",
    "  - Popularity aside, the key takeaway here is that, on average, the film production businesses are more beloved in LA than in either NYC or Atlanta.\n",
    "    - It will be more difficult to get customers in this market, as customers here are already happy with what they have.\n",
    "- By contrast, the average rating for film production businesses in New York are only marginally higher than in Atlanta.\n",
    "  - NYC offers a larger market for film than Atlanta, while simultaneously having businesses that are negligibly more beloved.\n",
    "\n",
    "- **The Review Count for businesses in New York have by far the highest standard deviation from the mean.**\n",
    "  - Were we to plot businesses in NYC on a map and look at their review counts, we would see that there is a large disparity between how frequented the most popular production businesses are from the least frequented, all over the city.\n",
    "  - Were we to open up shop in NYC, we *must* consider where we are opening business carefully! We could easily position ourselves next to a large production business that offers *different* services to ~~leech~~ develop a symbiotic relationship where their clients become our customers.\n",
    "  - Conversely, businesses that are less frequented could be in a comercial dead-zone (and we should stay away from that precise area), *or* could simply not be good at attracting customers (and we could easily outcompete).\n",
    "  \n",
    "- There are not very many businesses that have a price listed with our dataset. This is unfortunate, as that data could be used to see how customer perception of how expensive a business is relates to the business's location, its popularity, and how loved it is by its customers."
   ]
  },
  {
   "cell_type": "markdown",
   "metadata": {},
   "source": [
    "Several fields are less useful for quantitative analysis, but help with identifying the business and seeing how Yelp manages their profiles.\n",
    "\n",
    "**Location information** may be useful at some points after looking at the statistical data. Between regions, we can group our insights by region and compare how one compares to the others. Locally, we can compare businesses and see how proximity to other businesses, proximity to the population of consumers, and geographical qualities make an impact. \n",
    "\n",
    "For **quantitative analysis**, we have three primary areas to compare among businesses:\n",
    "- **Price** — a measure of how expensive the business's products or services are, in the eyes of the Yelp reviewer/customer.\n",
    "- **Review Count** — a measure of how *popular* the business is.\n",
    "- **Rating** — a measure of how *beloved* the business is."
   ]
  },
  {
   "cell_type": "markdown",
   "metadata": {},
   "source": [
    "# Price"
   ]
  },
  {
   "cell_type": "markdown",
   "metadata": {},
   "source": [
    "When evaluating our dataframes, it appears we have a lot of ```NaN``` values in the price column. Yelp actually lists their price with $ (which, of course, is not a number), but this has been corrected for in our ```parse_data(_)``` function, so every NaN is in fact an empty cell. Let's see how much data we have to work with if we drop the NaN values."
   ]
  },
  {
   "cell_type": "code",
   "execution_count": 334,
   "metadata": {},
   "outputs": [
    {
     "name": "stdout",
     "output_type": "stream",
     "text": [
      "With NaNs:  (232, 862, 41) Without NaNs:  (6, 22, 1)\n"
     ]
    }
   ],
   "source": [
    "print('With NaNs: ',(len(df_fp_ny), len(df_fp_la), len(df_fp_ga)), 'Without NaNs: ',(len(df_fp_ny.dropna()), len(df_fp_la.dropna()), len(df_fp_ga.dropna())))"
   ]
  },
  {
   "cell_type": "markdown",
   "metadata": {},
   "source": [
    "Yikes. That really limits our insight in to how these places compare as far as costs go! But lets see what we can take away with what we have."
   ]
  },
  {
   "cell_type": "markdown",
   "metadata": {},
   "source": [
    "#### Total Businesses per each Price Category\n",
    "While price data is limited to a small sample of the population of our datasets, were we able to extrapolate this data to the population, we would have some insights. Los Angeles, for example, seems to be very competitive at lower price brackets.\n",
    "\n",
    "\n",
    "This would make competing in such an environment as a start-up far more difficult, until we scale to the point to where we can secure talent and the ability to provide high-level services that are worthy of 4-dollar-sign prices. <br>\n",
    "\n",
    "Looking at the total results per location's Yelp call is also informative. <br>\n",
    "If the total number of production houses in Atlanta are much lower than the total in NYC and LA, then the market might be too saturated in the larger cities, making it difficult for new competition. \n",
    "\n",
    "Beyond the scope of this project, there are some other considerations that could be taken, such as: \n",
    "- commercial real estate prices per location (possibly through other API such as Zilliow)\n",
    "- other costs of doing business per location\n",
    "- resources available per location that will help in starting a business, i.e:\n",
    "  - other businesses that may be resources to ours\n",
    "  - tax incentives for film industry\n",
    "  - a business-friendly regulator relationship"
   ]
  },
  {
   "cell_type": "code",
   "execution_count": 365,
   "metadata": {
    "scrolled": false
   },
   "outputs": [
    {
     "name": "stdout",
     "output_type": "stream",
     "text": [
      "🥳\n"
     ]
    },
    {
     "data": {
      "image/png": "[encoded data removed]",
      "text/plain": [
       "<Figure size 432x432 with 1 Axes>"
      ]
     },
     "metadata": {
      "needs_background": "light"
     },
     "output_type": "display_data"
    }
   ],
   "source": [
    "price_review_cnt_title = 'Film Production \\n Number of Businesses per Price for each Location'\n",
    "x_label = 'Price'\n",
    "y_label = 'Total Businesses'\n",
    "width = .25\n",
    "\n",
    "\n",
    "x1 = df_fp_ny['Price'].dropna().value_counts().sort_index().index[:4]\n",
    "y1 = df_fp_ny['Price'].dropna().value_counts().sort_index()\n",
    "\n",
    "x2 = df_fp_la['Price'].dropna().value_counts().sort_index().index[:4]\n",
    "y2 = df_fp_la['Price'].dropna().value_counts().sort_index()\n",
    "\n",
    "x3 = df_fp_ga['Price'].dropna().value_counts().sort_index().index[:4]\n",
    "y3 = df_fp_ga['Price'].dropna().value_counts().sort_index()\n",
    "\n",
    "# xtik = [1, 2, 3, 4]\n",
    "\n",
    "fig, ax = plt.subplots(figsize=(6,6))\n",
    "\n",
    "ax.set_xlabel(x_label)\n",
    "ax.set_ylabel(y_label);\n",
    "ax.set_xticks([1, 2, 3, 4])\n",
    "# ax.set_xticks(['$'*i for i in xtik])\n",
    "\n",
    "ax.bar(x1-(width), y1, width, color = '#1F77B4', align='center')\n",
    "ax.bar(x2, y2, width, color=\"#FF7F0E\", align= 'center')\n",
    "ax.bar(x3+(width), y3, width, color=\"#2CA02C\", align= 'center')\n",
    "ax.set_title(price_review_cnt_title)\n",
    "ax.set_facecolor(\"#f2f2f2\")\n",
    "\n",
    "ax.legend(['NYC', 'LA', 'ATL'])\n",
    "print('🥳')"
   ]
  },
  {
   "cell_type": "code",
   "execution_count": 336,
   "metadata": {},
   "outputs": [
    {
     "name": "stdout",
     "output_type": "stream",
     "text": [
      "2.0 2.0 2.0\n"
     ]
    }
   ],
   "source": [
    "print(df_fp_ny['Price'].median(), df_fp_la['Price'].median(), df_fp_ga['Price'].median())"
   ]
  },
  {
   "cell_type": "code",
   "execution_count": 337,
   "metadata": {},
   "outputs": [
    {
     "data": {
      "text/plain": [
       "0    2.0\n",
       "dtype: float64"
      ]
     },
     "execution_count": 337,
     "metadata": {},
     "output_type": "execute_result"
    }
   ],
   "source": [
    "# df_fp_ny['Price'].mode()\n",
    "# df_fp_la['Price'].mode()\n",
    "df_fp_ga['Price'].mode()"
   ]
  },
  {
   "cell_type": "markdown",
   "metadata": {},
   "source": [
    "### Insights:\n",
    "- Price being listed only for a small sample of the population of our data suggests that insights here are not statistically significant, and could be a misleading representation of film production businesses for these locations.\n",
    "- With that in mind, were we to extrapolate this sample data to population of our larger datasets, we would take away that **all** locations have the most reviews in the *second lowest* (2-\\$) *price bracket* – their *mode*. \n",
    "- This 2-\\$ bracket is also the *median* price bracket for **all** locations. This corrects for any potential outliers, where individual businesses that are not representative of the norm could skew average price for services offered by businesses in this industry."
   ]
  },
  {
   "cell_type": "markdown",
   "metadata": {},
   "source": [
    "### Takeaway\n",
    "These insights indicate that in all locations, we would attract the most customers by targeting the 2-\\$ price range    \n",
    "  - in LA, the market is also fairly competitive in the 1-\\$ price range.\n",
    "  - this would mean that no matter how much we cut our prices in the LA market, there will likely be many other businesses who have priced their services just as low. \n",
    "\n"
   ]
  },
  {
   "cell_type": "markdown",
   "metadata": {},
   "source": [
    "## Rating / Review Count"
   ]
  },
  {
   "cell_type": "code",
   "execution_count": 364,
   "metadata": {
    "scrolled": false
   },
   "outputs": [
    {
     "name": "stdout",
     "output_type": "stream",
     "text": [
      "🥳\n"
     ]
    },
    {
     "data": {
      "image/png": "[encoded data removed]",
      "text/plain": [
       "<Figure size 432x432 with 1 Axes>"
      ]
     },
     "metadata": {
      "needs_background": "light"
     },
     "output_type": "display_data"
    }
   ],
   "source": [
    "rating_review_cnt_title = 'Film Production \\n Relationship Between Rating and Review Count'\n",
    "x_label = 'Rating'\n",
    "y_label = 'Review Count'\n",
    "width = .1\n",
    "\n",
    "x1 = df_fp_ny['Rating']\n",
    "y1 = df_fp_ny['Review Count']\n",
    "\n",
    "x2 = df_fp_la['Rating']\n",
    "y2 = df_fp_la['Review Count']\n",
    "\n",
    "x3 = df_fp_ga['Rating']\n",
    "y3 = df_fp_ga['Review Count']\n",
    "\n",
    "fig, ax = plt.subplots(figsize=(6,6))\n",
    "\n",
    "ax.set_xlabel(x_label)\n",
    "ax.set_ylabel(y_label);\n",
    "ax.set_xticks([1.0, 1.5, 2.0, 2.5, 3.0, 3.5, 4.0, 4.5, 5.0])\n",
    "\n",
    "ax.bar(x1-(width), y1, width, color = '#1F77B4', align='center')\n",
    "ax.bar(x2, y2, width, color ='#FF7F0E', align = 'center')\n",
    "ax.bar(x3+(width), y3, width, color ='#2CA02C', align = 'center')\n",
    "ax.set_title(rating_review_cnt_title)\n",
    "ax.set_facecolor('#f2f2f2')\n",
    "\n",
    "ax.legend(['NYC', 'LA', 'ATL'])\n",
    "print('🥳')"
   ]
  },
  {
   "cell_type": "markdown",
   "metadata": {},
   "source": [
    "Lets isolate businesses that have a high-rating in the 2-$ price bracket — The best for the median price."
   ]
  },
  {
   "cell_type": "markdown",
   "metadata": {},
   "source": [
    "# THE BUSINESSES REPRESENTED ON THE BELOW PLOT WOULD BE OUR PRIMARY COMPETITION OR BENEFACTORS"
   ]
  },
  {
   "cell_type": "code",
   "execution_count": null,
   "metadata": {},
   "outputs": [],
   "source": [
    "#1F77B4 # NYC\n",
    "\n",
    "#FF7F0E # LA\n",
    "\n",
    "#2CA02C # GA\n",
    "\n",
    "#c2d0e9 # FACECOLOR"
   ]
  },
  {
   "cell_type": "code",
   "execution_count": 363,
   "metadata": {
    "scrolled": false
   },
   "outputs": [
    {
     "data": {
      "image/png": "[encoded data removed]",
      "text/plain": [
       "<Figure size 1080x360 with 3 Axes>"
      ]
     },
     "metadata": {
      "needs_background": "light"
     },
     "output_type": "display_data"
    }
   ],
   "source": [
    "ny_hr_p2 = df_fp_ny.loc[(df_fp_ny['Rating'] >= 4) & (df_fp_ny['Price'] == 2)]\n",
    "la_hr_p2 = df_fp_la.loc[(df_fp_la['Rating'] >= 4) & (df_fp_la['Price'] == 2)]\n",
    "ga_hr_p2 = df_fp_ga.loc[(df_fp_ga['Rating'] >= 4) & (df_fp_ga['Price'] == 2)]\n",
    "\n",
    "fig, ax = plt.subplots(1, 3, figsize=(15, 5), sharey=True)\n",
    "fig.suptitle('High-Rated Film Production Businesses in the $2 Price Group')\n",
    "\n",
    "# # NY\n",
    "g1 = sns.scatterplot(ax=ax[0], x= df_fp_ny['Rating'], y= ny_hr_p2['Review Count'].values, color = '#1F77B4')\n",
    "ax[0].set_title('New York')\n",
    "\n",
    "# LA\n",
    "g2 = sns.scatterplot(ax=ax[1], x= df_fp_la, y= la_hr_p2['Review Count'].values, color = '#FF7F0E')\n",
    "ax[1].set_title('Los Angeles')\n",
    "\n",
    "# ATL\n",
    "g3 = sns.scatterplot(ax=ax[2], x= df_fp_ga, y= ga_hr_p2['Review Count'].values, color = '#2CA02C')\n",
    "ax[2].set_title('Atlanta')\n",
    "\n",
    "g1.set_facecolor('#f2f2f2') \n",
    "g2.set_facecolor('#f2f2f2') \n",
    "g3.set_facecolor('#f2f2f2') \n",
    "\n",
    "g1.set_ylabel('Total Review Counts')\n",
    "g1.set_xlabel('NYC High-Rated')\n",
    "g2.set_xlabel('LA High-Rated')\n",
    "g3.set_xlabel('ATL High-Rated')\n",
    "g1.tick_params(bottom=False) \n",
    "g2.tick_params(bottom=False) \n",
    "g3.tick_params(bottom=False);"
   ]
  },
  {
   "cell_type": "markdown",
   "metadata": {},
   "source": [
    "### Insights:"
   ]
  },
  {
   "cell_type": "markdown",
   "metadata": {},
   "source": [
    "#### ^ Those above that are high on the y-axis are going to be the most difficult to compete with.\n",
    "\n",
    "### THEY ARE OUR UNICORNS\n",
    "- They would also be great businesses to develop parallel services to if we can develop in the same neighborhood.\n",
    "- Alternatively, they would be a great reference model for our business develop far away."
   ]
  },
  {
   "cell_type": "markdown",
   "metadata": {},
   "source": [
    "### Takeaway"
   ]
  },
  {
   "cell_type": "markdown",
   "metadata": {},
   "source": [
    "- From here it should be safe to only consider Los Angeles and New York, with favor given to New York. \n",
    "- Atlanta production & media service companies simply do not have enough insights from Yelp data alone to direct us towards a sound business plan. Without other data, we would simply be speculating.\n",
    "- Los Angeles has plenty, yet with so many offering competitive low prices, it would be far more difficult to find an angle to distinguish us from the competition.\n",
    "- LA's businesses also have a higher mean 'Rating' — they are more beloved and will be difficult to get the customers from ourselves if we offer similar services.\n",
    "- New York also has a large market for media, and while not being as directed towards film, the variety of categories in the creative and commercial space, would likely allow us to find a better angle to maneuver, pivot, and adapt in the market.\n",
    "- We also should not forget the higher standard deviation relating to 'Review Counts' in NYC. See further below."
   ]
  },
  {
   "cell_type": "markdown",
   "metadata": {},
   "source": [
    "Lets take a look at which businesses exactly were high on the y-axis (have a high *'Review Count'*)"
   ]
  },
  {
   "cell_type": "code",
   "execution_count": 340,
   "metadata": {
    "scrolled": true
   },
   "outputs": [
    {
     "data": {
      "text/html": [
       "<div>\n",
       "<style scoped>\n",
       "    .dataframe tbody tr th:only-of-type {\n",
       "        vertical-align: middle;\n",
       "    }\n",
       "\n",
       "    .dataframe tbody tr th {\n",
       "        vertical-align: top;\n",
       "    }\n",
       "\n",
       "    .dataframe thead th {\n",
       "        text-align: right;\n",
       "    }\n",
       "</style>\n",
       "<table border=\"1\" class=\"dataframe\">\n",
       "  <thead>\n",
       "    <tr style=\"text-align: right;\">\n",
       "      <th></th>\n",
       "      <th>Name</th>\n",
       "      <th>Address</th>\n",
       "      <th>City</th>\n",
       "      <th>Rating</th>\n",
       "      <th>Review Count</th>\n",
       "      <th>Coordinates</th>\n",
       "      <th>Price</th>\n",
       "      <th>Id</th>\n",
       "      <th>Categories</th>\n",
       "    </tr>\n",
       "  </thead>\n",
       "  <tbody>\n",
       "    <tr>\n",
       "      <th>0</th>\n",
       "      <td>DiJiFi</td>\n",
       "      <td>['1166 Manhattan Ave', 'Ste 201', 'Brooklyn, N...</td>\n",
       "      <td>Brooklyn</td>\n",
       "      <td>4.5</td>\n",
       "      <td>165</td>\n",
       "      <td>{'latitude': 40.7382584, 'longitude': -73.9549...</td>\n",
       "      <td>2.0</td>\n",
       "      <td>CwBYC8nVLbG7KjVU6nwR4A</td>\n",
       "      <td>[{'alias': 'photographystores', 'title': 'Phot...</td>\n",
       "    </tr>\n",
       "    <tr>\n",
       "      <th>107</th>\n",
       "      <td>Transfer City USA</td>\n",
       "      <td>['77 Lincoln Ave', 'Staten Island, NY 10306']</td>\n",
       "      <td>Staten Island</td>\n",
       "      <td>5.0</td>\n",
       "      <td>4</td>\n",
       "      <td>{'latitude': 40.580222, 'longitude': -74.109705}</td>\n",
       "      <td>2.0</td>\n",
       "      <td>s2jNO0Zz1NUNTct02ZntrA</td>\n",
       "      <td>[{'alias': 'photographystores', 'title': 'Phot...</td>\n",
       "    </tr>\n",
       "    <tr>\n",
       "      <th>246</th>\n",
       "      <td>Hi Tech Studios</td>\n",
       "      <td>['10 Grace Ave', 'Great Neck, NY 11021']</td>\n",
       "      <td>Great Neck</td>\n",
       "      <td>5.0</td>\n",
       "      <td>6</td>\n",
       "      <td>{'latitude': 40.7881851196289, 'longitude': -7...</td>\n",
       "      <td>2.0</td>\n",
       "      <td>zTYY9V8rTg9WBX1z5jcW0A</td>\n",
       "      <td>[{'alias': 'photographystores', 'title': 'Phot...</td>\n",
       "    </tr>\n",
       "  </tbody>\n",
       "</table>\n",
       "</div>"
      ],
      "text/plain": [
       "                  Name                                            Address  \\\n",
       "0               DiJiFi  ['1166 Manhattan Ave', 'Ste 201', 'Brooklyn, N...   \n",
       "107  Transfer City USA      ['77 Lincoln Ave', 'Staten Island, NY 10306']   \n",
       "246    Hi Tech Studios           ['10 Grace Ave', 'Great Neck, NY 11021']   \n",
       "\n",
       "              City  Rating  Review Count  \\\n",
       "0         Brooklyn     4.5           165   \n",
       "107  Staten Island     5.0             4   \n",
       "246     Great Neck     5.0             6   \n",
       "\n",
       "                                           Coordinates  Price  \\\n",
       "0    {'latitude': 40.7382584, 'longitude': -73.9549...    2.0   \n",
       "107   {'latitude': 40.580222, 'longitude': -74.109705}    2.0   \n",
       "246  {'latitude': 40.7881851196289, 'longitude': -7...    2.0   \n",
       "\n",
       "                         Id                                         Categories  \n",
       "0    CwBYC8nVLbG7KjVU6nwR4A  [{'alias': 'photographystores', 'title': 'Phot...  \n",
       "107  s2jNO0Zz1NUNTct02ZntrA  [{'alias': 'photographystores', 'title': 'Phot...  \n",
       "246  zTYY9V8rTg9WBX1z5jcW0A  [{'alias': 'photographystores', 'title': 'Phot...  "
      ]
     },
     "execution_count": 340,
     "metadata": {},
     "output_type": "execute_result"
    }
   ],
   "source": [
    "ny_hr_p2"
   ]
  },
  {
   "cell_type": "code",
   "execution_count": 341,
   "metadata": {},
   "outputs": [
    {
     "data": {
      "text/html": [
       "<div>\n",
       "<style scoped>\n",
       "    .dataframe tbody tr th:only-of-type {\n",
       "        vertical-align: middle;\n",
       "    }\n",
       "\n",
       "    .dataframe tbody tr th {\n",
       "        vertical-align: top;\n",
       "    }\n",
       "\n",
       "    .dataframe thead th {\n",
       "        text-align: right;\n",
       "    }\n",
       "</style>\n",
       "<table border=\"1\" class=\"dataframe\">\n",
       "  <thead>\n",
       "    <tr style=\"text-align: right;\">\n",
       "      <th></th>\n",
       "      <th>Name</th>\n",
       "      <th>Address</th>\n",
       "      <th>City</th>\n",
       "      <th>Rating</th>\n",
       "      <th>Review Count</th>\n",
       "      <th>Coordinates</th>\n",
       "      <th>Price</th>\n",
       "      <th>Id</th>\n",
       "      <th>Categories</th>\n",
       "    </tr>\n",
       "  </thead>\n",
       "  <tbody>\n",
       "    <tr>\n",
       "      <th>31</th>\n",
       "      <td>Pro HD Rentals</td>\n",
       "      <td>['2201 Hollywood Way', 'Ste 1', 'Burbank, CA 9...</td>\n",
       "      <td>Burbank</td>\n",
       "      <td>5.0</td>\n",
       "      <td>51</td>\n",
       "      <td>{'latitude': 34.188555, 'longitude': -118.34928}</td>\n",
       "      <td>2.0</td>\n",
       "      <td>-vpcJktTviMd-K9xX-ZPww</td>\n",
       "      <td>[{'alias': 'photographystores', 'title': 'Phot...</td>\n",
       "    </tr>\n",
       "    <tr>\n",
       "      <th>63</th>\n",
       "      <td>Digital Video &amp; Film Lab</td>\n",
       "      <td>['401 Wilshire Blvd', 'Ste 1200', 'Santa Monic...</td>\n",
       "      <td>Santa Monica</td>\n",
       "      <td>5.0</td>\n",
       "      <td>44</td>\n",
       "      <td>{'latitude': 34.01987, 'longitude': -118.49866}</td>\n",
       "      <td>2.0</td>\n",
       "      <td>_F1PHOY4T8cAshignwaHmQ</td>\n",
       "      <td>[{'alias': 'videofilmproductions', 'title': 'V...</td>\n",
       "    </tr>\n",
       "    <tr>\n",
       "      <th>92</th>\n",
       "      <td>Red Studios Hollywood</td>\n",
       "      <td>['846 N Cahuenga Blvd', 'Los Angeles, CA 90038']</td>\n",
       "      <td>Los Angeles</td>\n",
       "      <td>4.0</td>\n",
       "      <td>12</td>\n",
       "      <td>{'latitude': 34.08666, 'longitude': -118.32845}</td>\n",
       "      <td>2.0</td>\n",
       "      <td>JfzILyp_3R0Z_bX-hBLifA</td>\n",
       "      <td>[{'alias': 'photographystores', 'title': 'Phot...</td>\n",
       "    </tr>\n",
       "    <tr>\n",
       "      <th>213</th>\n",
       "      <td>AbelCine</td>\n",
       "      <td>['801 S Main St', 'Burbank, CA 91506']</td>\n",
       "      <td>Burbank</td>\n",
       "      <td>4.0</td>\n",
       "      <td>18</td>\n",
       "      <td>{'latitude': 34.1651614, 'longitude': -118.313...</td>\n",
       "      <td>2.0</td>\n",
       "      <td>pZOz0AZgT6qh5B1ghcVU_g</td>\n",
       "      <td>[{'alias': 'photographystores', 'title': 'Phot...</td>\n",
       "    </tr>\n",
       "    <tr>\n",
       "      <th>401</th>\n",
       "      <td>Argentum</td>\n",
       "      <td>['6844 Vineland Ave', 'North Hollywood, CA 915...</td>\n",
       "      <td>North Hollywood</td>\n",
       "      <td>4.5</td>\n",
       "      <td>96</td>\n",
       "      <td>{'latitude': 34.19516, 'longitude': -118.3697347}</td>\n",
       "      <td>2.0</td>\n",
       "      <td>01b6ADltxHQJPqNJxHYuIA</td>\n",
       "      <td>[{'alias': 'photographystores', 'title': 'Phot...</td>\n",
       "    </tr>\n",
       "    <tr>\n",
       "      <th>531</th>\n",
       "      <td>Makeup By Andi</td>\n",
       "      <td>['Egg Harbor City, CA 90670']</td>\n",
       "      <td>Egg Harbor City</td>\n",
       "      <td>5.0</td>\n",
       "      <td>10</td>\n",
       "      <td>{'latitude': 39.5311584472656, 'longitude': -7...</td>\n",
       "      <td>2.0</td>\n",
       "      <td>g6PSW69IzV60W1zQ1HIl3A</td>\n",
       "      <td>[{'alias': 'makeupartists', 'title': 'Makeup A...</td>\n",
       "    </tr>\n",
       "    <tr>\n",
       "      <th>790</th>\n",
       "      <td>Digital Imaging Center</td>\n",
       "      <td>['10354 Venice Blvd', 'Culver City, CA 90232']</td>\n",
       "      <td>Culver City</td>\n",
       "      <td>4.0</td>\n",
       "      <td>24</td>\n",
       "      <td>{'latitude': 34.0204621, 'longitude': -118.403...</td>\n",
       "      <td>2.0</td>\n",
       "      <td>KEQ2ycgDnMFr6RcZISIOvA</td>\n",
       "      <td>[{'alias': 'photographystores', 'title': 'Phot...</td>\n",
       "    </tr>\n",
       "    <tr>\n",
       "      <th>794</th>\n",
       "      <td>Santa Monica Camera</td>\n",
       "      <td>['630 Wilshire Blvd', 'Santa Monica, CA 90401']</td>\n",
       "      <td>Santa Monica</td>\n",
       "      <td>4.5</td>\n",
       "      <td>98</td>\n",
       "      <td>{'latitude': 34.020926, 'longitude': -118.495542}</td>\n",
       "      <td>2.0</td>\n",
       "      <td>TKsU7kvp8qwkwRKcGtbMoQ</td>\n",
       "      <td>[{'alias': 'photographystores', 'title': 'Phot...</td>\n",
       "    </tr>\n",
       "    <tr>\n",
       "      <th>859</th>\n",
       "      <td>FSP Designs</td>\n",
       "      <td>['331 W Chestnut Ave', 'Monrovia, CA 91016']</td>\n",
       "      <td>Monrovia</td>\n",
       "      <td>5.0</td>\n",
       "      <td>19</td>\n",
       "      <td>{'latitude': 34.142907249859036, 'longitude': ...</td>\n",
       "      <td>2.0</td>\n",
       "      <td>9E65ehtKepVGRgXpQbYUhQ</td>\n",
       "      <td>[{'alias': 'screen_printing_tshirt_printing', ...</td>\n",
       "    </tr>\n",
       "  </tbody>\n",
       "</table>\n",
       "</div>"
      ],
      "text/plain": [
       "                         Name  \\\n",
       "31             Pro HD Rentals   \n",
       "63   Digital Video & Film Lab   \n",
       "92      Red Studios Hollywood   \n",
       "213                  AbelCine   \n",
       "401                  Argentum   \n",
       "531            Makeup By Andi   \n",
       "790    Digital Imaging Center   \n",
       "794       Santa Monica Camera   \n",
       "859               FSP Designs   \n",
       "\n",
       "                                               Address             City  \\\n",
       "31   ['2201 Hollywood Way', 'Ste 1', 'Burbank, CA 9...          Burbank   \n",
       "63   ['401 Wilshire Blvd', 'Ste 1200', 'Santa Monic...     Santa Monica   \n",
       "92    ['846 N Cahuenga Blvd', 'Los Angeles, CA 90038']      Los Angeles   \n",
       "213             ['801 S Main St', 'Burbank, CA 91506']          Burbank   \n",
       "401  ['6844 Vineland Ave', 'North Hollywood, CA 915...  North Hollywood   \n",
       "531                      ['Egg Harbor City, CA 90670']  Egg Harbor City   \n",
       "790     ['10354 Venice Blvd', 'Culver City, CA 90232']      Culver City   \n",
       "794    ['630 Wilshire Blvd', 'Santa Monica, CA 90401']     Santa Monica   \n",
       "859       ['331 W Chestnut Ave', 'Monrovia, CA 91016']         Monrovia   \n",
       "\n",
       "     Rating  Review Count                                        Coordinates  \\\n",
       "31      5.0            51   {'latitude': 34.188555, 'longitude': -118.34928}   \n",
       "63      5.0            44    {'latitude': 34.01987, 'longitude': -118.49866}   \n",
       "92      4.0            12    {'latitude': 34.08666, 'longitude': -118.32845}   \n",
       "213     4.0            18  {'latitude': 34.1651614, 'longitude': -118.313...   \n",
       "401     4.5            96  {'latitude': 34.19516, 'longitude': -118.3697347}   \n",
       "531     5.0            10  {'latitude': 39.5311584472656, 'longitude': -7...   \n",
       "790     4.0            24  {'latitude': 34.0204621, 'longitude': -118.403...   \n",
       "794     4.5            98  {'latitude': 34.020926, 'longitude': -118.495542}   \n",
       "859     5.0            19  {'latitude': 34.142907249859036, 'longitude': ...   \n",
       "\n",
       "     Price                      Id  \\\n",
       "31     2.0  -vpcJktTviMd-K9xX-ZPww   \n",
       "63     2.0  _F1PHOY4T8cAshignwaHmQ   \n",
       "92     2.0  JfzILyp_3R0Z_bX-hBLifA   \n",
       "213    2.0  pZOz0AZgT6qh5B1ghcVU_g   \n",
       "401    2.0  01b6ADltxHQJPqNJxHYuIA   \n",
       "531    2.0  g6PSW69IzV60W1zQ1HIl3A   \n",
       "790    2.0  KEQ2ycgDnMFr6RcZISIOvA   \n",
       "794    2.0  TKsU7kvp8qwkwRKcGtbMoQ   \n",
       "859    2.0  9E65ehtKepVGRgXpQbYUhQ   \n",
       "\n",
       "                                            Categories  \n",
       "31   [{'alias': 'photographystores', 'title': 'Phot...  \n",
       "63   [{'alias': 'videofilmproductions', 'title': 'V...  \n",
       "92   [{'alias': 'photographystores', 'title': 'Phot...  \n",
       "213  [{'alias': 'photographystores', 'title': 'Phot...  \n",
       "401  [{'alias': 'photographystores', 'title': 'Phot...  \n",
       "531  [{'alias': 'makeupartists', 'title': 'Makeup A...  \n",
       "790  [{'alias': 'photographystores', 'title': 'Phot...  \n",
       "794  [{'alias': 'photographystores', 'title': 'Phot...  \n",
       "859  [{'alias': 'screen_printing_tshirt_printing', ...  "
      ]
     },
     "execution_count": 341,
     "metadata": {},
     "output_type": "execute_result"
    }
   ],
   "source": [
    "la_hr_p2"
   ]
  },
  {
   "cell_type": "code",
   "execution_count": 342,
   "metadata": {
    "collapsed": true
   },
   "outputs": [
    {
     "data": {
      "text/html": [
       "<div>\n",
       "<style scoped>\n",
       "    .dataframe tbody tr th:only-of-type {\n",
       "        vertical-align: middle;\n",
       "    }\n",
       "\n",
       "    .dataframe tbody tr th {\n",
       "        vertical-align: top;\n",
       "    }\n",
       "\n",
       "    .dataframe thead th {\n",
       "        text-align: right;\n",
       "    }\n",
       "</style>\n",
       "<table border=\"1\" class=\"dataframe\">\n",
       "  <thead>\n",
       "    <tr style=\"text-align: right;\">\n",
       "      <th></th>\n",
       "      <th>Name</th>\n",
       "      <th>Address</th>\n",
       "      <th>City</th>\n",
       "      <th>Rating</th>\n",
       "      <th>Review Count</th>\n",
       "      <th>Coordinates</th>\n",
       "      <th>Price</th>\n",
       "      <th>Id</th>\n",
       "      <th>Categories</th>\n",
       "    </tr>\n",
       "  </thead>\n",
       "  <tbody>\n",
       "    <tr>\n",
       "      <th>39</th>\n",
       "      <td>Fallen Arrows</td>\n",
       "      <td>['50 Waverly Way', 'Atlanta, GA 30307']</td>\n",
       "      <td>Atlanta</td>\n",
       "      <td>4.0</td>\n",
       "      <td>14</td>\n",
       "      <td>{'latitude': 33.7552254, 'longitude': -84.3575...</td>\n",
       "      <td>2.0</td>\n",
       "      <td>brD9rXHvmpiXLu_0PFtT9w</td>\n",
       "      <td>[{'alias': 'graphicdesign', 'title': 'Graphic ...</td>\n",
       "    </tr>\n",
       "  </tbody>\n",
       "</table>\n",
       "</div>"
      ],
      "text/plain": [
       "             Name                                  Address     City  Rating  \\\n",
       "39  Fallen Arrows  ['50 Waverly Way', 'Atlanta, GA 30307']  Atlanta     4.0   \n",
       "\n",
       "    Review Count                                        Coordinates  Price  \\\n",
       "39            14  {'latitude': 33.7552254, 'longitude': -84.3575...    2.0   \n",
       "\n",
       "                        Id                                         Categories  \n",
       "39  brD9rXHvmpiXLu_0PFtT9w  [{'alias': 'graphicdesign', 'title': 'Graphic ...  "
      ]
     },
     "execution_count": 342,
     "metadata": {},
     "output_type": "execute_result"
    }
   ],
   "source": [
    "ga_hr_p2 # Just to compare. Atlanta is out of the running."
   ]
  },
  {
   "cell_type": "markdown",
   "metadata": {},
   "source": [
    "#### Let's reiterate our initial takeaways:"
   ]
  },
  {
   "cell_type": "markdown",
   "metadata": {},
   "source": [
    "    - Were we to plot businesses in NYC on a map and look at their review counts, we would see that there is a large disparity between how frequented the most popular production businesses are from the least frequented, all over the city.\n",
    "    - Were we to open up shop in NYC, we must consider where we are opening business carefully! We could easily position ourselves next to a large production business that offers different services to develop a \n",
    "    symbiotic relationship where their clients become our customers.\n",
    "    - Conversely, businesses that are less frequented could be in a comercial dead-zone (and we should stay away from that precise area), or could simply not be good at attracting customers (and we could easily outcompete)."
   ]
  },
  {
   "cell_type": "markdown",
   "metadata": {},
   "source": [
    "### Let's look at that NYC Unicorn, DiJiFi a little closer:"
   ]
  },
  {
   "cell_type": "code",
   "execution_count": 377,
   "metadata": {},
   "outputs": [
    {
     "data": {
      "text/html": [
       "<div style=\"width:100%;\"><div style=\"position:relative;width:100%;height:0;padding-bottom:60%;\"><span style=\"color:#565656\">Make this Notebook Trusted to load map: File -> Trust Notebook</span><iframe src=\"about:blank\" style=\"position:absolute;width:100%;height:100%;left:0;top:0;border:none !important;\" data-html=%3C%21DOCTYPE%20html%3E%0A%3Chead%3E%20%20%20%20%0A%20%20%20%20%3Cmeta%20http-equiv%3D%22content-type%22%20content%3D%22text/html%3B%20charset%3DUTF-8%22%20/%3E%0A%20%20%20%20%0A%20%20%20%20%20%20%20%20%3Cscript%3E%0A%20%20%20%20%20%20%20%20%20%20%20%20L_NO_TOUCH%20%3D%20false%3B%0A%20%20%20%20%20%20%20%20%20%20%20%20L_DISABLE_3D%20%3D%20false%3B%0A%20%20%20%20%20%20%20%20%3C/script%3E%0A%20%20%20%20%0A%20%20%20%20%3Cstyle%3Ehtml%2C%20body%20%7Bwidth%3A%20100%25%3Bheight%3A%20100%25%3Bmargin%3A%200%3Bpadding%3A%200%3B%7D%3C/style%3E%0A%20%20%20%20%3Cstyle%3E%23map%20%7Bposition%3Aabsolute%3Btop%3A0%3Bbottom%3A0%3Bright%3A0%3Bleft%3A0%3B%7D%3C/style%3E%0A%20%20%20%20%3Cscript%20src%3D%22https%3A//cdn.jsdelivr.net/npm/leaflet%401.6.0/dist/leaflet.js%22%3E%3C/script%3E%0A%20%20%20%20%3Cscript%20src%3D%22https%3A//code.jquery.com/jquery-1.12.4.min.js%22%3E%3C/script%3E%0A%20%20%20%20%3Cscript%20src%3D%22https%3A//maxcdn.bootstrapcdn.com/bootstrap/3.2.0/js/bootstrap.min.js%22%3E%3C/script%3E%0A%20%20%20%20%3Cscript%20src%3D%22https%3A//cdnjs.cloudflare.com/ajax/libs/Leaflet.awesome-markers/2.0.2/leaflet.awesome-markers.js%22%3E%3C/script%3E%0A%20%20%20%20%3Clink%20rel%3D%22stylesheet%22%20href%3D%22https%3A//cdn.jsdelivr.net/npm/leaflet%401.6.0/dist/leaflet.css%22/%3E%0A%20%20%20%20%3Clink%20rel%3D%22stylesheet%22%20href%3D%22https%3A//maxcdn.bootstrapcdn.com/bootstrap/3.2.0/css/bootstrap.min.css%22/%3E%0A%20%20%20%20%3Clink%20rel%3D%22stylesheet%22%20href%3D%22https%3A//maxcdn.bootstrapcdn.com/bootstrap/3.2.0/css/bootstrap-theme.min.css%22/%3E%0A%20%20%20%20%3Clink%20rel%3D%22stylesheet%22%20href%3D%22https%3A//maxcdn.bootstrapcdn.com/font-awesome/4.6.3/css/font-awesome.min.css%22/%3E%0A%20%20%20%20%3Clink%20rel%3D%22stylesheet%22%20href%3D%22https%3A//cdnjs.cloudflare.com/ajax/libs/Leaflet.awesome-markers/2.0.2/leaflet.awesome-markers.css%22/%3E%0A%20%20%20%20%3Clink%20rel%3D%22stylesheet%22%20href%3D%22https%3A//cdn.jsdelivr.net/gh/python-visualization/folium/folium/templates/leaflet.awesome.rotate.min.css%22/%3E%0A%20%20%20%20%0A%20%20%20%20%20%20%20%20%20%20%20%20%3Cmeta%20name%3D%22viewport%22%20content%3D%22width%3Ddevice-width%2C%0A%20%20%20%20%20%20%20%20%20%20%20%20%20%20%20%20initial-scale%3D1.0%2C%20maximum-scale%3D1.0%2C%20user-scalable%3Dno%22%20/%3E%0A%20%20%20%20%20%20%20%20%20%20%20%20%3Cstyle%3E%0A%20%20%20%20%20%20%20%20%20%20%20%20%20%20%20%20%23map_aaaa2950555e42afa17d3228d84826bd%20%7B%0A%20%20%20%20%20%20%20%20%20%20%20%20%20%20%20%20%20%20%20%20position%3A%20relative%3B%0A%20%20%20%20%20%20%20%20%20%20%20%20%20%20%20%20%20%20%20%20width%3A%20100.0%25%3B%0A%20%20%20%20%20%20%20%20%20%20%20%20%20%20%20%20%20%20%20%20height%3A%20100.0%25%3B%0A%20%20%20%20%20%20%20%20%20%20%20%20%20%20%20%20%20%20%20%20left%3A%200.0%25%3B%0A%20%20%20%20%20%20%20%20%20%20%20%20%20%20%20%20%20%20%20%20top%3A%200.0%25%3B%0A%20%20%20%20%20%20%20%20%20%20%20%20%20%20%20%20%7D%0A%20%20%20%20%20%20%20%20%20%20%20%20%3C/style%3E%0A%20%20%20%20%20%20%20%20%0A%3C/head%3E%0A%3Cbody%3E%20%20%20%20%0A%20%20%20%20%0A%20%20%20%20%20%20%20%20%20%20%20%20%3Cdiv%20class%3D%22folium-map%22%20id%3D%22map_aaaa2950555e42afa17d3228d84826bd%22%20%3E%3C/div%3E%0A%20%20%20%20%20%20%20%20%0A%3C/body%3E%0A%3Cscript%3E%20%20%20%20%0A%20%20%20%20%0A%20%20%20%20%20%20%20%20%20%20%20%20var%20map_aaaa2950555e42afa17d3228d84826bd%20%3D%20L.map%28%0A%20%20%20%20%20%20%20%20%20%20%20%20%20%20%20%20%22map_aaaa2950555e42afa17d3228d84826bd%22%2C%0A%20%20%20%20%20%20%20%20%20%20%20%20%20%20%20%20%7B%0A%20%20%20%20%20%20%20%20%20%20%20%20%20%20%20%20%20%20%20%20center%3A%20%5B40.7382584%2C%20-73.9549%5D%2C%0A%20%20%20%20%20%20%20%20%20%20%20%20%20%20%20%20%20%20%20%20crs%3A%20L.CRS.EPSG3857%2C%0A%20%20%20%20%20%20%20%20%20%20%20%20%20%20%20%20%20%20%20%20zoom%3A%2013%2C%0A%20%20%20%20%20%20%20%20%20%20%20%20%20%20%20%20%20%20%20%20zoomControl%3A%20true%2C%0A%20%20%20%20%20%20%20%20%20%20%20%20%20%20%20%20%20%20%20%20preferCanvas%3A%20false%2C%0A%20%20%20%20%20%20%20%20%20%20%20%20%20%20%20%20%7D%0A%20%20%20%20%20%20%20%20%20%20%20%20%29%3B%0A%0A%20%20%20%20%20%20%20%20%20%20%20%20%0A%0A%20%20%20%20%20%20%20%20%0A%20%20%20%20%0A%20%20%20%20%20%20%20%20%20%20%20%20var%20tile_layer_67d7d18f273c4f379572362eff945cca%20%3D%20L.tileLayer%28%0A%20%20%20%20%20%20%20%20%20%20%20%20%20%20%20%20%22https%3A//stamen-tiles-%7Bs%7D.a.ssl.fastly.net/toner/%7Bz%7D/%7Bx%7D/%7By%7D.png%22%2C%0A%20%20%20%20%20%20%20%20%20%20%20%20%20%20%20%20%7B%22attribution%22%3A%20%22Map%20tiles%20by%20%5Cu003ca%20href%3D%5C%22http%3A//stamen.com%5C%22%5Cu003eStamen%20Design%5Cu003c/a%5Cu003e%2C%20under%20%5Cu003ca%20href%3D%5C%22http%3A//creativecommons.org/licenses/by/3.0%5C%22%5Cu003eCC%20BY%203.0%5Cu003c/a%5Cu003e.%20Data%20by%20%5Cu0026copy%3B%20%5Cu003ca%20href%3D%5C%22http%3A//openstreetmap.org%5C%22%5Cu003eOpenStreetMap%5Cu003c/a%5Cu003e%2C%20under%20%5Cu003ca%20href%3D%5C%22http%3A//www.openstreetmap.org/copyright%5C%22%5Cu003eODbL%5Cu003c/a%5Cu003e.%22%2C%20%22detectRetina%22%3A%20false%2C%20%22maxNativeZoom%22%3A%2018%2C%20%22maxZoom%22%3A%2018%2C%20%22minZoom%22%3A%200%2C%20%22noWrap%22%3A%20false%2C%20%22opacity%22%3A%201%2C%20%22subdomains%22%3A%20%22abc%22%2C%20%22tms%22%3A%20false%7D%0A%20%20%20%20%20%20%20%20%20%20%20%20%29.addTo%28map_aaaa2950555e42afa17d3228d84826bd%29%3B%0A%20%20%20%20%20%20%20%20%0A%20%20%20%20%0A%20%20%20%20%20%20%20%20%20%20%20%20var%20circle_cb9340a517ad47d78d5e86a6336368e0%20%3D%20L.circle%28%0A%20%20%20%20%20%20%20%20%20%20%20%20%20%20%20%20%5B40.7382584%2C%20-73.9549%5D%2C%0A%20%20%20%20%20%20%20%20%20%20%20%20%20%20%20%20%7B%22bubblingMouseEvents%22%3A%20true%2C%20%22color%22%3A%20%22crimson%22%2C%20%22dashArray%22%3A%20null%2C%20%22dashOffset%22%3A%20null%2C%20%22fill%22%3A%20false%2C%20%22fillColor%22%3A%20%22crimson%22%2C%20%22fillOpacity%22%3A%200.2%2C%20%22fillRule%22%3A%20%22evenodd%22%2C%20%22lineCap%22%3A%20%22round%22%2C%20%22lineJoin%22%3A%20%22round%22%2C%20%22opacity%22%3A%201.0%2C%20%22radius%22%3A%20100%2C%20%22stroke%22%3A%20true%2C%20%22weight%22%3A%203%7D%0A%20%20%20%20%20%20%20%20%20%20%20%20%29.addTo%28map_aaaa2950555e42afa17d3228d84826bd%29%3B%0A%20%20%20%20%20%20%20%20%0A%20%20%20%20%0A%20%20%20%20%20%20%20%20var%20popup_9842f2cd0d2547f38b6ec31099c7dfe7%20%3D%20L.popup%28%7B%22maxWidth%22%3A%20%22100%25%22%7D%29%3B%0A%0A%20%20%20%20%20%20%20%20%0A%20%20%20%20%20%20%20%20%20%20%20%20var%20html_d8f2f5d256bc40a1bb5f193a6aa5bb86%20%3D%20%24%28%60%3Cdiv%20id%3D%22html_d8f2f5d256bc40a1bb5f193a6aa5bb86%22%20style%3D%22width%3A%20100.0%25%3B%20height%3A%20100.0%25%3B%22%3EDiJiFi%3C/div%3E%60%29%5B0%5D%3B%0A%20%20%20%20%20%20%20%20%20%20%20%20popup_9842f2cd0d2547f38b6ec31099c7dfe7.setContent%28html_d8f2f5d256bc40a1bb5f193a6aa5bb86%29%3B%0A%20%20%20%20%20%20%20%20%0A%0A%20%20%20%20%20%20%20%20circle_cb9340a517ad47d78d5e86a6336368e0.bindPopup%28popup_9842f2cd0d2547f38b6ec31099c7dfe7%29%0A%20%20%20%20%20%20%20%20%3B%0A%0A%20%20%20%20%20%20%20%20%0A%20%20%20%20%0A%20%20%20%20%0A%20%20%20%20%20%20%20%20%20%20%20%20var%20circle_marker_57ddb63a7c234d929a8428ea57240296%20%3D%20L.circleMarker%28%0A%20%20%20%20%20%20%20%20%20%20%20%20%20%20%20%20%5B40.7382584%2C%20-73.9549%5D%2C%0A%20%20%20%20%20%20%20%20%20%20%20%20%20%20%20%20%7B%22bubblingMouseEvents%22%3A%20true%2C%20%22color%22%3A%20%22%231F77B4%22%2C%20%22dashArray%22%3A%20null%2C%20%22dashOffset%22%3A%20null%2C%20%22fill%22%3A%20true%2C%20%22fillColor%22%3A%20%22%233186cc%22%2C%20%22fillOpacity%22%3A%200.2%2C%20%22fillRule%22%3A%20%22evenodd%22%2C%20%22lineCap%22%3A%20%22round%22%2C%20%22lineJoin%22%3A%20%22round%22%2C%20%22opacity%22%3A%201.0%2C%20%22radius%22%3A%2050%2C%20%22stroke%22%3A%20true%2C%20%22weight%22%3A%203%7D%0A%20%20%20%20%20%20%20%20%20%20%20%20%29.addTo%28map_aaaa2950555e42afa17d3228d84826bd%29%3B%0A%20%20%20%20%20%20%20%20%0A%20%20%20%20%0A%20%20%20%20%20%20%20%20var%20popup_1b1569b748804a809a847f1dbd2188ee%20%3D%20L.popup%28%7B%22maxWidth%22%3A%20%22100%25%22%7D%29%3B%0A%0A%20%20%20%20%20%20%20%20%0A%20%20%20%20%20%20%20%20%20%20%20%20var%20html_6e969010fd6945f98862406227eecd64%20%3D%20%24%28%60%3Cdiv%20id%3D%22html_6e969010fd6945f98862406227eecd64%22%20style%3D%22width%3A%20100.0%25%3B%20height%3A%20100.0%25%3B%22%3EDiJiFi%3C/div%3E%60%29%5B0%5D%3B%0A%20%20%20%20%20%20%20%20%20%20%20%20popup_1b1569b748804a809a847f1dbd2188ee.setContent%28html_6e969010fd6945f98862406227eecd64%29%3B%0A%20%20%20%20%20%20%20%20%0A%0A%20%20%20%20%20%20%20%20circle_marker_57ddb63a7c234d929a8428ea57240296.bindPopup%28popup_1b1569b748804a809a847f1dbd2188ee%29%0A%20%20%20%20%20%20%20%20%3B%0A%0A%20%20%20%20%20%20%20%20%0A%20%20%20%20%0A%20%20%20%20%0A%20%20%20%20%20%20%20%20%20%20%20%20circle_marker_57ddb63a7c234d929a8428ea57240296.bindTooltip%28%0A%20%20%20%20%20%20%20%20%20%20%20%20%20%20%20%20%60%3Cdiv%3E%0A%20%20%20%20%20%20%20%20%20%20%20%20%20%20%20%20%20%20%20%20%20DiJiFi%0A%20%20%20%20%20%20%20%20%20%20%20%20%20%20%20%20%20%3C/div%3E%60%2C%0A%20%20%20%20%20%20%20%20%20%20%20%20%20%20%20%20%7B%22sticky%22%3A%20true%7D%0A%20%20%20%20%20%20%20%20%20%20%20%20%29%3B%0A%20%20%20%20%20%20%20%20%0A%3C/script%3E onload=\"this.contentDocument.open();this.contentDocument.write(    decodeURIComponent(this.getAttribute('data-html')));this.contentDocument.close();\" allowfullscreen webkitallowfullscreen mozallowfullscreen></iframe></div></div>"
      ],
      "text/plain": [
       "<folium.folium.Map at 0x7fbb2276a6a0>"
      ]
     },
     "execution_count": 377,
     "metadata": {},
     "output_type": "execute_result"
    }
   ],
   "source": [
    "m = folium.Map(location=[40.7382584, -73.9549], tiles=\"Stamen Toner\", zoom_start=13)\n",
    "\n",
    "folium.Circle(\n",
    "    radius=100,\n",
    "    location=[40.7382584, -73.9549],\n",
    "    popup='DiJiFi',\n",
    "    color=\"crimson\",\n",
    "    fill=False,\n",
    ").add_to(m)\n",
    "\n",
    "\n",
    "folium.CircleMarker(\n",
    "    location=[40.7382584, -73.9549],\n",
    "    radius=50,\n",
    "    popup=\"DiJiFi\",\n",
    "    color=\"#1F77B4\",\n",
    "    fill=True,\n",
    "    fill_color=\"#3186cc\",\n",
    "    tooltip = 'DiJiFi',\n",
    ").add_to(m)\n",
    "\n",
    "\n",
    "m"
   ]
  },
  {
   "cell_type": "code",
   "execution_count": 388,
   "metadata": {},
   "outputs": [
    {
     "data": {
      "text/plain": [
       "13"
      ]
     },
     "execution_count": 388,
     "metadata": {},
     "output_type": "execute_result"
    }
   ],
   "source": [
    "len(\"{'latitude': \")"
   ]
  },
  {
   "cell_type": "code",
   "execution_count": 419,
   "metadata": {},
   "outputs": [
    {
     "data": {
      "text/plain": [
       "38"
      ]
     },
     "execution_count": 419,
     "metadata": {},
     "output_type": "execute_result"
    }
   ],
   "source": [
    "len('{\\'latitude\\': 40.7382584, \\'longitude\\': ')"
   ]
  },
  {
   "cell_type": "code",
   "execution_count": 391,
   "metadata": {},
   "outputs": [
    {
     "data": {
      "text/plain": [
       "\"{'latitude': 40.7382584, 'longitude': -73.9549479}\""
      ]
     },
     "execution_count": 391,
     "metadata": {},
     "output_type": "execute_result"
    }
   ],
   "source": [
    "df_fp_ny['Coordinates'][0]"
   ]
  },
  {
   "cell_type": "code",
   "execution_count": 422,
   "metadata": {},
   "outputs": [
    {
     "data": {
      "text/plain": [
       "'73.95587'"
      ]
     },
     "execution_count": 422,
     "metadata": {},
     "output_type": "execute_result"
    }
   ],
   "source": [
    "df_fp_ny['Coordinates'][15][38:-2]"
   ]
  },
  {
   "cell_type": "code",
   "execution_count": 412,
   "metadata": {},
   "outputs": [],
   "source": [
    "lats = []\n",
    "for i in df_fp_ny['Coordinates']:\n",
    "    latitude = float(i[13:18])\n",
    "    lats.append(latitude)\n",
    "df_fp_ny['Latitude'] = lats"
   ]
  },
  {
   "cell_type": "code",
   "execution_count": 413,
   "metadata": {},
   "outputs": [
    {
     "data": {
      "text/plain": [
       "0      40.73\n",
       "1      40.79\n",
       "2      40.70\n",
       "3      40.68\n",
       "4      40.67\n",
       "       ...  \n",
       "292    39.99\n",
       "293    40.30\n",
       "294    41.25\n",
       "295    40.00\n",
       "296    37.77\n",
       "Name: Latitude, Length: 232, dtype: float64"
      ]
     },
     "execution_count": 413,
     "metadata": {},
     "output_type": "execute_result"
    }
   ],
   "source": [
    "df_fp_ny['Latitude']"
   ]
  },
  {
   "cell_type": "code",
   "execution_count": 423,
   "metadata": {},
   "outputs": [
    {
     "ename": "ValueError",
     "evalue": "could not convert string to float: \"ude': -73.975196838378\"",
     "output_type": "error",
     "traceback": [
      "\u001b[0;31m---------------------------------------------------------------------------\u001b[0m",
      "\u001b[0;31mValueError\u001b[0m                                Traceback (most recent call last)",
      "\u001b[0;32m<ipython-input-423-ee87fa4f5d15>\u001b[0m in \u001b[0;36m<module>\u001b[0;34m\u001b[0m\n\u001b[1;32m      1\u001b[0m \u001b[0mlongs\u001b[0m \u001b[0;34m=\u001b[0m \u001b[0;34m[\u001b[0m\u001b[0;34m]\u001b[0m\u001b[0;34m\u001b[0m\u001b[0;34m\u001b[0m\u001b[0m\n\u001b[1;32m      2\u001b[0m \u001b[0;32mfor\u001b[0m \u001b[0mi\u001b[0m \u001b[0;32min\u001b[0m \u001b[0mdf_fp_ny\u001b[0m\u001b[0;34m[\u001b[0m\u001b[0;34m'Coordinates'\u001b[0m\u001b[0;34m]\u001b[0m\u001b[0;34m:\u001b[0m\u001b[0;34m\u001b[0m\u001b[0;34m\u001b[0m\u001b[0m\n\u001b[0;32m----> 3\u001b[0;31m     \u001b[0mlongitude\u001b[0m \u001b[0;34m=\u001b[0m \u001b[0mfloat\u001b[0m\u001b[0;34m(\u001b[0m\u001b[0mi\u001b[0m\u001b[0;34m[\u001b[0m\u001b[0;36m38\u001b[0m\u001b[0;34m:\u001b[0m\u001b[0;34m-\u001b[0m\u001b[0;36m2\u001b[0m\u001b[0;34m]\u001b[0m\u001b[0;34m)\u001b[0m\u001b[0;34m\u001b[0m\u001b[0;34m\u001b[0m\u001b[0m\n\u001b[0m\u001b[1;32m      4\u001b[0m     \u001b[0mlongs\u001b[0m\u001b[0;34m.\u001b[0m\u001b[0mappend\u001b[0m\u001b[0;34m(\u001b[0m\u001b[0mlongitude\u001b[0m\u001b[0;34m)\u001b[0m\u001b[0;34m\u001b[0m\u001b[0;34m\u001b[0m\u001b[0m\n\u001b[1;32m      5\u001b[0m \u001b[0mdf_fp_ny\u001b[0m\u001b[0;34m[\u001b[0m\u001b[0;34m'Longitude'\u001b[0m\u001b[0;34m]\u001b[0m \u001b[0;34m=\u001b[0m \u001b[0mlongs\u001b[0m\u001b[0;34m\u001b[0m\u001b[0;34m\u001b[0m\u001b[0m\n",
      "\u001b[0;31mValueError\u001b[0m: could not convert string to float: \"ude': -73.975196838378\""
     ]
    }
   ],
   "source": [
    "longs = []\n",
    "for i in df_fp_ny['Coordinates']:\n",
    "    longitude = float(i[38:-2])\n",
    "    longs.append(longitude)\n",
    "df_fp_ny['Longitude'] = longs"
   ]
  },
  {
   "cell_type": "code",
   "execution_count": 378,
   "metadata": {
    "scrolled": true
   },
   "outputs": [
    {
     "data": {
      "text/html": [
       "<div style=\"width:100%;\"><div style=\"position:relative;width:100%;height:0;padding-bottom:60%;\"><span style=\"color:#565656\">Make this Notebook Trusted to load map: File -> Trust Notebook</span><iframe src=\"about:blank\" style=\"position:absolute;width:100%;height:100%;left:0;top:0;border:none !important;\" data-html=%3C%21DOCTYPE%20html%3E%0A%3Chead%3E%20%20%20%20%0A%20%20%20%20%3Cmeta%20http-equiv%3D%22content-type%22%20content%3D%22text/html%3B%20charset%3DUTF-8%22%20/%3E%0A%20%20%20%20%0A%20%20%20%20%20%20%20%20%3Cscript%3E%0A%20%20%20%20%20%20%20%20%20%20%20%20L_NO_TOUCH%20%3D%20false%3B%0A%20%20%20%20%20%20%20%20%20%20%20%20L_DISABLE_3D%20%3D%20false%3B%0A%20%20%20%20%20%20%20%20%3C/script%3E%0A%20%20%20%20%0A%20%20%20%20%3Cstyle%3Ehtml%2C%20body%20%7Bwidth%3A%20100%25%3Bheight%3A%20100%25%3Bmargin%3A%200%3Bpadding%3A%200%3B%7D%3C/style%3E%0A%20%20%20%20%3Cstyle%3E%23map%20%7Bposition%3Aabsolute%3Btop%3A0%3Bbottom%3A0%3Bright%3A0%3Bleft%3A0%3B%7D%3C/style%3E%0A%20%20%20%20%3Cscript%20src%3D%22https%3A//cdn.jsdelivr.net/npm/leaflet%401.6.0/dist/leaflet.js%22%3E%3C/script%3E%0A%20%20%20%20%3Cscript%20src%3D%22https%3A//code.jquery.com/jquery-1.12.4.min.js%22%3E%3C/script%3E%0A%20%20%20%20%3Cscript%20src%3D%22https%3A//maxcdn.bootstrapcdn.com/bootstrap/3.2.0/js/bootstrap.min.js%22%3E%3C/script%3E%0A%20%20%20%20%3Cscript%20src%3D%22https%3A//cdnjs.cloudflare.com/ajax/libs/Leaflet.awesome-markers/2.0.2/leaflet.awesome-markers.js%22%3E%3C/script%3E%0A%20%20%20%20%3Clink%20rel%3D%22stylesheet%22%20href%3D%22https%3A//cdn.jsdelivr.net/npm/leaflet%401.6.0/dist/leaflet.css%22/%3E%0A%20%20%20%20%3Clink%20rel%3D%22stylesheet%22%20href%3D%22https%3A//maxcdn.bootstrapcdn.com/bootstrap/3.2.0/css/bootstrap.min.css%22/%3E%0A%20%20%20%20%3Clink%20rel%3D%22stylesheet%22%20href%3D%22https%3A//maxcdn.bootstrapcdn.com/bootstrap/3.2.0/css/bootstrap-theme.min.css%22/%3E%0A%20%20%20%20%3Clink%20rel%3D%22stylesheet%22%20href%3D%22https%3A//maxcdn.bootstrapcdn.com/font-awesome/4.6.3/css/font-awesome.min.css%22/%3E%0A%20%20%20%20%3Clink%20rel%3D%22stylesheet%22%20href%3D%22https%3A//cdnjs.cloudflare.com/ajax/libs/Leaflet.awesome-markers/2.0.2/leaflet.awesome-markers.css%22/%3E%0A%20%20%20%20%3Clink%20rel%3D%22stylesheet%22%20href%3D%22https%3A//cdn.jsdelivr.net/gh/python-visualization/folium/folium/templates/leaflet.awesome.rotate.min.css%22/%3E%0A%20%20%20%20%0A%20%20%20%20%20%20%20%20%20%20%20%20%3Cmeta%20name%3D%22viewport%22%20content%3D%22width%3Ddevice-width%2C%0A%20%20%20%20%20%20%20%20%20%20%20%20%20%20%20%20initial-scale%3D1.0%2C%20maximum-scale%3D1.0%2C%20user-scalable%3Dno%22%20/%3E%0A%20%20%20%20%20%20%20%20%20%20%20%20%3Cstyle%3E%0A%20%20%20%20%20%20%20%20%20%20%20%20%20%20%20%20%23map_53c445f7cc6f40bea028a96c9c6e2e03%20%7B%0A%20%20%20%20%20%20%20%20%20%20%20%20%20%20%20%20%20%20%20%20position%3A%20relative%3B%0A%20%20%20%20%20%20%20%20%20%20%20%20%20%20%20%20%20%20%20%20width%3A%20100.0%25%3B%0A%20%20%20%20%20%20%20%20%20%20%20%20%20%20%20%20%20%20%20%20height%3A%20100.0%25%3B%0A%20%20%20%20%20%20%20%20%20%20%20%20%20%20%20%20%20%20%20%20left%3A%200.0%25%3B%0A%20%20%20%20%20%20%20%20%20%20%20%20%20%20%20%20%20%20%20%20top%3A%200.0%25%3B%0A%20%20%20%20%20%20%20%20%20%20%20%20%20%20%20%20%7D%0A%20%20%20%20%20%20%20%20%20%20%20%20%3C/style%3E%0A%20%20%20%20%20%20%20%20%0A%3C/head%3E%0A%3Cbody%3E%20%20%20%20%0A%20%20%20%20%0A%20%20%20%20%20%20%20%20%20%20%20%20%3Cdiv%20class%3D%22folium-map%22%20id%3D%22map_53c445f7cc6f40bea028a96c9c6e2e03%22%20%3E%3C/div%3E%0A%20%20%20%20%20%20%20%20%0A%3C/body%3E%0A%3Cscript%3E%20%20%20%20%0A%20%20%20%20%0A%20%20%20%20%20%20%20%20%20%20%20%20var%20map_53c445f7cc6f40bea028a96c9c6e2e03%20%3D%20L.map%28%0A%20%20%20%20%20%20%20%20%20%20%20%20%20%20%20%20%22map_53c445f7cc6f40bea028a96c9c6e2e03%22%2C%0A%20%20%20%20%20%20%20%20%20%20%20%20%20%20%20%20%7B%0A%20%20%20%20%20%20%20%20%20%20%20%20%20%20%20%20%20%20%20%20center%3A%20%5B40.7382584%2C%20-73.9549%5D%2C%0A%20%20%20%20%20%20%20%20%20%20%20%20%20%20%20%20%20%20%20%20crs%3A%20L.CRS.EPSG3857%2C%0A%20%20%20%20%20%20%20%20%20%20%20%20%20%20%20%20%20%20%20%20zoom%3A%2013%2C%0A%20%20%20%20%20%20%20%20%20%20%20%20%20%20%20%20%20%20%20%20zoomControl%3A%20true%2C%0A%20%20%20%20%20%20%20%20%20%20%20%20%20%20%20%20%20%20%20%20preferCanvas%3A%20false%2C%0A%20%20%20%20%20%20%20%20%20%20%20%20%20%20%20%20%7D%0A%20%20%20%20%20%20%20%20%20%20%20%20%29%3B%0A%0A%20%20%20%20%20%20%20%20%20%20%20%20%0A%0A%20%20%20%20%20%20%20%20%0A%20%20%20%20%0A%20%20%20%20%20%20%20%20%20%20%20%20var%20tile_layer_ee7449e2ca0b46d9a4bc3db4adfe0907%20%3D%20L.tileLayer%28%0A%20%20%20%20%20%20%20%20%20%20%20%20%20%20%20%20%22https%3A//stamen-tiles-%7Bs%7D.a.ssl.fastly.net/toner/%7Bz%7D/%7Bx%7D/%7By%7D.png%22%2C%0A%20%20%20%20%20%20%20%20%20%20%20%20%20%20%20%20%7B%22attribution%22%3A%20%22Map%20tiles%20by%20%5Cu003ca%20href%3D%5C%22http%3A//stamen.com%5C%22%5Cu003eStamen%20Design%5Cu003c/a%5Cu003e%2C%20under%20%5Cu003ca%20href%3D%5C%22http%3A//creativecommons.org/licenses/by/3.0%5C%22%5Cu003eCC%20BY%203.0%5Cu003c/a%5Cu003e.%20Data%20by%20%5Cu0026copy%3B%20%5Cu003ca%20href%3D%5C%22http%3A//openstreetmap.org%5C%22%5Cu003eOpenStreetMap%5Cu003c/a%5Cu003e%2C%20under%20%5Cu003ca%20href%3D%5C%22http%3A//www.openstreetmap.org/copyright%5C%22%5Cu003eODbL%5Cu003c/a%5Cu003e.%22%2C%20%22detectRetina%22%3A%20false%2C%20%22maxNativeZoom%22%3A%2018%2C%20%22maxZoom%22%3A%2018%2C%20%22minZoom%22%3A%200%2C%20%22noWrap%22%3A%20false%2C%20%22opacity%22%3A%201%2C%20%22subdomains%22%3A%20%22abc%22%2C%20%22tms%22%3A%20false%7D%0A%20%20%20%20%20%20%20%20%20%20%20%20%29.addTo%28map_53c445f7cc6f40bea028a96c9c6e2e03%29%3B%0A%20%20%20%20%20%20%20%20%0A%20%20%20%20%0A%20%20%20%20%20%20%20%20%20%20%20%20var%20circle_33053c439ee6491295b620fa81434010%20%3D%20L.circle%28%0A%20%20%20%20%20%20%20%20%20%20%20%20%20%20%20%20%5B40.7382584%2C%20-73.9549%5D%2C%0A%20%20%20%20%20%20%20%20%20%20%20%20%20%20%20%20%7B%22bubblingMouseEvents%22%3A%20true%2C%20%22color%22%3A%20%22crimson%22%2C%20%22dashArray%22%3A%20null%2C%20%22dashOffset%22%3A%20null%2C%20%22fill%22%3A%20false%2C%20%22fillColor%22%3A%20%22crimson%22%2C%20%22fillOpacity%22%3A%200.2%2C%20%22fillRule%22%3A%20%22evenodd%22%2C%20%22lineCap%22%3A%20%22round%22%2C%20%22lineJoin%22%3A%20%22round%22%2C%20%22opacity%22%3A%201.0%2C%20%22radius%22%3A%20100%2C%20%22stroke%22%3A%20true%2C%20%22weight%22%3A%203%7D%0A%20%20%20%20%20%20%20%20%20%20%20%20%29.addTo%28map_53c445f7cc6f40bea028a96c9c6e2e03%29%3B%0A%20%20%20%20%20%20%20%20%0A%20%20%20%20%0A%20%20%20%20%20%20%20%20var%20popup_5587eb9e1dd34ba4bca8c8ae8841e74e%20%3D%20L.popup%28%7B%22maxWidth%22%3A%20%22100%25%22%7D%29%3B%0A%0A%20%20%20%20%20%20%20%20%0A%20%20%20%20%20%20%20%20%20%20%20%20var%20html_52c24591c866434fa091f0863806af8c%20%3D%20%24%28%60%3Cdiv%20id%3D%22html_52c24591c866434fa091f0863806af8c%22%20style%3D%22width%3A%20100.0%25%3B%20height%3A%20100.0%25%3B%22%3EDiJiFi%3C/div%3E%60%29%5B0%5D%3B%0A%20%20%20%20%20%20%20%20%20%20%20%20popup_5587eb9e1dd34ba4bca8c8ae8841e74e.setContent%28html_52c24591c866434fa091f0863806af8c%29%3B%0A%20%20%20%20%20%20%20%20%0A%0A%20%20%20%20%20%20%20%20circle_33053c439ee6491295b620fa81434010.bindPopup%28popup_5587eb9e1dd34ba4bca8c8ae8841e74e%29%0A%20%20%20%20%20%20%20%20%3B%0A%0A%20%20%20%20%20%20%20%20%0A%20%20%20%20%0A%20%20%20%20%0A%20%20%20%20%20%20%20%20%20%20%20%20var%20circle_marker_f0b40c5d1e264b63bc95781eedb4e290%20%3D%20L.circleMarker%28%0A%20%20%20%20%20%20%20%20%20%20%20%20%20%20%20%20%5B40.7382584%2C%20-73.9549%5D%2C%0A%20%20%20%20%20%20%20%20%20%20%20%20%20%20%20%20%7B%22bubblingMouseEvents%22%3A%20true%2C%20%22color%22%3A%20%22%231F77B4%22%2C%20%22dashArray%22%3A%20null%2C%20%22dashOffset%22%3A%20null%2C%20%22fill%22%3A%20true%2C%20%22fillColor%22%3A%20%22%233186cc%22%2C%20%22fillOpacity%22%3A%200.2%2C%20%22fillRule%22%3A%20%22evenodd%22%2C%20%22lineCap%22%3A%20%22round%22%2C%20%22lineJoin%22%3A%20%22round%22%2C%20%22opacity%22%3A%201.0%2C%20%22radius%22%3A%2050%2C%20%22stroke%22%3A%20true%2C%20%22weight%22%3A%203%7D%0A%20%20%20%20%20%20%20%20%20%20%20%20%29.addTo%28map_53c445f7cc6f40bea028a96c9c6e2e03%29%3B%0A%20%20%20%20%20%20%20%20%0A%20%20%20%20%0A%20%20%20%20%20%20%20%20var%20popup_741fe213fc2a4a99964244ff52da9a84%20%3D%20L.popup%28%7B%22maxWidth%22%3A%20%22100%25%22%7D%29%3B%0A%0A%20%20%20%20%20%20%20%20%0A%20%20%20%20%20%20%20%20%20%20%20%20var%20html_50a35c54583147168afc972257ae1804%20%3D%20%24%28%60%3Cdiv%20id%3D%22html_50a35c54583147168afc972257ae1804%22%20style%3D%22width%3A%20100.0%25%3B%20height%3A%20100.0%25%3B%22%3EDiJiFi%3C/div%3E%60%29%5B0%5D%3B%0A%20%20%20%20%20%20%20%20%20%20%20%20popup_741fe213fc2a4a99964244ff52da9a84.setContent%28html_50a35c54583147168afc972257ae1804%29%3B%0A%20%20%20%20%20%20%20%20%0A%0A%20%20%20%20%20%20%20%20circle_marker_f0b40c5d1e264b63bc95781eedb4e290.bindPopup%28popup_741fe213fc2a4a99964244ff52da9a84%29%0A%20%20%20%20%20%20%20%20%3B%0A%0A%20%20%20%20%20%20%20%20%0A%20%20%20%20%0A%20%20%20%20%0A%20%20%20%20%20%20%20%20%20%20%20%20circle_marker_f0b40c5d1e264b63bc95781eedb4e290.bindTooltip%28%0A%20%20%20%20%20%20%20%20%20%20%20%20%20%20%20%20%60%3Cdiv%3E%0A%20%20%20%20%20%20%20%20%20%20%20%20%20%20%20%20%20%20%20%20%20DiJiFi%0A%20%20%20%20%20%20%20%20%20%20%20%20%20%20%20%20%20%3C/div%3E%60%2C%0A%20%20%20%20%20%20%20%20%20%20%20%20%20%20%20%20%7B%22sticky%22%3A%20true%7D%0A%20%20%20%20%20%20%20%20%20%20%20%20%29%3B%0A%20%20%20%20%20%20%20%20%0A%3C/script%3E onload=\"this.contentDocument.open();this.contentDocument.write(    decodeURIComponent(this.getAttribute('data-html')));this.contentDocument.close();\" allowfullscreen webkitallowfullscreen mozallowfullscreen></iframe></div></div>"
      ],
      "text/plain": [
       "<folium.folium.Map at 0x7fbb24eeb490>"
      ]
     },
     "execution_count": 378,
     "metadata": {},
     "output_type": "execute_result"
    }
   ],
   "source": [
    "m = folium.Map(location=[40.7382584, -73.9549], tiles=\"Stamen Toner\", zoom_start=13)\n",
    "\n",
    "folium.Circle(\n",
    "    radius=100,\n",
    "    location=[40.7382584, -73.9549],\n",
    "    popup='DiJiFi',\n",
    "    color=\"crimson\",\n",
    "    fill=False,\n",
    ").add_to(m)\n",
    "\n",
    "\n",
    "folium.CircleMarker(\n",
    "    location=[40.7382584, -73.9549],\n",
    "    radius=50,\n",
    "    popup=\"DiJiFi\",\n",
    "    color=\"#1F77B4\",\n",
    "    fill=True,\n",
    "    fill_color=\"#3186cc\",\n",
    "    tooltip = 'DiJiFi',\n",
    ").add_to(m)\n",
    "\n",
    "\n",
    "m"
   ]
  },
  {
   "cell_type": "code",
   "execution_count": null,
   "metadata": {},
   "outputs": [],
   "source": []
  },
  {
   "cell_type": "markdown",
   "metadata": {},
   "source": [
    "### Takeaways"
   ]
  },
  {
   "cell_type": "markdown",
   "metadata": {},
   "source": [
    "# Conclusion and Further Considerations"
   ]
  },
  {
   "cell_type": "markdown",
   "metadata": {},
   "source": [
    "Further considerations in our analysis include\n",
    "- commercial real estate prices per location (possibly through other API such as Zilliow)\n",
    "- other costs of doing business per location\n",
    "- resources available per location that will help in starting a business, i.e:\n",
    "- other businesses that may be resources to ours\n",
    "- tax incentives for film industry\n",
    "- a business-friendly regulator relationship"
   ]
  },
  {
   "cell_type": "markdown",
   "metadata": {},
   "source": [
    "<br><br><br><br><br><br><br><br><br><br><br><br>"
   ]
  }
 ],
 "metadata": {
  "kernelspec": {
   "display_name": "Python 3",
   "language": "python",
   "name": "python3"
  },
  "language_info": {
   "codemirror_mode": {
    "name": "ipython",
    "version": 3
   },
   "file_extension": ".py",
   "mimetype": "text/x-python",
   "name": "python",
   "nbconvert_exporter": "python",
   "pygments_lexer": "ipython3",
   "version": "3.8.5"
  }
 },
 "nbformat": 4,
 "nbformat_minor": 4
}
