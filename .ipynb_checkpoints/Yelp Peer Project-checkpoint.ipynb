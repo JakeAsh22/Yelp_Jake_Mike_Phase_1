{
 "cells": [
  {
   "cell_type": "markdown",
   "metadata": {},
   "source": [
    "# Bar in NYC (Manhattan, Brooklyn), Richmond VA, Seattle\n",
    "Film production houses, film rental houses\n",
    "\n",
    "Beer, fresh out of college drinks\n",
    "- microbrew\n",
    "- need fine options on food menu\n",
    "- shitty vodka is best vodka\n",
    "\n",
    "- microwinery <3 \n",
    "\n",
    "_Target customers_<br>\n",
    "- Middle-aged\n",
    "- Mid-20s hipsters\n",
    "\n",
    "Restaurant\n",
    "SPORTS BAR that is always closed\n",
    "\n",
    "\n",
    "\n",
    "\n",
    "Add location to a map through the import we learned on learn.co"
   ]
  },
  {
   "cell_type": "markdown",
   "metadata": {},
   "source": [
    "# USE BASE DATA"
   ]
  },
  {
   "cell_type": "markdown",
   "metadata": {},
   "source": [
    "First step is to get requests:"
   ]
  },
  {
   "cell_type": "code",
   "execution_count": 109,
   "metadata": {
    "scrolled": true
   },
   "outputs": [
    {
     "name": "stdout",
     "output_type": "stream",
     "text": [
      "['/Users/Mike/Flatiron_020121/yelp_phase1_project', '/opt/anaconda3/lib/python38.zip', '/opt/anaconda3/lib/python3.8', '/opt/anaconda3/lib/python3.8/lib-dynload', '', '/opt/anaconda3/lib/python3.8/site-packages', '/opt/anaconda3/lib/python3.8/site-packages/aeosa', '/opt/anaconda3/lib/python3.8/site-packages/IPython/extensions', '/Users/Mike/.ipython']\n"
     ]
    }
   ],
   "source": [
    "import requests\n",
    "import json\n",
    "import sys\n",
    "import pandas as pd\n",
    "import csv\n",
    "\n",
    "print(sys.path)"
   ]
  },
  {
   "cell_type": "code",
   "execution_count": 110,
   "metadata": {},
   "outputs": [],
   "source": [
    "url =  'https://api.yelp.com/v3/businesses/search' #points to url of user's yelp developer page"
   ]
  },
  {
   "cell_type": "code",
   "execution_count": 111,
   "metadata": {},
   "outputs": [],
   "source": [
    "from  keys  import  client_id, api_key"
   ]
  },
  {
   "cell_type": "code",
   "execution_count": 112,
   "metadata": {},
   "outputs": [],
   "source": [
    "headers = {\n",
    "        'Authorization': 'Bearer {}'.format(api_key),\n",
    "    }\n"
   ]
  },
  {
   "cell_type": "code",
   "execution_count": 113,
   "metadata": {},
   "outputs": [],
   "source": [
    "### THIS CAN BE DYNAMIC\n",
    "# what type of business do you want to search\n",
    "term = 'Film Production' # this would \n",
    "# term = 'Bar'\n",
    "#where do you want to perform this search\n",
    "location = 'Brooklyn'\n",
    "\n",
    "# what is your other parameter you want to search against\n",
    "categories = 'Video/Film'\n",
    "# categories = 'Restaurant'"
   ]
  },
  {
   "cell_type": "code",
   "execution_count": 208,
   "metadata": {},
   "outputs": [],
   "source": [
    "\n",
    "url_params = {\n",
    "                \"term\": term.replace(' ', '+'),\n",
    "                \"location\": location.replace(' ', '+'),\n",
    "                \"categories\" : categories,\n",
    "                \"limit\": 50,\n",
    "                \"offset\": 0\n",
    "            }"
   ]
  },
  {
   "cell_type": "code",
   "execution_count": 162,
   "metadata": {},
   "outputs": [
    {
     "name": "stdout",
     "output_type": "stream",
     "text": [
      "6200 dict_keys(['businesses', 'total', 'region'])\n"
     ]
    }
   ],
   "source": [
    "response = requests.get(url, headers=headers, params=url_params)\n",
    "json.loads(response.text)\n",
    "response.json()\n",
    "data = response.json()\n",
    "print(data['total'], data.keys())\n",
    "# print(response)"
   ]
  },
  {
   "cell_type": "code",
   "execution_count": 229,
   "metadata": {},
   "outputs": [
    {
     "data": {
      "text/plain": [
       "{'term': 'Bar',\n",
       " 'location': 'Brooklyn',\n",
       " 'categories': 'Restaurant',\n",
       " 'limit': 50,\n",
       " 'offset': 0}"
      ]
     },
     "execution_count": 229,
     "metadata": {},
     "output_type": "execute_result"
    }
   ],
   "source": [
    "url_params"
   ]
  },
  {
   "cell_type": "code",
   "execution_count": 230,
   "metadata": {},
   "outputs": [],
   "source": [
    "def yelp_call(headers, url_params): \n",
    "    response = requests.get(url, headers=headers, params=url_params) # our url, header and params should be consistent, atleast with our Yelp data\n",
    "    return response.json()"
   ]
  },
  {
   "cell_type": "markdown",
   "metadata": {},
   "source": [
    "#### Parsing the Data"
   ]
  },
  {
   "cell_type": "code",
   "execution_count": 231,
   "metadata": {},
   "outputs": [],
   "source": [
    "def parse_data(list_of_data):\n",
    "    businesses = []\n",
    "    for business in list_of_data:\n",
    "        biz_price = None\n",
    "        if 'price' not in business.keys():\n",
    "            biz_price = None\n",
    "        else:\n",
    "            biz_price = len(business['price'])\n",
    "        biz_tuple = (business['name'],\n",
    "                     business['location']['display_address'],\n",
    "                     business['location']['city'],\n",
    "                     business['rating'],\n",
    "                     business['review_count'],\n",
    "                     business['coordinates'],\n",
    "                     biz_price)\n",
    "        businesses.append(biz_tuple)\n",
    "    return businesses\n",
    "\n",
    "    # create a container to hold our parsed data\n",
    "    # loop through our business and \n",
    "    # parse each individual business into a tuple\n",
    "    # add each individual business tuple to our data container\n",
    "    # return the container with all of the parsed results\n",
    "\n",
    "\n",
    "\n",
    "## Make a function that adds a price column, and if the dict doesnt have a price column, add a vlaue of Null"
   ]
  },
  {
   "cell_type": "code",
   "execution_count": null,
   "metadata": {},
   "outputs": [],
   "source": [
    "\n"
   ]
  },
  {
   "cell_type": "code",
   "execution_count": 169,
   "metadata": {},
   "outputs": [
    {
     "data": {
      "text/plain": [
       "[('The Rogers Garden',\n",
       "  ['708 Rogers Ave', 'Brooklyn, NY 11226'],\n",
       "  'Brooklyn',\n",
       "  4.5,\n",
       "  46,\n",
       "  {'latitude': 40.65424833, 'longitude': -73.952965},\n",
       "  None),\n",
       " ('Flatbush Zombie House',\n",
       "  ['734 Flatbush Ave', 'Brooklyn, NY 11226'],\n",
       "  'Brooklyn',\n",
       "  4.0,\n",
       "  102,\n",
       "  {'latitude': 40.6550392260637, 'longitude': -73.9600387215614},\n",
       "  2),\n",
       " ('End Zone Sports Bar & Lounge',\n",
       "  ['28 Dooley St', 'Brooklyn, NY 11235'],\n",
       "  'Brooklyn',\n",
       "  5.0,\n",
       "  6,\n",
       "  {'latitude': 40.58437, 'longitude': -73.9453},\n",
       "  None),\n",
       " ('Boobie Trap',\n",
       "  ['308 Bleecker St', 'Brooklyn, NY 11237'],\n",
       "  'Brooklyn',\n",
       "  4.0,\n",
       "  273,\n",
       "  {'latitude': 40.7003517876193, 'longitude': -73.9161294247438},\n",
       "  1),\n",
       " ('The Crown Inn',\n",
       "  ['724 Franklin Ave', 'Brooklyn, NY 11238'],\n",
       "  'Brooklyn',\n",
       "  4.0,\n",
       "  200,\n",
       "  {'latitude': 40.673874, 'longitude': -73.957101},\n",
       "  2),\n",
       " ('MOON BAR Rooftop',\n",
       "  ['137-72 Northern Blvd', 'Fl 9', 'Flushing, NY 11354'],\n",
       "  'Flushing',\n",
       "  4.0,\n",
       "  27,\n",
       "  {'latitude': 40.7635, 'longitude': -73.82844},\n",
       "  None),\n",
       " ('The Wilky',\n",
       "  ['108 Patchen Ave', 'Brooklyn, NY 11221'],\n",
       "  'Brooklyn',\n",
       "  4.5,\n",
       "  147,\n",
       "  {'latitude': 40.68802, 'longitude': -73.92735},\n",
       "  2),\n",
       " ('Sally’s',\n",
       "  ['151 Tompkins Ave', 'Brooklyn, NY 11206'],\n",
       "  'Brooklyn',\n",
       "  4.5,\n",
       "  16,\n",
       "  {'latitude': 40.69413, 'longitude': -73.94592},\n",
       "  None),\n",
       " (\"L'Wren\",\n",
       "  ['4004 5th Ave', 'Brooklyn, NY 11232'],\n",
       "  'Brooklyn',\n",
       "  5.0,\n",
       "  42,\n",
       "  {'latitude': 40.65065, 'longitude': -74.00476},\n",
       "  None),\n",
       " (\"Dick and Jane's\",\n",
       "  ['266 Adelphi St', 'Brooklyn, NY 11205'],\n",
       "  'Brooklyn',\n",
       "  4.0,\n",
       "  121,\n",
       "  {'latitude': 40.68987, 'longitude': -73.97136},\n",
       "  2),\n",
       " ('Lovers Rock',\n",
       "  ['419 Tompkins Ave', 'Brooklyn, NY 11216'],\n",
       "  'Brooklyn',\n",
       "  4.0,\n",
       "  115,\n",
       "  {'latitude': 40.6831, 'longitude': -73.9436},\n",
       "  2),\n",
       " ('Dynaco',\n",
       "  ['1112 Bedford Ave', 'Brooklyn, NY 11216'],\n",
       "  'Brooklyn',\n",
       "  4.5,\n",
       "  110,\n",
       "  {'latitude': 40.686615, 'longitude': -73.954811},\n",
       "  2),\n",
       " ('Margarita Island',\n",
       "  ['1105 Bowery St', 'Brooklyn, NY 11224'],\n",
       "  'Brooklyn',\n",
       "  3.5,\n",
       "  38,\n",
       "  {'latitude': 40.57485, 'longitude': -73.97922},\n",
       "  2),\n",
       " ('Bearded Lady',\n",
       "  ['686A Washington Ave', 'Brooklyn, NY 11238'],\n",
       "  'Brooklyn',\n",
       "  4.0,\n",
       "  193,\n",
       "  {'latitude': 40.6774605398157, 'longitude': -73.963885845718},\n",
       "  2),\n",
       " ('Zig Zag Tiki Bar',\n",
       "  ['382 Marcus Garvey Blvd', 'Brooklyn, NY 11221'],\n",
       "  'Brooklyn',\n",
       "  4.0,\n",
       "  15,\n",
       "  {'latitude': 40.68401333, 'longitude': -73.93821667},\n",
       "  None),\n",
       " ('Living Room Restaurant & Lounge',\n",
       "  ['178 Ave U', 'Brooklyn, NY 11223'],\n",
       "  'Brooklyn',\n",
       "  3.5,\n",
       "  182,\n",
       "  {'latitude': 40.596309, 'longitude': -73.977697},\n",
       "  2),\n",
       " ('Travel Bar',\n",
       "  ['520 Court St', 'Carroll Gardens, NY 11231'],\n",
       "  'Carroll Gardens',\n",
       "  5.0,\n",
       "  50,\n",
       "  {'latitude': 40.6761449091646, 'longitude': -73.9990452619921},\n",
       "  2),\n",
       " ('King Tai',\n",
       "  ['1095 Bergen St', 'Brooklyn, NY 11216'],\n",
       "  'Brooklyn',\n",
       "  4.0,\n",
       "  70,\n",
       "  {'latitude': 40.6762009, 'longitude': -73.9494781},\n",
       "  1),\n",
       " ('Super Power',\n",
       "  ['722 Nostrand Ave', 'Brooklyn, NY 11216'],\n",
       "  'Brooklyn',\n",
       "  4.5,\n",
       "  148,\n",
       "  {'latitude': 40.6739268745309, 'longitude': -73.9503274715026},\n",
       "  2),\n",
       " ('Gems Bar Lounge',\n",
       "  ['1595 Broadway', 'Brooklyn, NY 11207'],\n",
       "  'Brooklyn',\n",
       "  5.0,\n",
       "  9,\n",
       "  {'latitude': 40.685739, 'longitude': -73.914793},\n",
       "  None),\n",
       " ('Doris',\n",
       "  ['1088 Fulton St', 'Brooklyn, NY 11238'],\n",
       "  'Brooklyn',\n",
       "  4.0,\n",
       "  96,\n",
       "  {'latitude': 40.68121, 'longitude': -73.957436},\n",
       "  2),\n",
       " ('Turtles All The Way Down',\n",
       "  ['236 Malcolm X Blvd', 'Brooklyn, NY 11221'],\n",
       "  'Brooklyn',\n",
       "  4.5,\n",
       "  26,\n",
       "  {'latitude': 40.68509, 'longitude': -73.92963},\n",
       "  1),\n",
       " ('Featherweight',\n",
       "  ['135 Graham Ave', 'Brooklyn, NY 11206'],\n",
       "  'Brooklyn',\n",
       "  4.5,\n",
       "  135,\n",
       "  {'latitude': 40.7063167, 'longitude': -73.9432119},\n",
       "  2),\n",
       " ('Drink',\n",
       "  ['768 Franklin Ave', 'Brooklyn, NY 11238'],\n",
       "  'Brooklyn',\n",
       "  4.5,\n",
       "  105,\n",
       "  {'latitude': 40.67216, 'longitude': -73.95757},\n",
       "  2),\n",
       " ('St Ends',\n",
       "  ['667 Franklin Ave', 'Brooklyn, NY 11238'],\n",
       "  'Brooklyn',\n",
       "  4.5,\n",
       "  42,\n",
       "  {'latitude': 40.67568, 'longitude': -73.95601},\n",
       "  None),\n",
       " ('Two Saints',\n",
       "  ['753 Nostrand Ave', 'Brooklyn, NY 11216'],\n",
       "  'Brooklyn',\n",
       "  4.0,\n",
       "  84,\n",
       "  {'latitude': 40.67151, 'longitude': -73.9502},\n",
       "  2),\n",
       " ('Sycamore Bar + Flowershop',\n",
       "  ['1118 Cortelyou Rd', 'Brooklyn, NY 11218'],\n",
       "  'Brooklyn',\n",
       "  4.0,\n",
       "  330,\n",
       "  {'latitude': 40.639719, 'longitude': -73.967158},\n",
       "  2),\n",
       " ('Post Bar',\n",
       "  ['307 Clifton Pl', 'Brooklyn, NY 11216'],\n",
       "  'Brooklyn',\n",
       "  4.5,\n",
       "  14,\n",
       "  {'latitude': 40.689547, 'longitude': -73.950757},\n",
       "  None),\n",
       " ('Glorietta Baldy',\n",
       "  ['502 Franklin Ave', 'Brooklyn, NY 11238'],\n",
       "  'Brooklyn',\n",
       "  4.0,\n",
       "  64,\n",
       "  {'latitude': 40.6813358395142, 'longitude': -73.9561890468519},\n",
       "  2),\n",
       " ('Do or Dive',\n",
       "  ['1108 Bedford Ave', 'Brooklyn, NY 11216'],\n",
       "  'Brooklyn',\n",
       "  4.5,\n",
       "  67,\n",
       "  {'latitude': 40.6867587, 'longitude': -73.9548362},\n",
       "  1),\n",
       " ('Midwood Flats',\n",
       "  ['577 Flatbush Ave', 'Prospect Lefferts Gardens, NY 11225'],\n",
       "  'Prospect Lefferts Gardens',\n",
       "  4.0,\n",
       "  267,\n",
       "  {'latitude': 40.6596512, 'longitude': -73.9603844},\n",
       "  2),\n",
       " (\"Queen Bee's Tavern\",\n",
       "  ['3023 Church Ave', 'Brooklyn, NY 11226'],\n",
       "  'Brooklyn',\n",
       "  4.5,\n",
       "  10,\n",
       "  {'latitude': 40.65098, 'longitude': -73.94874},\n",
       "  1),\n",
       " ('Bar Bayeux',\n",
       "  ['1066 Nostrand Ave', 'Brooklyn, NY 11225'],\n",
       "  'Brooklyn',\n",
       "  4.5,\n",
       "  25,\n",
       "  {'latitude': 40.6620260148375, 'longitude': -73.9510311931372},\n",
       "  None),\n",
       " (\"Abe's Pagoda Bar\",\n",
       "  ['108 Wyckoff Ave', 'Brooklyn, NY 11237'],\n",
       "  'Brooklyn',\n",
       "  4.5,\n",
       "  49,\n",
       "  {'latitude': 40.7039301086121, 'longitude': -73.9188500493765},\n",
       "  None),\n",
       " ('Charm Bar & Restaurant',\n",
       "  ['448 Dean St', 'Brooklyn, NY 11217'],\n",
       "  'Brooklyn',\n",
       "  4.5,\n",
       "  14,\n",
       "  {'latitude': 40.681841, 'longitude': -73.976284},\n",
       "  None),\n",
       " ('The Corners',\n",
       "  ['395 Nostrand Ave', 'Brooklyn, NY 11216'],\n",
       "  'Brooklyn',\n",
       "  4.5,\n",
       "  35,\n",
       "  {'latitude': 40.6842514074696, 'longitude': -73.9501402711639},\n",
       "  2),\n",
       " ('Mayflower',\n",
       "  ['132 Greene Ave', 'Aita', 'Brooklyn, NY 11238'],\n",
       "  'Brooklyn',\n",
       "  4.0,\n",
       "  54,\n",
       "  {'latitude': 40.68643, 'longitude': -73.96662},\n",
       "  2),\n",
       " ('Dirty Precious',\n",
       "  ['317 3rd Ave', 'Brooklyn, NY 11215'],\n",
       "  'Brooklyn',\n",
       "  4.5,\n",
       "  80,\n",
       "  {'latitude': 40.6763896691334, 'longitude': -73.9867169468351},\n",
       "  2),\n",
       " ('The Steel Mill',\n",
       "  ['1363 Bushwick Ave', 'Brooklyn, NY 11207'],\n",
       "  'Brooklyn',\n",
       "  5.0,\n",
       "  4,\n",
       "  {'latitude': 40.6854018910904, 'longitude': -73.9108926057816},\n",
       "  None),\n",
       " ('Rockaway Beach Surf Club',\n",
       "  ['302 Beach 87th St', 'Far Rockaway, NY 11693'],\n",
       "  'Far Rockaway',\n",
       "  4.0,\n",
       "  128,\n",
       "  {'latitude': 40.58884, 'longitude': -73.81211},\n",
       "  1),\n",
       " ('Sweet Brooklyn Bar And Grill',\n",
       "  ['608 Nostrand Ave', 'Brooklyn, NY 11216'],\n",
       "  'Brooklyn',\n",
       "  4.0,\n",
       "  387,\n",
       "  {'latitude': 40.6778662988215, 'longitude': -73.9500002190471},\n",
       "  2),\n",
       " ('Weather Up',\n",
       "  ['589 Vanderbilt Ave', 'Brooklyn, NY 11238'],\n",
       "  'Brooklyn',\n",
       "  4.0,\n",
       "  293,\n",
       "  {'latitude': 40.679866, 'longitude': -73.967758},\n",
       "  2),\n",
       " ('Luckydog',\n",
       "  ['303 Bedford Ave', 'Brooklyn, NY 11211'],\n",
       "  'Brooklyn',\n",
       "  4.0,\n",
       "  300,\n",
       "  {'latitude': 40.71348, 'longitude': -73.96166},\n",
       "  1),\n",
       " (\"Duff's Brooklyn\",\n",
       "  ['168 Marcy Ave', 'Brooklyn, NY 11211'],\n",
       "  'Brooklyn',\n",
       "  4.5,\n",
       "  164,\n",
       "  {'latitude': 40.70885, 'longitude': -73.95787},\n",
       "  1),\n",
       " ('Jupiter Disco',\n",
       "  ['1237 Flushing Ave', 'Brooklyn, NY 11237'],\n",
       "  'Brooklyn',\n",
       "  4.0,\n",
       "  45,\n",
       "  {'latitude': 40.70814, 'longitude': -73.92352},\n",
       "  2),\n",
       " ('Bar Meridian',\n",
       "  ['406 Prospect Pl', 'Brooklyn, NY 11238'],\n",
       "  'Brooklyn',\n",
       "  4.5,\n",
       "  11,\n",
       "  {'latitude': 40.6763427218772, 'longitude': -73.9630645624458},\n",
       "  None),\n",
       " ('Bodeguita',\n",
       "  ['6 Suydam St', 'Brooklyn, NY 11221'],\n",
       "  'Brooklyn',\n",
       "  4.5,\n",
       "  38,\n",
       "  {'latitude': 40.69555, 'longitude': -73.93204},\n",
       "  None),\n",
       " ('Friends and Lovers',\n",
       "  ['641 Classon Ave', 'Brooklyn, NY 11238'],\n",
       "  'Brooklyn',\n",
       "  4.0,\n",
       "  77,\n",
       "  {'latitude': 40.678536, 'longitude': -73.958437},\n",
       "  2),\n",
       " ('Fancy Nancy',\n",
       "  ['1038 Bedford Ave', 'Brooklyn, NY 11205'],\n",
       "  'Brooklyn',\n",
       "  4.0,\n",
       "  166,\n",
       "  {'latitude': 40.6895502, 'longitude': -73.9554046},\n",
       "  2),\n",
       " ('Father Knows Best',\n",
       "  ['611A Wilson Ave', 'Brooklyn, NY 11207'],\n",
       "  'Brooklyn',\n",
       "  4.0,\n",
       "  327,\n",
       "  {'latitude': 40.6901735, 'longitude': -73.9069755},\n",
       "  2)]"
      ]
     },
     "execution_count": 169,
     "metadata": {},
     "output_type": "execute_result"
    }
   ],
   "source": [
    "parsed_results # list of tuples representing name, address, and rating of establishments"
   ]
  },
  {
   "cell_type": "code",
   "execution_count": 170,
   "metadata": {},
   "outputs": [],
   "source": [
    "df = pd.DataFrame(parsed_results, columns=['Name', 'Address','City', 'Rating','Review Count','Coordinates','Price'])"
   ]
  },
  {
   "cell_type": "code",
   "execution_count": 171,
   "metadata": {
    "scrolled": true
   },
   "outputs": [
    {
     "data": {
      "text/plain": [
       "pandas.core.frame.DataFrame"
      ]
     },
     "execution_count": 171,
     "metadata": {},
     "output_type": "execute_result"
    }
   ],
   "source": [
    "type(df)"
   ]
  },
  {
   "cell_type": "code",
   "execution_count": 188,
   "metadata": {},
   "outputs": [],
   "source": [
    "# your code to open the csv file, concat the current data, and save the data. \n",
    "\n",
    "def df_save(csv_filepath, df): # MIKE NOTE: an if statement for if the file exists may be useful\n",
    "    with open(csv_filepath, \"a\") as f: #'x' creates and writes to csv\n",
    "        read_file = csv.writer(f)\n",
    "        df.to_csv(csv_filepath, mode = \"a\", index = False)\n",
    "# this will append to csv. 2nd arg index=False to not save the inde"
   ]
  },
  {
   "cell_type": "code",
   "execution_count": 190,
   "metadata": {
    "scrolled": false
   },
   "outputs": [],
   "source": [
    "df_save(f'database/{term}_{location}_database.csv', df)"
   ]
  },
  {
   "cell_type": "code",
   "execution_count": 191,
   "metadata": {},
   "outputs": [
    {
     "data": {
      "text/plain": [
       "153"
      ]
     },
     "execution_count": 191,
     "metadata": {},
     "output_type": "execute_result"
    }
   ],
   "source": [
    "len(pd.read_csv(f'database/{term}_{location}_database.csv'))+1"
   ]
  },
  {
   "cell_type": "code",
   "execution_count": 192,
   "metadata": {},
   "outputs": [
    {
     "data": {
      "text/plain": [
       "153"
      ]
     },
     "execution_count": 192,
     "metadata": {},
     "output_type": "execute_result"
    }
   ],
   "source": [
    "num_test = len(pd.read_csv(f'database/{term}_{location}_database.csv'))\n",
    "num_test + 1"
   ]
  },
  {
   "cell_type": "code",
   "execution_count": 214,
   "metadata": {},
   "outputs": [
    {
     "data": {
      "text/plain": [
       "6200"
      ]
     },
     "execution_count": 214,
     "metadata": {},
     "output_type": "execute_result"
    }
   ],
   "source": [
    "data['total']"
   ]
  },
  {
   "cell_type": "code",
   "execution_count": 228,
   "metadata": {},
   "outputs": [
    {
     "data": {
      "text/plain": [
       "50"
      ]
     },
     "execution_count": 228,
     "metadata": {},
     "output_type": "execute_result"
    }
   ],
   "source": [
    "len(yelp_call(0, headers, url_params)['businesses'])"
   ]
  },
  {
   "cell_type": "code",
   "execution_count": 252,
   "metadata": {
    "scrolled": true
   },
   "outputs": [],
   "source": [
    "def call_1000(csv_filepath):\n",
    "    cur = 0\n",
    "    num = data['total']\n",
    "    #I think there is an issue with Yelp and their total values.  I think we could do some work around iwth an if statemnt that checks to see if there is a key called businesses, if not, end the loop\n",
    "    while cur < (num) and cur < 20: #### MIKE NOTE I believe num should be referring to the number of results we have in our dataframe\n",
    "        results = yelp_call(headers, url_params)\n",
    "        parsed_results = parse_data(results['businesses'])\n",
    "        df = pd.DataFrame(parsed_results, columns=['Name', 'Address','City', 'Rating','Review Count','Coordinates','Price'])\n",
    "        df_save(csv_filepath, df)\n",
    "        pd.read_csv(csv_filepath)\n",
    "        cur += 50\n",
    "        url_params['offset'] = cur\n",
    "        if cur > 20:\n",
    "            break\n",
    "\n",
    "        \n",
    "        #set up a while loop to go through and grab the result \n",
    "        #set the offset parameter to be where you currently are in the results \n",
    "        #make your API call with the new offset number\n",
    "        #after you get your results you can now use your function to parse those results\n",
    "        # use your function to insert your parsed results into the db\n",
    "        #increment the counter by 50 to move on to the next results\n",
    "    return pd.DataFrame(pd.read_csv(csv_filepath))"
   ]
  },
  {
   "cell_type": "code",
   "execution_count": 253,
   "metadata": {},
   "outputs": [],
   "source": [
    "df = call_1000(f'database/{term}_{location}_database.csv')"
   ]
  },
  {
   "cell_type": "code",
   "execution_count": 256,
   "metadata": {},
   "outputs": [
    {
     "data": {
      "text/html": [
       "<div>\n",
       "<style scoped>\n",
       "    .dataframe tbody tr th:only-of-type {\n",
       "        vertical-align: middle;\n",
       "    }\n",
       "\n",
       "    .dataframe tbody tr th {\n",
       "        vertical-align: top;\n",
       "    }\n",
       "\n",
       "    .dataframe thead th {\n",
       "        text-align: right;\n",
       "    }\n",
       "</style>\n",
       "<table border=\"1\" class=\"dataframe\">\n",
       "  <thead>\n",
       "    <tr style=\"text-align: right;\">\n",
       "      <th></th>\n",
       "      <th>Name</th>\n",
       "      <th>Address</th>\n",
       "      <th>City</th>\n",
       "      <th>Rating</th>\n",
       "      <th>Review Count</th>\n",
       "      <th>Coordinates</th>\n",
       "      <th>Price</th>\n",
       "    </tr>\n",
       "  </thead>\n",
       "  <tbody>\n",
       "    <tr>\n",
       "      <th>45</th>\n",
       "      <td>Friends and Lovers</td>\n",
       "      <td>['641 Classon Ave', 'Brooklyn, NY 11238']</td>\n",
       "      <td>Brooklyn</td>\n",
       "      <td>4.0</td>\n",
       "      <td>77</td>\n",
       "      <td>{'latitude': 40.678536, 'longitude': -73.958437}</td>\n",
       "      <td>2.0</td>\n",
       "    </tr>\n",
       "    <tr>\n",
       "      <th>46</th>\n",
       "      <td>Father Knows Best</td>\n",
       "      <td>['611A Wilson Ave', 'Brooklyn, NY 11207']</td>\n",
       "      <td>Brooklyn</td>\n",
       "      <td>4.0</td>\n",
       "      <td>327</td>\n",
       "      <td>{'latitude': 40.6901735, 'longitude': -73.9069...</td>\n",
       "      <td>2.0</td>\n",
       "    </tr>\n",
       "    <tr>\n",
       "      <th>47</th>\n",
       "      <td>Glorietta Baldy</td>\n",
       "      <td>['502 Franklin Ave', 'Brooklyn, NY 11238']</td>\n",
       "      <td>Brooklyn</td>\n",
       "      <td>4.0</td>\n",
       "      <td>64</td>\n",
       "      <td>{'latitude': 40.6813358395142, 'longitude': -7...</td>\n",
       "      <td>2.0</td>\n",
       "    </tr>\n",
       "    <tr>\n",
       "      <th>48</th>\n",
       "      <td>The Holler</td>\n",
       "      <td>['348 Franklin Ave', 'Brooklyn, NY 11238']</td>\n",
       "      <td>Brooklyn</td>\n",
       "      <td>4.5</td>\n",
       "      <td>32</td>\n",
       "      <td>{'latitude': 40.687208, 'longitude': -73.957163}</td>\n",
       "      <td>2.0</td>\n",
       "    </tr>\n",
       "    <tr>\n",
       "      <th>49</th>\n",
       "      <td>Parkside</td>\n",
       "      <td>['705 Flatbush Ave', 'Brooklyn, NY 11225']</td>\n",
       "      <td>Brooklyn</td>\n",
       "      <td>4.0</td>\n",
       "      <td>186</td>\n",
       "      <td>{'latitude': 40.655949, 'longitude': -73.959599}</td>\n",
       "      <td>2.0</td>\n",
       "    </tr>\n",
       "  </tbody>\n",
       "</table>\n",
       "</div>"
      ],
      "text/plain": [
       "                  Name                                     Address      City  \\\n",
       "45  Friends and Lovers   ['641 Classon Ave', 'Brooklyn, NY 11238']  Brooklyn   \n",
       "46   Father Knows Best   ['611A Wilson Ave', 'Brooklyn, NY 11207']  Brooklyn   \n",
       "47     Glorietta Baldy  ['502 Franklin Ave', 'Brooklyn, NY 11238']  Brooklyn   \n",
       "48          The Holler  ['348 Franklin Ave', 'Brooklyn, NY 11238']  Brooklyn   \n",
       "49            Parkside  ['705 Flatbush Ave', 'Brooklyn, NY 11225']  Brooklyn   \n",
       "\n",
       "    Rating  Review Count                                        Coordinates  \\\n",
       "45     4.0            77   {'latitude': 40.678536, 'longitude': -73.958437}   \n",
       "46     4.0           327  {'latitude': 40.6901735, 'longitude': -73.9069...   \n",
       "47     4.0            64  {'latitude': 40.6813358395142, 'longitude': -7...   \n",
       "48     4.5            32   {'latitude': 40.687208, 'longitude': -73.957163}   \n",
       "49     4.0           186   {'latitude': 40.655949, 'longitude': -73.959599}   \n",
       "\n",
       "    Price  \n",
       "45    2.0  \n",
       "46    2.0  \n",
       "47    2.0  \n",
       "48    2.0  \n",
       "49    2.0  "
      ]
     },
     "execution_count": 256,
     "metadata": {},
     "output_type": "execute_result"
    }
   ],
   "source": [
    "df.tail()"
   ]
  },
  {
   "cell_type": "code",
   "execution_count": 244,
   "metadata": {},
   "outputs": [
    {
     "data": {
      "text/plain": [
       "201"
      ]
     },
     "execution_count": 244,
     "metadata": {},
     "output_type": "execute_result"
    }
   ],
   "source": [
    "len(df['Name'].unique())"
   ]
  },
  {
   "cell_type": "code",
   "execution_count": 130,
   "metadata": {},
   "outputs": [],
   "source": [
    "#pd.DataFrame(parsed_results)"
   ]
  },
  {
   "cell_type": "code",
   "execution_count": null,
   "metadata": {},
   "outputs": [],
   "source": []
  },
  {
   "cell_type": "code",
   "execution_count": 131,
   "metadata": {
    "scrolled": true
   },
   "outputs": [
    {
     "data": {
      "text/html": [
       "<div>\n",
       "<style scoped>\n",
       "    .dataframe tbody tr th:only-of-type {\n",
       "        vertical-align: middle;\n",
       "    }\n",
       "\n",
       "    .dataframe tbody tr th {\n",
       "        vertical-align: top;\n",
       "    }\n",
       "\n",
       "    .dataframe thead th {\n",
       "        text-align: right;\n",
       "    }\n",
       "</style>\n",
       "<table border=\"1\" class=\"dataframe\">\n",
       "  <thead>\n",
       "    <tr style=\"text-align: right;\">\n",
       "      <th></th>\n",
       "      <th>Unnamed: 0</th>\n",
       "      <th>Name</th>\n",
       "      <th>Address</th>\n",
       "      <th>City</th>\n",
       "      <th>Rating</th>\n",
       "      <th>Review Count</th>\n",
       "      <th>Coordinates</th>\n",
       "      <th>Price</th>\n",
       "    </tr>\n",
       "  </thead>\n",
       "  <tbody>\n",
       "    <tr>\n",
       "      <th>96</th>\n",
       "      <td>45.0</td>\n",
       "      <td>Bar Meridian</td>\n",
       "      <td>['406 Prospect Pl', 'Brooklyn, NY 11238']</td>\n",
       "      <td>Brooklyn</td>\n",
       "      <td>4.5</td>\n",
       "      <td>11</td>\n",
       "      <td>{'latitude': 40.6763427218772, 'longitude': -7...</td>\n",
       "      <td>NaN</td>\n",
       "    </tr>\n",
       "    <tr>\n",
       "      <th>97</th>\n",
       "      <td>46.0</td>\n",
       "      <td>Bodeguita</td>\n",
       "      <td>['6 Suydam St', 'Brooklyn, NY 11221']</td>\n",
       "      <td>Brooklyn</td>\n",
       "      <td>4.5</td>\n",
       "      <td>38</td>\n",
       "      <td>{'latitude': 40.69555, 'longitude': -73.93204}</td>\n",
       "      <td>NaN</td>\n",
       "    </tr>\n",
       "    <tr>\n",
       "      <th>98</th>\n",
       "      <td>47.0</td>\n",
       "      <td>Friends and Lovers</td>\n",
       "      <td>['641 Classon Ave', 'Brooklyn, NY 11238']</td>\n",
       "      <td>Brooklyn</td>\n",
       "      <td>4.0</td>\n",
       "      <td>77</td>\n",
       "      <td>{'latitude': 40.678536, 'longitude': -73.958437}</td>\n",
       "      <td>2.0</td>\n",
       "    </tr>\n",
       "    <tr>\n",
       "      <th>99</th>\n",
       "      <td>48.0</td>\n",
       "      <td>Fancy Nancy</td>\n",
       "      <td>['1038 Bedford Ave', 'Brooklyn, NY 11205']</td>\n",
       "      <td>Brooklyn</td>\n",
       "      <td>4.0</td>\n",
       "      <td>166</td>\n",
       "      <td>{'latitude': 40.6895502, 'longitude': -73.9554...</td>\n",
       "      <td>2.0</td>\n",
       "    </tr>\n",
       "    <tr>\n",
       "      <th>100</th>\n",
       "      <td>49.0</td>\n",
       "      <td>Father Knows Best</td>\n",
       "      <td>['611A Wilson Ave', 'Brooklyn, NY 11207']</td>\n",
       "      <td>Brooklyn</td>\n",
       "      <td>4.0</td>\n",
       "      <td>327</td>\n",
       "      <td>{'latitude': 40.6901735, 'longitude': -73.9069...</td>\n",
       "      <td>2.0</td>\n",
       "    </tr>\n",
       "  </tbody>\n",
       "</table>\n",
       "</div>"
      ],
      "text/plain": [
       "     Unnamed: 0                Name  \\\n",
       "96         45.0        Bar Meridian   \n",
       "97         46.0           Bodeguita   \n",
       "98         47.0  Friends and Lovers   \n",
       "99         48.0         Fancy Nancy   \n",
       "100        49.0   Father Knows Best   \n",
       "\n",
       "                                        Address      City Rating Review Count  \\\n",
       "96    ['406 Prospect Pl', 'Brooklyn, NY 11238']  Brooklyn    4.5           11   \n",
       "97        ['6 Suydam St', 'Brooklyn, NY 11221']  Brooklyn    4.5           38   \n",
       "98    ['641 Classon Ave', 'Brooklyn, NY 11238']  Brooklyn    4.0           77   \n",
       "99   ['1038 Bedford Ave', 'Brooklyn, NY 11205']  Brooklyn    4.0          166   \n",
       "100   ['611A Wilson Ave', 'Brooklyn, NY 11207']  Brooklyn    4.0          327   \n",
       "\n",
       "                                           Coordinates Price  \n",
       "96   {'latitude': 40.6763427218772, 'longitude': -7...   NaN  \n",
       "97      {'latitude': 40.69555, 'longitude': -73.93204}   NaN  \n",
       "98    {'latitude': 40.678536, 'longitude': -73.958437}   2.0  \n",
       "99   {'latitude': 40.6895502, 'longitude': -73.9554...   2.0  \n",
       "100  {'latitude': 40.6901735, 'longitude': -73.9069...   2.0  "
      ]
     },
     "execution_count": 131,
     "metadata": {},
     "output_type": "execute_result"
    }
   ],
   "source": [
    "df.tail()"
   ]
  },
  {
   "cell_type": "code",
   "execution_count": null,
   "metadata": {},
   "outputs": [],
   "source": []
  },
  {
   "cell_type": "code",
   "execution_count": 132,
   "metadata": {},
   "outputs": [
    {
     "data": {
      "text/plain": [
       "City\n",
       "Brooklyn                     91\n",
       "Carroll Gardens               2\n",
       "City                          1\n",
       "Downtown Brooklyn             1\n",
       "Far Rockaway                  2\n",
       "Flushing                      2\n",
       "Prospect Lefferts Gardens     2\n",
       "Name: Name, dtype: int64"
      ]
     },
     "execution_count": 132,
     "metadata": {},
     "output_type": "execute_result"
    }
   ],
   "source": [
    "df.groupby('City')['Name'].count()"
   ]
  },
  {
   "cell_type": "code",
   "execution_count": 133,
   "metadata": {},
   "outputs": [
    {
     "data": {
      "text/plain": [
       "'\\nArverne              1\\nAstoria              2\\nBronx                1\\nBrooklyn            14\\nHoboken              1\\nJersey City          1\\nLong Island City     4\\nMiddle Village       1\\nNew York            20\\nQueens               5\\n'"
      ]
     },
     "execution_count": 133,
     "metadata": {},
     "output_type": "execute_result"
    }
   ],
   "source": [
    "'''\n",
    "Arverne              1\n",
    "Astoria              2\n",
    "Bronx                1\n",
    "Brooklyn            14\n",
    "Hoboken              1\n",
    "Jersey City          1\n",
    "Long Island City     4\n",
    "Middle Village       1\n",
    "New York            20\n",
    "Queens               5\n",
    "'''"
   ]
  },
  {
   "cell_type": "code",
   "execution_count": null,
   "metadata": {},
   "outputs": [],
   "source": []
  },
  {
   "cell_type": "code",
   "execution_count": null,
   "metadata": {},
   "outputs": [],
   "source": []
  },
  {
   "cell_type": "code",
   "execution_count": null,
   "metadata": {},
   "outputs": [],
   "source": []
  },
  {
   "cell_type": "code",
   "execution_count": null,
   "metadata": {},
   "outputs": [],
   "source": []
  },
  {
   "cell_type": "markdown",
   "metadata": {},
   "source": [
    "# Below are cells used to test work above and assignment outputs"
   ]
  },
  {
   "cell_type": "markdown",
   "metadata": {},
   "source": [
    "### Organized by appropriate section:"
   ]
  },
  {
   "cell_type": "markdown",
   "metadata": {},
   "source": [
    "#### Use Base Data"
   ]
  },
  {
   "cell_type": "code",
   "execution_count": 134,
   "metadata": {},
   "outputs": [],
   "source": [
    "# print(api_key)"
   ]
  },
  {
   "cell_type": "code",
   "execution_count": 135,
   "metadata": {},
   "outputs": [
    {
     "data": {
      "text/plain": [
       "{'term': 'Bar',\n",
       " 'location': 'Brooklyn',\n",
       " 'categories': 'Restaurant',\n",
       " 'limit': 50,\n",
       " 'offset': 950}"
      ]
     },
     "execution_count": 135,
     "metadata": {},
     "output_type": "execute_result"
    }
   ],
   "source": [
    "url_params"
   ]
  },
  {
   "cell_type": "code",
   "execution_count": 136,
   "metadata": {},
   "outputs": [
    {
     "data": {
      "text/plain": [
       "50"
      ]
     },
     "execution_count": 136,
     "metadata": {},
     "output_type": "execute_result"
    }
   ],
   "source": [
    "len(yelp_call(0,headers,url_params)['businesses'])"
   ]
  },
  {
   "cell_type": "markdown",
   "metadata": {},
   "source": [
    "(below will actually be more appropriate at bottom)"
   ]
  },
  {
   "cell_type": "code",
   "execution_count": 137,
   "metadata": {},
   "outputs": [],
   "source": [
    "# def call_1000(): ## copied below in a more appropriate space\n",
    "    \n",
    "#     cur = 0\n",
    "#     num = 1000\n",
    "#     #set up a while loop to go through and grab the result \n",
    "#     while cur < num and cur < 1000: #### MIKE NOTE I believe num should be referring to the number of results we have in our dataframe\n",
    "#         #set the offset parameter to be where you currently are in the results \n",
    "#         url_params['offset'] = cur\n",
    "#         #make your API call with the new offset number\n",
    "#         results = yelp_call(num, headers, url_params)\n",
    "\n",
    "#         #after you get your results you can now use your function to parse those results\n",
    "#         parsed_results = parse_results(results)\n",
    "\n",
    "#         # use your function to insert your parsed results into the db\n",
    "#         df_save(parsed_results)\n",
    "#         #increment the counter by 50 to move on to the next results\n",
    "#         cur += 50\n",
    "#     return None"
   ]
  },
  {
   "cell_type": "code",
   "execution_count": 138,
   "metadata": {},
   "outputs": [],
   "source": [
    "# call_1000()"
   ]
  },
  {
   "cell_type": "markdown",
   "metadata": {},
   "source": [
    "#### Parse Data"
   ]
  },
  {
   "cell_type": "code",
   "execution_count": null,
   "metadata": {},
   "outputs": [],
   "source": []
  },
  {
   "cell_type": "code",
   "execution_count": 139,
   "metadata": {},
   "outputs": [],
   "source": [
    "# cur = 0\n",
    "\n",
    "# #set up a while loop to go through and grab the result \n",
    "# while cur < num and cur < 1000:\n",
    "#     #set the offset parameter to be where you currently are in the results \n",
    "#     url_params['offset'] = cur\n",
    "#     #make your API call with the new offset number\n",
    "#     results = yelp_call(url_params, api_key)\n",
    "    \n",
    "#     #after you get your results you can now use your function to parse those results\n",
    "#     parsed_results = parse_results(results)\n",
    "    \n",
    "#     # use your function to insert your parsed results into the db\n",
    "#     df_save(parsed_results)\n",
    "#     #increment the counter by 50 to move on to the next results\n",
    "#     cur += 50"
   ]
  },
  {
   "cell_type": "code",
   "execution_count": 140,
   "metadata": {},
   "outputs": [],
   "source": [
    "# business = data['businesses'][44]"
   ]
  },
  {
   "cell_type": "code",
   "execution_count": 141,
   "metadata": {},
   "outputs": [],
   "source": [
    "\n",
    "# name, rating, review_count, price, ##location?"
   ]
  },
  {
   "cell_type": "code",
   "execution_count": 142,
   "metadata": {},
   "outputs": [],
   "source": [
    "# business['price'] # note: not every business has a 'price' key listed. this WOULD work if ran after parse_data() fn"
   ]
  },
  {
   "cell_type": "code",
   "execution_count": 143,
   "metadata": {},
   "outputs": [
    {
     "data": {
      "text/plain": [
       "'Brooklyn'"
      ]
     },
     "execution_count": 143,
     "metadata": {},
     "output_type": "execute_result"
    }
   ],
   "source": [
    "# business['location']['city']"
   ]
  },
  {
   "cell_type": "code",
   "execution_count": 144,
   "metadata": {},
   "outputs": [
    {
     "data": {
      "text/plain": [
       "('1237 Flushing Ave', 'Brooklyn', 'NY', '11237')"
      ]
     },
     "execution_count": 144,
     "metadata": {},
     "output_type": "execute_result"
    }
   ],
   "source": [
    "# full_address = business['location']['address1'], business['location']['city'], business['location']['state'], business['location']['zip_code']\n",
    "# full_address"
   ]
  },
  {
   "cell_type": "code",
   "execution_count": 145,
   "metadata": {},
   "outputs": [
    {
     "data": {
      "text/plain": [
       "4.0"
      ]
     },
     "execution_count": 145,
     "metadata": {},
     "output_type": "execute_result"
    }
   ],
   "source": [
    "# business_rating = business['rating']\n",
    "# business_rating"
   ]
  },
  {
   "cell_type": "code",
   "execution_count": 146,
   "metadata": {},
   "outputs": [],
   "source": [
    "# biz_tuple = (business['name'], business['location']['display_address'], business['rating'])"
   ]
  },
  {
   "cell_type": "code",
   "execution_count": 147,
   "metadata": {},
   "outputs": [
    {
     "data": {
      "text/plain": [
       "('Jupiter Disco', ['1237 Flushing Ave', 'Brooklyn, NY 11237'], 4.0)"
      ]
     },
     "execution_count": 147,
     "metadata": {},
     "output_type": "execute_result"
    }
   ],
   "source": [
    "# biz_tuple"
   ]
  }
 ],
 "metadata": {
  "kernelspec": {
   "display_name": "Python 3",
   "language": "python",
   "name": "python3"
  },
  "language_info": {
   "codemirror_mode": {
    "name": "ipython",
    "version": 3
   },
   "file_extension": ".py",
   "mimetype": "text/x-python",
   "name": "python",
   "nbconvert_exporter": "python",
   "pygments_lexer": "ipython3",
   "version": "3.8.5"
  }
 },
 "nbformat": 4,
 "nbformat_minor": 4
}
