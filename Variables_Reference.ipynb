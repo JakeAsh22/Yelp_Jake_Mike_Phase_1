{
 "cells": [
  {
   "cell_type": "markdown",
   "metadata": {},
   "source": [
    "## Production House Data by Location"
   ]
  },
  {
   "cell_type": "code",
   "execution_count": null,
   "metadata": {},
   "outputs": [],
   "source": [
    "df_prod_ny = pd.read_csv('database/Production House_New York_database.csv')\n",
    "df_prod_la = pd.read_csv('database/Production House_Los Angeles_database.csv')\n",
    "df_prod_ga = pd.read_csv('database/Production House_Atlanta_database.csv')"
   ]
  },
  {
   "cell_type": "markdown",
   "metadata": {},
   "source": [
    "## Production House Reviews by Location"
   ]
  },
  {
   "cell_type": "code",
   "execution_count": null,
   "metadata": {},
   "outputs": [],
   "source": [
    "df_prod_ny_reviews = pd.read_csv('database/Production House_New York_reviews.csv')\n",
    "df_prod_la_reviews = pd.read_csv('database/Production House_Los Angeles_reviews.csv')\n",
    "df_prod_ga_reviews = pd.read_csv('database/Production House_Atlanta_reviews.csv')\n"
   ]
  },
  {
   "cell_type": "markdown",
   "metadata": {},
   "source": [
    "## Film Rental Equipment Data by Location"
   ]
  },
  {
   "cell_type": "code",
   "execution_count": null,
   "metadata": {},
   "outputs": [],
   "source": [
    "df_fer_ny =  pd.read_csv('database/Film Equipment Rental_New York_database.csv')\n",
    "df_fer_la =  pd.read_csv('database/Film Equipment Rental_Los Angeles_database.csv')"
   ]
  },
  {
   "cell_type": "markdown",
   "metadata": {},
   "source": [
    "## Film Rental Equipment Reviews by Location"
   ]
  },
  {
   "cell_type": "code",
   "execution_count": null,
   "metadata": {},
   "outputs": [],
   "source": [
    "\n",
    "df_fer_ny_reviews = pd.read_csv('database/Film Equipment Rental_New York_reviews.csv')\n",
    "df_fer_la_reviews = pd.read_csv('database/Film Equipment Rental_Los Angeles_reviews.csv')"
   ]
  }
 ],
 "metadata": {
  "kernelspec": {
   "display_name": "Python 3",
   "language": "python",
   "name": "python3"
  },
  "language_info": {
   "codemirror_mode": {
    "name": "ipython",
    "version": 3
   },
   "file_extension": ".py",
   "mimetype": "text/x-python",
   "name": "python",
   "nbconvert_exporter": "python",
   "pygments_lexer": "ipython3",
   "version": "3.8.5"
  }
 },
 "nbformat": 4,
 "nbformat_minor": 4
}
