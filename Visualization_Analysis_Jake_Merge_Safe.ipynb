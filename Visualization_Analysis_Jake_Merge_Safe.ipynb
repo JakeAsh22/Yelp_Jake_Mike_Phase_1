{
 "cells": [
  {
   "cell_type": "code",
   "execution_count": 35,
   "metadata": {},
   "outputs": [],
   "source": [
    "import requests\n",
    "import json\n",
    "import sys\n",
    "import numpy as np\n",
    "import pandas as pd\n",
    "import csv\n",
    "from  keys  import  client_id, api_key\n",
    "import seaborn as sns\n",
    "import matplotlib.pyplot as plt\n",
    "%matplotlib inline"
   ]
  },
  {
   "cell_type": "code",
   "execution_count": 41,
   "metadata": {},
   "outputs": [],
   "source": [
    "df_prod_nyc = pd.read_csv('database/Production House_New York_database.csv')\n",
    "df_prod_la = pd.read_csv('database/Production House_Los Angeles_database.csv')\n",
    "df_prod_ga = pd.read_csv('database/Production House_Atlanta_database.csv')\n",
    "spa_ny_db = pd.read_csv('database/spa_NYC_database.csv')\n",
    "spa_ny_rv = pd.read_csv('database/spa_NYC_reviews.csv')\n",
    "spa_la_db = pd.read_csv('database/spa_los angeles_database.csv')\n"
   ]
  },
  {
   "cell_type": "code",
   "execution_count": 42,
   "metadata": {
    "scrolled": true
   },
   "outputs": [
    {
     "data": {
      "text/html": [
       "<div>\n",
       "<style scoped>\n",
       "    .dataframe tbody tr th:only-of-type {\n",
       "        vertical-align: middle;\n",
       "    }\n",
       "\n",
       "    .dataframe tbody tr th {\n",
       "        vertical-align: top;\n",
       "    }\n",
       "\n",
       "    .dataframe thead th {\n",
       "        text-align: right;\n",
       "    }\n",
       "</style>\n",
       "<table border=\"1\" class=\"dataframe\">\n",
       "  <thead>\n",
       "    <tr style=\"text-align: right;\">\n",
       "      <th></th>\n",
       "      <th>Name</th>\n",
       "      <th>Address</th>\n",
       "      <th>City</th>\n",
       "      <th>Rating</th>\n",
       "      <th>Review Count</th>\n",
       "      <th>Coordinates</th>\n",
       "      <th>Price</th>\n",
       "      <th>Id</th>\n",
       "      <th>Categories</th>\n",
       "    </tr>\n",
       "  </thead>\n",
       "  <tbody>\n",
       "    <tr>\n",
       "      <th>0</th>\n",
       "      <td>Aire Ancient Baths - New York</td>\n",
       "      <td>['88 Franklin St', 'New York, NY 10013']</td>\n",
       "      <td>New York</td>\n",
       "      <td>4.0</td>\n",
       "      <td>840</td>\n",
       "      <td>{'latitude': 40.71823, 'longitude': -74.00473}</td>\n",
       "      <td>3.0</td>\n",
       "      <td>mM1uQFMZNZtrGHZzB1ghMQ</td>\n",
       "      <td>[{'alias': 'massage', 'title': 'Massage'}]</td>\n",
       "    </tr>\n",
       "    <tr>\n",
       "      <th>1</th>\n",
       "      <td>Nuansa Spa</td>\n",
       "      <td>['605 Fifth Ave', 'Fl 5', 'New York, NY 10017']</td>\n",
       "      <td>New York</td>\n",
       "      <td>5.0</td>\n",
       "      <td>210</td>\n",
       "      <td>{'latitude': 40.75755, 'longitude': -73.97752}</td>\n",
       "      <td>3.0</td>\n",
       "      <td>BqNXOy5WJjIoNTX_Xg2wOg</td>\n",
       "      <td>[{'alias': 'skincare', 'title': 'Skin Care'}, ...</td>\n",
       "    </tr>\n",
       "    <tr>\n",
       "      <th>2</th>\n",
       "      <td>Shibui</td>\n",
       "      <td>['377 Greenwich St', 'Manhattan, NY 10013']</td>\n",
       "      <td>Manhattan</td>\n",
       "      <td>4.0</td>\n",
       "      <td>35</td>\n",
       "      <td>{'latitude': 40.71989, 'longitude': -74.01002}</td>\n",
       "      <td>3.0</td>\n",
       "      <td>ZkI3V9xcL5r8Tw5kS0BgRw</td>\n",
       "      <td>[{'alias': 'spas', 'title': 'Day Spas'}]</td>\n",
       "    </tr>\n",
       "    <tr>\n",
       "      <th>3</th>\n",
       "      <td>Ohm Spa &amp; Lounge</td>\n",
       "      <td>['205 E 16th St', 'Ste M2A (Fl 2)', 'New York,...</td>\n",
       "      <td>New York</td>\n",
       "      <td>4.5</td>\n",
       "      <td>240</td>\n",
       "      <td>{'latitude': 40.7345957, 'longitude': -73.9855...</td>\n",
       "      <td>3.0</td>\n",
       "      <td>Nu6403eEBOQvI58_ly2p7w</td>\n",
       "      <td>[{'alias': 'spas', 'title': 'Day Spas'}, {'ali...</td>\n",
       "    </tr>\n",
       "    <tr>\n",
       "      <th>4</th>\n",
       "      <td>SoJo Spa Club</td>\n",
       "      <td>['660 River Rd', 'Edgewater, NJ 07020']</td>\n",
       "      <td>Edgewater</td>\n",
       "      <td>3.5</td>\n",
       "      <td>1667</td>\n",
       "      <td>{'latitude': 40.81893, 'longitude': -73.97956}</td>\n",
       "      <td>3.0</td>\n",
       "      <td>G4cXJFAnUMoX6BkmCNTbug</td>\n",
       "      <td>[{'alias': 'hydrotherapy', 'title': 'Hydrother...</td>\n",
       "    </tr>\n",
       "    <tr>\n",
       "      <th>...</th>\n",
       "      <td>...</td>\n",
       "      <td>...</td>\n",
       "      <td>...</td>\n",
       "      <td>...</td>\n",
       "      <td>...</td>\n",
       "      <td>...</td>\n",
       "      <td>...</td>\n",
       "      <td>...</td>\n",
       "      <td>...</td>\n",
       "    </tr>\n",
       "    <tr>\n",
       "      <th>995</th>\n",
       "      <td>Jenny Hall Integral Bodywork</td>\n",
       "      <td>['139 Fulton St', 'Ste 901', 'New York, NY 100...</td>\n",
       "      <td>New York</td>\n",
       "      <td>5.0</td>\n",
       "      <td>18</td>\n",
       "      <td>{'latitude': 40.7104772, 'longitude': -74.0079...</td>\n",
       "      <td>NaN</td>\n",
       "      <td>Ynjvu-9jAWe5oXiOt5wSng</td>\n",
       "      <td>[{'alias': 'massage_therapy', 'title': 'Massag...</td>\n",
       "    </tr>\n",
       "    <tr>\n",
       "      <th>996</th>\n",
       "      <td>Healthy Center</td>\n",
       "      <td>['41-38 College Point Blvd', 'Queens, NY 11355']</td>\n",
       "      <td>Queens</td>\n",
       "      <td>5.0</td>\n",
       "      <td>1</td>\n",
       "      <td>{'latitude': 40.75515, 'longitude': -73.83365}</td>\n",
       "      <td>NaN</td>\n",
       "      <td>7keHYHINOPECAHg1x--lmQ</td>\n",
       "      <td>[{'alias': 'spas', 'title': 'Day Spas'}, {'ali...</td>\n",
       "    </tr>\n",
       "    <tr>\n",
       "      <th>997</th>\n",
       "      <td>Skin Silk</td>\n",
       "      <td>['1812 Quentin Rd', 'Ste M2', 'Brooklyn, NY 11...</td>\n",
       "      <td>Brooklyn</td>\n",
       "      <td>5.0</td>\n",
       "      <td>21</td>\n",
       "      <td>{'latitude': 40.60849, 'longitude': -73.95492}</td>\n",
       "      <td>3.0</td>\n",
       "      <td>tPhtgBPblNlFTUDdRJ7FRw</td>\n",
       "      <td>[{'alias': 'skincare', 'title': 'Skin Care'}, ...</td>\n",
       "    </tr>\n",
       "    <tr>\n",
       "      <th>998</th>\n",
       "      <td>Your Health Success</td>\n",
       "      <td>['724 Myrtle Ave', 'Brooklyn, NY 11205']</td>\n",
       "      <td>Brooklyn</td>\n",
       "      <td>4.0</td>\n",
       "      <td>10</td>\n",
       "      <td>{'latitude': 40.6947, 'longitude': -73.95415}</td>\n",
       "      <td>NaN</td>\n",
       "      <td>QckrJaEF0bmE53XxnHb32w</td>\n",
       "      <td>[{'alias': 'colonics', 'title': 'Colonics'}, {...</td>\n",
       "    </tr>\n",
       "    <tr>\n",
       "      <th>999</th>\n",
       "      <td>Hylan Spa Chinese Body Massage</td>\n",
       "      <td>['1660 Hylan Blvd', 'New York, NY 10305']</td>\n",
       "      <td>New York</td>\n",
       "      <td>3.5</td>\n",
       "      <td>19</td>\n",
       "      <td>{'latitude': 40.5880942649155, 'longitude': -7...</td>\n",
       "      <td>1.0</td>\n",
       "      <td>0D5XW0YMA5ogUMHSp3cLSQ</td>\n",
       "      <td>[{'alias': 'massage', 'title': 'Massage'}]</td>\n",
       "    </tr>\n",
       "  </tbody>\n",
       "</table>\n",
       "<p>1000 rows × 9 columns</p>\n",
       "</div>"
      ],
      "text/plain": [
       "                               Name  \\\n",
       "0     Aire Ancient Baths - New York   \n",
       "1                        Nuansa Spa   \n",
       "2                            Shibui   \n",
       "3                  Ohm Spa & Lounge   \n",
       "4                     SoJo Spa Club   \n",
       "..                              ...   \n",
       "995    Jenny Hall Integral Bodywork   \n",
       "996                  Healthy Center   \n",
       "997                       Skin Silk   \n",
       "998             Your Health Success   \n",
       "999  Hylan Spa Chinese Body Massage   \n",
       "\n",
       "                                               Address       City  Rating  \\\n",
       "0             ['88 Franklin St', 'New York, NY 10013']   New York     4.0   \n",
       "1      ['605 Fifth Ave', 'Fl 5', 'New York, NY 10017']   New York     5.0   \n",
       "2          ['377 Greenwich St', 'Manhattan, NY 10013']  Manhattan     4.0   \n",
       "3    ['205 E 16th St', 'Ste M2A (Fl 2)', 'New York,...   New York     4.5   \n",
       "4              ['660 River Rd', 'Edgewater, NJ 07020']  Edgewater     3.5   \n",
       "..                                                 ...        ...     ...   \n",
       "995  ['139 Fulton St', 'Ste 901', 'New York, NY 100...   New York     5.0   \n",
       "996   ['41-38 College Point Blvd', 'Queens, NY 11355']     Queens     5.0   \n",
       "997  ['1812 Quentin Rd', 'Ste M2', 'Brooklyn, NY 11...   Brooklyn     5.0   \n",
       "998           ['724 Myrtle Ave', 'Brooklyn, NY 11205']   Brooklyn     4.0   \n",
       "999          ['1660 Hylan Blvd', 'New York, NY 10305']   New York     3.5   \n",
       "\n",
       "     Review Count                                        Coordinates  Price  \\\n",
       "0             840     {'latitude': 40.71823, 'longitude': -74.00473}    3.0   \n",
       "1             210     {'latitude': 40.75755, 'longitude': -73.97752}    3.0   \n",
       "2              35     {'latitude': 40.71989, 'longitude': -74.01002}    3.0   \n",
       "3             240  {'latitude': 40.7345957, 'longitude': -73.9855...    3.0   \n",
       "4            1667     {'latitude': 40.81893, 'longitude': -73.97956}    3.0   \n",
       "..            ...                                                ...    ...   \n",
       "995            18  {'latitude': 40.7104772, 'longitude': -74.0079...    NaN   \n",
       "996             1     {'latitude': 40.75515, 'longitude': -73.83365}    NaN   \n",
       "997            21     {'latitude': 40.60849, 'longitude': -73.95492}    3.0   \n",
       "998            10      {'latitude': 40.6947, 'longitude': -73.95415}    NaN   \n",
       "999            19  {'latitude': 40.5880942649155, 'longitude': -7...    1.0   \n",
       "\n",
       "                         Id                                         Categories  \n",
       "0    mM1uQFMZNZtrGHZzB1ghMQ         [{'alias': 'massage', 'title': 'Massage'}]  \n",
       "1    BqNXOy5WJjIoNTX_Xg2wOg  [{'alias': 'skincare', 'title': 'Skin Care'}, ...  \n",
       "2    ZkI3V9xcL5r8Tw5kS0BgRw           [{'alias': 'spas', 'title': 'Day Spas'}]  \n",
       "3    Nu6403eEBOQvI58_ly2p7w  [{'alias': 'spas', 'title': 'Day Spas'}, {'ali...  \n",
       "4    G4cXJFAnUMoX6BkmCNTbug  [{'alias': 'hydrotherapy', 'title': 'Hydrother...  \n",
       "..                      ...                                                ...  \n",
       "995  Ynjvu-9jAWe5oXiOt5wSng  [{'alias': 'massage_therapy', 'title': 'Massag...  \n",
       "996  7keHYHINOPECAHg1x--lmQ  [{'alias': 'spas', 'title': 'Day Spas'}, {'ali...  \n",
       "997  tPhtgBPblNlFTUDdRJ7FRw  [{'alias': 'skincare', 'title': 'Skin Care'}, ...  \n",
       "998  QckrJaEF0bmE53XxnHb32w  [{'alias': 'colonics', 'title': 'Colonics'}, {...  \n",
       "999  0D5XW0YMA5ogUMHSp3cLSQ         [{'alias': 'massage', 'title': 'Massage'}]  \n",
       "\n",
       "[1000 rows x 9 columns]"
      ]
     },
     "execution_count": 42,
     "metadata": {},
     "output_type": "execute_result"
    }
   ],
   "source": [
    "spa_ny_db"
   ]
  },
  {
   "cell_type": "code",
   "execution_count": 38,
   "metadata": {
    "scrolled": false
   },
   "outputs": [
    {
     "data": {
      "text/html": [
       "<div>\n",
       "<style scoped>\n",
       "    .dataframe tbody tr th:only-of-type {\n",
       "        vertical-align: middle;\n",
       "    }\n",
       "\n",
       "    .dataframe tbody tr th {\n",
       "        vertical-align: top;\n",
       "    }\n",
       "\n",
       "    .dataframe thead th {\n",
       "        text-align: right;\n",
       "    }\n",
       "</style>\n",
       "<table border=\"1\" class=\"dataframe\">\n",
       "  <thead>\n",
       "    <tr style=\"text-align: right;\">\n",
       "      <th></th>\n",
       "      <th>Review_0</th>\n",
       "      <th>Review_1</th>\n",
       "      <th>Review_2</th>\n",
       "      <th>Id</th>\n",
       "    </tr>\n",
       "  </thead>\n",
       "  <tbody>\n",
       "    <tr>\n",
       "      <th>0</th>\n",
       "      <td>Took the chance during Covid and we did not re...</td>\n",
       "      <td>Definitely something everyone should experienc...</td>\n",
       "      <td>I really enjoyed my solo-experience with Aire....</td>\n",
       "      <td>mM1uQFMZNZtrGHZzB1ghMQ</td>\n",
       "    </tr>\n",
       "    <tr>\n",
       "      <th>1</th>\n",
       "      <td>Wow. Just wow. \\n10/10 Greeting off the elevat...</td>\n",
       "      <td>Yesterday I had one of the best spa services o...</td>\n",
       "      <td>Awesome service and very friendly staff!!\\nI b...</td>\n",
       "      <td>BqNXOy5WJjIoNTX_Xg2wOg</td>\n",
       "    </tr>\n",
       "    <tr>\n",
       "      <th>2</th>\n",
       "      <td>We've been to spas all over the city and world...</td>\n",
       "      <td>Good place deserve to spend money here for spe...</td>\n",
       "      <td>My wife is a teacher and a new mother, I sched...</td>\n",
       "      <td>ZkI3V9xcL5r8Tw5kS0BgRw</td>\n",
       "    </tr>\n",
       "    <tr>\n",
       "      <th>3</th>\n",
       "      <td>I just had a massage at Ohm Spa with Myriam an...</td>\n",
       "      <td>Not necessarily a \"spa\" per se, just a convert...</td>\n",
       "      <td>If you are looking for quality, hospitality an...</td>\n",
       "      <td>Nu6403eEBOQvI58_ly2p7w</td>\n",
       "    </tr>\n",
       "    <tr>\n",
       "      <th>4</th>\n",
       "      <td>My husband and I have been searching for somet...</td>\n",
       "      <td>GUYS. This spa is Amazing!. I'm hesitant to ev...</td>\n",
       "      <td>SoJo is incredibly relaxing and a nice getaway...</td>\n",
       "      <td>G4cXJFAnUMoX6BkmCNTbug</td>\n",
       "    </tr>\n",
       "    <tr>\n",
       "      <th>...</th>\n",
       "      <td>...</td>\n",
       "      <td>...</td>\n",
       "      <td>...</td>\n",
       "      <td>...</td>\n",
       "    </tr>\n",
       "    <tr>\n",
       "      <th>995</th>\n",
       "      <td>Don't be fooled by the rocks that she got\\nShe...</td>\n",
       "      <td>Had a great experience with Jenny working on s...</td>\n",
       "      <td>Jenny is amazing! She is very thoughtful and s...</td>\n",
       "      <td>Ynjvu-9jAWe5oXiOt5wSng</td>\n",
       "    </tr>\n",
       "    <tr>\n",
       "      <th>996</th>\n",
       "      <td>Amazing health spa place, I try hammer therapy...</td>\n",
       "      <td>NaN</td>\n",
       "      <td>NaN</td>\n",
       "      <td>7keHYHINOPECAHg1x--lmQ</td>\n",
       "    </tr>\n",
       "    <tr>\n",
       "      <th>997</th>\n",
       "      <td>I'm so thankful I had found this place back in...</td>\n",
       "      <td>Natalya is a miracle worker. I have folliculit...</td>\n",
       "      <td>I would recommend Natalya to anyone who is exp...</td>\n",
       "      <td>tPhtgBPblNlFTUDdRJ7FRw</td>\n",
       "    </tr>\n",
       "    <tr>\n",
       "      <th>998</th>\n",
       "      <td>Excited to find a wellness center near me that...</td>\n",
       "      <td>I did not enjoy this experience not 1 bit. \\n\\...</td>\n",
       "      <td>Clean! Beautiful inside but there was a lack o...</td>\n",
       "      <td>QckrJaEF0bmE53XxnHb32w</td>\n",
       "    </tr>\n",
       "    <tr>\n",
       "      <th>999</th>\n",
       "      <td>So comfortable...really loosen up the knots. I...</td>\n",
       "      <td>Good massage for a hole in the wall. Beware th...</td>\n",
       "      <td>My friend and I walked in around 8:30pm and it...</td>\n",
       "      <td>0D5XW0YMA5ogUMHSp3cLSQ</td>\n",
       "    </tr>\n",
       "  </tbody>\n",
       "</table>\n",
       "<p>1000 rows × 4 columns</p>\n",
       "</div>"
      ],
      "text/plain": [
       "                                              Review_0  \\\n",
       "0    Took the chance during Covid and we did not re...   \n",
       "1    Wow. Just wow. \\n10/10 Greeting off the elevat...   \n",
       "2    We've been to spas all over the city and world...   \n",
       "3    I just had a massage at Ohm Spa with Myriam an...   \n",
       "4    My husband and I have been searching for somet...   \n",
       "..                                                 ...   \n",
       "995  Don't be fooled by the rocks that she got\\nShe...   \n",
       "996  Amazing health spa place, I try hammer therapy...   \n",
       "997  I'm so thankful I had found this place back in...   \n",
       "998  Excited to find a wellness center near me that...   \n",
       "999  So comfortable...really loosen up the knots. I...   \n",
       "\n",
       "                                              Review_1  \\\n",
       "0    Definitely something everyone should experienc...   \n",
       "1    Yesterday I had one of the best spa services o...   \n",
       "2    Good place deserve to spend money here for spe...   \n",
       "3    Not necessarily a \"spa\" per se, just a convert...   \n",
       "4    GUYS. This spa is Amazing!. I'm hesitant to ev...   \n",
       "..                                                 ...   \n",
       "995  Had a great experience with Jenny working on s...   \n",
       "996                                                NaN   \n",
       "997  Natalya is a miracle worker. I have folliculit...   \n",
       "998  I did not enjoy this experience not 1 bit. \\n\\...   \n",
       "999  Good massage for a hole in the wall. Beware th...   \n",
       "\n",
       "                                              Review_2                      Id  \n",
       "0    I really enjoyed my solo-experience with Aire....  mM1uQFMZNZtrGHZzB1ghMQ  \n",
       "1    Awesome service and very friendly staff!!\\nI b...  BqNXOy5WJjIoNTX_Xg2wOg  \n",
       "2    My wife is a teacher and a new mother, I sched...  ZkI3V9xcL5r8Tw5kS0BgRw  \n",
       "3    If you are looking for quality, hospitality an...  Nu6403eEBOQvI58_ly2p7w  \n",
       "4    SoJo is incredibly relaxing and a nice getaway...  G4cXJFAnUMoX6BkmCNTbug  \n",
       "..                                                 ...                     ...  \n",
       "995  Jenny is amazing! She is very thoughtful and s...  Ynjvu-9jAWe5oXiOt5wSng  \n",
       "996                                                NaN  7keHYHINOPECAHg1x--lmQ  \n",
       "997  I would recommend Natalya to anyone who is exp...  tPhtgBPblNlFTUDdRJ7FRw  \n",
       "998  Clean! Beautiful inside but there was a lack o...  QckrJaEF0bmE53XxnHb32w  \n",
       "999  My friend and I walked in around 8:30pm and it...  0D5XW0YMA5ogUMHSp3cLSQ  \n",
       "\n",
       "[1000 rows x 4 columns]"
      ]
     },
     "execution_count": 38,
     "metadata": {},
     "output_type": "execute_result"
    }
   ],
   "source": [
    "spa_ny_rv"
   ]
  },
  {
   "cell_type": "code",
   "execution_count": 66,
   "metadata": {},
   "outputs": [
    {
     "data": {
      "text/plain": [
       "0         4\n",
       "1         5\n",
       "2         4\n",
       "3       4.5\n",
       "4       3.5\n",
       "       ... \n",
       "1996    5.0\n",
       "1997    3.0\n",
       "1998    5.0\n",
       "1999    3.5\n",
       "2000    4.0\n",
       "Name: Rating, Length: 3001, dtype: object"
      ]
     },
     "execution_count": 66,
     "metadata": {},
     "output_type": "execute_result"
    }
   ],
   "source": [
    "concat = pd.concat([spa_ny_db.assign(dataset='spa_ny_db'), spa_la_db.assign(dataset='spa_la_db')])\n",
    "concat\n",
    "# sns.scatterplot(x='Price',y='Review Count',data = spa_ny_db)\n",
    "# sns.scatterplot(x='Price',y='Review Count',data = spa_la_db)"
   ]
  },
  {
   "cell_type": "code",
   "execution_count": 58,
   "metadata": {},
   "outputs": [
    {
     "ename": "ValueError",
     "evalue": "could not convert string to float: 'Rating'",
     "output_type": "error",
     "traceback": [
      "\u001b[0;31m---------------------------------------------------------------------------\u001b[0m",
      "\u001b[0;31mValueError\u001b[0m                                Traceback (most recent call last)",
      "\u001b[0;32m<ipython-input-58-3d54adae7b1a>\u001b[0m in \u001b[0;36m<module>\u001b[0;34m\u001b[0m\n\u001b[0;32m----> 1\u001b[0;31m \u001b[0msns\u001b[0m\u001b[0;34m.\u001b[0m\u001b[0mscatterplot\u001b[0m\u001b[0;34m(\u001b[0m\u001b[0mx\u001b[0m\u001b[0;34m=\u001b[0m\u001b[0mfloat\u001b[0m\u001b[0;34m(\u001b[0m\u001b[0;34m'Rating'\u001b[0m\u001b[0;34m)\u001b[0m\u001b[0;34m,\u001b[0m \u001b[0my\u001b[0m\u001b[0;34m=\u001b[0m \u001b[0mfloat\u001b[0m\u001b[0;34m(\u001b[0m\u001b[0;34m'Review Count'\u001b[0m\u001b[0;34m)\u001b[0m\u001b[0;34m,\u001b[0m \u001b[0mdata\u001b[0m\u001b[0;34m=\u001b[0m\u001b[0mconcat\u001b[0m\u001b[0;34m,\u001b[0m \u001b[0mhue\u001b[0m\u001b[0;34m=\u001b[0m\u001b[0;34m'dataset'\u001b[0m\u001b[0;34m,\u001b[0m \u001b[0mstyle\u001b[0m\u001b[0;34m=\u001b[0m\u001b[0;34m'dataset'\u001b[0m\u001b[0;34m)\u001b[0m\u001b[0;34m\u001b[0m\u001b[0;34m\u001b[0m\u001b[0m\n\u001b[0m",
      "\u001b[0;31mValueError\u001b[0m: could not convert string to float: 'Rating'"
     ]
    }
   ],
   "source": [
    "sns.scatterplot(x=float('Rating'), y= float('Review Count'), data=concat, hue='dataset', style='dataset')"
   ]
  },
  {
   "cell_type": "code",
   "execution_count": 13,
   "metadata": {},
   "outputs": [
    {
     "data": {
      "text/html": [
       "<div>\n",
       "<style scoped>\n",
       "    .dataframe tbody tr th:only-of-type {\n",
       "        vertical-align: middle;\n",
       "    }\n",
       "\n",
       "    .dataframe tbody tr th {\n",
       "        vertical-align: top;\n",
       "    }\n",
       "\n",
       "    .dataframe thead th {\n",
       "        text-align: right;\n",
       "    }\n",
       "</style>\n",
       "<table border=\"1\" class=\"dataframe\">\n",
       "  <thead>\n",
       "    <tr style=\"text-align: right;\">\n",
       "      <th></th>\n",
       "      <th>Rating</th>\n",
       "      <th>Review Count</th>\n",
       "      <th>Price</th>\n",
       "    </tr>\n",
       "  </thead>\n",
       "  <tbody>\n",
       "    <tr>\n",
       "      <th>count</th>\n",
       "      <td>1000.000000</td>\n",
       "      <td>1000.000000</td>\n",
       "      <td>615.000000</td>\n",
       "    </tr>\n",
       "    <tr>\n",
       "      <th>mean</th>\n",
       "      <td>4.181500</td>\n",
       "      <td>451.836000</td>\n",
       "      <td>2.403252</td>\n",
       "    </tr>\n",
       "    <tr>\n",
       "      <th>std</th>\n",
       "      <td>0.508494</td>\n",
       "      <td>738.749932</td>\n",
       "      <td>0.675289</td>\n",
       "    </tr>\n",
       "    <tr>\n",
       "      <th>min</th>\n",
       "      <td>2.000000</td>\n",
       "      <td>1.000000</td>\n",
       "      <td>1.000000</td>\n",
       "    </tr>\n",
       "    <tr>\n",
       "      <th>25%</th>\n",
       "      <td>4.000000</td>\n",
       "      <td>30.750000</td>\n",
       "      <td>2.000000</td>\n",
       "    </tr>\n",
       "    <tr>\n",
       "      <th>50%</th>\n",
       "      <td>4.000000</td>\n",
       "      <td>194.000000</td>\n",
       "      <td>2.000000</td>\n",
       "    </tr>\n",
       "    <tr>\n",
       "      <th>75%</th>\n",
       "      <td>4.500000</td>\n",
       "      <td>547.500000</td>\n",
       "      <td>3.000000</td>\n",
       "    </tr>\n",
       "    <tr>\n",
       "      <th>max</th>\n",
       "      <td>5.000000</td>\n",
       "      <td>10016.000000</td>\n",
       "      <td>4.000000</td>\n",
       "    </tr>\n",
       "  </tbody>\n",
       "</table>\n",
       "</div>"
      ],
      "text/plain": [
       "            Rating  Review Count       Price\n",
       "count  1000.000000   1000.000000  615.000000\n",
       "mean      4.181500    451.836000    2.403252\n",
       "std       0.508494    738.749932    0.675289\n",
       "min       2.000000      1.000000    1.000000\n",
       "25%       4.000000     30.750000    2.000000\n",
       "50%       4.000000    194.000000    2.000000\n",
       "75%       4.500000    547.500000    3.000000\n",
       "max       5.000000  10016.000000    4.000000"
      ]
     },
     "execution_count": 13,
     "metadata": {},
     "output_type": "execute_result"
    }
   ],
   "source": [
    "df_prod_nyc.describe()\n",
    "# '''\n",
    "# More money in NYC than LA, not by much\n",
    "# Could be impacted by amount of places that have price listed\n",
    "# Competition and Property value are things to keep in mind \n",
    "# Slightly larger range in NYC than LA, but mostly modest-high cost range (std)\n",
    "\n",
    "# '''"
   ]
  },
  {
   "cell_type": "code",
   "execution_count": 14,
   "metadata": {
    "scrolled": true
   },
   "outputs": [
    {
     "data": {
      "text/html": [
       "<div>\n",
       "<style scoped>\n",
       "    .dataframe tbody tr th:only-of-type {\n",
       "        vertical-align: middle;\n",
       "    }\n",
       "\n",
       "    .dataframe tbody tr th {\n",
       "        vertical-align: top;\n",
       "    }\n",
       "\n",
       "    .dataframe thead th {\n",
       "        text-align: right;\n",
       "    }\n",
       "</style>\n",
       "<table border=\"1\" class=\"dataframe\">\n",
       "  <thead>\n",
       "    <tr style=\"text-align: right;\">\n",
       "      <th></th>\n",
       "      <th>Rating</th>\n",
       "      <th>Review Count</th>\n",
       "      <th>Price</th>\n",
       "    </tr>\n",
       "  </thead>\n",
       "  <tbody>\n",
       "    <tr>\n",
       "      <th>count</th>\n",
       "      <td>1000.000000</td>\n",
       "      <td>1000.000000</td>\n",
       "      <td>358.00000</td>\n",
       "    </tr>\n",
       "    <tr>\n",
       "      <th>mean</th>\n",
       "      <td>4.486500</td>\n",
       "      <td>480.234000</td>\n",
       "      <td>2.24581</td>\n",
       "    </tr>\n",
       "    <tr>\n",
       "      <th>std</th>\n",
       "      <td>0.552153</td>\n",
       "      <td>928.618166</td>\n",
       "      <td>0.60430</td>\n",
       "    </tr>\n",
       "    <tr>\n",
       "      <th>min</th>\n",
       "      <td>1.500000</td>\n",
       "      <td>1.000000</td>\n",
       "      <td>1.00000</td>\n",
       "    </tr>\n",
       "    <tr>\n",
       "      <th>25%</th>\n",
       "      <td>4.000000</td>\n",
       "      <td>9.000000</td>\n",
       "      <td>2.00000</td>\n",
       "    </tr>\n",
       "    <tr>\n",
       "      <th>50%</th>\n",
       "      <td>4.500000</td>\n",
       "      <td>57.000000</td>\n",
       "      <td>2.00000</td>\n",
       "    </tr>\n",
       "    <tr>\n",
       "      <th>75%</th>\n",
       "      <td>5.000000</td>\n",
       "      <td>587.500000</td>\n",
       "      <td>3.00000</td>\n",
       "    </tr>\n",
       "    <tr>\n",
       "      <th>max</th>\n",
       "      <td>5.000000</td>\n",
       "      <td>8638.000000</td>\n",
       "      <td>4.00000</td>\n",
       "    </tr>\n",
       "  </tbody>\n",
       "</table>\n",
       "</div>"
      ],
      "text/plain": [
       "            Rating  Review Count      Price\n",
       "count  1000.000000   1000.000000  358.00000\n",
       "mean      4.486500    480.234000    2.24581\n",
       "std       0.552153    928.618166    0.60430\n",
       "min       1.500000      1.000000    1.00000\n",
       "25%       4.000000      9.000000    2.00000\n",
       "50%       4.500000     57.000000    2.00000\n",
       "75%       5.000000    587.500000    3.00000\n",
       "max       5.000000   8638.000000    4.00000"
      ]
     },
     "execution_count": 14,
     "metadata": {},
     "output_type": "execute_result"
    }
   ],
   "source": [
    "df_prod_la.describe()\n",
    "# '''\n",
    "# LA Reviews the most out of the 3 cities\n",
    "# Mean rating is much higher than the other cities\n",
    "# LA has highest std, could have outliers bringing the review count mean up \n",
    "# Find neighboorhoods that dont have high ratings to get around customer loyalty\n",
    "\n",
    "\n",
    "# '''"
   ]
  },
  {
   "cell_type": "code",
   "execution_count": 15,
   "metadata": {
    "scrolled": true
   },
   "outputs": [
    {
     "data": {
      "text/html": [
       "<div>\n",
       "<style scoped>\n",
       "    .dataframe tbody tr th:only-of-type {\n",
       "        vertical-align: middle;\n",
       "    }\n",
       "\n",
       "    .dataframe tbody tr th {\n",
       "        vertical-align: top;\n",
       "    }\n",
       "\n",
       "    .dataframe thead th {\n",
       "        text-align: right;\n",
       "    }\n",
       "</style>\n",
       "<table border=\"1\" class=\"dataframe\">\n",
       "  <thead>\n",
       "    <tr style=\"text-align: right;\">\n",
       "      <th></th>\n",
       "      <th>Rating</th>\n",
       "      <th>Review Count</th>\n",
       "      <th>Price</th>\n",
       "    </tr>\n",
       "  </thead>\n",
       "  <tbody>\n",
       "    <tr>\n",
       "      <th>count</th>\n",
       "      <td>1000.000000</td>\n",
       "      <td>1000.000000</td>\n",
       "      <td>774.000000</td>\n",
       "    </tr>\n",
       "    <tr>\n",
       "      <th>mean</th>\n",
       "      <td>3.804000</td>\n",
       "      <td>284.178000</td>\n",
       "      <td>2.018088</td>\n",
       "    </tr>\n",
       "    <tr>\n",
       "      <th>std</th>\n",
       "      <td>0.654609</td>\n",
       "      <td>388.846409</td>\n",
       "      <td>0.508335</td>\n",
       "    </tr>\n",
       "    <tr>\n",
       "      <th>min</th>\n",
       "      <td>1.000000</td>\n",
       "      <td>1.000000</td>\n",
       "      <td>1.000000</td>\n",
       "    </tr>\n",
       "    <tr>\n",
       "      <th>25%</th>\n",
       "      <td>3.500000</td>\n",
       "      <td>55.000000</td>\n",
       "      <td>2.000000</td>\n",
       "    </tr>\n",
       "    <tr>\n",
       "      <th>50%</th>\n",
       "      <td>4.000000</td>\n",
       "      <td>173.500000</td>\n",
       "      <td>2.000000</td>\n",
       "    </tr>\n",
       "    <tr>\n",
       "      <th>75%</th>\n",
       "      <td>4.000000</td>\n",
       "      <td>363.250000</td>\n",
       "      <td>2.000000</td>\n",
       "    </tr>\n",
       "    <tr>\n",
       "      <th>max</th>\n",
       "      <td>5.000000</td>\n",
       "      <td>3949.000000</td>\n",
       "      <td>4.000000</td>\n",
       "    </tr>\n",
       "  </tbody>\n",
       "</table>\n",
       "</div>"
      ],
      "text/plain": [
       "            Rating  Review Count       Price\n",
       "count  1000.000000   1000.000000  774.000000\n",
       "mean      3.804000    284.178000    2.018088\n",
       "std       0.654609    388.846409    0.508335\n",
       "min       1.000000      1.000000    1.000000\n",
       "25%       3.500000     55.000000    2.000000\n",
       "50%       4.000000    173.500000    2.000000\n",
       "75%       4.000000    363.250000    2.000000\n",
       "max       5.000000   3949.000000    4.000000"
      ]
     },
     "execution_count": 15,
     "metadata": {},
     "output_type": "execute_result"
    }
   ],
   "source": [
    "df_prod_ga.describe()\n",
    "# Cheper, making less money as Business owners compared to NY and LA\n",
    "# Less reviews per store in GA than LA or NY, would get less customers\n"
   ]
  },
  {
   "cell_type": "code",
   "execution_count": 16,
   "metadata": {},
   "outputs": [
    {
     "data": {
      "text/plain": [
       "Rating            3.804000\n",
       "Review Count    284.178000\n",
       "Price             2.018088\n",
       "Name: mean, dtype: float64"
      ]
     },
     "execution_count": 16,
     "metadata": {},
     "output_type": "execute_result"
    }
   ],
   "source": [
    "df_prod_ga.describe().loc['mean']\n",
    "\n"
   ]
  },
  {
   "cell_type": "code",
   "execution_count": null,
   "metadata": {},
   "outputs": [],
   "source": []
  },
  {
   "cell_type": "markdown",
   "metadata": {},
   "source": [
    "### Price / Review Count\n",
    "Atlanta has far more popular lower-cost service houses than New York and Los Angeles. This would make competing in such an environment as a start-up far more difficult, until we scale to the point to where we can secure talent and the ability to provide high-level services that are worthy of 4-dollar-sign prices. <br>\n",
    "\n",
    "On the other hand, it would be worth getting the `len(parsed['total'])` of the call results per location. <br>\n",
    "If the total number of production houses in Atlanta are much lower than the total in NYC and LA, then the market might be too saturated in the larger cities, making it difficult for new competition. \n",
    "\n",
    "Beyond the scope of this project, there are some other considerations that could be taken, such as: \n",
    "- commercial real estate prices per location (possibly through other API such as Zilliow)\n",
    "- other costs of doing business per location"
   ]
  },
  {
   "cell_type": "code",
   "execution_count": 67,
   "metadata": {
    "scrolled": false
   },
   "outputs": [
    {
     "name": "stdout",
     "output_type": "stream",
     "text": [
      "🥳\n"
     ]
    },
    {
     "data": {
      "image/png": "[encoded data removed]",
      "text/plain": [
       "<Figure size 432x432 with 1 Axes>"
      ]
     },
     "metadata": {
      "needs_background": "light"
     },
     "output_type": "display_data"
    }
   ],
   "source": [
    "price_review_cnt_title = 'Production Houses \\n Relationship Between Price and Review Count'\n",
    "x_label = 'Price'\n",
    "y_label = '# of places per price'\n",
    "width = .25\n",
    "\n",
    "\n",
    "x1 = df_prod_nyc['Price'].value_counts().sort_index().index[:4]\n",
    "y1 = df_prod_nyc['Price'].value_counts().sort_index()\n",
    "\n",
    "x2 = df_prod_la['Price'].value_counts().sort_index().index[:4]\n",
    "y2 = df_prod_la['Price'].value_counts().sort_index()\n",
    "\n",
    "x3 = df_prod_ga['Price'].value_counts().sort_index().index[:4]\n",
    "y3 = df_prod_ga['Price'].value_counts().sort_index()\n",
    "\n",
    "# xtik = [1, 2, 3, 4]\n",
    "\n",
    "fig, ax = plt.subplots(figsize=(6,6))\n",
    "\n",
    "ax.set_xlabel(x_label)\n",
    "ax.set_ylabel(y_label);\n",
    "ax.set_xticks([1, 2, 3, 4])\n",
    "# ax.set_xticks(['$'*i for i in xtik])\n",
    "\n",
    "ax.bar(x1-(width), y1, width, color=\"cyan\", align='center')\n",
    "ax.bar(x2, y2, width, color=\"yellow\", align= 'center')\n",
    "ax.bar(x3+(width), y3, width, color=\"magenta\", align= 'center')\n",
    "ax.set_title(price_review_cnt_title)\n",
    "ax.set_facecolor(\"lightyellow\")\n",
    "\n",
    "ax.legend(['NYC', 'LA', 'ATL'])\n",
    "print('🥳')"
   ]
  },
  {
   "cell_type": "code",
   "execution_count": 68,
   "metadata": {},
   "outputs": [
    {
     "name": "stdout",
     "output_type": "stream",
     "text": [
      "🥳\n"
     ]
    },
    {
     "data": {
      "image/png": "[encoded data removed]",
      "text/plain": [
       "<Figure size 432x432 with 1 Axes>"
      ]
     },
     "metadata": {
      "needs_background": "light"
     },
     "output_type": "display_data"
    }
   ],
   "source": [
    "price_review_cnt_title = 'Production Houses \\n Relationship Between Price and Review Count'\n",
    "x_label = 'Price'\n",
    "y_label = 'Review Count'\n",
    "width = .25\n",
    "\n",
    "\n",
    "x1 = df_prod_nyc['Price'].median()\n",
    "y1 = df_prod_nyc['Price'].value_counts().sort_index()\n",
    "\n",
    "x2 = df_prod_la['Price'].value_counts().sort_index().index[:4]\n",
    "y2 = df_prod_la['Price'].value_counts().sort_index()\n",
    "\n",
    "x3 = df_prod_ga['Price'].value_counts().sort_index().index[:4]\n",
    "y3 = df_prod_ga['Price'].value_counts().sort_index()\n",
    "\n",
    "# xtik = [1, 2, 3, 4]\n",
    "\n",
    "fig, ax = plt.subplots(figsize=(6,6))\n",
    "\n",
    "ax.set_xlabel(x_label)\n",
    "ax.set_ylabel(y_label);\n",
    "ax.set_xticks([1, 2, 3, 4])\n",
    "# ax.set_xticks(['$'*i for i in xtik])\n",
    "\n",
    "ax.bar(x1-(width), y1, width, color=\"cyan\", align='center')\n",
    "ax.bar(x2, y2, width, color=\"yellow\", align= 'center')\n",
    "ax.bar(x3+(width), y3, width, color=\"magenta\", align= 'center')\n",
    "ax.set_title(price_review_cnt_title)\n",
    "ax.set_facecolor(\"lightyellow\")\n",
    "\n",
    "ax.legend(['NYC', 'LA', 'ATL'])\n",
    "print('🥳')"
   ]
  },
  {
   "cell_type": "markdown",
   "metadata": {},
   "source": [
    "#### Insights:"
   ]
  },
  {
   "cell_type": "markdown",
   "metadata": {},
   "source": [
    "### Rating / Review Count"
   ]
  },
  {
   "cell_type": "code",
   "execution_count": 19,
   "metadata": {
    "scrolled": true
   },
   "outputs": [
    {
     "data": {
      "text/plain": [
       "0      5.0\n",
       "1      5.0\n",
       "2      5.0\n",
       "3      4.5\n",
       "4      5.0\n",
       "      ... \n",
       "995    3.5\n",
       "996    2.5\n",
       "997    2.5\n",
       "998    3.0\n",
       "999    4.0\n",
       "Name: Rating, Length: 1000, dtype: float64"
      ]
     },
     "execution_count": 19,
     "metadata": {},
     "output_type": "execute_result"
    }
   ],
   "source": [
    "df_prod_ga['Rating']"
   ]
  },
  {
   "cell_type": "code",
   "execution_count": 20,
   "metadata": {},
   "outputs": [
    {
     "data": {
      "text/plain": [
       "Float64Index([2.0, 2.5, 3.0, 3.5, 4.0], dtype='float64')"
      ]
     },
     "execution_count": 20,
     "metadata": {},
     "output_type": "execute_result"
    }
   ],
   "source": [
    "x1 = df_prod_nyc['Rating'].value_counts().sort_index().index[:5]\n",
    "x1"
   ]
  },
  {
   "cell_type": "code",
   "execution_count": 21,
   "metadata": {},
   "outputs": [
    {
     "data": {
      "text/plain": [
       "Float64Index([1.5, 2.5, 3.0, 3.5, 4.0], dtype='float64')"
      ]
     },
     "execution_count": 21,
     "metadata": {},
     "output_type": "execute_result"
    }
   ],
   "source": [
    "x2 = df_prod_la['Rating'].value_counts().sort_index().index[:5]\n",
    "x2"
   ]
  },
  {
   "cell_type": "code",
   "execution_count": 22,
   "metadata": {},
   "outputs": [
    {
     "data": {
      "text/plain": [
       "Float64Index([1.0, 1.5, 2.0, 2.5, 3.0], dtype='float64')"
      ]
     },
     "execution_count": 22,
     "metadata": {},
     "output_type": "execute_result"
    }
   ],
   "source": [
    "x3 = df_prod_ga['Rating'].value_counts().sort_index().index[:5]\n",
    "x3"
   ]
  },
  {
   "cell_type": "code",
   "execution_count": 23,
   "metadata": {},
   "outputs": [
    {
     "data": {
      "text/plain": [
       "Float64Index([2.0, 2.5, 3.0, 3.5, 4.0, 4.5, 5.0], dtype='float64')"
      ]
     },
     "execution_count": 23,
     "metadata": {},
     "output_type": "execute_result"
    }
   ],
   "source": [
    "df_prod_nyc['Rating'].value_counts().sort_index().index"
   ]
  },
  {
   "cell_type": "code",
   "execution_count": 74,
   "metadata": {
    "scrolled": false
   },
   "outputs": [
    {
     "name": "stdout",
     "output_type": "stream",
     "text": [
      "🥳\n"
     ]
    },
    {
     "data": {
      "image/png": "[encoded data removed]",
      "text/plain": [
       "<Figure size 432x432 with 1 Axes>"
      ]
     },
     "metadata": {
      "needs_background": "light"
     },
     "output_type": "display_data"
    }
   ],
   "source": [
    "rating_review_cnt_title = 'Production Houses \\n Relationship Between Rating and Review Count'\n",
    "x_label = 'Rating'\n",
    "y_label = 'Review Count'\n",
    "width = .1\n",
    "\n",
    "x1 = df_prod_nyc['Rating']\n",
    "y1 = df_prod_nyc['Review Count']\n",
    "\n",
    "x2 = df_prod_la['Rating']\n",
    "y2 = df_prod_la['Review Count']\n",
    "\n",
    "x3 = df_prod_ga['Rating']\n",
    "y3 = df_prod_ga['Review Count']\n",
    "\n",
    "fig, ax = plt.subplots(figsize=(6,6))\n",
    "\n",
    "ax.set_xlabel(x_label)\n",
    "ax.set_ylabel(y_label);\n",
    "ax.set_xticks([1.0, 1.5, 2.0, 2.5, 3.0, 3.5, 4.0, 4.5, 5.0])\n",
    "\n",
    "ax.bar(x1-(width), y1, width, color=\"cyan\", align='center')\n",
    "ax.bar(x2, y2, width, color=\"yellow\", align= 'center')\n",
    "ax.bar(x3+(width), y3, width, color=\"magenta\", align= 'center')\n",
    "ax.set_title(rating_review_cnt_title)\n",
    "ax.set_facecolor(\"lightblue\")\n",
    "\n",
    "ax.legend(['NYC', 'LA', 'ATL'])\n",
    "print('🥳')"
   ]
  },
  {
   "cell_type": "markdown",
   "metadata": {},
   "source": [
    "#### Insights: "
   ]
  },
  {
   "cell_type": "markdown",
   "metadata": {},
   "source": []
  },
  {
   "cell_type": "markdown",
   "metadata": {},
   "source": [
    "### Rating / Price"
   ]
  },
  {
   "cell_type": "code",
   "execution_count": 76,
   "metadata": {
    "scrolled": false
   },
   "outputs": [
    {
     "name": "stdout",
     "output_type": "stream",
     "text": [
      "🥳\n"
     ]
    },
    {
     "data": {
      "image/png": "[encoded data removed]",
      "text/plain": [
       "<Figure size 432x432 with 1 Axes>"
      ]
     },
     "metadata": {
      "needs_background": "light"
     },
     "output_type": "display_data"
    }
   ],
   "source": [
    "rating_price_title = 'Production Houses \\n Relationship Between Rating and Price'\n",
    "x_label = 'Rating'\n",
    "y_label = 'Price'\n",
    "width = .125\n",
    "\n",
    "x1 = df_prod_nyc['Rating']\n",
    "y1 = df_prod_nyc['Price']\n",
    "\n",
    "x2 = df_prod_la['Rating']\n",
    "y2 = df_prod_la['Price']\n",
    "\n",
    "x3 = df_prod_ga['Rating']\n",
    "y3 = df_prod_ga['Price']\n",
    "\n",
    "fig, ax = plt.subplots(figsize=(6,6))\n",
    "\n",
    "ax.set_xlabel(x_label)\n",
    "ax.set_ylabel(y_label);\n",
    "ax.set_xticks([1.0, 1.5, 2.0, 2.5, 3.0, 3.5, 4.0, 4.5, 5.0])\n",
    "\n",
    "ax.bar(x1-(width), y1, width, color=\"cyan\", align='center')\n",
    "ax.bar(x2, y2, width, color=\"yellow\", align= 'center')\n",
    "ax.bar(x3+(width), y3, width, color=\"magenta\", align= 'center')\n",
    "ax.set_title(rating_price_title)\n",
    "ax.set_facecolor(\"lavender\")\n",
    "\n",
    "ax.legend(['NYC', 'LA', 'ATL'])\n",
    "print('🥳')"
   ]
  },
  {
   "cell_type": "markdown",
   "metadata": {},
   "source": [
    "### Insights: "
   ]
  },
  {
   "cell_type": "markdown",
   "metadata": {},
   "source": [
    "Though not a great visualization, note what the above tells us about New York: <br> \n",
    "- that there are no low-rated production houses\n",
    "- in fact, the highest rated production houses seem to have the lowest price\n",
    "- this insight suggests that "
   ]
  },
  {
   "cell_type": "code",
   "execution_count": 26,
   "metadata": {},
   "outputs": [
    {
     "data": {
      "text/html": [
       "<div>\n",
       "<style scoped>\n",
       "    .dataframe tbody tr th:only-of-type {\n",
       "        vertical-align: middle;\n",
       "    }\n",
       "\n",
       "    .dataframe tbody tr th {\n",
       "        vertical-align: top;\n",
       "    }\n",
       "\n",
       "    .dataframe thead th {\n",
       "        text-align: right;\n",
       "    }\n",
       "</style>\n",
       "<table border=\"1\" class=\"dataframe\">\n",
       "  <thead>\n",
       "    <tr style=\"text-align: right;\">\n",
       "      <th></th>\n",
       "      <th>Price</th>\n",
       "      <th>Rating</th>\n",
       "    </tr>\n",
       "  </thead>\n",
       "  <tbody>\n",
       "    <tr>\n",
       "      <th>0</th>\n",
       "      <td>NaN</td>\n",
       "      <td>5.0</td>\n",
       "    </tr>\n",
       "    <tr>\n",
       "      <th>1</th>\n",
       "      <td>NaN</td>\n",
       "      <td>5.0</td>\n",
       "    </tr>\n",
       "    <tr>\n",
       "      <th>2</th>\n",
       "      <td>NaN</td>\n",
       "      <td>4.5</td>\n",
       "    </tr>\n",
       "    <tr>\n",
       "      <th>3</th>\n",
       "      <td>NaN</td>\n",
       "      <td>5.0</td>\n",
       "    </tr>\n",
       "    <tr>\n",
       "      <th>4</th>\n",
       "      <td>NaN</td>\n",
       "      <td>4.5</td>\n",
       "    </tr>\n",
       "    <tr>\n",
       "      <th>...</th>\n",
       "      <td>...</td>\n",
       "      <td>...</td>\n",
       "    </tr>\n",
       "    <tr>\n",
       "      <th>995</th>\n",
       "      <td>NaN</td>\n",
       "      <td>3.5</td>\n",
       "    </tr>\n",
       "    <tr>\n",
       "      <th>996</th>\n",
       "      <td>NaN</td>\n",
       "      <td>4.0</td>\n",
       "    </tr>\n",
       "    <tr>\n",
       "      <th>997</th>\n",
       "      <td>NaN</td>\n",
       "      <td>4.0</td>\n",
       "    </tr>\n",
       "    <tr>\n",
       "      <th>998</th>\n",
       "      <td>2.0</td>\n",
       "      <td>4.0</td>\n",
       "    </tr>\n",
       "    <tr>\n",
       "      <th>999</th>\n",
       "      <td>3.0</td>\n",
       "      <td>4.0</td>\n",
       "    </tr>\n",
       "  </tbody>\n",
       "</table>\n",
       "<p>1000 rows × 2 columns</p>\n",
       "</div>"
      ],
      "text/plain": [
       "     Price  Rating\n",
       "0      NaN     5.0\n",
       "1      NaN     5.0\n",
       "2      NaN     4.5\n",
       "3      NaN     5.0\n",
       "4      NaN     4.5\n",
       "..     ...     ...\n",
       "995    NaN     3.5\n",
       "996    NaN     4.0\n",
       "997    NaN     4.0\n",
       "998    2.0     4.0\n",
       "999    3.0     4.0\n",
       "\n",
       "[1000 rows x 2 columns]"
      ]
     },
     "execution_count": 26,
     "metadata": {},
     "output_type": "execute_result"
    }
   ],
   "source": [
    "df_prod_nyc[['Price', 'Rating']]"
   ]
  },
  {
   "cell_type": "code",
   "execution_count": 27,
   "metadata": {},
   "outputs": [
    {
     "data": {
      "text/html": [
       "<div>\n",
       "<style scoped>\n",
       "    .dataframe tbody tr th:only-of-type {\n",
       "        vertical-align: middle;\n",
       "    }\n",
       "\n",
       "    .dataframe tbody tr th {\n",
       "        vertical-align: top;\n",
       "    }\n",
       "\n",
       "    .dataframe thead th {\n",
       "        text-align: right;\n",
       "    }\n",
       "</style>\n",
       "<table border=\"1\" class=\"dataframe\">\n",
       "  <thead>\n",
       "    <tr style=\"text-align: right;\">\n",
       "      <th></th>\n",
       "      <th>Name</th>\n",
       "      <th>Address</th>\n",
       "      <th>City</th>\n",
       "      <th>Rating</th>\n",
       "      <th>Review Count</th>\n",
       "      <th>Coordinates</th>\n",
       "      <th>Price</th>\n",
       "      <th>Id</th>\n",
       "      <th>Categories</th>\n",
       "    </tr>\n",
       "  </thead>\n",
       "  <tbody>\n",
       "    <tr>\n",
       "      <th>6</th>\n",
       "      <td>Chart House</td>\n",
       "      <td>['1700 Harbor Blvd', 'Weehawken, NJ 07086']</td>\n",
       "      <td>Weehawken</td>\n",
       "      <td>4.0</td>\n",
       "      <td>1527</td>\n",
       "      <td>{'latitude': 40.7607, 'longitude': -74.018038}</td>\n",
       "      <td>3.0</td>\n",
       "      <td>_WsfOuvObbp1tH4cBE-jNw</td>\n",
       "      <td>[{'alias': 'seafood', 'title': 'Seafood'}, {'a...</td>\n",
       "    </tr>\n",
       "    <tr>\n",
       "      <th>10</th>\n",
       "      <td>House of Yes</td>\n",
       "      <td>['2 Wyckoff Ave', 'Brooklyn, NY 11237']</td>\n",
       "      <td>Brooklyn</td>\n",
       "      <td>4.0</td>\n",
       "      <td>296</td>\n",
       "      <td>{'latitude': 40.70686, 'longitude': -73.92353}</td>\n",
       "      <td>1.0</td>\n",
       "      <td>XjKaW-3w7v0fGQJzIZg0cQ</td>\n",
       "      <td>[{'alias': 'theater', 'title': 'Performing Art...</td>\n",
       "    </tr>\n",
       "    <tr>\n",
       "      <th>11</th>\n",
       "      <td>Del Frisco's Double Eagle Steakhouse</td>\n",
       "      <td>['1221 Ave Of The Americas', 'New York, NY 100...</td>\n",
       "      <td>New York</td>\n",
       "      <td>4.5</td>\n",
       "      <td>3028</td>\n",
       "      <td>{'latitude': 40.759412, 'longitude': -73.982221}</td>\n",
       "      <td>4.0</td>\n",
       "      <td>b8a-8u_A51v2IzyjLVsx6w</td>\n",
       "      <td>[{'alias': 'steak', 'title': 'Steakhouses'}, {...</td>\n",
       "    </tr>\n",
       "    <tr>\n",
       "      <th>12</th>\n",
       "      <td>MAMA'S TOO!</td>\n",
       "      <td>['2750 Broadway', 'New York, NY 10025']</td>\n",
       "      <td>New York</td>\n",
       "      <td>3.5</td>\n",
       "      <td>405</td>\n",
       "      <td>{'latitude': 40.80084, 'longitude': -73.96766}</td>\n",
       "      <td>2.0</td>\n",
       "      <td>m3PS0tIaa0ChcP8Y5S-DrQ</td>\n",
       "      <td>[{'alias': 'pizza', 'title': 'Pizza'}, {'alias...</td>\n",
       "    </tr>\n",
       "    <tr>\n",
       "      <th>17</th>\n",
       "      <td>The Stone House at Clove Lakes</td>\n",
       "      <td>['1150 Clove Rd', 'Staten Island, NY 10301']</td>\n",
       "      <td>Staten Island</td>\n",
       "      <td>3.5</td>\n",
       "      <td>222</td>\n",
       "      <td>{'latitude': 40.6179128, 'longitude': -74.1082...</td>\n",
       "      <td>3.0</td>\n",
       "      <td>_98kz9tBW7NhCn3zHqOS0A</td>\n",
       "      <td>[{'alias': 'breakfast_brunch', 'title': 'Break...</td>\n",
       "    </tr>\n",
       "    <tr>\n",
       "      <th>...</th>\n",
       "      <td>...</td>\n",
       "      <td>...</td>\n",
       "      <td>...</td>\n",
       "      <td>...</td>\n",
       "      <td>...</td>\n",
       "      <td>...</td>\n",
       "      <td>...</td>\n",
       "      <td>...</td>\n",
       "      <td>...</td>\n",
       "    </tr>\n",
       "    <tr>\n",
       "      <th>990</th>\n",
       "      <td>Jajaja Plantas Mexicana</td>\n",
       "      <td>['63 Carmine St', 'New York, NY 10014']</td>\n",
       "      <td>New York</td>\n",
       "      <td>4.5</td>\n",
       "      <td>254</td>\n",
       "      <td>{'latitude': 40.72979, 'longitude': -74.00455}</td>\n",
       "      <td>2.0</td>\n",
       "      <td>PHMkwS5nmo4IUXbcg0OcAg</td>\n",
       "      <td>[{'alias': 'mexican', 'title': 'Mexican'}, {'a...</td>\n",
       "    </tr>\n",
       "    <tr>\n",
       "      <th>991</th>\n",
       "      <td>The Penthouse - Ravel Hotel</td>\n",
       "      <td>['8-08 Queens Plz S', 'Long Island City, NY 11...</td>\n",
       "      <td>Long Island City</td>\n",
       "      <td>3.0</td>\n",
       "      <td>986</td>\n",
       "      <td>{'latitude': 40.7541228285616, 'longitude': -7...</td>\n",
       "      <td>3.0</td>\n",
       "      <td>InEqFA1IvuSLhvDBXhBR0w</td>\n",
       "      <td>[{'alias': 'venues', 'title': 'Venues &amp; Event ...</td>\n",
       "    </tr>\n",
       "    <tr>\n",
       "      <th>992</th>\n",
       "      <td>New York Marriott Marquis</td>\n",
       "      <td>['1535 Broadway', 'New York, NY 10036']</td>\n",
       "      <td>New York</td>\n",
       "      <td>3.5</td>\n",
       "      <td>989</td>\n",
       "      <td>{'latitude': 40.7585862119401, 'longitude': -7...</td>\n",
       "      <td>3.0</td>\n",
       "      <td>55Ofcjm1DPf4LVr73-4-1g</td>\n",
       "      <td>[{'alias': 'hotels', 'title': 'Hotels'}, {'ali...</td>\n",
       "    </tr>\n",
       "    <tr>\n",
       "      <th>998</th>\n",
       "      <td>Sergimmo Salumeria</td>\n",
       "      <td>['456 9th Ave', 'New York, NY 10018']</td>\n",
       "      <td>New York</td>\n",
       "      <td>4.0</td>\n",
       "      <td>683</td>\n",
       "      <td>{'latitude': 40.754296, 'longitude': -73.995498}</td>\n",
       "      <td>2.0</td>\n",
       "      <td>9iC39Z1YjZKbrrCANgzBXg</td>\n",
       "      <td>[{'alias': 'italian', 'title': 'Italian'}, {'a...</td>\n",
       "    </tr>\n",
       "    <tr>\n",
       "      <th>999</th>\n",
       "      <td>Boqueria Flatiron</td>\n",
       "      <td>['53 W 19th St', 'New York, NY 10011']</td>\n",
       "      <td>New York</td>\n",
       "      <td>4.0</td>\n",
       "      <td>1265</td>\n",
       "      <td>{'latitude': 40.7402927726298, 'longitude': -7...</td>\n",
       "      <td>3.0</td>\n",
       "      <td>qIOAlXCCYrwN0VxEEH-Tmw</td>\n",
       "      <td>[{'alias': 'spanish', 'title': 'Spanish'}, {'a...</td>\n",
       "    </tr>\n",
       "  </tbody>\n",
       "</table>\n",
       "<p>615 rows × 9 columns</p>\n",
       "</div>"
      ],
      "text/plain": [
       "                                     Name  \\\n",
       "6                             Chart House   \n",
       "10                           House of Yes   \n",
       "11   Del Frisco's Double Eagle Steakhouse   \n",
       "12                            MAMA'S TOO!   \n",
       "17         The Stone House at Clove Lakes   \n",
       "..                                    ...   \n",
       "990               Jajaja Plantas Mexicana   \n",
       "991           The Penthouse - Ravel Hotel   \n",
       "992             New York Marriott Marquis   \n",
       "998                    Sergimmo Salumeria   \n",
       "999                     Boqueria Flatiron   \n",
       "\n",
       "                                               Address              City  \\\n",
       "6          ['1700 Harbor Blvd', 'Weehawken, NJ 07086']         Weehawken   \n",
       "10             ['2 Wyckoff Ave', 'Brooklyn, NY 11237']          Brooklyn   \n",
       "11   ['1221 Ave Of The Americas', 'New York, NY 100...          New York   \n",
       "12             ['2750 Broadway', 'New York, NY 10025']          New York   \n",
       "17        ['1150 Clove Rd', 'Staten Island, NY 10301']     Staten Island   \n",
       "..                                                 ...               ...   \n",
       "990            ['63 Carmine St', 'New York, NY 10014']          New York   \n",
       "991  ['8-08 Queens Plz S', 'Long Island City, NY 11...  Long Island City   \n",
       "992            ['1535 Broadway', 'New York, NY 10036']          New York   \n",
       "998              ['456 9th Ave', 'New York, NY 10018']          New York   \n",
       "999             ['53 W 19th St', 'New York, NY 10011']          New York   \n",
       "\n",
       "     Rating  Review Count                                        Coordinates  \\\n",
       "6       4.0          1527     {'latitude': 40.7607, 'longitude': -74.018038}   \n",
       "10      4.0           296     {'latitude': 40.70686, 'longitude': -73.92353}   \n",
       "11      4.5          3028   {'latitude': 40.759412, 'longitude': -73.982221}   \n",
       "12      3.5           405     {'latitude': 40.80084, 'longitude': -73.96766}   \n",
       "17      3.5           222  {'latitude': 40.6179128, 'longitude': -74.1082...   \n",
       "..      ...           ...                                                ...   \n",
       "990     4.5           254     {'latitude': 40.72979, 'longitude': -74.00455}   \n",
       "991     3.0           986  {'latitude': 40.7541228285616, 'longitude': -7...   \n",
       "992     3.5           989  {'latitude': 40.7585862119401, 'longitude': -7...   \n",
       "998     4.0           683   {'latitude': 40.754296, 'longitude': -73.995498}   \n",
       "999     4.0          1265  {'latitude': 40.7402927726298, 'longitude': -7...   \n",
       "\n",
       "     Price                      Id  \\\n",
       "6      3.0  _WsfOuvObbp1tH4cBE-jNw   \n",
       "10     1.0  XjKaW-3w7v0fGQJzIZg0cQ   \n",
       "11     4.0  b8a-8u_A51v2IzyjLVsx6w   \n",
       "12     2.0  m3PS0tIaa0ChcP8Y5S-DrQ   \n",
       "17     3.0  _98kz9tBW7NhCn3zHqOS0A   \n",
       "..     ...                     ...   \n",
       "990    2.0  PHMkwS5nmo4IUXbcg0OcAg   \n",
       "991    3.0  InEqFA1IvuSLhvDBXhBR0w   \n",
       "992    3.0  55Ofcjm1DPf4LVr73-4-1g   \n",
       "998    2.0  9iC39Z1YjZKbrrCANgzBXg   \n",
       "999    3.0  qIOAlXCCYrwN0VxEEH-Tmw   \n",
       "\n",
       "                                            Categories  \n",
       "6    [{'alias': 'seafood', 'title': 'Seafood'}, {'a...  \n",
       "10   [{'alias': 'theater', 'title': 'Performing Art...  \n",
       "11   [{'alias': 'steak', 'title': 'Steakhouses'}, {...  \n",
       "12   [{'alias': 'pizza', 'title': 'Pizza'}, {'alias...  \n",
       "17   [{'alias': 'breakfast_brunch', 'title': 'Break...  \n",
       "..                                                 ...  \n",
       "990  [{'alias': 'mexican', 'title': 'Mexican'}, {'a...  \n",
       "991  [{'alias': 'venues', 'title': 'Venues & Event ...  \n",
       "992  [{'alias': 'hotels', 'title': 'Hotels'}, {'ali...  \n",
       "998  [{'alias': 'italian', 'title': 'Italian'}, {'a...  \n",
       "999  [{'alias': 'spanish', 'title': 'Spanish'}, {'a...  \n",
       "\n",
       "[615 rows x 9 columns]"
      ]
     },
     "execution_count": 27,
     "metadata": {},
     "output_type": "execute_result"
    }
   ],
   "source": [
    "df_prod_nyc.dropna()"
   ]
  },
  {
   "cell_type": "code",
   "execution_count": 126,
   "metadata": {
    "scrolled": false
   },
   "outputs": [
    {
     "data": {
      "text/plain": [
       "<AxesSubplot:xlabel='Rating', ylabel='Price'>"
      ]
     },
     "execution_count": 126,
     "metadata": {},
     "output_type": "execute_result"
    },
    {
     "data": {
      "image/png": "[encoded data removed]",
      "text/plain": [
       "<Figure size 432x288 with 1 Axes>"
      ]
     },
     "metadata": {
      "needs_background": "light"
     },
     "output_type": "display_data"
    }
   ],
   "source": [
    "# hahaha = df_prod_nyc.loc[(df_prod_nyc['Rating'] >= 4)&(df_prod_nyc['Price']== 2)]\n",
    "# sns.swarmplot(x=\"Rating\", y=\"Price\", data=hahaha)\n",
    "# boxplot = sns.boxplot(data=df_prod_nyc[\"Price\"])\n",
    "\n",
    "\n",
    "sns.scatterplot(x=\"Rating\", y=\"Price\", data=df_prod_nyc.dropna())\n",
    "# fig, ax = plt.subplots()\n",
    "# sns.distplot(ax=ax)\n",
    "\n",
    "# ax2 = plt.axes([0.2, 0.6, .2, .2], facecolor='y')\n",
    "# sns.distplot(ax=ax2)\n",
    "# ax2.set_title('zoom')\n",
    "# ax2.set_xlim([4,5])\n",
    "\n",
    "# Sactter plot jitter(?) moves dots to be able to view (mpl)\n",
    "# make bubbles bigger for more total reviews"
   ]
  },
  {
   "cell_type": "code",
   "execution_count": 75,
   "metadata": {},
   "outputs": [
    {
     "ename": "ValueError",
     "evalue": "The truth value of a DataFrame is ambiguous. Use a.empty, a.bool(), a.item(), a.any() or a.all().",
     "output_type": "error",
     "traceback": [
      "\u001b[0;31m---------------------------------------------------------------------------\u001b[0m",
      "\u001b[0;31mValueError\u001b[0m                                Traceback (most recent call last)",
      "\u001b[0;32m<ipython-input-75-c07591ec5ae3>\u001b[0m in \u001b[0;36m<module>\u001b[0;34m\u001b[0m\n\u001b[1;32m      4\u001b[0m \u001b[0;34m\u001b[0m\u001b[0m\n\u001b[1;32m      5\u001b[0m \u001b[0;31m# Load the example planets dataset\u001b[0m\u001b[0;34m\u001b[0m\u001b[0;34m\u001b[0m\u001b[0;34m\u001b[0m\u001b[0m\n\u001b[0;32m----> 6\u001b[0;31m \u001b[0mplanets\u001b[0m \u001b[0;34m=\u001b[0m \u001b[0msns\u001b[0m\u001b[0;34m.\u001b[0m\u001b[0mload_dataset\u001b[0m\u001b[0;34m(\u001b[0m\u001b[0mdf_prod_nyc\u001b[0m\u001b[0;34m)\u001b[0m\u001b[0;34m\u001b[0m\u001b[0;34m\u001b[0m\u001b[0m\n\u001b[0m\u001b[1;32m      7\u001b[0m \u001b[0;34m\u001b[0m\u001b[0m\n\u001b[1;32m      8\u001b[0m \u001b[0;31m# Plot the orbital period with horizontal boxes\u001b[0m\u001b[0;34m\u001b[0m\u001b[0;34m\u001b[0m\u001b[0;34m\u001b[0m\u001b[0m\n",
      "\u001b[0;32m~/opt/anaconda3/envs/learn-env/lib/python3.8/site-packages/seaborn/utils.py\u001b[0m in \u001b[0;36mload_dataset\u001b[0;34m(name, cache, data_home, **kws)\u001b[0m\n\u001b[1;32m    483\u001b[0m                                   os.path.basename(full_path))\n\u001b[1;32m    484\u001b[0m         \u001b[0;32mif\u001b[0m \u001b[0;32mnot\u001b[0m \u001b[0mos\u001b[0m\u001b[0;34m.\u001b[0m\u001b[0mpath\u001b[0m\u001b[0;34m.\u001b[0m\u001b[0mexists\u001b[0m\u001b[0;34m(\u001b[0m\u001b[0mcache_path\u001b[0m\u001b[0;34m)\u001b[0m\u001b[0;34m:\u001b[0m\u001b[0;34m\u001b[0m\u001b[0;34m\u001b[0m\u001b[0m\n\u001b[0;32m--> 485\u001b[0;31m             \u001b[0;32mif\u001b[0m \u001b[0mname\u001b[0m \u001b[0;32mnot\u001b[0m \u001b[0;32min\u001b[0m \u001b[0mget_dataset_names\u001b[0m\u001b[0;34m(\u001b[0m\u001b[0;34m)\u001b[0m\u001b[0;34m:\u001b[0m\u001b[0;34m\u001b[0m\u001b[0;34m\u001b[0m\u001b[0m\n\u001b[0m\u001b[1;32m    486\u001b[0m                 \u001b[0;32mraise\u001b[0m \u001b[0mValueError\u001b[0m\u001b[0;34m(\u001b[0m\u001b[0;34mf\"'{name}' is not one of the example datasets.\"\u001b[0m\u001b[0;34m)\u001b[0m\u001b[0;34m\u001b[0m\u001b[0;34m\u001b[0m\u001b[0m\n\u001b[1;32m    487\u001b[0m             \u001b[0murlretrieve\u001b[0m\u001b[0;34m(\u001b[0m\u001b[0mfull_path\u001b[0m\u001b[0;34m,\u001b[0m \u001b[0mcache_path\u001b[0m\u001b[0;34m)\u001b[0m\u001b[0;34m\u001b[0m\u001b[0;34m\u001b[0m\u001b[0m\n",
      "\u001b[0;32m~/opt/anaconda3/envs/learn-env/lib/python3.8/site-packages/pandas/core/generic.py\u001b[0m in \u001b[0;36m__nonzero__\u001b[0;34m(self)\u001b[0m\n\u001b[1;32m   1327\u001b[0m \u001b[0;34m\u001b[0m\u001b[0m\n\u001b[1;32m   1328\u001b[0m     \u001b[0;32mdef\u001b[0m \u001b[0m__nonzero__\u001b[0m\u001b[0;34m(\u001b[0m\u001b[0mself\u001b[0m\u001b[0;34m)\u001b[0m\u001b[0;34m:\u001b[0m\u001b[0;34m\u001b[0m\u001b[0;34m\u001b[0m\u001b[0m\n\u001b[0;32m-> 1329\u001b[0;31m         raise ValueError(\n\u001b[0m\u001b[1;32m   1330\u001b[0m             \u001b[0;34mf\"The truth value of a {type(self).__name__} is ambiguous. \"\u001b[0m\u001b[0;34m\u001b[0m\u001b[0;34m\u001b[0m\u001b[0m\n\u001b[1;32m   1331\u001b[0m             \u001b[0;34m\"Use a.empty, a.bool(), a.item(), a.any() or a.all().\"\u001b[0m\u001b[0;34m\u001b[0m\u001b[0;34m\u001b[0m\u001b[0m\n",
      "\u001b[0;31mValueError\u001b[0m: The truth value of a DataFrame is ambiguous. Use a.empty, a.bool(), a.item(), a.any() or a.all()."
     ]
    },
    {
     "data": {
      "image/png": "[encoded data removed]",
      "text/plain": [
       "<Figure size 504x432 with 1 Axes>"
      ]
     },
     "metadata": {
      "needs_background": "light"
     },
     "output_type": "display_data"
    }
   ],
   "source": [
    "\n",
    "\n",
    "# Initialize the figure with a logarithmic x axis\n",
    "f, ax = plt.subplots(figsize=(7, 6))\n",
    "ax.set_xscale(\"log\")\n",
    "\n",
    "# Load the example planets dataset\n",
    "planets = sns.load_dataset(df_prod_nyc)\n",
    "\n",
    "# Plot the orbital period with horizontal boxes\n",
    "sns.boxplot(x=\"distance\", y=\"method\", data=planets,\n",
    "            whis=[0, 100], width=.6, palette=\"vlag\")\n",
    "\n",
    "# Add in points to show each observation\n",
    "sns.stripplot(x=\"distance\", y=\"method\", data=planets,\n",
    "              size=4, color=\".3\", linewidth=0)\n",
    "\n",
    "# Tweak the visual presentation\n",
    "ax.xaxis.grid(True)\n",
    "ax.set(ylabel=\"\")\n",
    "sns.despine(trim=True, left=True)"
   ]
  },
  {
   "cell_type": "code",
   "execution_count": 70,
   "metadata": {},
   "outputs": [
    {
     "data": {
      "text/plain": [
       "4.1815"
      ]
     },
     "execution_count": 70,
     "metadata": {},
     "output_type": "execute_result"
    }
   ],
   "source": [
    "df_prod_nyc['Rating'].mean()"
   ]
  },
  {
   "cell_type": "code",
   "execution_count": 71,
   "metadata": {},
   "outputs": [
    {
     "data": {
      "text/plain": [
       "4.0"
      ]
     },
     "execution_count": 71,
     "metadata": {},
     "output_type": "execute_result"
    }
   ],
   "source": [
    "df_prod_nyc['Rating'].median()"
   ]
  },
  {
   "cell_type": "code",
   "execution_count": 72,
   "metadata": {},
   "outputs": [
    {
     "data": {
      "text/plain": [
       "2.4032520325203253"
      ]
     },
     "execution_count": 72,
     "metadata": {},
     "output_type": "execute_result"
    }
   ],
   "source": [
    "df_prod_nyc['Price'].mean()"
   ]
  },
  {
   "cell_type": "code",
   "execution_count": 73,
   "metadata": {},
   "outputs": [
    {
     "data": {
      "text/plain": [
       "2.0"
      ]
     },
     "execution_count": 73,
     "metadata": {},
     "output_type": "execute_result"
    }
   ],
   "source": [
    "df_prod_nyc['Price'].median()"
   ]
  },
  {
   "cell_type": "code",
   "execution_count": null,
   "metadata": {},
   "outputs": [],
   "source": []
  },
  {
   "cell_type": "code",
   "execution_count": null,
   "metadata": {},
   "outputs": [],
   "source": []
  },
  {
   "cell_type": "code",
   "execution_count": null,
   "metadata": {},
   "outputs": [],
   "source": []
  },
  {
   "cell_type": "code",
   "execution_count": null,
   "metadata": {},
   "outputs": [],
   "source": []
  },
  {
   "cell_type": "code",
   "execution_count": null,
   "metadata": {},
   "outputs": [],
   "source": []
  },
  {
   "cell_type": "code",
   "execution_count": null,
   "metadata": {},
   "outputs": [],
   "source": []
  },
  {
   "cell_type": "code",
   "execution_count": 10,
   "metadata": {},
   "outputs": [
    {
     "ename": "NameError",
     "evalue": "name 'x1' is not defined",
     "output_type": "error",
     "traceback": [
      "\u001b[0;31m---------------------------------------------------------------------------\u001b[0m",
      "\u001b[0;31mNameError\u001b[0m                                 Traceback (most recent call last)",
      "\u001b[0;32m<ipython-input-10-410777ba6ea8>\u001b[0m in \u001b[0;36m<module>\u001b[0;34m\u001b[0m\n\u001b[1;32m     13\u001b[0m \u001b[0max\u001b[0m\u001b[0;34m.\u001b[0m\u001b[0mset_title\u001b[0m\u001b[0;34m(\u001b[0m\u001b[0mscatter_plot_title\u001b[0m\u001b[0;34m)\u001b[0m \u001b[0;31m#difficulty setting title is because ncols sets an array of 2, but we only have 1 title\u001b[0m\u001b[0;34m\u001b[0m\u001b[0;34m\u001b[0m\u001b[0m\n\u001b[1;32m     14\u001b[0m \u001b[0;34m\u001b[0m\u001b[0m\n\u001b[0;32m---> 15\u001b[0;31m \u001b[0max\u001b[0m\u001b[0;34m.\u001b[0m\u001b[0mbar\u001b[0m\u001b[0;34m(\u001b[0m\u001b[0mx1\u001b[0m\u001b[0;34m,\u001b[0m \u001b[0my1\u001b[0m\u001b[0;34m,\u001b[0m \u001b[0mcolor\u001b[0m\u001b[0;34m=\u001b[0m\u001b[0;34m'cyan'\u001b[0m\u001b[0;34m)\u001b[0m\u001b[0;34m\u001b[0m\u001b[0;34m\u001b[0m\u001b[0m\n\u001b[0m\u001b[1;32m     16\u001b[0m \u001b[0max\u001b[0m\u001b[0;34m.\u001b[0m\u001b[0mbar\u001b[0m\u001b[0;34m(\u001b[0m\u001b[0mx2\u001b[0m\u001b[0;34m,\u001b[0m \u001b[0my2\u001b[0m\u001b[0;34m,\u001b[0m \u001b[0mcolor\u001b[0m\u001b[0;34m=\u001b[0m\u001b[0;34m'red'\u001b[0m\u001b[0;34m)\u001b[0m\u001b[0;34m;\u001b[0m\u001b[0;34m\u001b[0m\u001b[0;34m\u001b[0m\u001b[0m\n",
      "\u001b[0;31mNameError\u001b[0m: name 'x1' is not defined"
     ]
    },
    {
     "data": {
      "image/png": "[encoded data removed]",
      "text/plain": [
       "<Figure size 576x288 with 1 Axes>"
      ]
     },
     "metadata": {},
     "output_type": "display_data"
    }
   ],
   "source": [
    "scatter_plot_title = 'Relationship Between Price and Review Count'\n",
    "x_label = 'Review Count'\n",
    "y_label = 'Price'\n",
    "# your code here\n",
    "tackle_figure, ax = plt.subplots(figsize=(8, 4))\n",
    "\n",
    "\n",
    "\n",
    "# y1 = df_prod_nyc['Price'].value_counts().sort_index()\n",
    "# y2 = df_prod_la['Price'].value_counts()\n",
    "# x1 = df_prod_nyc['Price'].value_counts().sort_index()\n",
    "# x2 = df_prod_la['Review Count']\n",
    "ax.set_title(scatter_plot_title) #difficulty setting title is because ncols sets an array of 2, but we only have 1 title\n",
    "\n",
    "ax.bar(x1, y1, color='cyan')\n",
    "ax.bar(x2, y2, color='red');"
   ]
  },
  {
   "cell_type": "code",
   "execution_count": null,
   "metadata": {},
   "outputs": [],
   "source": [
    "N = 2\n",
    "menMeans = (20, 35, 30, 35, 27)\n",
    "menStd =   (2, 3, 4, 1, 2)\n",
    "ind = np.arange(N)  # the x locations for the groups\n",
    "width = 0.35       # the width of the bars\n",
    "fig = plt.figure()\n",
    "ax = fig.add_subplot(111)\n",
    "rects1 = ax.bar(ind, x1, width, color='royalblue') # yerr=menStd)\n",
    "womenMeans = (25, 32, 34, 20, 25)\n",
    "womenStd =   (3, 5, 2, 3, 3)\n",
    "rects2 = ax.bar(ind+width, x2, width, color='seagreen') # yerr=womenStd\n",
    "# add some\n",
    "# ax.set_xticks(ind + width / 2)\n",
    "# ax.set_xticklabels( ('G1', 'G2', 'G3', 'G4', 'G5') )\n",
    "ax.legend( (rects1[0], rects2[0]), ('NYC', 'NYC') )\n",
    "plt.show()"
   ]
  },
  {
   "cell_type": "code",
   "execution_count": 11,
   "metadata": {},
   "outputs": [
    {
     "ename": "NameError",
     "evalue": "name 'x1' is not defined",
     "output_type": "error",
     "traceback": [
      "\u001b[0;31m---------------------------------------------------------------------------\u001b[0m",
      "\u001b[0;31mNameError\u001b[0m                                 Traceback (most recent call last)",
      "\u001b[0;32m<ipython-input-11-6c520735573a>\u001b[0m in \u001b[0;36m<module>\u001b[0;34m\u001b[0m\n\u001b[0;32m----> 1\u001b[0;31m \u001b[0msns\u001b[0m\u001b[0;34m.\u001b[0m\u001b[0mbarplot\u001b[0m\u001b[0;34m(\u001b[0m\u001b[0mx1\u001b[0m\u001b[0;34m,\u001b[0m\u001b[0my1\u001b[0m\u001b[0;34m)\u001b[0m\u001b[0;34m\u001b[0m\u001b[0;34m\u001b[0m\u001b[0m\n\u001b[0m",
      "\u001b[0;31mNameError\u001b[0m: name 'x1' is not defined"
     ]
    }
   ],
   "source": [
    "sns.barplot(x1,y1)"
   ]
  },
  {
   "cell_type": "code",
   "execution_count": 129,
   "metadata": {},
   "outputs": [],
   "source": [
    "df_prod_ny = pd.read_csv('database/Production House_New York_database.csv')\n",
    "df_prod_la = pd.read_csv('database/Production House_Los Angeles_database.csv')\n",
    "df_prod_ga = pd.read_csv('database/Production House_Atlanta_database.csv')"
   ]
  },
  {
   "cell_type": "code",
   "execution_count": 143,
   "metadata": {},
   "outputs": [
    {
     "data": {
      "image/png": "[encoded data removed]",
      "text/plain": [
       "<Figure size 1080x360 with 3 Axes>"
      ]
     },
     "metadata": {
      "needs_background": "light"
     },
     "output_type": "display_data"
    }
   ],
   "source": [
    "ny_prod_high_rating_price2 = df_prod_ny.loc[(df_prod_ny['Rating'] >= 4) & (df_prod_ny['Price'] == 2)]\n",
    "la_prod_high_rating_price2 = df_prod_la.loc[(df_prod_la['Rating'] >= 4) & (df_prod_la['Price'] == 2)]\n",
    "ga_prod_high_rating_price2 = df_prod_ga.loc[(df_prod_ga['Rating'] >= 4) & (df_prod_ga['Price'] == 2)]\n",
    "fig, ax = plt.subplots(1, 3, figsize=(15, 5), sharey=True)\n",
    "fig.suptitle('Production Houses \\n High-Rated in the $2 Price Group')\n",
    "# NY\n",
    "g1 = sns.barplot(ax=ax[0], x= ny_prod_high_rating_price2['Name'], y= ny_prod_high_rating_price2['Review Count'].values)\n",
    "ax[0].set_title('New York')\n",
    "# LA\n",
    "g2 = sns.barplot(ax=ax[1], x= la_prod_high_rating_price2['Name'], y= la_prod_high_rating_price2['Review Count'].values)\n",
    "ax[1].set_title('Los Angeles')\n",
    "# ATL\n",
    "g3 = sns.barplot(ax=ax[2], x= ga_prod_high_rating_price2['Name'], y= ga_prod_high_rating_price2['Review Count'].values)\n",
    "ax[2].set_title('Atlanta');\n",
    "g1.set(xticklabels=[])\n",
    "g2.set(xticklabels=[])\n",
    "g3.set(xticklabels=[])\n",
    "g1.set(xlabel='Business Name')\n",
    "g2.set(xlabel='Business Name')\n",
    "g3.set(xlabel='Business Name')\n",
    "g1.tick_params(bottom=False) \n",
    "g2.tick_params(bottom=False) \n",
    "g3.tick_params(bottom=False) "
   ]
  },
  {
   "cell_type": "code",
   "execution_count": 145,
   "metadata": {},
   "outputs": [
    {
     "data": {
      "text/plain": [
       "Text(0.5, 0, 'ATL Production House Business Name')"
      ]
     },
     "execution_count": 145,
     "metadata": {},
     "output_type": "execute_result"
    },
    {
     "data": {
      "image/png": "[encoded data removed]",
      "text/plain": [
       "<Figure size 1080x360 with 3 Axes>"
      ]
     },
     "metadata": {
      "needs_background": "light"
     },
     "output_type": "display_data"
    }
   ],
   "source": [
    "ny_prod_high_rating_price2 = df_prod_ny.loc[(df_prod_ny['Rating'] >= 4) & (df_prod_ny['Price'] == 2) & (df_prod_ga['Review Count'] >= 2000)]\n",
    "la_prod_high_rating_price2 = df_prod_la.loc[(df_prod_la['Rating'] >= 4) & (df_prod_la['Price'] == 2) & (df_prod_ga['Review Count'] >= 2000)]\n",
    "ga_prod_high_rating_price2 = df_prod_ga.loc[(df_prod_ga['Rating'] >= 4) & (df_prod_ga['Price'] == 2) & (df_prod_ga['Review Count'] >= 2000)]\n",
    "fig, ax = plt.subplots(1, 3, figsize=(15, 5), sharey=True)\n",
    "fig.suptitle('High-Rated Production Houses in the $2 Price Group with More than 2000 Reviews')\n",
    "# NY\n",
    "g1 = sns.barplot(ax=ax[0], x= ny_prod_high_rating_price2['Name'], y= ny_prod_high_rating_price2['Review Count'].values)\n",
    "ax[0].set_title('New York')\n",
    "# LA\n",
    "g2 = sns.barplot(ax=ax[1], x= la_prod_high_rating_price2['Name'], y= la_prod_high_rating_price2['Review Count'].values)\n",
    "ax[1].set_title('Los Angeles')\n",
    "# ATL\n",
    "g3 = sns.barplot(ax=ax[2], x= ga_prod_high_rating_price2['Name'], y= ga_prod_high_rating_price2['Review Count'].values)\n",
    "ax[2].set_title('Atlanta')\n",
    "g1.set_xlabel('NY Production House Business Name')\n",
    "g2.set_xlabel('LA Production House Business Name')\n",
    "g3.set_xlabel('ATL Production House Business Name')"
   ]
  },
  {
   "cell_type": "code",
   "execution_count": null,
   "metadata": {},
   "outputs": [],
   "source": []
  }
 ],
 "metadata": {
  "kernelspec": {
   "display_name": "Python 3",
   "language": "python",
   "name": "python3"
  },
  "language_info": {
   "codemirror_mode": {
    "name": "ipython",
    "version": 3
   },
   "file_extension": ".py",
   "mimetype": "text/x-python",
   "name": "python",
   "nbconvert_exporter": "python",
   "pygments_lexer": "ipython3",
   "version": "3.8.5"
  }
 },
 "nbformat": 4,
 "nbformat_minor": 4
}
